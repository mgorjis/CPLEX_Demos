{
    "cells": [
        {
            "cell_type": "code",
            "execution_count": 1,
            "metadata": {},
            "outputs": [],
            "source": "# The code was removed by Watson Studio for sharing."
        },
        {
            "cell_type": "code",
            "execution_count": 2,
            "metadata": {},
            "outputs": [],
            "source": "import pandas as pd\nfrom datetime import datetime\nfrom IPython.core.display import HTML\nHTML(\"<style>.container { width:100%; }</style>\")\n\npd.set_option('display.max_columns', 150)\npd.set_option('display.max_rows', None)\npd.set_option('display.max_colwidth', None)\n\nfrom dse_do_utils import DataManager, OptimizationEngine,ScenarioManager\nfrom docplex.mp.model import Model"
        },
        {
            "cell_type": "markdown",
            "metadata": {},
            "source": "# Optimization Model Informations"
        },
        {
            "cell_type": "code",
            "execution_count": 3,
            "metadata": {},
            "outputs": [],
            "source": "MODEL_NAME = 'Unit_Commitment'\nSCENARIO_NAME = 'Base_Scenario' \nsm = ScenarioManager(model_name=MODEL_NAME, scenario_name=SCENARIO_NAME, project = project)\n\nmdl = Model(MODEL_NAME)"
        },
        {
            "cell_type": "code",
            "execution_count": 4,
            "metadata": {},
            "outputs": [
                {
                    "data": {
                        "text/plain": "dict_keys(['Units', 'Demand'])"
                    },
                    "execution_count": 4,
                    "metadata": {},
                    "output_type": "execute_result"
                }
            ],
            "source": "InputTables, outputTables = sm.load_data_from_scenario()\nInputTables.keys()"
        },
        {
            "cell_type": "code",
            "execution_count": 5,
            "metadata": {},
            "outputs": [
                {
                    "data": {
                        "text/html": "<div>\n<style scoped>\n    .dataframe tbody tr th:only-of-type {\n        vertical-align: middle;\n    }\n\n    .dataframe tbody tr th {\n        vertical-align: top;\n    }\n\n    .dataframe thead th {\n        text-align: right;\n    }\n</style>\n<table border=\"1\" class=\"dataframe\">\n  <thead>\n    <tr style=\"text-align: right;\">\n      <th></th>\n      <th>index</th>\n      <th>energy</th>\n      <th>initial</th>\n      <th>min_gen</th>\n      <th>max_gen</th>\n      <th>operating_max_gen</th>\n      <th>min_uptime</th>\n      <th>min_downtime</th>\n      <th>ramp_up</th>\n      <th>ramp_down</th>\n      <th>start_cost</th>\n      <th>fixed_cost</th>\n      <th>variable_cost</th>\n      <th>Unit</th>\n      <th>co2_cost</th>\n    </tr>\n  </thead>\n  <tbody>\n    <tr>\n      <th>0</th>\n      <td>0</td>\n      <td>coal</td>\n      <td>400</td>\n      <td>100.0</td>\n      <td>425</td>\n      <td>400</td>\n      <td>15</td>\n      <td>9</td>\n      <td>212.0</td>\n      <td>183.0</td>\n      <td>5000</td>\n      <td>208.61</td>\n      <td>22.536</td>\n      <td>coal1</td>\n      <td>30</td>\n    </tr>\n    <tr>\n      <th>1</th>\n      <td>1</td>\n      <td>coal</td>\n      <td>350</td>\n      <td>140.0</td>\n      <td>365</td>\n      <td>350</td>\n      <td>15</td>\n      <td>8</td>\n      <td>150.0</td>\n      <td>198.0</td>\n      <td>4550</td>\n      <td>117.37</td>\n      <td>31.985</td>\n      <td>coal2</td>\n      <td>30</td>\n    </tr>\n  </tbody>\n</table>\n</div>",
                        "text/plain": "   index energy  initial  min_gen  max_gen  operating_max_gen  min_uptime  \\\n0      0   coal      400    100.0      425                400          15   \n1      1   coal      350    140.0      365                350          15   \n\n   min_downtime  ramp_up  ramp_down  start_cost  fixed_cost  variable_cost  \\\n0             9    212.0      183.0        5000      208.61         22.536   \n1             8    150.0      198.0        4550      117.37         31.985   \n\n    Unit  co2_cost  \n0  coal1        30  \n1  coal2        30  "
                    },
                    "metadata": {},
                    "output_type": "display_data"
                },
                {
                    "data": {
                        "text/html": "<div>\n<style scoped>\n    .dataframe tbody tr th:only-of-type {\n        vertical-align: middle;\n    }\n\n    .dataframe tbody tr th {\n        vertical-align: top;\n    }\n\n    .dataframe thead th {\n        text-align: right;\n    }\n</style>\n<table border=\"1\" class=\"dataframe\">\n  <thead>\n    <tr style=\"text-align: right;\">\n      <th></th>\n      <th>demand</th>\n      <th>Date</th>\n      <th>Date_Sequence</th>\n    </tr>\n  </thead>\n  <tbody>\n    <tr>\n      <th>0</th>\n      <td>1259.0</td>\n      <td>2022-04-22</td>\n      <td>day1</td>\n    </tr>\n    <tr>\n      <th>1</th>\n      <td>1439.0</td>\n      <td>2022-04-23</td>\n      <td>day2</td>\n    </tr>\n  </tbody>\n</table>\n</div>",
                        "text/plain": "   demand        Date Date_Sequence\n0  1259.0  2022-04-22          day1\n1  1439.0  2022-04-23          day2"
                    },
                    "metadata": {},
                    "output_type": "display_data"
                }
            ],
            "source": "Units = InputTables['Units']\n\ndisplay(Units.head(2))\n\nDemand = InputTables['Demand']\n\ndisplay(Demand.head(2))"
        },
        {
            "cell_type": "markdown",
            "metadata": {},
            "source": "# Defining of Functions"
        },
        {
            "cell_type": "markdown",
            "metadata": {},
            "source": "Define a set of functions, which will be used later in the code."
        },
        {
            "cell_type": "code",
            "execution_count": 6,
            "metadata": {},
            "outputs": [],
            "source": "def continuous_var_series(df, mdl,**kargs):\n    return pd.Series(mdl.continuous_var_list(df.index, **kargs), index = df.index)\n\ndef binary_var_series(df, mdl,**kargs):\n    return pd.Series(mdl.binary_var_list(df.index, **kargs), index = df.index)\n\ndef integer_var_series(df, mdl,**kargs):\n    '''Create a Series of integer dvar for each row in the DF. Most effective method. Best practice.\n    Result can be assigned to a column of the df.\n    Usage:\n        df['xDVar'] = mdl.integer_var_series(df, name = 'xDVar')\n    Args:\n        mdl: CPLEX Model\n        df: DataFrame\n        **kargs: arguments passed to mdl.integer_var_list method. E.g. 'name'\n        \n    :returns: pandas.Series with integer dvars, index matches index of df\n    '''\n    #We are re-using the index from the DF index:\n    return pd.Series(mdl.integer_var_list(df.index, **kargs), index = df.index)\n\n\nclass CplexSum():\n    \"\"\"Function class that adds a series of dvars into a cplex sum expression.\n    To be used as a custom aggregation in a groupby.\n    Usage:\n        df2 = df1.groupby(['a']).agg({'xDVar':CplexSum(engine.mdl)}).rename(columns={'xDVar':'expr'})\n\n    Sums the dvars in the 'xDVar' column into an expression\n    \"\"\"\n    def __init__(self, mdl):\n        self.mdl = mdl\n    def __call__(self, dvar_series):\n        return self.mdl.sum(dvar_series)\n    \n    \ndef extract_solution(df, extract_dvar_names=None, drop_column_names=None, drop:bool=True):\n    \"\"\"Generalized routine to extract a solution value. \n    Can remove the dvar column from the df to be able to have a clean df for export into scenario.\"\"\"\n    if extract_dvar_names is not None:\n        for xDVarName in extract_dvar_names:\n            if xDVarName in df.columns:\n                df[f'{xDVarName}_Solution'] = [dvar.solution_value for dvar in df[xDVarName]]\n                if drop:\n                    df = df.drop([xDVarName], axis = 1)\n    if drop and drop_column_names is not None:\n        for column in drop_column_names:\n            if column in df.columns:\n                df = df.drop([column], axis = 1)\n    return df    "
        },
        {
            "cell_type": "markdown",
            "metadata": {},
            "source": "# Define decision variables"
        },
        {
            "cell_type": "markdown",
            "metadata": {},
            "source": "We define the decision variables based on each day and unit. First we create a table of all possible permutations"
        },
        {
            "cell_type": "code",
            "execution_count": 7,
            "metadata": {},
            "outputs": [
                {
                    "data": {
                        "text/html": "<div>\n<style scoped>\n    .dataframe tbody tr th:only-of-type {\n        vertical-align: middle;\n    }\n\n    .dataframe tbody tr th {\n        vertical-align: top;\n    }\n\n    .dataframe thead th {\n        text-align: right;\n    }\n</style>\n<table border=\"1\" class=\"dataframe\">\n  <thead>\n    <tr style=\"text-align: right;\">\n      <th></th>\n      <th></th>\n    </tr>\n    <tr>\n      <th>Unit</th>\n      <th>Date_Sequence</th>\n    </tr>\n  </thead>\n  <tbody>\n    <tr>\n      <th>gas2</th>\n      <th>day120</th>\n    </tr>\n    <tr>\n      <th>diesel2</th>\n      <th>day73</th>\n    </tr>\n    <tr>\n      <th rowspan=\"2\" valign=\"top\">gas3</th>\n      <th>day160</th>\n    </tr>\n    <tr>\n      <th>day116</th>\n    </tr>\n    <tr>\n      <th>gas1</th>\n      <th>day63</th>\n    </tr>\n  </tbody>\n</table>\n</div>",
                        "text/plain": "Empty DataFrame\nColumns: []\nIndex: [(gas2, day120), (diesel2, day73), (gas3, day160), (gas3, day116), (gas1, day63)]"
                    },
                    "execution_count": 7,
                    "metadata": {},
                    "output_type": "execute_result"
                }
            ],
            "source": "Unit_Date = pd.merge(Units[[\"Unit\"]],Demand[\"Date_Sequence\"], how = \"cross\" )\n\nUnit_Date = Unit_Date.set_index([\"Unit\",\"Date_Sequence\"], verify_integrity = True)\n\nUnit_Date.sample(5)"
        },
        {
            "cell_type": "markdown",
            "metadata": {},
            "source": "The $x_{InUse} (i,t)$ is true if the unit $i$ is in production at period $t$"
        },
        {
            "cell_type": "code",
            "execution_count": 8,
            "metadata": {},
            "outputs": [],
            "source": "Unit_Date[\"x_InUse\"] = binary_var_series(Unit_Date, mdl,name = 'x_InUse')"
        },
        {
            "cell_type": "markdown",
            "metadata": {},
            "source": "The $x_{TurnOn} (i,t)$  true if unit $i$ is turned on at period $t$"
        },
        {
            "cell_type": "code",
            "execution_count": 9,
            "metadata": {},
            "outputs": [],
            "source": "Unit_Date[\"x_TurnOn\"] = binary_var_series(Unit_Date, mdl,name = 'x_TurnOn')"
        },
        {
            "cell_type": "markdown",
            "metadata": {},
            "source": "$x_{TurnOff} (i,t)$ is true if unit $i$ is switched off at period $t$"
        },
        {
            "cell_type": "code",
            "execution_count": 10,
            "metadata": {},
            "outputs": [],
            "source": "Unit_Date[\"x_TurnOff\"] = binary_var_series(Unit_Date, mdl,name = 'x_TurnOff')                #continuous_var_series"
        },
        {
            "cell_type": "markdown",
            "metadata": {},
            "source": "The $x_{Production} (i,t)$  production of energy for unit $i$ at period $t$"
        },
        {
            "cell_type": "code",
            "execution_count": 11,
            "metadata": {},
            "outputs": [],
            "source": "Unit_Date[\"x_Production\"] = continuous_var_series(Unit_Date, mdl,name = 'x_Production')"
        },
        {
            "cell_type": "markdown",
            "metadata": {},
            "source": "Let's store all decision variablesion in a dataframe"
        },
        {
            "cell_type": "code",
            "execution_count": 12,
            "metadata": {},
            "outputs": [],
            "source": "Unit_Date = Unit_Date.reset_index(drop = False)"
        },
        {
            "cell_type": "code",
            "execution_count": 13,
            "metadata": {},
            "outputs": [
                {
                    "data": {
                        "text/html": "<div>\n<style scoped>\n    .dataframe tbody tr th:only-of-type {\n        vertical-align: middle;\n    }\n\n    .dataframe tbody tr th {\n        vertical-align: top;\n    }\n\n    .dataframe thead th {\n        text-align: right;\n    }\n</style>\n<table border=\"1\" class=\"dataframe\">\n  <thead>\n    <tr style=\"text-align: right;\">\n      <th></th>\n      <th>Unit</th>\n      <th>Date_Sequence</th>\n      <th>x_InUse</th>\n      <th>x_TurnOn</th>\n      <th>x_TurnOff</th>\n      <th>x_Production</th>\n    </tr>\n  </thead>\n  <tbody>\n    <tr>\n      <th>0</th>\n      <td>coal1</td>\n      <td>day1</td>\n      <td>x_InUse_coal1_day1</td>\n      <td>x_TurnOn_coal1_day1</td>\n      <td>x_TurnOff_coal1_day1</td>\n      <td>x_Production_coal1_day1</td>\n    </tr>\n    <tr>\n      <th>1</th>\n      <td>coal1</td>\n      <td>day2</td>\n      <td>x_InUse_coal1_day2</td>\n      <td>x_TurnOn_coal1_day2</td>\n      <td>x_TurnOff_coal1_day2</td>\n      <td>x_Production_coal1_day2</td>\n    </tr>\n    <tr>\n      <th>2</th>\n      <td>coal1</td>\n      <td>day3</td>\n      <td>x_InUse_coal1_day3</td>\n      <td>x_TurnOn_coal1_day3</td>\n      <td>x_TurnOff_coal1_day3</td>\n      <td>x_Production_coal1_day3</td>\n    </tr>\n    <tr>\n      <th>3</th>\n      <td>coal1</td>\n      <td>day4</td>\n      <td>x_InUse_coal1_day4</td>\n      <td>x_TurnOn_coal1_day4</td>\n      <td>x_TurnOff_coal1_day4</td>\n      <td>x_Production_coal1_day4</td>\n    </tr>\n    <tr>\n      <th>4</th>\n      <td>coal1</td>\n      <td>day5</td>\n      <td>x_InUse_coal1_day5</td>\n      <td>x_TurnOn_coal1_day5</td>\n      <td>x_TurnOff_coal1_day5</td>\n      <td>x_Production_coal1_day5</td>\n    </tr>\n  </tbody>\n</table>\n</div>",
                        "text/plain": "    Unit Date_Sequence             x_InUse             x_TurnOn  \\\n0  coal1          day1  x_InUse_coal1_day1  x_TurnOn_coal1_day1   \n1  coal1          day2  x_InUse_coal1_day2  x_TurnOn_coal1_day2   \n2  coal1          day3  x_InUse_coal1_day3  x_TurnOn_coal1_day3   \n3  coal1          day4  x_InUse_coal1_day4  x_TurnOn_coal1_day4   \n4  coal1          day5  x_InUse_coal1_day5  x_TurnOn_coal1_day5   \n\n              x_TurnOff             x_Production  \n0  x_TurnOff_coal1_day1  x_Production_coal1_day1  \n1  x_TurnOff_coal1_day2  x_Production_coal1_day2  \n2  x_TurnOff_coal1_day3  x_Production_coal1_day3  \n3  x_TurnOff_coal1_day4  x_Production_coal1_day4  \n4  x_TurnOff_coal1_day5  x_Production_coal1_day5  "
                    },
                    "execution_count": 13,
                    "metadata": {},
                    "output_type": "execute_result"
                }
            ],
            "source": "Unit_Date.head()"
        },
        {
            "cell_type": "code",
            "execution_count": 14,
            "metadata": {},
            "outputs": [
                {
                    "name": "stdout",
                    "output_type": "stream",
                    "text": "Model: Unit_Commitment\n - number of variables: 7680\n   - binary=5760, integer=0, continuous=1920\n - number of constraints: 0\n   - linear=0\n - parameters: defaults\n - objective: none\n - problem type is: MILP\n"
                }
            ],
            "source": "mdl.print_information()"
        },
        {
            "cell_type": "markdown",
            "metadata": {},
            "source": "# Constraints"
        },
        {
            "cell_type": "markdown",
            "metadata": {},
            "source": "### 1- Linking in-use status to production\nWhenever the unit is in use, the production must be within the minimum and maximum generation.\n\n\n$x_{Production} (i,t)  <= x_{TurnOn} (i,t) \\times MaxGen(i) $\n\n$x_{Production} (i,t)  >= x_{TurnOn} (i,t) \\times MinGen(i) $"
        },
        {
            "cell_type": "code",
            "execution_count": 15,
            "metadata": {},
            "outputs": [
                {
                    "data": {
                        "text/html": "<div>\n<style scoped>\n    .dataframe tbody tr th:only-of-type {\n        vertical-align: middle;\n    }\n\n    .dataframe tbody tr th {\n        vertical-align: top;\n    }\n\n    .dataframe thead th {\n        text-align: right;\n    }\n</style>\n<table border=\"1\" class=\"dataframe\">\n  <thead>\n    <tr style=\"text-align: right;\">\n      <th></th>\n      <th>Unit</th>\n      <th>x_InUse</th>\n      <th>x_Production</th>\n      <th>min_gen</th>\n      <th>max_gen</th>\n    </tr>\n  </thead>\n  <tbody>\n    <tr>\n      <th>0</th>\n      <td>coal1</td>\n      <td>x_InUse_coal1_day1</td>\n      <td>x_Production_coal1_day1</td>\n      <td>100.0</td>\n      <td>425</td>\n    </tr>\n    <tr>\n      <th>1</th>\n      <td>coal1</td>\n      <td>x_InUse_coal1_day2</td>\n      <td>x_Production_coal1_day2</td>\n      <td>100.0</td>\n      <td>425</td>\n    </tr>\n    <tr>\n      <th>2</th>\n      <td>coal1</td>\n      <td>x_InUse_coal1_day3</td>\n      <td>x_Production_coal1_day3</td>\n      <td>100.0</td>\n      <td>425</td>\n    </tr>\n    <tr>\n      <th>3</th>\n      <td>coal1</td>\n      <td>x_InUse_coal1_day4</td>\n      <td>x_Production_coal1_day4</td>\n      <td>100.0</td>\n      <td>425</td>\n    </tr>\n    <tr>\n      <th>4</th>\n      <td>coal1</td>\n      <td>x_InUse_coal1_day5</td>\n      <td>x_Production_coal1_day5</td>\n      <td>100.0</td>\n      <td>425</td>\n    </tr>\n  </tbody>\n</table>\n</div>",
                        "text/plain": "    Unit             x_InUse             x_Production  min_gen  max_gen\n0  coal1  x_InUse_coal1_day1  x_Production_coal1_day1    100.0      425\n1  coal1  x_InUse_coal1_day2  x_Production_coal1_day2    100.0      425\n2  coal1  x_InUse_coal1_day3  x_Production_coal1_day3    100.0      425\n3  coal1  x_InUse_coal1_day4  x_Production_coal1_day4    100.0      425\n4  coal1  x_InUse_coal1_day5  x_Production_coal1_day5    100.0      425"
                    },
                    "execution_count": 15,
                    "metadata": {},
                    "output_type": "execute_result"
                }
            ],
            "source": "Production_range = pd.merge ( Unit_Date[[\"Unit\",\"x_InUse\",\"x_Production\"]] , Units[[\"Unit\",\"min_gen\",\"max_gen\"]], on = \"Unit\")\n\nProduction_range.head()"
        },
        {
            "cell_type": "markdown",
            "metadata": {},
            "source": "When in use, the production level is constrained to be between min and max generation."
        },
        {
            "cell_type": "code",
            "execution_count": 16,
            "metadata": {},
            "outputs": [],
            "source": "for row in Production_range.itertuples():\n    mdl.add_constraint ( row.x_Production <= row.x_InUse * row.max_gen )\n    mdl.add_constraint ( row.x_Production >= row.x_InUse * row.min_gen )"
        },
        {
            "cell_type": "markdown",
            "metadata": {},
            "source": "### Initial state\n\nIf initial production is nonzero, then period $t=1$ is not a turn_on. Else $x_{TurnOn} (i,t)=0 $ \n\nDual logic is implemented for turn_off"
        },
        {
            "cell_type": "code",
            "execution_count": 17,
            "metadata": {},
            "outputs": [
                {
                    "data": {
                        "text/html": "<div>\n<style scoped>\n    .dataframe tbody tr th:only-of-type {\n        vertical-align: middle;\n    }\n\n    .dataframe tbody tr th {\n        vertical-align: top;\n    }\n\n    .dataframe thead th {\n        text-align: right;\n    }\n</style>\n<table border=\"1\" class=\"dataframe\">\n  <thead>\n    <tr style=\"text-align: right;\">\n      <th></th>\n      <th>Unit</th>\n      <th>initial</th>\n      <th>Date_Sequence</th>\n      <th>x_InUse</th>\n      <th>x_TurnOn</th>\n      <th>x_TurnOff</th>\n      <th>x_Production</th>\n    </tr>\n  </thead>\n  <tbody>\n    <tr>\n      <th>0</th>\n      <td>coal1</td>\n      <td>400</td>\n      <td>day1</td>\n      <td>x_InUse_coal1_day1</td>\n      <td>x_TurnOn_coal1_day1</td>\n      <td>x_TurnOff_coal1_day1</td>\n      <td>x_Production_coal1_day1</td>\n    </tr>\n    <tr>\n      <th>1</th>\n      <td>coal2</td>\n      <td>350</td>\n      <td>day1</td>\n      <td>x_InUse_coal2_day1</td>\n      <td>x_TurnOn_coal2_day1</td>\n      <td>x_TurnOff_coal2_day1</td>\n      <td>x_Production_coal2_day1</td>\n    </tr>\n    <tr>\n      <th>2</th>\n      <td>gas1</td>\n      <td>205</td>\n      <td>day1</td>\n      <td>x_InUse_gas1_day1</td>\n      <td>x_TurnOn_gas1_day1</td>\n      <td>x_TurnOff_gas1_day1</td>\n      <td>x_Production_gas1_day1</td>\n    </tr>\n    <tr>\n      <th>3</th>\n      <td>gas2</td>\n      <td>52</td>\n      <td>day1</td>\n      <td>x_InUse_gas2_day1</td>\n      <td>x_TurnOn_gas2_day1</td>\n      <td>x_TurnOff_gas2_day1</td>\n      <td>x_Production_gas2_day1</td>\n    </tr>\n    <tr>\n      <th>4</th>\n      <td>gas3</td>\n      <td>155</td>\n      <td>day1</td>\n      <td>x_InUse_gas3_day1</td>\n      <td>x_TurnOn_gas3_day1</td>\n      <td>x_TurnOff_gas3_day1</td>\n      <td>x_Production_gas3_day1</td>\n    </tr>\n    <tr>\n      <th>5</th>\n      <td>gas4</td>\n      <td>150</td>\n      <td>day1</td>\n      <td>x_InUse_gas4_day1</td>\n      <td>x_TurnOn_gas4_day1</td>\n      <td>x_TurnOff_gas4_day1</td>\n      <td>x_Production_gas4_day1</td>\n    </tr>\n    <tr>\n      <th>6</th>\n      <td>diesel1</td>\n      <td>78</td>\n      <td>day1</td>\n      <td>x_InUse_diesel1_day1</td>\n      <td>x_TurnOn_diesel1_day1</td>\n      <td>x_TurnOff_diesel1_day1</td>\n      <td>x_Production_diesel1_day1</td>\n    </tr>\n    <tr>\n      <th>7</th>\n      <td>diesel2</td>\n      <td>76</td>\n      <td>day1</td>\n      <td>x_InUse_diesel2_day1</td>\n      <td>x_TurnOn_diesel2_day1</td>\n      <td>x_TurnOff_diesel2_day1</td>\n      <td>x_Production_diesel2_day1</td>\n    </tr>\n    <tr>\n      <th>8</th>\n      <td>diesel3</td>\n      <td>0</td>\n      <td>day1</td>\n      <td>x_InUse_diesel3_day1</td>\n      <td>x_TurnOn_diesel3_day1</td>\n      <td>x_TurnOff_diesel3_day1</td>\n      <td>x_Production_diesel3_day1</td>\n    </tr>\n    <tr>\n      <th>9</th>\n      <td>diesel4</td>\n      <td>0</td>\n      <td>day1</td>\n      <td>x_InUse_diesel4_day1</td>\n      <td>x_TurnOn_diesel4_day1</td>\n      <td>x_TurnOff_diesel4_day1</td>\n      <td>x_Production_diesel4_day1</td>\n    </tr>\n  </tbody>\n</table>\n</div>",
                        "text/plain": "      Unit  initial Date_Sequence               x_InUse  \\\n0    coal1      400          day1    x_InUse_coal1_day1   \n1    coal2      350          day1    x_InUse_coal2_day1   \n2     gas1      205          day1     x_InUse_gas1_day1   \n3     gas2       52          day1     x_InUse_gas2_day1   \n4     gas3      155          day1     x_InUse_gas3_day1   \n5     gas4      150          day1     x_InUse_gas4_day1   \n6  diesel1       78          day1  x_InUse_diesel1_day1   \n7  diesel2       76          day1  x_InUse_diesel2_day1   \n8  diesel3        0          day1  x_InUse_diesel3_day1   \n9  diesel4        0          day1  x_InUse_diesel4_day1   \n\n                x_TurnOn               x_TurnOff               x_Production  \n0    x_TurnOn_coal1_day1    x_TurnOff_coal1_day1    x_Production_coal1_day1  \n1    x_TurnOn_coal2_day1    x_TurnOff_coal2_day1    x_Production_coal2_day1  \n2     x_TurnOn_gas1_day1     x_TurnOff_gas1_day1     x_Production_gas1_day1  \n3     x_TurnOn_gas2_day1     x_TurnOff_gas2_day1     x_Production_gas2_day1  \n4     x_TurnOn_gas3_day1     x_TurnOff_gas3_day1     x_Production_gas3_day1  \n5     x_TurnOn_gas4_day1     x_TurnOff_gas4_day1     x_Production_gas4_day1  \n6  x_TurnOn_diesel1_day1  x_TurnOff_diesel1_day1  x_Production_diesel1_day1  \n7  x_TurnOn_diesel2_day1  x_TurnOff_diesel2_day1  x_Production_diesel2_day1  \n8  x_TurnOn_diesel3_day1  x_TurnOff_diesel3_day1  x_Production_diesel3_day1  \n9  x_TurnOn_diesel4_day1  x_TurnOff_diesel4_day1  x_Production_diesel4_day1  "
                    },
                    "execution_count": 17,
                    "metadata": {},
                    "output_type": "execute_result"
                }
            ],
            "source": "initial_state  = Units [[\"Unit\",\"initial\"]]\nday_1 = Unit_Date[Unit_Date[\"Date_Sequence\"]==\"day1\"]\n\ninitial_state = pd.merge (initial_state, day_1, on = \"Unit\")\ninitial_state"
        },
        {
            "cell_type": "code",
            "execution_count": 18,
            "metadata": {},
            "outputs": [],
            "source": "for row in initial_state.itertuples():\n    if row.initial > 0 :   \n            \n            mdl.add_constraint  ( row.x_TurnOn == 0)                   #if u is already running, not starting up\n            \n            mdl.add_constraint  ( row.x_TurnOff +  row.x_InUse == 1)   # turnoff iff not in use\n            \n            \n    else: \n        \n           mdl.add_constraint ( row.x_TurnOn  == row.x_InUse )        # turn on at 1 iff in use at 1\n            \n           mdl.add_constraint(row.x_TurnOff ==0)                      # already off, not switched off at t==1"
        },
        {
            "cell_type": "code",
            "execution_count": 19,
            "metadata": {},
            "outputs": [
                {
                    "name": "stdout",
                    "output_type": "stream",
                    "text": "Model: Unit_Commitment\n - number of variables: 7680\n   - binary=5760, integer=0, continuous=1920\n - number of constraints: 3860\n   - linear=3860\n - parameters: defaults\n - objective: none\n - problem type is: MILP\n"
                }
            ],
            "source": "mdl.print_information()"
        },
        {
            "cell_type": "markdown",
            "metadata": {},
            "source": "###  Ramp-up / ramp-down constraint"
        },
        {
            "cell_type": "markdown",
            "metadata": {},
            "source": "ramp up and down constraints for day 1\n    \nVariations of the production level over time in a unit is constrained by a ramp-up / ramp-down process.\n"
        },
        {
            "cell_type": "code",
            "execution_count": 20,
            "metadata": {},
            "outputs": [],
            "source": "for unit in Units[\"Unit\"].values:\n    a = Unit_Date [ (Unit_Date[\"Unit\"]==unit) & (Unit_Date[\"Date_Sequence\"]==\"day1\")]\n    b = Units [ Units[\"Unit\"]==unit][[\"Unit\",\"initial\",\"ramp_up\",\"ramp_down\"]]\n    r = pd.merge (a , b,  on =\"Unit\")\n    \n    mdl.add_constraint ( r.x_Production[0] - r.initial[0] <= r.ramp_up[0] )\n    \n    mdl.add_constraint( r.initial[0] - r.x_Production[0] <= r.ramp_down[0])\n    "
        },
        {
            "cell_type": "markdown",
            "metadata": {},
            "source": "ramp up and down constraints for remaining days   \n    \nWe use the  pandas groupby operation to collect all decision variables for each unit in separate series. Then, we iterate over units to post constraints enforcing the ramp-up / ramp-down process by setting upper bounds on the variation of the production level for consecutive periods."
        },
        {
            "cell_type": "markdown",
            "metadata": {},
            "source": "$x_{Production} (i,t+1) - x_{Production} (i,t) <= {RampUp}(i)$\n\n$x_{Production} (i,t) - x_{Production} (i,t+1) >= {RampDown}(i)$"
        },
        {
            "cell_type": "code",
            "execution_count": 21,
            "metadata": {},
            "outputs": [
                {
                    "data": {
                        "text/html": "<div>\n<style scoped>\n    .dataframe tbody tr th:only-of-type {\n        vertical-align: middle;\n    }\n\n    .dataframe tbody tr th {\n        vertical-align: top;\n    }\n\n    .dataframe thead th {\n        text-align: right;\n    }\n</style>\n<table border=\"1\" class=\"dataframe\">\n  <thead>\n    <tr style=\"text-align: right;\">\n      <th></th>\n      <th>Unit</th>\n      <th>Date_Sequence</th>\n      <th>Current_Day_Production</th>\n      <th>Next_Day_Production</th>\n      <th>ramp_up</th>\n      <th>ramp_down</th>\n    </tr>\n  </thead>\n  <tbody>\n    <tr>\n      <th>1395</th>\n      <td>diesel2</td>\n      <td>day59</td>\n      <td>x_Production_diesel2_day59</td>\n      <td>x_Production_diesel2_day60</td>\n      <td>60.0</td>\n      <td>45.0</td>\n    </tr>\n    <tr>\n      <th>913</th>\n      <td>gas3</td>\n      <td>day150</td>\n      <td>x_Production_gas3_day150</td>\n      <td>x_Production_gas3_day151</td>\n      <td>58.0</td>\n      <td>77.5</td>\n    </tr>\n    <tr>\n      <th>1896</th>\n      <td>diesel4</td>\n      <td>day178</td>\n      <td>x_Production_diesel4_day178</td>\n      <td>x_Production_diesel4_day179</td>\n      <td>12.0</td>\n      <td>12.0</td>\n    </tr>\n    <tr>\n      <th>1747</th>\n      <td>diesel4</td>\n      <td>day29</td>\n      <td>x_Production_diesel4_day29</td>\n      <td>x_Production_diesel4_day30</td>\n      <td>12.0</td>\n      <td>12.0</td>\n    </tr>\n    <tr>\n      <th>1481</th>\n      <td>diesel2</td>\n      <td>day145</td>\n      <td>x_Production_diesel2_day145</td>\n      <td>x_Production_diesel2_day146</td>\n      <td>60.0</td>\n      <td>45.0</td>\n    </tr>\n    <tr>\n      <th>1110</th>\n      <td>gas4</td>\n      <td>day156</td>\n      <td>x_Production_gas4_day156</td>\n      <td>x_Production_gas4_day157</td>\n      <td>50.0</td>\n      <td>60.0</td>\n    </tr>\n    <tr>\n      <th>1442</th>\n      <td>diesel2</td>\n      <td>day106</td>\n      <td>x_Production_diesel2_day106</td>\n      <td>x_Production_diesel2_day107</td>\n      <td>60.0</td>\n      <td>45.0</td>\n    </tr>\n  </tbody>\n</table>\n</div>",
                        "text/plain": "         Unit Date_Sequence       Current_Day_Production  \\\n1395  diesel2         day59   x_Production_diesel2_day59   \n913      gas3        day150     x_Production_gas3_day150   \n1896  diesel4        day178  x_Production_diesel4_day178   \n1747  diesel4         day29   x_Production_diesel4_day29   \n1481  diesel2        day145  x_Production_diesel2_day145   \n1110     gas4        day156     x_Production_gas4_day156   \n1442  diesel2        day106  x_Production_diesel2_day106   \n\n              Next_Day_Production  ramp_up  ramp_down  \n1395   x_Production_diesel2_day60     60.0       45.0  \n913      x_Production_gas3_day151     58.0       77.5  \n1896  x_Production_diesel4_day179     12.0       12.0  \n1747   x_Production_diesel4_day30     12.0       12.0  \n1481  x_Production_diesel2_day146     60.0       45.0  \n1110     x_Production_gas4_day157     50.0       60.0  \n1442  x_Production_diesel2_day107     60.0       45.0  "
                    },
                    "execution_count": 21,
                    "metadata": {},
                    "output_type": "execute_result"
                }
            ],
            "source": "Ramp_Table = pd.DataFrame()\n\nfor unit in Units[\"Unit\"].values:\n    a = Unit_Date[Unit_Date[\"Unit\"]==unit][[\"Unit\",\"Date_Sequence\",\"x_Production\"]]\n    a.rename(columns = {\"x_Production\":\"Current_Day_Production\"}, inplace = True)   \n    a[\"Next_Day_Production\"] = a[\"Current_Day_Production\"].shift(-1)       # shift 1 day to calculate next day production\n    a = a.iloc[0:-1]                                                       # get rid of last row, which has a NaN for next day production\n    \n    Ramp_Table = pd.concat([Ramp_Table,a])\n\nRamp_Table = pd.merge(Ramp_Table,Units[[\"Unit\",'ramp_up','ramp_down']], on = \"Unit\") \n\nRamp_Table.sample(7)"
        },
        {
            "cell_type": "code",
            "execution_count": 22,
            "metadata": {},
            "outputs": [],
            "source": "for row in Ramp_Table.itertuples():\n    mdl.add_constraint(row.Next_Day_Production - row.Current_Day_Production <= row.ramp_up)\n    \n    mdl.add_constraint(row.Current_Day_Production - row.Next_Day_Production <= row.ramp_down)"
        },
        {
            "cell_type": "code",
            "execution_count": 23,
            "metadata": {},
            "outputs": [
                {
                    "name": "stdout",
                    "output_type": "stream",
                    "text": "Model: Unit_Commitment\n - number of variables: 7680\n   - binary=5760, integer=0, continuous=1920\n - number of constraints: 7700\n   - linear=7700\n - parameters: defaults\n - objective: none\n - problem type is: MILP\n"
                }
            ],
            "source": "mdl.print_information()"
        },
        {
            "cell_type": "markdown",
            "metadata": {},
            "source": "###  Turn on / turn off\nThe following constraints determine when a unit is turned on or off.\n\n\nif unit is off at time $t$ and on at time $t+1$, then it was turned on at time $t+1$\n\nif unit is on at time $t$ and off at time $t+1$, then it was turned off at time $t+1$"
        },
        {
            "cell_type": "code",
            "execution_count": 24,
            "metadata": {},
            "outputs": [
                {
                    "data": {
                        "text/html": "<div>\n<style scoped>\n    .dataframe tbody tr th:only-of-type {\n        vertical-align: middle;\n    }\n\n    .dataframe tbody tr th {\n        vertical-align: top;\n    }\n\n    .dataframe thead th {\n        text-align: right;\n    }\n</style>\n<table border=\"1\" class=\"dataframe\">\n  <thead>\n    <tr style=\"text-align: right;\">\n      <th></th>\n      <th>Unit</th>\n      <th>Current_Day_InUse</th>\n      <th>Current_Day_TurnOn</th>\n      <th>Current_Day_TurnOff</th>\n      <th>Next_Day_InUse</th>\n      <th>Next_Day_TurnOn</th>\n      <th>Next_Day_TurnOff</th>\n    </tr>\n  </thead>\n  <tbody>\n    <tr>\n      <th>951</th>\n      <td>gas3</td>\n      <td>x_InUse_gas3_day184</td>\n      <td>x_TurnOn_gas3_day184</td>\n      <td>x_TurnOff_gas3_day184</td>\n      <td>x_InUse_gas3_day185</td>\n      <td>x_TurnOn_gas3_day185</td>\n      <td>x_TurnOff_gas3_day185</td>\n    </tr>\n    <tr>\n      <th>791</th>\n      <td>gas3</td>\n      <td>x_InUse_gas3_day24</td>\n      <td>x_TurnOn_gas3_day24</td>\n      <td>x_TurnOff_gas3_day24</td>\n      <td>x_InUse_gas3_day25</td>\n      <td>x_TurnOn_gas3_day25</td>\n      <td>x_TurnOff_gas3_day25</td>\n    </tr>\n    <tr>\n      <th>184</th>\n      <td>coal1</td>\n      <td>x_InUse_coal1_day185</td>\n      <td>x_TurnOn_coal1_day185</td>\n      <td>x_TurnOff_coal1_day185</td>\n      <td>x_InUse_coal1_day186</td>\n      <td>x_TurnOn_coal1_day186</td>\n      <td>x_TurnOff_coal1_day186</td>\n    </tr>\n    <tr>\n      <th>1176</th>\n      <td>diesel1</td>\n      <td>x_InUse_diesel1_day25</td>\n      <td>x_TurnOn_diesel1_day25</td>\n      <td>x_TurnOff_diesel1_day25</td>\n      <td>x_InUse_diesel1_day26</td>\n      <td>x_TurnOn_diesel1_day26</td>\n      <td>x_TurnOff_diesel1_day26</td>\n    </tr>\n    <tr>\n      <th>1805</th>\n      <td>diesel4</td>\n      <td>x_InUse_diesel4_day78</td>\n      <td>x_TurnOn_diesel4_day78</td>\n      <td>x_TurnOff_diesel4_day78</td>\n      <td>x_InUse_diesel4_day79</td>\n      <td>x_TurnOn_diesel4_day79</td>\n      <td>x_TurnOff_diesel4_day79</td>\n    </tr>\n  </tbody>\n</table>\n</div>",
                        "text/plain": "         Unit      Current_Day_InUse      Current_Day_TurnOn  \\\n951      gas3    x_InUse_gas3_day184    x_TurnOn_gas3_day184   \n791      gas3     x_InUse_gas3_day24     x_TurnOn_gas3_day24   \n184     coal1   x_InUse_coal1_day185   x_TurnOn_coal1_day185   \n1176  diesel1  x_InUse_diesel1_day25  x_TurnOn_diesel1_day25   \n1805  diesel4  x_InUse_diesel4_day78  x_TurnOn_diesel4_day78   \n\n          Current_Day_TurnOff         Next_Day_InUse         Next_Day_TurnOn  \\\n951     x_TurnOff_gas3_day184    x_InUse_gas3_day185    x_TurnOn_gas3_day185   \n791      x_TurnOff_gas3_day24     x_InUse_gas3_day25     x_TurnOn_gas3_day25   \n184    x_TurnOff_coal1_day185   x_InUse_coal1_day186   x_TurnOn_coal1_day186   \n1176  x_TurnOff_diesel1_day25  x_InUse_diesel1_day26  x_TurnOn_diesel1_day26   \n1805  x_TurnOff_diesel4_day78  x_InUse_diesel4_day79  x_TurnOn_diesel4_day79   \n\n             Next_Day_TurnOff  \n951     x_TurnOff_gas3_day185  \n791      x_TurnOff_gas3_day25  \n184    x_TurnOff_coal1_day186  \n1176  x_TurnOff_diesel1_day26  \n1805  x_TurnOff_diesel4_day79  "
                    },
                    "metadata": {},
                    "output_type": "display_data"
                }
            ],
            "source": "Status = pd.DataFrame([])\n\nfor unit in Units[\"Unit\"].values:\n    a = Unit_Date[Unit_Date[\"Unit\"]==unit][[\"Unit\",\"x_InUse\",\"x_TurnOn\",\"x_TurnOff\"]]\n    \n    a.rename(columns = {\"x_InUse\":\"Current_Day_InUse\"}, inplace = True)\n    a.rename(columns = {\"x_TurnOn\":\"Current_Day_TurnOn\"}, inplace = True)\n    a.rename(columns = {\"x_TurnOff\":\"Current_Day_TurnOff\"}, inplace = True)\n    \n    a[\"Next_Day_InUse\"] = a[\"Current_Day_InUse\"].shift(-1)       # shift 1 day to calculate next day InUse\n    a[\"Next_Day_TurnOn\"] = a[\"Current_Day_TurnOn\"].shift(-1)       # shift 1 day to calculate next day TurnOn\n    a[\"Next_Day_TurnOff\"] = a[\"Current_Day_TurnOff\"].shift(-1)       # shift 1 day to calculate next day TurnOff\n    \n    a = a.iloc[0:-1]                                                # get rid of last row, which has a NaN\n    \n    Status = pd.concat([Status,a])\n        \ndisplay(Status.sample(5))"
        },
        {
            "cell_type": "code",
            "execution_count": 25,
            "metadata": {},
            "outputs": [],
            "source": "for row in Status.itertuples():\n    \n    #print(row.Next_Day_InUse - row.Current_Day_InUse <= row.Next_Day_TurnOn)\n    mdl.add_constraint(row.Next_Day_InUse - row.Current_Day_InUse <= row.Next_Day_TurnOn)\n    \n    #print(row.Current_Day_InUse - row.Next_Day_InUse + row.Next_Day_TurnOn == row.Next_Day_TurnOff)\n    mdl.add_constraint(row.Current_Day_InUse - row.Next_Day_InUse + row.Next_Day_TurnOn == row.Next_Day_TurnOff)"
        },
        {
            "cell_type": "code",
            "execution_count": 26,
            "metadata": {},
            "outputs": [
                {
                    "name": "stdout",
                    "output_type": "stream",
                    "text": "Model: Unit_Commitment\n - number of variables: 7680\n   - binary=5760, integer=0, continuous=1920\n - number of constraints: 11520\n   - linear=11520\n - parameters: defaults\n - objective: none\n - problem type is: MILP\n"
                }
            ],
            "source": "mdl.print_information()"
        },
        {
            "cell_type": "markdown",
            "metadata": {},
            "source": "### Minimum uptime and downtime\nWhen a unit is turned on, it cannot be turned off before a minimum uptime. Conversely, when a unit is turned off, it cannot be turned on again before a minimum downtime.\n"
        },
        {
            "cell_type": "markdown",
            "metadata": {},
            "source": "$\\Large\\sum_{t \\in \\tau} x_{TurnOn} (i,t) <=  x_{InUse} (i,t)   \\qquad   {for} \\qquad   \\tau = \\{t- MinUptime, ..., t+1\\}$\n\n$\\Large\\sum_{t \\in \\tau} x_{TurnOff} (i,t) <=  1- x_{InUse} (i,t)   \\qquad   {for} \\qquad   \\tau = \\{t- MinDowntime, ..., t+1\\}$"
        },
        {
            "cell_type": "code",
            "execution_count": 27,
            "metadata": {},
            "outputs": [],
            "source": "T = len(Demand)\n\nfor unit in Units[\"Unit\"].values:\n    a= Units[Units[\"Unit\"]==unit][[\"Unit\",\"min_uptime\",\"min_downtime\"]]\n    \n    min_uptime = a.min_uptime.values[0] \n    min_downtime = a.min_downtime.values[0] \n    \n    for t in range(min_uptime,T):\n        mdl.add_constraint(mdl.sum(  Unit_Date[(t - min_uptime) + 1   :   t + 1 ][[\"x_TurnOn\"]].values) <= Unit_Date[\"x_InUse\"][t] ) \n        \n        \n    for t in range(min_downtime, T):   \n        mdl.add_constraint(mdl.sum( Unit_Date[(t - min_downtime) + 1:t + 1][\"x_TurnOff\"].values)  <= 1 - Unit_Date[\"x_InUse\"][t]  ) "
        },
        {
            "cell_type": "code",
            "execution_count": 28,
            "metadata": {},
            "outputs": [
                {
                    "name": "stdout",
                    "output_type": "stream",
                    "text": "Model: Unit_Commitment\n - number of variables: 7680\n   - binary=5760, integer=0, continuous=1920\n - number of constraints: 15263\n   - linear=15263\n - parameters: defaults\n - objective: none\n - problem type is: MILP\n"
                }
            ],
            "source": "mdl.print_information()"
        },
        {
            "cell_type": "markdown",
            "metadata": {},
            "source": "### Demand\n\nTotal production level must be equal or higher than demand on any period.\n\nThis time, the pandas operation groupby is performed on \"periods\" since we have to iterate over the list of all units for each period."
        },
        {
            "cell_type": "markdown",
            "metadata": {},
            "source": "$\\Large\\sum_{i \\in AllUnits} x_{TurnOn} (i,t) <=  P_{demand}(t)$\n"
        },
        {
            "cell_type": "code",
            "execution_count": 29,
            "metadata": {},
            "outputs": [
                {
                    "data": {
                        "text/html": "<div>\n<style scoped>\n    .dataframe tbody tr th:only-of-type {\n        vertical-align: middle;\n    }\n\n    .dataframe tbody tr th {\n        vertical-align: top;\n    }\n\n    .dataframe thead th {\n        text-align: right;\n    }\n</style>\n<table border=\"1\" class=\"dataframe\">\n  <thead>\n    <tr style=\"text-align: right;\">\n      <th></th>\n      <th>Date_Sequence</th>\n      <th>Total_day_Production</th>\n      <th>demand</th>\n      <th>Date</th>\n    </tr>\n  </thead>\n  <tbody>\n    <tr>\n      <th>0</th>\n      <td>day1</td>\n      <td>x_Production_coal1_day1+x_Production_coal2_day1+x_Production_gas1_day1+x_Production_gas2_day1+x_Production_gas3_day1+x_Production_gas4_day1+x_Production_diesel1_day1+x_Production_diesel2_day1+x_Production_diesel3_day1+x_Production_diesel4_day1</td>\n      <td>1259.0</td>\n      <td>2022-04-22</td>\n    </tr>\n    <tr>\n      <th>1</th>\n      <td>day10</td>\n      <td>x_Production_coal1_day10+x_Production_coal2_day10+x_Production_gas1_day10+x_Production_gas2_day10+x_Production_gas3_day10+x_Production_gas4_day10+x_Production_diesel1_day10+x_Production_diesel2_day10+x_Production_diesel3_day10+x_Production_diesel4_day10</td>\n      <td>1158.0</td>\n      <td>2022-05-01</td>\n    </tr>\n  </tbody>\n</table>\n</div>",
                        "text/plain": "  Date_Sequence  \\\n0          day1   \n1         day10   \n\n                                                                                                                                                                                                                                            Total_day_Production  \\\n0            x_Production_coal1_day1+x_Production_coal2_day1+x_Production_gas1_day1+x_Production_gas2_day1+x_Production_gas3_day1+x_Production_gas4_day1+x_Production_diesel1_day1+x_Production_diesel2_day1+x_Production_diesel3_day1+x_Production_diesel4_day1   \n1  x_Production_coal1_day10+x_Production_coal2_day10+x_Production_gas1_day10+x_Production_gas2_day10+x_Production_gas3_day10+x_Production_gas4_day10+x_Production_diesel1_day10+x_Production_diesel2_day10+x_Production_diesel3_day10+x_Production_diesel4_day10   \n\n   demand        Date  \n0  1259.0  2022-04-22  \n1  1158.0  2022-05-01  "
                    },
                    "execution_count": 29,
                    "metadata": {},
                    "output_type": "execute_result"
                }
            ],
            "source": "Total_day_Production = Unit_Date[[\"Date_Sequence\",\"x_Production\"]].groupby(\"Date_Sequence\").agg(CplexSum(mdl)).rename(columns={\"x_Production\":\"Total_day_Production\"})\nTotal_day_Production = pd.merge(Total_day_Production, Demand, on = \"Date_Sequence\")\n\nTotal_day_Production.head(2)"
        },
        {
            "cell_type": "code",
            "execution_count": 30,
            "metadata": {},
            "outputs": [],
            "source": "for row in Total_day_Production.itertuples():\n    \n    mdl.add_constraint(row.Total_day_Production >= row.demand)"
        },
        {
            "cell_type": "code",
            "execution_count": 31,
            "metadata": {},
            "outputs": [
                {
                    "name": "stdout",
                    "output_type": "stream",
                    "text": "Model: Unit_Commitment\n - number of variables: 7680\n   - binary=5760, integer=0, continuous=1920\n - number of constraints: 15455\n   - linear=15455\n - parameters: defaults\n - objective: none\n - problem type is: MILP\n"
                }
            ],
            "source": "mdl.print_information()"
        },
        {
            "cell_type": "markdown",
            "metadata": {},
            "source": "# Define KPIs"
        },
        {
            "cell_type": "code",
            "execution_count": 32,
            "metadata": {},
            "outputs": [
                {
                    "data": {
                        "text/html": "<div>\n<style scoped>\n    .dataframe tbody tr th:only-of-type {\n        vertical-align: middle;\n    }\n\n    .dataframe tbody tr th {\n        vertical-align: top;\n    }\n\n    .dataframe thead th {\n        text-align: right;\n    }\n</style>\n<table border=\"1\" class=\"dataframe\">\n  <thead>\n    <tr style=\"text-align: right;\">\n      <th></th>\n      <th>Unit</th>\n      <th>Date_Sequence</th>\n      <th>x_InUse</th>\n      <th>x_TurnOn</th>\n      <th>x_TurnOff</th>\n      <th>x_Production</th>\n      <th>fixed_cost</th>\n      <th>variable_cost</th>\n      <th>start_cost</th>\n      <th>co2_cost</th>\n    </tr>\n  </thead>\n  <tbody>\n    <tr>\n      <th>0</th>\n      <td>coal1</td>\n      <td>day1</td>\n      <td>x_InUse_coal1_day1</td>\n      <td>x_TurnOn_coal1_day1</td>\n      <td>x_TurnOff_coal1_day1</td>\n      <td>x_Production_coal1_day1</td>\n      <td>208.61</td>\n      <td>22.536</td>\n      <td>5000</td>\n      <td>30</td>\n    </tr>\n    <tr>\n      <th>1</th>\n      <td>coal1</td>\n      <td>day2</td>\n      <td>x_InUse_coal1_day2</td>\n      <td>x_TurnOn_coal1_day2</td>\n      <td>x_TurnOff_coal1_day2</td>\n      <td>x_Production_coal1_day2</td>\n      <td>208.61</td>\n      <td>22.536</td>\n      <td>5000</td>\n      <td>30</td>\n    </tr>\n    <tr>\n      <th>2</th>\n      <td>coal1</td>\n      <td>day3</td>\n      <td>x_InUse_coal1_day3</td>\n      <td>x_TurnOn_coal1_day3</td>\n      <td>x_TurnOff_coal1_day3</td>\n      <td>x_Production_coal1_day3</td>\n      <td>208.61</td>\n      <td>22.536</td>\n      <td>5000</td>\n      <td>30</td>\n    </tr>\n    <tr>\n      <th>3</th>\n      <td>coal1</td>\n      <td>day4</td>\n      <td>x_InUse_coal1_day4</td>\n      <td>x_TurnOn_coal1_day4</td>\n      <td>x_TurnOff_coal1_day4</td>\n      <td>x_Production_coal1_day4</td>\n      <td>208.61</td>\n      <td>22.536</td>\n      <td>5000</td>\n      <td>30</td>\n    </tr>\n    <tr>\n      <th>4</th>\n      <td>coal1</td>\n      <td>day5</td>\n      <td>x_InUse_coal1_day5</td>\n      <td>x_TurnOn_coal1_day5</td>\n      <td>x_TurnOff_coal1_day5</td>\n      <td>x_Production_coal1_day5</td>\n      <td>208.61</td>\n      <td>22.536</td>\n      <td>5000</td>\n      <td>30</td>\n    </tr>\n  </tbody>\n</table>\n</div>",
                        "text/plain": "    Unit Date_Sequence             x_InUse             x_TurnOn  \\\n0  coal1          day1  x_InUse_coal1_day1  x_TurnOn_coal1_day1   \n1  coal1          day2  x_InUse_coal1_day2  x_TurnOn_coal1_day2   \n2  coal1          day3  x_InUse_coal1_day3  x_TurnOn_coal1_day3   \n3  coal1          day4  x_InUse_coal1_day4  x_TurnOn_coal1_day4   \n4  coal1          day5  x_InUse_coal1_day5  x_TurnOn_coal1_day5   \n\n              x_TurnOff             x_Production  fixed_cost  variable_cost  \\\n0  x_TurnOff_coal1_day1  x_Production_coal1_day1      208.61         22.536   \n1  x_TurnOff_coal1_day2  x_Production_coal1_day2      208.61         22.536   \n2  x_TurnOff_coal1_day3  x_Production_coal1_day3      208.61         22.536   \n3  x_TurnOff_coal1_day4  x_Production_coal1_day4      208.61         22.536   \n4  x_TurnOff_coal1_day5  x_Production_coal1_day5      208.61         22.536   \n\n   start_cost  co2_cost  \n0        5000        30  \n1        5000        30  \n2        5000        30  \n3        5000        30  \n4        5000        30  "
                    },
                    "execution_count": 32,
                    "metadata": {},
                    "output_type": "execute_result"
                }
            ],
            "source": "cost = pd.merge ( Unit_Date, Units[[\"Unit\",\"fixed_cost\",\"variable_cost\",\"start_cost\",\"co2_cost\"]], on = \"Unit\")\ncost.head()"
        },
        {
            "cell_type": "markdown",
            "metadata": {},
            "source": "$ FixedCost = \\Large\\sum_{t} \\sum_{i} x_{TurnOn} (i,t)  \\times FixedCost(i)$\n\n$ VariableCost = \\Large\\sum_{t} \\sum_{i} x_{Production} (i,t)  \\times VariableCost(i)$\n\n$ StartupCost = \\Large\\sum_{t} \\sum_{i} x_{TurnOn} (i,t)  \\times StartCost(i)$\n\n$ CO2Cost = \\Large\\sum_{t} \\sum_{i} x_{Production} (i,t)  \\times CO2Cost(i)$\n\n$ InUseDays = \\Large\\sum_{t} \\sum_{i} x_{InUse} (i,t)  $\n\n$ StartingTimes = \\Large\\sum_{t} \\sum_{i} x_{TurnOn} (i,t)  $"
        },
        {
            "cell_type": "code",
            "execution_count": 33,
            "metadata": {},
            "outputs": [
                {
                    "data": {
                        "text/plain": "DecisionKPI(name=Total #starts,expr=x_TurnOn_coal1_day1+x_TurnOn_coal1_day2+x_TurnOn_coal1_day3+x_Tu..)"
                    },
                    "execution_count": 33,
                    "metadata": {},
                    "output_type": "execute_result"
                }
            ],
            "source": "total_fixed_cost = mdl.sum(cost.x_InUse * cost.fixed_cost)\ntotal_variable_cost = mdl.sum(cost.x_Production * cost.variable_cost)\ntotal_startup_cost = mdl.sum(cost.x_TurnOn * cost.start_cost)\ntotal_co2_cost = mdl.sum(cost.x_Production * cost.co2_cost)\n\ntotal_economic_cost = total_fixed_cost + total_variable_cost + total_startup_cost\n\ntotal_nb_used = mdl.sum(Unit_Date.x_InUse)\ntotal_nb_starts = mdl.sum(Unit_Date.x_TurnOn)\n\n\n# store expression kpis to retrieve them later.\nmdl.add_kpi(total_fixed_cost   , \"Total Fixed Cost\")\nmdl.add_kpi(total_variable_cost, \"Total Variable Cost\")\nmdl.add_kpi(total_startup_cost , \"Total Startup Cost\")\nmdl.add_kpi(total_economic_cost, \"Total Economic Cost\")\nmdl.add_kpi(total_co2_cost     , \"Total CO2 Cost\")\nmdl.add_kpi(total_nb_used, \"Total #used\")\nmdl.add_kpi(total_nb_starts, \"Total #starts\")"
        },
        {
            "cell_type": "markdown",
            "metadata": {},
            "source": "### Define Opjective Function"
        },
        {
            "cell_type": "markdown",
            "metadata": {},
            "source": "$\\Large \ud835\udc39\ud835\udc56\ud835\udc65\ud835\udc52\ud835\udc51\ud835\udc36\ud835\udc5c\ud835\udc60\ud835\udc61 + \ud835\udc49\ud835\udc4e\ud835\udc5f\ud835\udc56\ud835\udc4e\ud835\udc4f\ud835\udc59\ud835\udc52\ud835\udc36\ud835\udc5c\ud835\udc60\ud835\udc61+  \ud835\udc46\ud835\udc61\ud835\udc4e\ud835\udc5f\ud835\udc61\ud835\udc62\ud835\udc5d\ud835\udc36\ud835\udc5c\ud835\udc60\ud835\udc61 + \ud835\udc36\ud835\udc422\ud835\udc36\ud835\udc5c\ud835\udc60\ud835\udc61$"
        },
        {
            "cell_type": "code",
            "execution_count": 34,
            "metadata": {},
            "outputs": [],
            "source": "# minimize sum of all costs\nmdl.minimize(total_fixed_cost + total_variable_cost + total_startup_cost + total_co2_cost)"
        },
        {
            "cell_type": "markdown",
            "metadata": {},
            "source": "## Solve"
        },
        {
            "cell_type": "code",
            "execution_count": 35,
            "metadata": {},
            "outputs": [
                {
                    "name": "stdout",
                    "output_type": "stream",
                    "text": "* model Unit_Commitment solved with objective = 14209787.418\n*  KPI: Total Fixed Cost    = 157934.630\n*  KPI: Total Variable Cost = 8831892.288\n*  KPI: Total Startup Cost  = 13439.000\n*  KPI: Total Economic Cost = 9003265.918\n*  KPI: Total CO2 Cost      = 5206521.500\n*  KPI: Total #used         = 1318.000\n*  KPI: Total #starts       = 12.000\n"
                }
            ],
            "source": "mdl.solve()\nmdl.report()"
        },
        {
            "cell_type": "markdown",
            "metadata": {},
            "source": "### Create output tables"
        },
        {
            "cell_type": "code",
            "execution_count": 36,
            "metadata": {},
            "outputs": [
                {
                    "data": {
                        "text/html": "<div>\n<style scoped>\n    .dataframe tbody tr th:only-of-type {\n        vertical-align: middle;\n    }\n\n    .dataframe tbody tr th {\n        vertical-align: top;\n    }\n\n    .dataframe thead th {\n        text-align: right;\n    }\n</style>\n<table border=\"1\" class=\"dataframe\">\n  <thead>\n    <tr style=\"text-align: right;\">\n      <th></th>\n      <th>Unit</th>\n      <th>Date_Sequence</th>\n      <th>x_InUse</th>\n      <th>x_TurnOn</th>\n      <th>x_TurnOff</th>\n      <th>x_Production</th>\n    </tr>\n  </thead>\n  <tbody>\n    <tr>\n      <th>0</th>\n      <td>coal1</td>\n      <td>day1</td>\n      <td>x_InUse_coal1_day1</td>\n      <td>x_TurnOn_coal1_day1</td>\n      <td>x_TurnOff_coal1_day1</td>\n      <td>x_Production_coal1_day1</td>\n    </tr>\n    <tr>\n      <th>1</th>\n      <td>coal1</td>\n      <td>day2</td>\n      <td>x_InUse_coal1_day2</td>\n      <td>x_TurnOn_coal1_day2</td>\n      <td>x_TurnOff_coal1_day2</td>\n      <td>x_Production_coal1_day2</td>\n    </tr>\n  </tbody>\n</table>\n</div>",
                        "text/plain": "    Unit Date_Sequence             x_InUse             x_TurnOn  \\\n0  coal1          day1  x_InUse_coal1_day1  x_TurnOn_coal1_day1   \n1  coal1          day2  x_InUse_coal1_day2  x_TurnOn_coal1_day2   \n\n              x_TurnOff             x_Production  \n0  x_TurnOff_coal1_day1  x_Production_coal1_day1  \n1  x_TurnOff_coal1_day2  x_Production_coal1_day2  "
                    },
                    "execution_count": 36,
                    "metadata": {},
                    "output_type": "execute_result"
                }
            ],
            "source": "Unit_Date.head(2)"
        },
        {
            "cell_type": "code",
            "execution_count": 37,
            "metadata": {},
            "outputs": [
                {
                    "data": {
                        "text/html": "<div>\n<style scoped>\n    .dataframe tbody tr th:only-of-type {\n        vertical-align: middle;\n    }\n\n    .dataframe tbody tr th {\n        vertical-align: top;\n    }\n\n    .dataframe thead th {\n        text-align: right;\n    }\n</style>\n<table border=\"1\" class=\"dataframe\">\n  <thead>\n    <tr style=\"text-align: right;\">\n      <th></th>\n      <th>Unit</th>\n      <th>Date_Sequence</th>\n      <th>x_TurnOn_Solution</th>\n      <th>x_TurnOff_Solution</th>\n      <th>x_Production_Solution</th>\n      <th>x_InUse_Solution</th>\n      <th>Date</th>\n    </tr>\n  </thead>\n  <tbody>\n    <tr>\n      <th>0</th>\n      <td>coal1</td>\n      <td>day1</td>\n      <td>0.0</td>\n      <td>0.0</td>\n      <td>425.0</td>\n      <td>1.0</td>\n      <td>2022-04-22</td>\n    </tr>\n    <tr>\n      <th>1</th>\n      <td>coal2</td>\n      <td>day1</td>\n      <td>0.0</td>\n      <td>0.0</td>\n      <td>215.0</td>\n      <td>1.0</td>\n      <td>2022-04-22</td>\n    </tr>\n    <tr>\n      <th>2</th>\n      <td>gas1</td>\n      <td>day1</td>\n      <td>0.0</td>\n      <td>0.0</td>\n      <td>109.4</td>\n      <td>1.0</td>\n      <td>2022-04-22</td>\n    </tr>\n    <tr>\n      <th>3</th>\n      <td>gas2</td>\n      <td>day1</td>\n      <td>0.0</td>\n      <td>0.0</td>\n      <td>52.0</td>\n      <td>1.0</td>\n      <td>2022-04-22</td>\n    </tr>\n    <tr>\n      <th>4</th>\n      <td>gas3</td>\n      <td>day1</td>\n      <td>0.0</td>\n      <td>0.0</td>\n      <td>165.0</td>\n      <td>1.0</td>\n      <td>2022-04-22</td>\n    </tr>\n  </tbody>\n</table>\n</div>",
                        "text/plain": "    Unit Date_Sequence  x_TurnOn_Solution  x_TurnOff_Solution  \\\n0  coal1          day1                0.0                 0.0   \n1  coal2          day1                0.0                 0.0   \n2   gas1          day1                0.0                 0.0   \n3   gas2          day1                0.0                 0.0   \n4   gas3          day1                0.0                 0.0   \n\n   x_Production_Solution  x_InUse_Solution        Date  \n0                  425.0               1.0  2022-04-22  \n1                  215.0               1.0  2022-04-22  \n2                  109.4               1.0  2022-04-22  \n3                   52.0               1.0  2022-04-22  \n4                  165.0               1.0  2022-04-22  "
                    },
                    "execution_count": 37,
                    "metadata": {},
                    "output_type": "execute_result"
                }
            ],
            "source": "plan = extract_solution(Unit_Date,extract_dvar_names= ['x_TurnOn','x_TurnOff','x_Production','x_InUse'] , drop=True)\nplan = pd.merge(plan, Demand[[\"Date\",\"Date_Sequence\"]], on = \"Date_Sequence\")\nplan.round(2).head()"
        },
        {
            "cell_type": "markdown",
            "metadata": {},
            "source": "## postprocessing \n\nCreating extra output table for visualization"
        },
        {
            "cell_type": "code",
            "execution_count": 38,
            "metadata": {},
            "outputs": [
                {
                    "data": {
                        "text/html": "<div>\n<style scoped>\n    .dataframe tbody tr th:only-of-type {\n        vertical-align: middle;\n    }\n\n    .dataframe tbody tr th {\n        vertical-align: top;\n    }\n\n    .dataframe thead th {\n        text-align: right;\n    }\n</style>\n<table border=\"1\" class=\"dataframe\">\n  <thead>\n    <tr style=\"text-align: right;\">\n      <th></th>\n      <th>Unit</th>\n      <th>x_Production_Solution</th>\n      <th>Date</th>\n    </tr>\n  </thead>\n  <tbody>\n    <tr>\n      <th>0</th>\n      <td>coal1</td>\n      <td>425.0</td>\n      <td>2022-04-22</td>\n    </tr>\n    <tr>\n      <th>1</th>\n      <td>coal2</td>\n      <td>215.0</td>\n      <td>2022-04-22</td>\n    </tr>\n    <tr>\n      <th>2</th>\n      <td>diesel1</td>\n      <td>90.0</td>\n      <td>2022-04-22</td>\n    </tr>\n    <tr>\n      <th>3</th>\n      <td>diesel2</td>\n      <td>87.0</td>\n      <td>2022-04-22</td>\n    </tr>\n    <tr>\n      <th>4</th>\n      <td>diesel3</td>\n      <td>0.0</td>\n      <td>2022-04-22</td>\n    </tr>\n  </tbody>\n</table>\n</div>",
                        "text/plain": "      Unit  x_Production_Solution        Date\n0    coal1                  425.0  2022-04-22\n1    coal2                  215.0  2022-04-22\n2  diesel1                   90.0  2022-04-22\n3  diesel2                   87.0  2022-04-22\n4  diesel3                    0.0  2022-04-22"
                    },
                    "execution_count": 38,
                    "metadata": {},
                    "output_type": "execute_result"
                }
            ],
            "source": "Power_portions = plan[[\"Unit\",\"Date_Sequence\",\"x_Production_Solution\"]].groupby([\"Date_Sequence\",\"Unit\"]).sum().round().reset_index(drop = False)\nPower_portions = pd.merge(Power_portions, Demand[[\"Date\",\"Date_Sequence\"]], on = \"Date_Sequence\")\ndel Power_portions[\"Date_Sequence\"]\nPower_portions.head()"
        },
        {
            "cell_type": "code",
            "execution_count": 39,
            "metadata": {},
            "outputs": [
                {
                    "data": {
                        "text/html": "<div>\n<style scoped>\n    .dataframe tbody tr th:only-of-type {\n        vertical-align: middle;\n    }\n\n    .dataframe tbody tr th {\n        vertical-align: top;\n    }\n\n    .dataframe thead th {\n        text-align: right;\n    }\n</style>\n<table border=\"1\" class=\"dataframe\">\n  <thead>\n    <tr style=\"text-align: right;\">\n      <th></th>\n      <th>Unit</th>\n      <th>x_Production_Solution</th>\n      <th>percentage</th>\n    </tr>\n  </thead>\n  <tbody>\n    <tr>\n      <th>0</th>\n      <td>coal1</td>\n      <td>81600.0</td>\n      <td>0.32</td>\n    </tr>\n    <tr>\n      <th>1</th>\n      <td>coal2</td>\n      <td>62345.0</td>\n      <td>0.25</td>\n    </tr>\n    <tr>\n      <th>2</th>\n      <td>diesel1</td>\n      <td>17280.0</td>\n      <td>0.07</td>\n    </tr>\n    <tr>\n      <th>3</th>\n      <td>diesel2</td>\n      <td>16704.0</td>\n      <td>0.07</td>\n    </tr>\n    <tr>\n      <th>4</th>\n      <td>diesel3</td>\n      <td>0.0</td>\n      <td>0.00</td>\n    </tr>\n  </tbody>\n</table>\n</div>",
                        "text/plain": "      Unit  x_Production_Solution  percentage\n0    coal1                81600.0        0.32\n1    coal2                62345.0        0.25\n2  diesel1                17280.0        0.07\n3  diesel2                16704.0        0.07\n4  diesel3                    0.0        0.00"
                    },
                    "execution_count": 39,
                    "metadata": {},
                    "output_type": "execute_result"
                }
            ],
            "source": "plant_percentage = plan[[\"Unit\",\"Date_Sequence\",\"x_Production_Solution\"]].groupby([\"Unit\"]).sum().round().reset_index(drop = False)\n\nplant_percentage[\"percentage\"] = round (plant_percentage[\"x_Production_Solution\"]/plant_percentage[\"x_Production_Solution\"].sum(), 2)\n\nplant_percentage.head()"
        },
        {
            "cell_type": "markdown",
            "metadata": {},
            "source": "## Store the outputs into DO experiment, excel or csv"
        },
        {
            "cell_type": "code",
            "execution_count": 40,
            "metadata": {},
            "outputs": [],
            "source": "OutputTables = {}\n\nOutputTables['plan'] = plan\nOutputTables['Power_portions'] = Power_portions\nOutputTables['plant_percentage'] = plant_percentage\n\n\n\nfor i in InputTables.keys():\n    project.save_data(file_name = i+\".csv\", data = InputTables[i].to_csv(), overwrite=True)\n\nfor i in OutputTables.keys():\n    project.save_data(file_name = i+\".csv\", data = OutputTables[i].to_csv(), overwrite=True)"
        },
        {
            "cell_type": "code",
            "execution_count": 43,
            "metadata": {},
            "outputs": [
                {
                    "data": {
                        "text/plain": "'/home/wsuser/work/UC_IO.xlsx'"
                    },
                    "execution_count": 43,
                    "metadata": {},
                    "output_type": "execute_result"
                }
            ],
            "source": "sm.outputs = OutputTables\nsm.update_solve_output_into_scenario(mdl, OutputTables)\n\nsm.write_data_to_excel(\"UC_IO\")"
        },
        {
            "cell_type": "markdown",
            "metadata": {},
            "source": "### Export to  algebraic representation (LP)"
        },
        {
            "cell_type": "markdown",
            "metadata": {},
            "source": "https://www.ibm.com/docs/en/icos/12.8.0.0?topic=cplex-lp-file-format-algebraic-representation"
        },
        {
            "cell_type": "code",
            "execution_count": 45,
            "metadata": {},
            "outputs": [
                {
                    "data": {
                        "text/plain": "'/home/wsuser/work/Unit_Commitment.lp'"
                    },
                    "execution_count": 45,
                    "metadata": {},
                    "output_type": "execute_result"
                }
            ],
            "source": "sm.export_model_as_lp(mdl)"
        },
        {
            "cell_type": "code",
            "execution_count": null,
            "metadata": {},
            "outputs": [],
            "source": ""
        }
    ],
    "metadata": {
        "kernelspec": {
            "display_name": "Python 3.9",
            "language": "python",
            "name": "python3"
        },
        "language_info": {
            "codemirror_mode": {
                "name": "ipython",
                "version": 3
            },
            "file_extension": ".py",
            "mimetype": "text/x-python",
            "name": "python",
            "nbconvert_exporter": "python",
            "pygments_lexer": "ipython3",
            "version": "3.9.7"
        }
    },
    "nbformat": 4,
    "nbformat_minor": 1
}
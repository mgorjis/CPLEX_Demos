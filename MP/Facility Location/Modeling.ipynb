{
 "cells": [
  {
   "cell_type": "code",
   "execution_count": 1,
   "metadata": {},
   "outputs": [
    {
     "data": {
      "text/plain": [
       "'2.25.236'"
      ]
     },
     "execution_count": 1,
     "metadata": {},
     "output_type": "execute_result"
    }
   ],
   "source": [
    "import pandas as pd\n",
    "from docplex.mp.model import Model\n",
    "import pandas as pd\n",
    "pd.set_option('display.max_colwidth', None)\n",
    "pd.set_option('display.max_rows', None)\n",
    "\n",
    "from docplex import __version__\n",
    "__version__"
   ]
  },
  {
   "cell_type": "code",
   "execution_count": 2,
   "metadata": {},
   "outputs": [],
   "source": [
    "def integer_var_series(df, mdl,**kargs):\n",
    "    return pd.Series(mdl.integer_var_list(df.index, **kargs), index = df.index)\n",
    "\n",
    "def continuous_var_series(df, mdl,**kargs):\n",
    "    return pd.Series(mdl.continuous_var_list(df.index, **kargs), index = df.index)\n",
    "\n",
    "class CplexSum():\n",
    "    \"\"\"Function class that adds a series of dvars into a cplex sum expression.\n",
    "    To be used as a custom aggregation in a groupby.\n",
    "    Usage:\n",
    "        df2 = df1.groupby(['a']).agg({'xDVar':CplexSum(engine.mdl)}).rename(columns={'xDVar':'expr'})\n",
    "\n",
    "    Sums the dvars in the 'xDVar' column into an expression\n",
    "    \"\"\"\n",
    "    def __init__(self, mdl):\n",
    "        self.mdl = mdl\n",
    "    def __call__(self, dvar_series):\n",
    "        return self.mdl.sum(dvar_series)\n",
    "    \n",
    "def extract_solution(df, extract_dvar_names=None, drop_column_names=None, drop:bool=True):\n",
    "    df = df.copy()\n",
    "    \"\"\"Generalized routine to extract a solution value. \n",
    "    Can remove the dvar column from the df to be able to have a clean df for export into scenario.\"\"\"\n",
    "    if extract_dvar_names is not None:\n",
    "        for xDVarName in extract_dvar_names:\n",
    "            if xDVarName in df.columns:\n",
    "                df[f'{xDVarName}_Solution'] = [dvar.solution_value for dvar in df[xDVarName]]\n",
    "                if drop:\n",
    "                    df = df.drop([xDVarName], axis = 1)\n",
    "    if drop and drop_column_names is not None:\n",
    "        for column in drop_column_names:\n",
    "            if column in df.columns:\n",
    "                df = df.drop([column], axis = 1)\n",
    "    return df "
   ]
  },
  {
   "cell_type": "code",
   "execution_count": 3,
   "metadata": {},
   "outputs": [
    {
     "data": {
      "text/plain": [
       "dict_keys(['fixed_costs', 'charges', 'demands', 'capacity'])"
      ]
     },
     "execution_count": 3,
     "metadata": {},
     "output_type": "execute_result"
    }
   ],
   "source": [
    "InputTables = pd.read_excel('facility.xlsx', sheet_name = None)\n",
    "\n",
    "for i in InputTables.keys():\n",
    "    del InputTables[i]['Unnamed: 0']\n",
    "InputTables.keys()\n"
   ]
  },
  {
   "cell_type": "code",
   "execution_count": 4,
   "metadata": {},
   "outputs": [],
   "source": [
    "mdl = Model(\"faility_location\")"
   ]
  },
  {
   "cell_type": "markdown",
   "metadata": {},
   "source": [
    "# Decision Variables"
   ]
  },
  {
   "cell_type": "markdown",
   "metadata": {},
   "source": [
    "a binary decision variable which is 1 if the site is open"
   ]
  },
  {
   "cell_type": "code",
   "execution_count": 5,
   "metadata": {},
   "outputs": [
    {
     "data": {
      "text/html": [
       "<div>\n",
       "<style scoped>\n",
       "    .dataframe tbody tr th:only-of-type {\n",
       "        vertical-align: middle;\n",
       "    }\n",
       "\n",
       "    .dataframe tbody tr th {\n",
       "        vertical-align: top;\n",
       "    }\n",
       "\n",
       "    .dataframe thead th {\n",
       "        text-align: right;\n",
       "    }\n",
       "</style>\n",
       "<table border=\"1\" class=\"dataframe\">\n",
       "  <thead>\n",
       "    <tr style=\"text-align: right;\">\n",
       "      <th></th>\n",
       "      <th>site</th>\n",
       "      <th>x_is_open</th>\n",
       "    </tr>\n",
       "  </thead>\n",
       "  <tbody>\n",
       "    <tr>\n",
       "      <th>0</th>\n",
       "      <td>site_1</td>\n",
       "      <td>x_is_open_site_1</td>\n",
       "    </tr>\n",
       "    <tr>\n",
       "      <th>1</th>\n",
       "      <td>site_2</td>\n",
       "      <td>x_is_open_site_2</td>\n",
       "    </tr>\n",
       "    <tr>\n",
       "      <th>2</th>\n",
       "      <td>site_3</td>\n",
       "      <td>x_is_open_site_3</td>\n",
       "    </tr>\n",
       "    <tr>\n",
       "      <th>3</th>\n",
       "      <td>site_4</td>\n",
       "      <td>x_is_open_site_4</td>\n",
       "    </tr>\n",
       "    <tr>\n",
       "      <th>4</th>\n",
       "      <td>site_5</td>\n",
       "      <td>x_is_open_site_5</td>\n",
       "    </tr>\n",
       "  </tbody>\n",
       "</table>\n",
       "</div>"
      ],
      "text/plain": [
       "     site         x_is_open\n",
       "0  site_1  x_is_open_site_1\n",
       "1  site_2  x_is_open_site_2\n",
       "2  site_3  x_is_open_site_3\n",
       "3  site_4  x_is_open_site_4\n",
       "4  site_5  x_is_open_site_5"
      ]
     },
     "execution_count": 5,
     "metadata": {},
     "output_type": "execute_result"
    }
   ],
   "source": [
    "sites  = InputTables['fixed_costs'][['site']].set_index('site', verify_integrity=True)\n",
    "sites['x_is_open'] = integer_var_series(sites, mdl, name = 'x_is_open')\n",
    "sites = sites.reset_index(drop=False)\n",
    "sites.head()"
   ]
  },
  {
   "cell_type": "markdown",
   "metadata": {},
   "source": [
    "fraction of demand of a zone that is  fulfilled from a site, a continuous decision variable"
   ]
  },
  {
   "cell_type": "code",
   "execution_count": 6,
   "metadata": {},
   "outputs": [
    {
     "data": {
      "text/html": [
       "<div>\n",
       "<style scoped>\n",
       "    .dataframe tbody tr th:only-of-type {\n",
       "        vertical-align: middle;\n",
       "    }\n",
       "\n",
       "    .dataframe tbody tr th {\n",
       "        vertical-align: top;\n",
       "    }\n",
       "\n",
       "    .dataframe thead th {\n",
       "        text-align: right;\n",
       "    }\n",
       "</style>\n",
       "<table border=\"1\" class=\"dataframe\">\n",
       "  <thead>\n",
       "    <tr style=\"text-align: right;\">\n",
       "      <th></th>\n",
       "      <th>site</th>\n",
       "      <th>zone</th>\n",
       "      <th>fractions_satisfied_demands</th>\n",
       "    </tr>\n",
       "  </thead>\n",
       "  <tbody>\n",
       "    <tr>\n",
       "      <th>0</th>\n",
       "      <td>site_1</td>\n",
       "      <td>zone_1</td>\n",
       "      <td>fractions_satisfied_demands_site_1_zone_1</td>\n",
       "    </tr>\n",
       "    <tr>\n",
       "      <th>1</th>\n",
       "      <td>site_1</td>\n",
       "      <td>zone_2</td>\n",
       "      <td>fractions_satisfied_demands_site_1_zone_2</td>\n",
       "    </tr>\n",
       "    <tr>\n",
       "      <th>2</th>\n",
       "      <td>site_1</td>\n",
       "      <td>zone_3</td>\n",
       "      <td>fractions_satisfied_demands_site_1_zone_3</td>\n",
       "    </tr>\n",
       "    <tr>\n",
       "      <th>3</th>\n",
       "      <td>site_1</td>\n",
       "      <td>zone_4</td>\n",
       "      <td>fractions_satisfied_demands_site_1_zone_4</td>\n",
       "    </tr>\n",
       "    <tr>\n",
       "      <th>4</th>\n",
       "      <td>site_1</td>\n",
       "      <td>zone_5</td>\n",
       "      <td>fractions_satisfied_demands_site_1_zone_5</td>\n",
       "    </tr>\n",
       "  </tbody>\n",
       "</table>\n",
       "</div>"
      ],
      "text/plain": [
       "     site    zone                fractions_satisfied_demands\n",
       "0  site_1  zone_1  fractions_satisfied_demands_site_1_zone_1\n",
       "1  site_1  zone_2  fractions_satisfied_demands_site_1_zone_2\n",
       "2  site_1  zone_3  fractions_satisfied_demands_site_1_zone_3\n",
       "3  site_1  zone_4  fractions_satisfied_demands_site_1_zone_4\n",
       "4  site_1  zone_5  fractions_satisfied_demands_site_1_zone_5"
      ]
     },
     "execution_count": 6,
     "metadata": {},
     "output_type": "execute_result"
    }
   ],
   "source": [
    "fractions = InputTables['charges'][['site','zone']].drop_duplicates().set_index(['site','zone'], verify_integrity=True)\n",
    "fractions[ 'fractions_satisfied_demands']=continuous_var_series(fractions, mdl, lb=0, ub=1 , name = 'fractions_satisfied_demands')\n",
    "fractions = fractions.reset_index(drop=False)\n",
    "fractions.head()"
   ]
  },
  {
   "cell_type": "markdown",
   "metadata": {},
   "source": [
    "# Add constraints"
   ]
  },
  {
   "cell_type": "markdown",
   "metadata": {},
   "source": [
    "#1 summation of fractions_satisfied_demands for each zone, from all sites must be 1"
   ]
  },
  {
   "cell_type": "code",
   "execution_count": 7,
   "metadata": {},
   "outputs": [
    {
     "data": {
      "text/html": [
       "<div>\n",
       "<style scoped>\n",
       "    .dataframe tbody tr th:only-of-type {\n",
       "        vertical-align: middle;\n",
       "    }\n",
       "\n",
       "    .dataframe tbody tr th {\n",
       "        vertical-align: top;\n",
       "    }\n",
       "\n",
       "    .dataframe thead th {\n",
       "        text-align: right;\n",
       "    }\n",
       "</style>\n",
       "<table border=\"1\" class=\"dataframe\">\n",
       "  <thead>\n",
       "    <tr style=\"text-align: right;\">\n",
       "      <th></th>\n",
       "      <th>fractions_satisfied_demands</th>\n",
       "    </tr>\n",
       "    <tr>\n",
       "      <th>zone</th>\n",
       "      <th></th>\n",
       "    </tr>\n",
       "  </thead>\n",
       "  <tbody>\n",
       "    <tr>\n",
       "      <th>zone_1</th>\n",
       "      <td>fractions_satisfied_demands_site_1_zone_1+fractions_satisfied_demands_site_2_zone_1+fractions_satisfied_demands_site_3_zone_1+fractions_satisfied_demands_site_4_zone_1+fractions_satisfied_demands_site_5_zone_1+fractions_satisfied_demands_site_6_zone_1+fractions_satisfied_demands_site_7_zone_1+fractions_satisfied_demands_site_8_zone_1</td>\n",
       "    </tr>\n",
       "    <tr>\n",
       "      <th>zone_10</th>\n",
       "      <td>fractions_satisfied_demands_site_1_zone_10+fractions_satisfied_demands_site_2_zone_10+fractions_satisfied_demands_site_3_zone_10+fractions_satisfied_demands_site_4_zone_10+fractions_satisfied_demands_site_5_zone_10+fractions_satisfied_demands_site_6_zone_10+fractions_satisfied_demands_site_7_zone_10+fractions_satisfied_demands_site_8_zone_10</td>\n",
       "    </tr>\n",
       "  </tbody>\n",
       "</table>\n",
       "</div>"
      ],
      "text/plain": [
       "                                                                                                                                                                                                                                                                                                                                     fractions_satisfied_demands\n",
       "zone                                                                                                                                                                                                                                                                                                                                                            \n",
       "zone_1           fractions_satisfied_demands_site_1_zone_1+fractions_satisfied_demands_site_2_zone_1+fractions_satisfied_demands_site_3_zone_1+fractions_satisfied_demands_site_4_zone_1+fractions_satisfied_demands_site_5_zone_1+fractions_satisfied_demands_site_6_zone_1+fractions_satisfied_demands_site_7_zone_1+fractions_satisfied_demands_site_8_zone_1\n",
       "zone_10  fractions_satisfied_demands_site_1_zone_10+fractions_satisfied_demands_site_2_zone_10+fractions_satisfied_demands_site_3_zone_10+fractions_satisfied_demands_site_4_zone_10+fractions_satisfied_demands_site_5_zone_10+fractions_satisfied_demands_site_6_zone_10+fractions_satisfied_demands_site_7_zone_10+fractions_satisfied_demands_site_8_zone_10"
      ]
     },
     "execution_count": 7,
     "metadata": {},
     "output_type": "execute_result"
    }
   ],
   "source": [
    "fractions_per_zone = fractions[['zone','fractions_satisfied_demands']].groupby('zone').agg(CplexSum(mdl))\n",
    "fractions_per_zone.head(2)"
   ]
  },
  {
   "cell_type": "code",
   "execution_count": 8,
   "metadata": {},
   "outputs": [],
   "source": [
    "for row in fractions_per_zone.itertuples():\n",
    "    mdl.add_constraint(row.fractions_satisfied_demands == 1)"
   ]
  },
  {
   "cell_type": "markdown",
   "metadata": {},
   "source": [
    "#2  total assigned demand to a site is less than its capacity. The capacity of closed location is zero"
   ]
  },
  {
   "cell_type": "code",
   "execution_count": 9,
   "metadata": {},
   "outputs": [
    {
     "data": {
      "text/plain": [
       "(1500, 5000)"
      ]
     },
     "execution_count": 9,
     "metadata": {},
     "output_type": "execute_result"
    }
   ],
   "source": [
    "MAX = InputTables['capacity']['max'].values[0]\n",
    "MIN = InputTables['capacity']['min'].values[0]\n",
    "MIN, MAX"
   ]
  },
  {
   "cell_type": "code",
   "execution_count": 10,
   "metadata": {},
   "outputs": [
    {
     "data": {
      "text/html": [
       "<div>\n",
       "<style scoped>\n",
       "    .dataframe tbody tr th:only-of-type {\n",
       "        vertical-align: middle;\n",
       "    }\n",
       "\n",
       "    .dataframe tbody tr th {\n",
       "        vertical-align: top;\n",
       "    }\n",
       "\n",
       "    .dataframe thead th {\n",
       "        text-align: right;\n",
       "    }\n",
       "</style>\n",
       "<table border=\"1\" class=\"dataframe\">\n",
       "  <thead>\n",
       "    <tr style=\"text-align: right;\">\n",
       "      <th></th>\n",
       "      <th>site</th>\n",
       "      <th>zone</th>\n",
       "      <th>fractions_satisfied_demands</th>\n",
       "      <th>demand</th>\n",
       "      <th>fulfilled_demand</th>\n",
       "    </tr>\n",
       "  </thead>\n",
       "  <tbody>\n",
       "    <tr>\n",
       "      <th>0</th>\n",
       "      <td>site_1</td>\n",
       "      <td>zone_1</td>\n",
       "      <td>fractions_satisfied_demands_site_1_zone_1</td>\n",
       "      <td>250</td>\n",
       "      <td>250fractions_satisfied_demands_site_1_zone_1</td>\n",
       "    </tr>\n",
       "    <tr>\n",
       "      <th>1</th>\n",
       "      <td>site_2</td>\n",
       "      <td>zone_1</td>\n",
       "      <td>fractions_satisfied_demands_site_2_zone_1</td>\n",
       "      <td>250</td>\n",
       "      <td>250fractions_satisfied_demands_site_2_zone_1</td>\n",
       "    </tr>\n",
       "    <tr>\n",
       "      <th>2</th>\n",
       "      <td>site_3</td>\n",
       "      <td>zone_1</td>\n",
       "      <td>fractions_satisfied_demands_site_3_zone_1</td>\n",
       "      <td>250</td>\n",
       "      <td>250fractions_satisfied_demands_site_3_zone_1</td>\n",
       "    </tr>\n",
       "    <tr>\n",
       "      <th>3</th>\n",
       "      <td>site_4</td>\n",
       "      <td>zone_1</td>\n",
       "      <td>fractions_satisfied_demands_site_4_zone_1</td>\n",
       "      <td>250</td>\n",
       "      <td>250fractions_satisfied_demands_site_4_zone_1</td>\n",
       "    </tr>\n",
       "    <tr>\n",
       "      <th>4</th>\n",
       "      <td>site_5</td>\n",
       "      <td>zone_1</td>\n",
       "      <td>fractions_satisfied_demands_site_5_zone_1</td>\n",
       "      <td>250</td>\n",
       "      <td>250fractions_satisfied_demands_site_5_zone_1</td>\n",
       "    </tr>\n",
       "  </tbody>\n",
       "</table>\n",
       "</div>"
      ],
      "text/plain": [
       "     site    zone                fractions_satisfied_demands  demand  \\\n",
       "0  site_1  zone_1  fractions_satisfied_demands_site_1_zone_1     250   \n",
       "1  site_2  zone_1  fractions_satisfied_demands_site_2_zone_1     250   \n",
       "2  site_3  zone_1  fractions_satisfied_demands_site_3_zone_1     250   \n",
       "3  site_4  zone_1  fractions_satisfied_demands_site_4_zone_1     250   \n",
       "4  site_5  zone_1  fractions_satisfied_demands_site_5_zone_1     250   \n",
       "\n",
       "                               fulfilled_demand  \n",
       "0  250fractions_satisfied_demands_site_1_zone_1  \n",
       "1  250fractions_satisfied_demands_site_2_zone_1  \n",
       "2  250fractions_satisfied_demands_site_3_zone_1  \n",
       "3  250fractions_satisfied_demands_site_4_zone_1  \n",
       "4  250fractions_satisfied_demands_site_5_zone_1  "
      ]
     },
     "execution_count": 10,
     "metadata": {},
     "output_type": "execute_result"
    }
   ],
   "source": [
    "df = pd.merge(fractions, InputTables['demands'][['zone','demand']],on = ['zone'], how = 'outer')\n",
    "df['fulfilled_demand']=df['fractions_satisfied_demands']* df['demand']\n",
    "df.head()"
   ]
  },
  {
   "cell_type": "code",
   "execution_count": 11,
   "metadata": {},
   "outputs": [
    {
     "data": {
      "text/html": [
       "<div>\n",
       "<style scoped>\n",
       "    .dataframe tbody tr th:only-of-type {\n",
       "        vertical-align: middle;\n",
       "    }\n",
       "\n",
       "    .dataframe tbody tr th {\n",
       "        vertical-align: top;\n",
       "    }\n",
       "\n",
       "    .dataframe thead th {\n",
       "        text-align: right;\n",
       "    }\n",
       "</style>\n",
       "<table border=\"1\" class=\"dataframe\">\n",
       "  <thead>\n",
       "    <tr style=\"text-align: right;\">\n",
       "      <th></th>\n",
       "      <th>site</th>\n",
       "      <th>fulfilled_demand</th>\n",
       "      <th>x_is_open</th>\n",
       "      <th>max_capacity</th>\n",
       "      <th>min_capacity</th>\n",
       "    </tr>\n",
       "  </thead>\n",
       "  <tbody>\n",
       "    <tr>\n",
       "      <th>0</th>\n",
       "      <td>site_1</td>\n",
       "      <td>250fractions_satisfied_demands_site_1_zone_1+150fractions_satisfied_demands_site_1_zone_2+1000fractions_satisfied_demands_site_1_zone_3+80fractions_satisfied_demands_site_1_zone_4+50fractions_satisfied_demands_site_1_zone_5+800fractions_satisfied_demands_site_1_zone_6+325fractions_satisfied_demands_site_1_zone_7+100fractions_satisfied_demands_site_1_zone_8+475fractions_satisfied_demands_site_1_zone_9+220fractions_satisfied_demands_site_1_zone_10+900fractions_satisfied_demands_site_1_zone_11+1500fractions_satisfied_demands_site_1_zone_12+430fractions_satisfied_demands_site_1_zone_13+200fractions_satisfied_demands_site_1_zone_14</td>\n",
       "      <td>x_is_open_site_1</td>\n",
       "      <td>5000</td>\n",
       "      <td>1500</td>\n",
       "    </tr>\n",
       "    <tr>\n",
       "      <th>1</th>\n",
       "      <td>site_2</td>\n",
       "      <td>250fractions_satisfied_demands_site_2_zone_1+150fractions_satisfied_demands_site_2_zone_2+1000fractions_satisfied_demands_site_2_zone_3+80fractions_satisfied_demands_site_2_zone_4+50fractions_satisfied_demands_site_2_zone_5+800fractions_satisfied_demands_site_2_zone_6+325fractions_satisfied_demands_site_2_zone_7+100fractions_satisfied_demands_site_2_zone_8+475fractions_satisfied_demands_site_2_zone_9+220fractions_satisfied_demands_site_2_zone_10+900fractions_satisfied_demands_site_2_zone_11+1500fractions_satisfied_demands_site_2_zone_12+430fractions_satisfied_demands_site_2_zone_13+200fractions_satisfied_demands_site_2_zone_14</td>\n",
       "      <td>x_is_open_site_2</td>\n",
       "      <td>5000</td>\n",
       "      <td>1500</td>\n",
       "    </tr>\n",
       "  </tbody>\n",
       "</table>\n",
       "</div>"
      ],
      "text/plain": [
       "     site  \\\n",
       "0  site_1   \n",
       "1  site_2   \n",
       "\n",
       "                                                                                                                                                                                                                                                                                                                                                                                                                                                                                                                                                                                                                                             fulfilled_demand  \\\n",
       "0  250fractions_satisfied_demands_site_1_zone_1+150fractions_satisfied_demands_site_1_zone_2+1000fractions_satisfied_demands_site_1_zone_3+80fractions_satisfied_demands_site_1_zone_4+50fractions_satisfied_demands_site_1_zone_5+800fractions_satisfied_demands_site_1_zone_6+325fractions_satisfied_demands_site_1_zone_7+100fractions_satisfied_demands_site_1_zone_8+475fractions_satisfied_demands_site_1_zone_9+220fractions_satisfied_demands_site_1_zone_10+900fractions_satisfied_demands_site_1_zone_11+1500fractions_satisfied_demands_site_1_zone_12+430fractions_satisfied_demands_site_1_zone_13+200fractions_satisfied_demands_site_1_zone_14   \n",
       "1  250fractions_satisfied_demands_site_2_zone_1+150fractions_satisfied_demands_site_2_zone_2+1000fractions_satisfied_demands_site_2_zone_3+80fractions_satisfied_demands_site_2_zone_4+50fractions_satisfied_demands_site_2_zone_5+800fractions_satisfied_demands_site_2_zone_6+325fractions_satisfied_demands_site_2_zone_7+100fractions_satisfied_demands_site_2_zone_8+475fractions_satisfied_demands_site_2_zone_9+220fractions_satisfied_demands_site_2_zone_10+900fractions_satisfied_demands_site_2_zone_11+1500fractions_satisfied_demands_site_2_zone_12+430fractions_satisfied_demands_site_2_zone_13+200fractions_satisfied_demands_site_2_zone_14   \n",
       "\n",
       "          x_is_open  max_capacity  min_capacity  \n",
       "0  x_is_open_site_1          5000          1500  \n",
       "1  x_is_open_site_2          5000          1500  "
      ]
     },
     "execution_count": 11,
     "metadata": {},
     "output_type": "execute_result"
    }
   ],
   "source": [
    "fulfilled_demand_per_site = df[['site','fulfilled_demand']].groupby('site').agg(CplexSum(mdl))\n",
    "fulfilled_demand_per_site = pd.merge(fulfilled_demand_per_site,sites, on = ['site'] )\n",
    "fulfilled_demand_per_site['max_capacity']= MAX\n",
    "fulfilled_demand_per_site['min_capacity']= MIN\n",
    "fulfilled_demand_per_site.head(2)"
   ]
  },
  {
   "cell_type": "code",
   "execution_count": 12,
   "metadata": {},
   "outputs": [],
   "source": [
    "for row in fulfilled_demand_per_site.itertuples():\n",
    "    mdl.add_constraint(row.fulfilled_demand <= row.x_is_open * row.max_capacity)\n",
    "\n",
    "for row in fulfilled_demand_per_site.itertuples():\n",
    "    mdl.add_constraint(row.fulfilled_demand >= row.x_is_open * row.min_capacity)    "
   ]
  },
  {
   "cell_type": "markdown",
   "metadata": {},
   "source": [
    "# KPI and Objective Function"
   ]
  },
  {
   "cell_type": "markdown",
   "metadata": {},
   "source": [
    "demand fullfilment cost = sume over zones :\n",
    "\n",
    "[(total demand of zone j) * (fraction of demand of zone j that is being fulfilled from site i) * (cost of fulfilment of demand of zone j from site i) ]\n",
    "\n"
   ]
  },
  {
   "cell_type": "code",
   "execution_count": 13,
   "metadata": {},
   "outputs": [
    {
     "data": {
      "text/html": [
       "<div>\n",
       "<style scoped>\n",
       "    .dataframe tbody tr th:only-of-type {\n",
       "        vertical-align: middle;\n",
       "    }\n",
       "\n",
       "    .dataframe tbody tr th {\n",
       "        vertical-align: top;\n",
       "    }\n",
       "\n",
       "    .dataframe thead th {\n",
       "        text-align: right;\n",
       "    }\n",
       "</style>\n",
       "<table border=\"1\" class=\"dataframe\">\n",
       "  <thead>\n",
       "    <tr style=\"text-align: right;\">\n",
       "      <th></th>\n",
       "      <th>zone</th>\n",
       "      <th>site</th>\n",
       "      <th>call_charge</th>\n",
       "      <th>demand</th>\n",
       "      <th>fractions_satisfied_demands</th>\n",
       "    </tr>\n",
       "  </thead>\n",
       "  <tbody>\n",
       "    <tr>\n",
       "      <th>0</th>\n",
       "      <td>zone_1</td>\n",
       "      <td>site_1</td>\n",
       "      <td>1.25</td>\n",
       "      <td>250</td>\n",
       "      <td>fractions_satisfied_demands_site_1_zone_1</td>\n",
       "    </tr>\n",
       "    <tr>\n",
       "      <th>1</th>\n",
       "      <td>zone_1</td>\n",
       "      <td>site_2</td>\n",
       "      <td>1.40</td>\n",
       "      <td>250</td>\n",
       "      <td>fractions_satisfied_demands_site_2_zone_1</td>\n",
       "    </tr>\n",
       "    <tr>\n",
       "      <th>2</th>\n",
       "      <td>zone_1</td>\n",
       "      <td>site_3</td>\n",
       "      <td>1.10</td>\n",
       "      <td>250</td>\n",
       "      <td>fractions_satisfied_demands_site_3_zone_1</td>\n",
       "    </tr>\n",
       "    <tr>\n",
       "      <th>3</th>\n",
       "      <td>zone_1</td>\n",
       "      <td>site_4</td>\n",
       "      <td>0.90</td>\n",
       "      <td>250</td>\n",
       "      <td>fractions_satisfied_demands_site_4_zone_1</td>\n",
       "    </tr>\n",
       "    <tr>\n",
       "      <th>4</th>\n",
       "      <td>zone_1</td>\n",
       "      <td>site_5</td>\n",
       "      <td>1.50</td>\n",
       "      <td>250</td>\n",
       "      <td>fractions_satisfied_demands_site_5_zone_1</td>\n",
       "    </tr>\n",
       "  </tbody>\n",
       "</table>\n",
       "</div>"
      ],
      "text/plain": [
       "     zone    site  call_charge  demand  \\\n",
       "0  zone_1  site_1         1.25     250   \n",
       "1  zone_1  site_2         1.40     250   \n",
       "2  zone_1  site_3         1.10     250   \n",
       "3  zone_1  site_4         0.90     250   \n",
       "4  zone_1  site_5         1.50     250   \n",
       "\n",
       "                 fractions_satisfied_demands  \n",
       "0  fractions_satisfied_demands_site_1_zone_1  \n",
       "1  fractions_satisfied_demands_site_2_zone_1  \n",
       "2  fractions_satisfied_demands_site_3_zone_1  \n",
       "3  fractions_satisfied_demands_site_4_zone_1  \n",
       "4  fractions_satisfied_demands_site_5_zone_1  "
      ]
     },
     "execution_count": 13,
     "metadata": {},
     "output_type": "execute_result"
    }
   ],
   "source": [
    "df= pd.merge( InputTables['charges'], InputTables['demands'] , on = 'zone', how = 'outer')\n",
    "df = pd.merge(df, fractions, on = ['zone','site'], how = 'outer')\n",
    "df.head()"
   ]
  },
  {
   "cell_type": "code",
   "execution_count": 14,
   "metadata": {},
   "outputs": [
    {
     "data": {
      "text/plain": [
       "DecisionKPI(name=total_demand_cost,expr=312.500fractions_satisfied_demands_site_1_zone_1+120fractions_sa..)"
      ]
     },
     "execution_count": 14,
     "metadata": {},
     "output_type": "execute_result"
    }
   ],
   "source": [
    "df['demand_fraction_cost'] = df['demand'] * df['call_charge'] * df['fractions_satisfied_demands']\n",
    "\n",
    "total_demand_cost = mdl.sum(df['demand_fraction_cost'])\n",
    "mdl.add_kpi(total_demand_cost   , \"total_demand_cost\")"
   ]
  },
  {
   "cell_type": "code",
   "execution_count": 15,
   "metadata": {},
   "outputs": [
    {
     "data": {
      "text/plain": [
       "DecisionKPI(name=fixed_costs,expr=2400x_is_open_site_1+7000x_is_open_site_2+3600x_is_open_site_3+1..)"
      ]
     },
     "execution_count": 15,
     "metadata": {},
     "output_type": "execute_result"
    }
   ],
   "source": [
    "df2 = pd.merge ( InputTables['fixed_costs'], sites, on = ['site'])\n",
    "fixed_costs = mdl.scal_prod( df2['x_is_open'], df2['fixed_cost'])\n",
    "\n",
    "mdl.add_kpi(fixed_costs   , \"fixed_costs\")"
   ]
  },
  {
   "cell_type": "markdown",
   "metadata": {},
   "source": [
    "# Solve"
   ]
  },
  {
   "cell_type": "code",
   "execution_count": 16,
   "metadata": {},
   "outputs": [
    {
     "name": "stdout",
     "output_type": "stream",
     "text": [
      "* model faility_location solved with objective = 10153.000\n",
      "*  KPI: total_demand_cost = 6553.000\n",
      "*  KPI: fixed_costs       = 3600.000\n"
     ]
    }
   ],
   "source": [
    "mdl.minimize(fixed_costs+total_demand_cost)\n",
    "mdl.solve()\n",
    "\n",
    "mdl.report()"
   ]
  },
  {
   "cell_type": "markdown",
   "metadata": {},
   "source": [
    "# Postprocessing"
   ]
  },
  {
   "cell_type": "code",
   "execution_count": 17,
   "metadata": {},
   "outputs": [
    {
     "data": {
      "text/html": [
       "<div>\n",
       "<style scoped>\n",
       "    .dataframe tbody tr th:only-of-type {\n",
       "        vertical-align: middle;\n",
       "    }\n",
       "\n",
       "    .dataframe tbody tr th {\n",
       "        vertical-align: top;\n",
       "    }\n",
       "\n",
       "    .dataframe thead th {\n",
       "        text-align: right;\n",
       "    }\n",
       "</style>\n",
       "<table border=\"1\" class=\"dataframe\">\n",
       "  <thead>\n",
       "    <tr style=\"text-align: right;\">\n",
       "      <th></th>\n",
       "      <th>site</th>\n",
       "      <th>x_is_open_Solution</th>\n",
       "    </tr>\n",
       "  </thead>\n",
       "  <tbody>\n",
       "    <tr>\n",
       "      <th>3</th>\n",
       "      <td>site_4</td>\n",
       "      <td>1.0</td>\n",
       "    </tr>\n",
       "    <tr>\n",
       "      <th>7</th>\n",
       "      <td>site_8</td>\n",
       "      <td>1.0</td>\n",
       "    </tr>\n",
       "  </tbody>\n",
       "</table>\n",
       "</div>"
      ],
      "text/plain": [
       "     site  x_is_open_Solution\n",
       "3  site_4                 1.0\n",
       "7  site_8                 1.0"
      ]
     },
     "execution_count": 17,
     "metadata": {},
     "output_type": "execute_result"
    }
   ],
   "source": [
    "open_sites = extract_solution(sites, extract_dvar_names=['x_is_open'], drop=True)\n",
    "open_sites=open_sites[open_sites['x_is_open_Solution']==1]\n",
    "open_sites"
   ]
  },
  {
   "cell_type": "code",
   "execution_count": 18,
   "metadata": {},
   "outputs": [
    {
     "data": {
      "text/html": [
       "<div>\n",
       "<style scoped>\n",
       "    .dataframe tbody tr th:only-of-type {\n",
       "        vertical-align: middle;\n",
       "    }\n",
       "\n",
       "    .dataframe tbody tr th {\n",
       "        vertical-align: top;\n",
       "    }\n",
       "\n",
       "    .dataframe thead th {\n",
       "        text-align: right;\n",
       "    }\n",
       "</style>\n",
       "<table border=\"1\" class=\"dataframe\">\n",
       "  <thead>\n",
       "    <tr style=\"text-align: right;\">\n",
       "      <th></th>\n",
       "      <th>site</th>\n",
       "      <th>zone</th>\n",
       "      <th>fractions_satisfied_demands_Solution</th>\n",
       "    </tr>\n",
       "  </thead>\n",
       "  <tbody>\n",
       "    <tr>\n",
       "      <th>42</th>\n",
       "      <td>site_4</td>\n",
       "      <td>zone_1</td>\n",
       "      <td>1.0</td>\n",
       "    </tr>\n",
       "    <tr>\n",
       "      <th>43</th>\n",
       "      <td>site_4</td>\n",
       "      <td>zone_2</td>\n",
       "      <td>1.0</td>\n",
       "    </tr>\n",
       "    <tr>\n",
       "      <th>45</th>\n",
       "      <td>site_4</td>\n",
       "      <td>zone_4</td>\n",
       "      <td>1.0</td>\n",
       "    </tr>\n",
       "    <tr>\n",
       "      <th>46</th>\n",
       "      <td>site_4</td>\n",
       "      <td>zone_5</td>\n",
       "      <td>1.0</td>\n",
       "    </tr>\n",
       "    <tr>\n",
       "      <th>47</th>\n",
       "      <td>site_4</td>\n",
       "      <td>zone_6</td>\n",
       "      <td>1.0</td>\n",
       "    </tr>\n",
       "    <tr>\n",
       "      <th>48</th>\n",
       "      <td>site_4</td>\n",
       "      <td>zone_7</td>\n",
       "      <td>1.0</td>\n",
       "    </tr>\n",
       "    <tr>\n",
       "      <th>100</th>\n",
       "      <td>site_8</td>\n",
       "      <td>zone_3</td>\n",
       "      <td>1.0</td>\n",
       "    </tr>\n",
       "    <tr>\n",
       "      <th>105</th>\n",
       "      <td>site_8</td>\n",
       "      <td>zone_8</td>\n",
       "      <td>1.0</td>\n",
       "    </tr>\n",
       "    <tr>\n",
       "      <th>106</th>\n",
       "      <td>site_8</td>\n",
       "      <td>zone_9</td>\n",
       "      <td>1.0</td>\n",
       "    </tr>\n",
       "    <tr>\n",
       "      <th>107</th>\n",
       "      <td>site_8</td>\n",
       "      <td>zone_10</td>\n",
       "      <td>1.0</td>\n",
       "    </tr>\n",
       "    <tr>\n",
       "      <th>108</th>\n",
       "      <td>site_8</td>\n",
       "      <td>zone_11</td>\n",
       "      <td>1.0</td>\n",
       "    </tr>\n",
       "    <tr>\n",
       "      <th>109</th>\n",
       "      <td>site_8</td>\n",
       "      <td>zone_12</td>\n",
       "      <td>1.0</td>\n",
       "    </tr>\n",
       "    <tr>\n",
       "      <th>110</th>\n",
       "      <td>site_8</td>\n",
       "      <td>zone_13</td>\n",
       "      <td>1.0</td>\n",
       "    </tr>\n",
       "    <tr>\n",
       "      <th>111</th>\n",
       "      <td>site_8</td>\n",
       "      <td>zone_14</td>\n",
       "      <td>1.0</td>\n",
       "    </tr>\n",
       "  </tbody>\n",
       "</table>\n",
       "</div>"
      ],
      "text/plain": [
       "       site     zone  fractions_satisfied_demands_Solution\n",
       "42   site_4   zone_1                                   1.0\n",
       "43   site_4   zone_2                                   1.0\n",
       "45   site_4   zone_4                                   1.0\n",
       "46   site_4   zone_5                                   1.0\n",
       "47   site_4   zone_6                                   1.0\n",
       "48   site_4   zone_7                                   1.0\n",
       "100  site_8   zone_3                                   1.0\n",
       "105  site_8   zone_8                                   1.0\n",
       "106  site_8   zone_9                                   1.0\n",
       "107  site_8  zone_10                                   1.0\n",
       "108  site_8  zone_11                                   1.0\n",
       "109  site_8  zone_12                                   1.0\n",
       "110  site_8  zone_13                                   1.0\n",
       "111  site_8  zone_14                                   1.0"
      ]
     },
     "execution_count": 18,
     "metadata": {},
     "output_type": "execute_result"
    }
   ],
   "source": [
    "fractions = extract_solution(fractions, extract_dvar_names=['fractions_satisfied_demands'], drop=True)\n",
    "fractions=fractions[fractions['fractions_satisfied_demands_Solution']>.001]  \n",
    "fractions"
   ]
  },
  {
   "cell_type": "code",
   "execution_count": 19,
   "metadata": {},
   "outputs": [
    {
     "data": {
      "text/html": [
       "<div>\n",
       "<style scoped>\n",
       "    .dataframe tbody tr th:only-of-type {\n",
       "        vertical-align: middle;\n",
       "    }\n",
       "\n",
       "    .dataframe tbody tr th {\n",
       "        vertical-align: top;\n",
       "    }\n",
       "\n",
       "    .dataframe thead th {\n",
       "        text-align: right;\n",
       "    }\n",
       "</style>\n",
       "<table border=\"1\" class=\"dataframe\">\n",
       "  <thead>\n",
       "    <tr style=\"text-align: right;\">\n",
       "      <th></th>\n",
       "      <th>site</th>\n",
       "      <th>max_capacity</th>\n",
       "      <th>min_capacity</th>\n",
       "      <th>fulfilled_demand_Solution</th>\n",
       "      <th>x_is_open_Solution</th>\n",
       "    </tr>\n",
       "  </thead>\n",
       "  <tbody>\n",
       "    <tr>\n",
       "      <th>3</th>\n",
       "      <td>site_4</td>\n",
       "      <td>5000</td>\n",
       "      <td>1500</td>\n",
       "      <td>1654.999928</td>\n",
       "      <td>1.0</td>\n",
       "    </tr>\n",
       "    <tr>\n",
       "      <th>7</th>\n",
       "      <td>site_8</td>\n",
       "      <td>5000</td>\n",
       "      <td>1500</td>\n",
       "      <td>4824.999993</td>\n",
       "      <td>1.0</td>\n",
       "    </tr>\n",
       "  </tbody>\n",
       "</table>\n",
       "</div>"
      ],
      "text/plain": [
       "     site  max_capacity  min_capacity  fulfilled_demand_Solution  \\\n",
       "3  site_4          5000          1500                1654.999928   \n",
       "7  site_8          5000          1500                4824.999993   \n",
       "\n",
       "   x_is_open_Solution  \n",
       "3                 1.0  \n",
       "7                 1.0  "
      ]
     },
     "execution_count": 19,
     "metadata": {},
     "output_type": "execute_result"
    }
   ],
   "source": [
    "used_capacity = extract_solution(fulfilled_demand_per_site, extract_dvar_names=['fulfilled_demand','x_is_open'], drop=True)\n",
    "used_capacity = used_capacity[used_capacity['x_is_open_Solution']>0.01]\n",
    "used_capacity"
   ]
  },
  {
   "cell_type": "code",
   "execution_count": 20,
   "metadata": {},
   "outputs": [],
   "source": [
    "OutputTables = {}\n",
    "OutputTables['open_sites'] = open_sites\n",
    "OutputTables['fractions'] = fractions\n",
    "OutputTables['used_capacity'] = used_capacity\n"
   ]
  },
  {
   "cell_type": "code",
   "execution_count": 21,
   "metadata": {},
   "outputs": [
    {
     "data": {
      "text/plain": [
       "''"
      ]
     },
     "execution_count": 21,
     "metadata": {},
     "output_type": "execute_result"
    }
   ],
   "source": [
    "io = {**InputTables, **OutputTables}\n",
    "writer = pd.ExcelWriter('facility_output.xlsx', engine='openpyxl') \n",
    "\n",
    "for df_name, df in io.items():\n",
    "    df.to_excel(writer, sheet_name=df_name)\n",
    "writer.close()\n",
    ";"
   ]
  },
  {
   "cell_type": "code",
   "execution_count": null,
   "metadata": {},
   "outputs": [],
   "source": []
  }
 ],
 "metadata": {
  "kernelspec": {
   "display_name": "Python 3",
   "language": "python",
   "name": "python3"
  },
  "language_info": {
   "codemirror_mode": {
    "name": "ipython",
    "version": 3
   },
   "file_extension": ".py",
   "mimetype": "text/x-python",
   "name": "python",
   "nbconvert_exporter": "python",
   "pygments_lexer": "ipython3",
   "version": "3.10.8"
  }
 },
 "nbformat": 4,
 "nbformat_minor": 2
}

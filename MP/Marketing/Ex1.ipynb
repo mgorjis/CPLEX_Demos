{
 "cells": [
  {
   "cell_type": "code",
   "execution_count": 88,
   "metadata": {},
   "outputs": [],
   "source": [
    "%reload_ext autoreload\n",
    "%autoreload 2\n",
    "\n",
    "import pandas as pd\n",
    "pd.set_option('display.max_colwidth', None)\n",
    "pd.set_option('display.max_rows', None)\n",
    "import numpy as np\n",
    "from docplex.mp.model import  Model"
   ]
  },
  {
   "cell_type": "code",
   "execution_count": 79,
   "metadata": {},
   "outputs": [
    {
     "data": {
      "text/html": [
       "<div>\n",
       "<style scoped>\n",
       "    .dataframe tbody tr th:only-of-type {\n",
       "        vertical-align: middle;\n",
       "    }\n",
       "\n",
       "    .dataframe tbody tr th {\n",
       "        vertical-align: top;\n",
       "    }\n",
       "\n",
       "    .dataframe thead th {\n",
       "        text-align: right;\n",
       "    }\n",
       "</style>\n",
       "<table border=\"1\" class=\"dataframe\">\n",
       "  <thead>\n",
       "    <tr style=\"text-align: right;\">\n",
       "      <th></th>\n",
       "      <th>channel</th>\n",
       "      <th>cost</th>\n",
       "      <th>factor</th>\n",
       "    </tr>\n",
       "  </thead>\n",
       "  <tbody>\n",
       "    <tr>\n",
       "      <th>0</th>\n",
       "      <td>gift</td>\n",
       "      <td>20.0</td>\n",
       "      <td>0.20</td>\n",
       "    </tr>\n",
       "    <tr>\n",
       "      <th>1</th>\n",
       "      <td>newsletter</td>\n",
       "      <td>15.0</td>\n",
       "      <td>0.05</td>\n",
       "    </tr>\n",
       "    <tr>\n",
       "      <th>2</th>\n",
       "      <td>seminar</td>\n",
       "      <td>23.0</td>\n",
       "      <td>0.30</td>\n",
       "    </tr>\n",
       "  </tbody>\n",
       "</table>\n",
       "</div>"
      ],
      "text/plain": [
       "      channel  cost  factor\n",
       "0        gift  20.0    0.20\n",
       "1  newsletter  15.0    0.05\n",
       "2     seminar  23.0    0.30"
      ]
     },
     "metadata": {},
     "output_type": "display_data"
    },
    {
     "data": {
      "text/html": [
       "<div>\n",
       "<style scoped>\n",
       "    .dataframe tbody tr th:only-of-type {\n",
       "        vertical-align: middle;\n",
       "    }\n",
       "\n",
       "    .dataframe tbody tr th {\n",
       "        vertical-align: top;\n",
       "    }\n",
       "\n",
       "    .dataframe thead th {\n",
       "        text-align: right;\n",
       "    }\n",
       "</style>\n",
       "<table border=\"1\" class=\"dataframe\">\n",
       "  <thead>\n",
       "    <tr style=\"text-align: right;\">\n",
       "      <th></th>\n",
       "      <th>product</th>\n",
       "      <th>value</th>\n",
       "      <th>budget_share</th>\n",
       "    </tr>\n",
       "  </thead>\n",
       "  <tbody>\n",
       "    <tr>\n",
       "      <th>0</th>\n",
       "      <td>Savings</td>\n",
       "      <td>200</td>\n",
       "      <td>0.2</td>\n",
       "    </tr>\n",
       "    <tr>\n",
       "      <th>1</th>\n",
       "      <td>Mortgage</td>\n",
       "      <td>300</td>\n",
       "      <td>0.5</td>\n",
       "    </tr>\n",
       "    <tr>\n",
       "      <th>2</th>\n",
       "      <td>Pension</td>\n",
       "      <td>400</td>\n",
       "      <td>0.3</td>\n",
       "    </tr>\n",
       "  </tbody>\n",
       "</table>\n",
       "</div>"
      ],
      "text/plain": [
       "    product value budget_share\n",
       "0   Savings   200          0.2\n",
       "1  Mortgage   300          0.5\n",
       "2   Pension   400          0.3"
      ]
     },
     "metadata": {},
     "output_type": "display_data"
    },
    {
     "data": {
      "text/html": [
       "<div>\n",
       "<style scoped>\n",
       "    .dataframe tbody tr th:only-of-type {\n",
       "        vertical-align: middle;\n",
       "    }\n",
       "\n",
       "    .dataframe tbody tr th {\n",
       "        vertical-align: top;\n",
       "    }\n",
       "\n",
       "    .dataframe thead th {\n",
       "        text-align: right;\n",
       "    }\n",
       "</style>\n",
       "<table border=\"1\" class=\"dataframe\">\n",
       "  <thead>\n",
       "    <tr style=\"text-align: right;\">\n",
       "      <th></th>\n",
       "      <th>customerid</th>\n",
       "      <th>name</th>\n",
       "    </tr>\n",
       "  </thead>\n",
       "  <tbody>\n",
       "    <tr>\n",
       "      <th>0</th>\n",
       "      <td>139987</td>\n",
       "      <td>Guadalupe J. Martinez</td>\n",
       "    </tr>\n",
       "    <tr>\n",
       "      <th>1</th>\n",
       "      <td>140030</td>\n",
       "      <td>Michelle M. Lopez</td>\n",
       "    </tr>\n",
       "  </tbody>\n",
       "</table>\n",
       "</div>"
      ],
      "text/plain": [
       "   customerid                   name\n",
       "0      139987  Guadalupe J. Martinez\n",
       "1      140030      Michelle M. Lopez"
      ]
     },
     "metadata": {},
     "output_type": "display_data"
    },
    {
     "data": {
      "text/html": [
       "<div>\n",
       "<style scoped>\n",
       "    .dataframe tbody tr th:only-of-type {\n",
       "        vertical-align: middle;\n",
       "    }\n",
       "\n",
       "    .dataframe tbody tr th {\n",
       "        vertical-align: top;\n",
       "    }\n",
       "\n",
       "    .dataframe thead th {\n",
       "        text-align: right;\n",
       "    }\n",
       "</style>\n",
       "<table border=\"1\" class=\"dataframe\">\n",
       "  <thead>\n",
       "    <tr style=\"text-align: right;\">\n",
       "      <th></th>\n",
       "      <th>customerid</th>\n",
       "      <th>Product1</th>\n",
       "      <th>Confidence1</th>\n",
       "      <th>Product2</th>\n",
       "      <th>Confidence2</th>\n",
       "    </tr>\n",
       "  </thead>\n",
       "  <tbody>\n",
       "    <tr>\n",
       "      <th>0</th>\n",
       "      <td>139987</td>\n",
       "      <td>Pension</td>\n",
       "      <td>0.13221</td>\n",
       "      <td>Mortgage</td>\n",
       "      <td>0.10675</td>\n",
       "    </tr>\n",
       "    <tr>\n",
       "      <th>1</th>\n",
       "      <td>140030</td>\n",
       "      <td>Savings</td>\n",
       "      <td>0.95678</td>\n",
       "      <td>Pension</td>\n",
       "      <td>0.84446</td>\n",
       "    </tr>\n",
       "  </tbody>\n",
       "</table>\n",
       "</div>"
      ],
      "text/plain": [
       "   customerid Product1  Confidence1  Product2  Confidence2\n",
       "0      139987  Pension      0.13221  Mortgage      0.10675\n",
       "1      140030  Savings      0.95678   Pension      0.84446"
      ]
     },
     "metadata": {},
     "output_type": "display_data"
    }
   ],
   "source": [
    "channels =  pd.DataFrame(data=[(\"gift\", 20.0, 0.20), (\"newsletter\", 15.0, 0.05), (\"seminar\", 23.0, 0.30)], columns=[\"channel\", \"cost\", \"factor\"])\n",
    "display(channels)\n",
    "\n",
    "\n",
    "products = [\"Savings\", \"Mortgage\", \"Pension\"]\n",
    "product_value = [200, 300, 400]\n",
    "budget_share = [0.2, 0.5, 0.3]\n",
    "products = pd.DataFrame([products,product_value,budget_share]).transpose()\n",
    "products.columns = ['product','value','budget_share']\n",
    "display(products)\n",
    "\n",
    "\n",
    "\n",
    "names =pd.DataFrame.from_dict( {\n",
    "    139987 : \"Guadalupe J. Martinez\", 140030 : \"Michelle M. Lopez\", 140089 : \"Terry L. Ridgley\", \n",
    "    140097 : \"Miranda B. Roush\", 139068 : \"Sandra J. Wynkoop\", 139154 : \"Roland Guérette\", 139158 : \"Fabien Mailhot\", \n",
    "    139169 : \"Christian Austerlitz\", 139220 : \"Steffen Meister\", 139261 : \"Wolfgang Sanger\",\n",
    "    139416 : \"Lee Tsou\", 139422 : \"Sanaa' Hikmah Hakimi\", 139532 : \"Miroslav Škaroupka\", \n",
    "    139549 : \"George Blomqvist\", 139560 : \"Will Henderson\", 139577 : \"Yuina Ohira\", 139580 : \"Vlad Alekseeva\", \n",
    "    139636 : \"Cassio Lombardo\", 139647 : \"Trinity Zelaya Miramontes\", 139649 : \"Eldar Muravyov\", 139665 : \"Shu T'an\", \n",
    "    139667 : \"Jameel Abdul-Ghani Gerges\", 139696 : \"Zeeb Longoria Marrero\", 139752 : \"Matheus Azevedo Melo\", \n",
    "    139832 : \"Earl B. Wood\", 139859 : \"Gabrielly Sousa Martins\", 139881 : \"Franca Palermo\"}, orient = 'index').reset_index()\n",
    "\n",
    "names.columns = ['customerid','name']\n",
    "display(names.head(2))\n",
    "\n",
    "\n",
    "offers = pd.DataFrame([(139987, \"Pension\", 0.13221, \"Mortgage\", 0.10675), (140030, \"Savings\", 0.95678, \"Pension\", 0.84446), (140089, \"Savings\", 0.95678, \"Pension\", 0.80233), \n",
    "                        (140097, \"Pension\", 0.13221, \"Mortgage\", 0.10675), (139068, \"Pension\", 0.80506, \"Savings\", 0.28391), (139154, \"Pension\", 0.13221, \"Mortgage\", 0.10675), \n",
    "                        (139158, \"Pension\", 0.13221, \"Mortgage\", 0.10675),(139169, \"Pension\", 0.13221, \"Mortgage\", 0.10675), (139220, \"Pension\", 0.13221, \"Mortgage\", 0.10675), \n",
    "                        (139261, \"Pension\", 0.13221, \"Mortgage\", 0.10675), (139416, \"Pension\", 0.13221, \"Mortgage\", 0.10675), (139422, \"Pension\", 0.13221, \"Mortgage\", 0.10675), \n",
    "                        (139532, \"Savings\", 0.95676, \"Mortgage\", 0.82269), (139549, \"Savings\", 0.16428, \"Pension\", 0.13221), (139560, \"Savings\", 0.95678, \"Pension\", 0.86779), \n",
    "                        (139577, \"Pension\", 0.13225, \"Mortgage\", 0.10675), (139580, \"Pension\", 0.13221, \"Mortgage\", 0.10675), (139636, \"Pension\", 0.13221, \"Mortgage\", 0.10675), \n",
    "                        (139647, \"Savings\", 0.28934, \"Pension\", 0.13221), (139649, \"Pension\", 0.13221, \"Mortgage\", 0.10675), (139665, \"Savings\", 0.95675, \"Pension\", 0.27248), \n",
    "                        (139667, \"Pension\", 0.13221, \"Mortgage\", 0.10675), (139696, \"Savings\", 0.16188, \"Pension\", 0.13221), (139752, \"Pension\", 0.13221, \"Mortgage\", 0.10675), \n",
    "                        (139832, \"Savings\", 0.95678, \"Pension\", 0.83426), (139859, \"Savings\", 0.95678, \"Pension\", 0.75925), (139881, \"Pension\", 0.13221, \"Mortgage\", 0.10675)],\n",
    "                        columns=[\"customerid\", \"Product1\", \"Confidence1\", \"Product2\", \"Confidence2\"])\n",
    "\n",
    "display( offers.head(2)   )  \n",
    "\n",
    "\n",
    "available_budget = 500"
   ]
  },
  {
   "cell_type": "code",
   "execution_count": 70,
   "metadata": {},
   "outputs": [],
   "source": [
    "mdl = Model(name=\"marketing_campaign\")"
   ]
  },
  {
   "cell_type": "markdown",
   "metadata": {},
   "source": [
    "#### Define the decision variables\n",
    "- The integer decision variables `channel_vars`, represent whether or not a customer will be made an offer for a particular product via a particular channel.\n",
    "- The integer decision variable `total_offers` represents the total number of offers made.\n",
    "- The continuous variable `budget_spent` represents the total cost of the offers made."
   ]
  },
  {
   "cell_type": "code",
   "execution_count": 82,
   "metadata": {},
   "outputs": [],
   "source": [
    "def continuous_var_series(df, mdl,**kargs):\n",
    "    return pd.Series(mdl.continuous_var_list(df.index, **kargs), index = df.index)\n",
    "\n",
    "class CplexSum():\n",
    "    \"\"\"Function class that adds a series of dvars into a cplex sum expression.\n",
    "    To be used as a custom aggregation in a groupby.\n",
    "    Usage:\n",
    "        df2 = df1.groupby(['a']).agg({'xDVar':CplexSum(engine.mdl)}).rename(columns={'xDVar':'expr'})\n",
    "\n",
    "    Sums the dvars in the 'xDVar' column into an expression\n",
    "    \"\"\"\n",
    "    def __init__(self, mdl):\n",
    "        self.mdl = mdl\n",
    "    def __call__(self, dvar_series):\n",
    "        return self.mdl.sum(dvar_series)"
   ]
  },
  {
   "cell_type": "code",
   "execution_count": 74,
   "metadata": {},
   "outputs": [
    {
     "data": {
      "text/html": [
       "<div>\n",
       "<style scoped>\n",
       "    .dataframe tbody tr th:only-of-type {\n",
       "        vertical-align: middle;\n",
       "    }\n",
       "\n",
       "    .dataframe tbody tr th {\n",
       "        vertical-align: top;\n",
       "    }\n",
       "\n",
       "    .dataframe thead th {\n",
       "        text-align: right;\n",
       "    }\n",
       "</style>\n",
       "<table border=\"1\" class=\"dataframe\">\n",
       "  <thead>\n",
       "    <tr style=\"text-align: right;\">\n",
       "      <th></th>\n",
       "      <th>product</th>\n",
       "      <th>channel</th>\n",
       "      <th>customerid</th>\n",
       "      <th>channel_vars</th>\n",
       "    </tr>\n",
       "  </thead>\n",
       "  <tbody>\n",
       "    <tr>\n",
       "      <th>0</th>\n",
       "      <td>Savings</td>\n",
       "      <td>gift</td>\n",
       "      <td>139987</td>\n",
       "      <td>X_offer_Savings_gift_139987</td>\n",
       "    </tr>\n",
       "    <tr>\n",
       "      <th>1</th>\n",
       "      <td>Savings</td>\n",
       "      <td>gift</td>\n",
       "      <td>140030</td>\n",
       "      <td>X_offer_Savings_gift_140030</td>\n",
       "    </tr>\n",
       "    <tr>\n",
       "      <th>2</th>\n",
       "      <td>Savings</td>\n",
       "      <td>gift</td>\n",
       "      <td>140089</td>\n",
       "      <td>X_offer_Savings_gift_140089</td>\n",
       "    </tr>\n",
       "    <tr>\n",
       "      <th>3</th>\n",
       "      <td>Savings</td>\n",
       "      <td>gift</td>\n",
       "      <td>140097</td>\n",
       "      <td>X_offer_Savings_gift_140097</td>\n",
       "    </tr>\n",
       "    <tr>\n",
       "      <th>4</th>\n",
       "      <td>Savings</td>\n",
       "      <td>gift</td>\n",
       "      <td>139068</td>\n",
       "      <td>X_offer_Savings_gift_139068</td>\n",
       "    </tr>\n",
       "  </tbody>\n",
       "</table>\n",
       "</div>"
      ],
      "text/plain": [
       "   product channel  customerid                 channel_vars\n",
       "0  Savings    gift      139987  X_offer_Savings_gift_139987\n",
       "1  Savings    gift      140030  X_offer_Savings_gift_140030\n",
       "2  Savings    gift      140089  X_offer_Savings_gift_140089\n",
       "3  Savings    gift      140097  X_offer_Savings_gift_140097\n",
       "4  Savings    gift      139068  X_offer_Savings_gift_139068"
      ]
     },
     "execution_count": 74,
     "metadata": {},
     "output_type": "execute_result"
    }
   ],
   "source": [
    "customer_offers = pd.merge (   pd.merge(products['product'],channels['channel'] , how = 'cross') , offers['customerid'], how = 'cross').set_index(['product','channel','customerid'], verify_integrity = True) \n",
    "\n",
    "customer_offers['channel_vars']= continuous_var_series(customer_offers,mdl, name = 'X_offer')\n",
    "\n",
    "customer_offers = customer_offers.reset_index(drop = False)\n",
    "\n",
    "customer_offers.head()"
   ]
  },
  {
   "cell_type": "code",
   "execution_count": 80,
   "metadata": {},
   "outputs": [
    {
     "data": {
      "text/html": [
       "<div>\n",
       "<style scoped>\n",
       "    .dataframe tbody tr th:only-of-type {\n",
       "        vertical-align: middle;\n",
       "    }\n",
       "\n",
       "    .dataframe tbody tr th {\n",
       "        vertical-align: top;\n",
       "    }\n",
       "\n",
       "    .dataframe thead th {\n",
       "        text-align: right;\n",
       "    }\n",
       "</style>\n",
       "<table border=\"1\" class=\"dataframe\">\n",
       "  <thead>\n",
       "    <tr style=\"text-align: right;\">\n",
       "      <th></th>\n",
       "      <th>product</th>\n",
       "      <th>value</th>\n",
       "      <th>budget_share</th>\n",
       "      <th>budget_per_product</th>\n",
       "    </tr>\n",
       "  </thead>\n",
       "  <tbody>\n",
       "    <tr>\n",
       "      <th>0</th>\n",
       "      <td>Savings</td>\n",
       "      <td>200</td>\n",
       "      <td>0.2</td>\n",
       "      <td>X_budget_Savings</td>\n",
       "    </tr>\n",
       "    <tr>\n",
       "      <th>1</th>\n",
       "      <td>Mortgage</td>\n",
       "      <td>300</td>\n",
       "      <td>0.5</td>\n",
       "      <td>X_budget_Mortgage</td>\n",
       "    </tr>\n",
       "    <tr>\n",
       "      <th>2</th>\n",
       "      <td>Pension</td>\n",
       "      <td>400</td>\n",
       "      <td>0.3</td>\n",
       "      <td>X_budget_Pension</td>\n",
       "    </tr>\n",
       "  </tbody>\n",
       "</table>\n",
       "</div>"
      ],
      "text/plain": [
       "    product value budget_share budget_per_product\n",
       "0   Savings   200          0.2   X_budget_Savings\n",
       "1  Mortgage   300          0.5  X_budget_Mortgage\n",
       "2   Pension   400          0.3   X_budget_Pension"
      ]
     },
     "execution_count": 80,
     "metadata": {},
     "output_type": "execute_result"
    }
   ],
   "source": [
    "products = products.set_index(['product'], verify_integrity = True)\n",
    "products['budget_per_product']= continuous_var_series(products,mdl, name = 'X_budget')\n",
    "products = products.reset_index(drop = False)\n",
    "\n",
    "products"
   ]
  },
  {
   "cell_type": "code",
   "execution_count": 81,
   "metadata": {},
   "outputs": [
    {
     "name": "stdout",
     "output_type": "stream",
     "text": [
      "Warning: Duplicate variable name: total_offers already used for docplex.mp.Var(type=I,name='total_offers')\n",
      "Warning: Duplicate variable name: spent already used for docplex.mp.Var(type=C,name='spent')\n"
     ]
    }
   ],
   "source": [
    "total_offers = mdl.integer_var(name=\"total_offers\")\n",
    "budget_spent = mdl.continuous_var(name=\"spent\")"
   ]
  },
  {
   "cell_type": "markdown",
   "metadata": {},
   "source": [
    "## Set up the constraints\n",
    "- Offer only one product per customer.\n",
    "- Compute the budget and set a maximum on it.\n",
    "- Compute the number of offers to be made."
   ]
  },
  {
   "cell_type": "markdown",
   "metadata": {},
   "source": [
    "### Only 1 product is offered to each customer     \n"
   ]
  },
  {
   "cell_type": "code",
   "execution_count": 91,
   "metadata": {},
   "outputs": [],
   "source": [
    "offer_per_customer = customer_offers[['customerid','channel_vars']].groupby('customerid').agg(CplexSum(mdl))\n",
    "\n",
    "offer_per_customer.head(1)\n",
    "\n",
    "for row in offer_per_customer.itertuples():\n",
    "    mdl.add_constraint(row.channel_vars <= 1)"
   ]
  },
  {
   "cell_type": "markdown",
   "metadata": {},
   "source": [
    "### total offers is simply sum of channel vars"
   ]
  },
  {
   "cell_type": "code",
   "execution_count": 93,
   "metadata": {},
   "outputs": [],
   "source": [
    "mdl.add( total_offers == mdl.sum(customer_offers['channel_vars']) );"
   ]
  },
  {
   "cell_type": "markdown",
   "metadata": {},
   "source": [
    "### per product budgets is equal to sum of products' budgets in different channels and persons"
   ]
  },
  {
   "cell_type": "code",
   "execution_count": 105,
   "metadata": {},
   "outputs": [
    {
     "data": {
      "text/html": [
       "<div>\n",
       "<style scoped>\n",
       "    .dataframe tbody tr th:only-of-type {\n",
       "        vertical-align: middle;\n",
       "    }\n",
       "\n",
       "    .dataframe tbody tr th {\n",
       "        vertical-align: top;\n",
       "    }\n",
       "\n",
       "    .dataframe thead th {\n",
       "        text-align: right;\n",
       "    }\n",
       "</style>\n",
       "<table border=\"1\" class=\"dataframe\">\n",
       "  <thead>\n",
       "    <tr style=\"text-align: right;\">\n",
       "      <th></th>\n",
       "      <th>product</th>\n",
       "      <th>offering_budget</th>\n",
       "      <th>value</th>\n",
       "      <th>budget_share</th>\n",
       "      <th>budget_per_product</th>\n",
       "    </tr>\n",
       "  </thead>\n",
       "  <tbody>\n",
       "    <tr>\n",
       "      <th>0</th>\n",
       "      <td>Mortgage</td>\n",
       "      <td>20X_offer_Mortgage_gift_139987+20X_offer_Mortgage_gift_140030+20X_offer_Mortgage_gift_140089+20X_offer_Mortgage_gift_140097+20X_offer_Mortgage_gift_139068+20X_offer_Mortgage_gift_139154+20X_offer_Mortgage_gift_139158+20X_offer_Mortgage_gift_139169+20X_offer_Mortgage_gift_139220+20X_offer_Mortgage_gift_139261+20X_offer_Mortgage_gift_139416+20X_offer_Mortgage_gift_139422+20X_offer_Mortgage_gift_139532+20X_offer_Mortgage_gift_139549+20X_offer_Mortgage_gift_139560+20X_offer_Mortgage_gift_139577+20X_offer_Mortgage_gift_139580+20X_offer_Mortgage_gift_139636+20X_offer_Mortgage_gift_139647+20X_offer_Mortgage_gift_139649+20X_offer_Mortgage_gift_139665+20X_offer_Mortgage_gift_139667+20X_offer_Mortgage_gift_139696+20X_offer_Mortgage_gift_139752+20X_offer_Mortgage_gift_139832+20X_offer_Mortgage_gift_139859+20X_offer_Mortgage_gift_139881+15X_offer_Mortgage_newsletter_139987+15X_offer_Mortgage_newsletter_140030+15X_offer_Mortgage_newsletter_140089+15X_offer_Mortgage_newsletter_140097+15X_offer_Mortgage_newsletter_139068+15X_offer_Mortgage_newsletter_139154+15X_offer_Mortgage_newsletter_139158+15X_offer_Mortgage_newsletter_139169+15X_offer_Mortgage_newsletter_139220+15X_offer_Mortgage_newsletter_139261+15X_offer_Mortgage_newsletter_139416+15X_offer_Mortgage_newsletter_139422+15X_offer_Mortgage_newsletter_139532+15X_offer_Mortgage_newsletter_139549+15X_offer_Mortgage_newsletter_139560+15X_offer_Mortgage_newsletter_139577+15X_offer_Mortgage_newsletter_139580+15X_offer_Mortgage_newsletter_139636+15X_offer_Mortgage_newsletter_139647+15X_offer_Mortgage_newsletter_139649+15X_offer_Mortgage_newsletter_139665+15X_offer_Mortgage_newsletter_139667+15X_offer_Mortgage_newsletter_139696+15X_offer_Mortgage_newsletter_139752+15X_offer_Mortgage_newsletter_139832+15X_offer_Mortgage_newsletter_139859+15X_offer_Mortgage_newsletter_139881+23X_offer_Mortgage_seminar_139987+23X_offer_Mortgage_seminar_140030+23X_offer_Mortgage_seminar_140089+23X_offer_Mortgage_seminar_140097+23X_offer_Mortgage_seminar_139068+23X_offer_Mortgage_seminar_139154+23X_offer_Mortgage_seminar_139158+23X_offer_Mortgage_seminar_139169+23X_offer_Mortgage_seminar_139220+23X_offer_Mortgage_seminar_139261+23X_offer_Mortgage_seminar_139416+23X_offer_Mortgage_seminar_139422+23X_offer_Mortgage_seminar_139532+23X_offer_Mortgage_seminar_139549+23X_offer_Mortgage_seminar_139560+23X_offer_Mortgage_seminar_139577+23X_offer_Mortgage_seminar_139580+23X_offer_Mortgage_seminar_139636+23X_offer_Mortgage_seminar_139647+23X_offer_Mortgage_seminar_139649+23X_offer_Mortgage_seminar_139665+23X_offer_Mortgage_seminar_139667+23X_offer_Mortgage_seminar_139696+23X_offer_Mortgage_seminar_139752+23X_offer_Mortgage_seminar_139832+23X_offer_Mortgage_seminar_139859+23X_offer_Mortgage_seminar_139881</td>\n",
       "      <td>300</td>\n",
       "      <td>0.5</td>\n",
       "      <td>X_budget_Mortgage</td>\n",
       "    </tr>\n",
       "    <tr>\n",
       "      <th>1</th>\n",
       "      <td>Pension</td>\n",
       "      <td>20X_offer_Pension_gift_139987+20X_offer_Pension_gift_140030+20X_offer_Pension_gift_140089+20X_offer_Pension_gift_140097+20X_offer_Pension_gift_139068+20X_offer_Pension_gift_139154+20X_offer_Pension_gift_139158+20X_offer_Pension_gift_139169+20X_offer_Pension_gift_139220+20X_offer_Pension_gift_139261+20X_offer_Pension_gift_139416+20X_offer_Pension_gift_139422+20X_offer_Pension_gift_139532+20X_offer_Pension_gift_139549+20X_offer_Pension_gift_139560+20X_offer_Pension_gift_139577+20X_offer_Pension_gift_139580+20X_offer_Pension_gift_139636+20X_offer_Pension_gift_139647+20X_offer_Pension_gift_139649+20X_offer_Pension_gift_139665+20X_offer_Pension_gift_139667+20X_offer_Pension_gift_139696+20X_offer_Pension_gift_139752+20X_offer_Pension_gift_139832+20X_offer_Pension_gift_139859+20X_offer_Pension_gift_139881+15X_offer_Pension_newsletter_139987+15X_offer_Pension_newsletter_140030+15X_offer_Pension_newsletter_140089+15X_offer_Pension_newsletter_140097+15X_offer_Pension_newsletter_139068+15X_offer_Pension_newsletter_139154+15X_offer_Pension_newsletter_139158+15X_offer_Pension_newsletter_139169+15X_offer_Pension_newsletter_139220+15X_offer_Pension_newsletter_139261+15X_offer_Pension_newsletter_139416+15X_offer_Pension_newsletter_139422+15X_offer_Pension_newsletter_139532+15X_offer_Pension_newsletter_139549+15X_offer_Pension_newsletter_139560+15X_offer_Pension_newsletter_139577+15X_offer_Pension_newsletter_139580+15X_offer_Pension_newsletter_139636+15X_offer_Pension_newsletter_139647+15X_offer_Pension_newsletter_139649+15X_offer_Pension_newsletter_139665+15X_offer_Pension_newsletter_139667+15X_offer_Pension_newsletter_139696+15X_offer_Pension_newsletter_139752+15X_offer_Pension_newsletter_139832+15X_offer_Pension_newsletter_139859+15X_offer_Pension_newsletter_139881+23X_offer_Pension_seminar_139987+23X_offer_Pension_seminar_140030+23X_offer_Pension_seminar_140089+23X_offer_Pension_seminar_140097+23X_offer_Pension_seminar_139068+23X_offer_Pension_seminar_139154+23X_offer_Pension_seminar_139158+23X_offer_Pension_seminar_139169+23X_offer_Pension_seminar_139220+23X_offer_Pension_seminar_139261+23X_offer_Pension_seminar_139416+23X_offer_Pension_seminar_139422+23X_offer_Pension_seminar_139532+23X_offer_Pension_seminar_139549+23X_offer_Pension_seminar_139560+23X_offer_Pension_seminar_139577+23X_offer_Pension_seminar_139580+23X_offer_Pension_seminar_139636+23X_offer_Pension_seminar_139647+23X_offer_Pension_seminar_139649+23X_offer_Pension_seminar_139665+23X_offer_Pension_seminar_139667+23X_offer_Pension_seminar_139696+23X_offer_Pension_seminar_139752+23X_offer_Pension_seminar_139832+23X_offer_Pension_seminar_139859+23X_offer_Pension_seminar_139881</td>\n",
       "      <td>400</td>\n",
       "      <td>0.3</td>\n",
       "      <td>X_budget_Pension</td>\n",
       "    </tr>\n",
       "    <tr>\n",
       "      <th>2</th>\n",
       "      <td>Savings</td>\n",
       "      <td>20X_offer_Savings_gift_139987+20X_offer_Savings_gift_140030+20X_offer_Savings_gift_140089+20X_offer_Savings_gift_140097+20X_offer_Savings_gift_139068+20X_offer_Savings_gift_139154+20X_offer_Savings_gift_139158+20X_offer_Savings_gift_139169+20X_offer_Savings_gift_139220+20X_offer_Savings_gift_139261+20X_offer_Savings_gift_139416+20X_offer_Savings_gift_139422+20X_offer_Savings_gift_139532+20X_offer_Savings_gift_139549+20X_offer_Savings_gift_139560+20X_offer_Savings_gift_139577+20X_offer_Savings_gift_139580+20X_offer_Savings_gift_139636+20X_offer_Savings_gift_139647+20X_offer_Savings_gift_139649+20X_offer_Savings_gift_139665+20X_offer_Savings_gift_139667+20X_offer_Savings_gift_139696+20X_offer_Savings_gift_139752+20X_offer_Savings_gift_139832+20X_offer_Savings_gift_139859+20X_offer_Savings_gift_139881+15X_offer_Savings_newsletter_139987+15X_offer_Savings_newsletter_140030+15X_offer_Savings_newsletter_140089+15X_offer_Savings_newsletter_140097+15X_offer_Savings_newsletter_139068+15X_offer_Savings_newsletter_139154+15X_offer_Savings_newsletter_139158+15X_offer_Savings_newsletter_139169+15X_offer_Savings_newsletter_139220+15X_offer_Savings_newsletter_139261+15X_offer_Savings_newsletter_139416+15X_offer_Savings_newsletter_139422+15X_offer_Savings_newsletter_139532+15X_offer_Savings_newsletter_139549+15X_offer_Savings_newsletter_139560+15X_offer_Savings_newsletter_139577+15X_offer_Savings_newsletter_139580+15X_offer_Savings_newsletter_139636+15X_offer_Savings_newsletter_139647+15X_offer_Savings_newsletter_139649+15X_offer_Savings_newsletter_139665+15X_offer_Savings_newsletter_139667+15X_offer_Savings_newsletter_139696+15X_offer_Savings_newsletter_139752+15X_offer_Savings_newsletter_139832+15X_offer_Savings_newsletter_139859+15X_offer_Savings_newsletter_139881+23X_offer_Savings_seminar_139987+23X_offer_Savings_seminar_140030+23X_offer_Savings_seminar_140089+23X_offer_Savings_seminar_140097+23X_offer_Savings_seminar_139068+23X_offer_Savings_seminar_139154+23X_offer_Savings_seminar_139158+23X_offer_Savings_seminar_139169+23X_offer_Savings_seminar_139220+23X_offer_Savings_seminar_139261+23X_offer_Savings_seminar_139416+23X_offer_Savings_seminar_139422+23X_offer_Savings_seminar_139532+23X_offer_Savings_seminar_139549+23X_offer_Savings_seminar_139560+23X_offer_Savings_seminar_139577+23X_offer_Savings_seminar_139580+23X_offer_Savings_seminar_139636+23X_offer_Savings_seminar_139647+23X_offer_Savings_seminar_139649+23X_offer_Savings_seminar_139665+23X_offer_Savings_seminar_139667+23X_offer_Savings_seminar_139696+23X_offer_Savings_seminar_139752+23X_offer_Savings_seminar_139832+23X_offer_Savings_seminar_139859+23X_offer_Savings_seminar_139881</td>\n",
       "      <td>200</td>\n",
       "      <td>0.2</td>\n",
       "      <td>X_budget_Savings</td>\n",
       "    </tr>\n",
       "  </tbody>\n",
       "</table>\n",
       "</div>"
      ],
      "text/plain": [
       "    product   \n",
       "0  Mortgage  \\\n",
       "1   Pension   \n",
       "2   Savings   \n",
       "\n",
       "                                                                                                                                                                                                                                                                                                                                                                                                                                                                                                                                                                                                                                                                                                                                                                                                                                                                                                                                                                                                                                                                                                                                                                                                                                                                                                                                                                                                                                                                                                                                                                                                                                                                                                                                                                                                                                                                                                                                                                                                                                                                                                                                                                                                                                                                                                                                                                                                                                                                                                                                                                                                                                                                                                                                                                                                                                                     offering_budget   \n",
       "0  20X_offer_Mortgage_gift_139987+20X_offer_Mortgage_gift_140030+20X_offer_Mortgage_gift_140089+20X_offer_Mortgage_gift_140097+20X_offer_Mortgage_gift_139068+20X_offer_Mortgage_gift_139154+20X_offer_Mortgage_gift_139158+20X_offer_Mortgage_gift_139169+20X_offer_Mortgage_gift_139220+20X_offer_Mortgage_gift_139261+20X_offer_Mortgage_gift_139416+20X_offer_Mortgage_gift_139422+20X_offer_Mortgage_gift_139532+20X_offer_Mortgage_gift_139549+20X_offer_Mortgage_gift_139560+20X_offer_Mortgage_gift_139577+20X_offer_Mortgage_gift_139580+20X_offer_Mortgage_gift_139636+20X_offer_Mortgage_gift_139647+20X_offer_Mortgage_gift_139649+20X_offer_Mortgage_gift_139665+20X_offer_Mortgage_gift_139667+20X_offer_Mortgage_gift_139696+20X_offer_Mortgage_gift_139752+20X_offer_Mortgage_gift_139832+20X_offer_Mortgage_gift_139859+20X_offer_Mortgage_gift_139881+15X_offer_Mortgage_newsletter_139987+15X_offer_Mortgage_newsletter_140030+15X_offer_Mortgage_newsletter_140089+15X_offer_Mortgage_newsletter_140097+15X_offer_Mortgage_newsletter_139068+15X_offer_Mortgage_newsletter_139154+15X_offer_Mortgage_newsletter_139158+15X_offer_Mortgage_newsletter_139169+15X_offer_Mortgage_newsletter_139220+15X_offer_Mortgage_newsletter_139261+15X_offer_Mortgage_newsletter_139416+15X_offer_Mortgage_newsletter_139422+15X_offer_Mortgage_newsletter_139532+15X_offer_Mortgage_newsletter_139549+15X_offer_Mortgage_newsletter_139560+15X_offer_Mortgage_newsletter_139577+15X_offer_Mortgage_newsletter_139580+15X_offer_Mortgage_newsletter_139636+15X_offer_Mortgage_newsletter_139647+15X_offer_Mortgage_newsletter_139649+15X_offer_Mortgage_newsletter_139665+15X_offer_Mortgage_newsletter_139667+15X_offer_Mortgage_newsletter_139696+15X_offer_Mortgage_newsletter_139752+15X_offer_Mortgage_newsletter_139832+15X_offer_Mortgage_newsletter_139859+15X_offer_Mortgage_newsletter_139881+23X_offer_Mortgage_seminar_139987+23X_offer_Mortgage_seminar_140030+23X_offer_Mortgage_seminar_140089+23X_offer_Mortgage_seminar_140097+23X_offer_Mortgage_seminar_139068+23X_offer_Mortgage_seminar_139154+23X_offer_Mortgage_seminar_139158+23X_offer_Mortgage_seminar_139169+23X_offer_Mortgage_seminar_139220+23X_offer_Mortgage_seminar_139261+23X_offer_Mortgage_seminar_139416+23X_offer_Mortgage_seminar_139422+23X_offer_Mortgage_seminar_139532+23X_offer_Mortgage_seminar_139549+23X_offer_Mortgage_seminar_139560+23X_offer_Mortgage_seminar_139577+23X_offer_Mortgage_seminar_139580+23X_offer_Mortgage_seminar_139636+23X_offer_Mortgage_seminar_139647+23X_offer_Mortgage_seminar_139649+23X_offer_Mortgage_seminar_139665+23X_offer_Mortgage_seminar_139667+23X_offer_Mortgage_seminar_139696+23X_offer_Mortgage_seminar_139752+23X_offer_Mortgage_seminar_139832+23X_offer_Mortgage_seminar_139859+23X_offer_Mortgage_seminar_139881  \\\n",
       "1                                                                                   20X_offer_Pension_gift_139987+20X_offer_Pension_gift_140030+20X_offer_Pension_gift_140089+20X_offer_Pension_gift_140097+20X_offer_Pension_gift_139068+20X_offer_Pension_gift_139154+20X_offer_Pension_gift_139158+20X_offer_Pension_gift_139169+20X_offer_Pension_gift_139220+20X_offer_Pension_gift_139261+20X_offer_Pension_gift_139416+20X_offer_Pension_gift_139422+20X_offer_Pension_gift_139532+20X_offer_Pension_gift_139549+20X_offer_Pension_gift_139560+20X_offer_Pension_gift_139577+20X_offer_Pension_gift_139580+20X_offer_Pension_gift_139636+20X_offer_Pension_gift_139647+20X_offer_Pension_gift_139649+20X_offer_Pension_gift_139665+20X_offer_Pension_gift_139667+20X_offer_Pension_gift_139696+20X_offer_Pension_gift_139752+20X_offer_Pension_gift_139832+20X_offer_Pension_gift_139859+20X_offer_Pension_gift_139881+15X_offer_Pension_newsletter_139987+15X_offer_Pension_newsletter_140030+15X_offer_Pension_newsletter_140089+15X_offer_Pension_newsletter_140097+15X_offer_Pension_newsletter_139068+15X_offer_Pension_newsletter_139154+15X_offer_Pension_newsletter_139158+15X_offer_Pension_newsletter_139169+15X_offer_Pension_newsletter_139220+15X_offer_Pension_newsletter_139261+15X_offer_Pension_newsletter_139416+15X_offer_Pension_newsletter_139422+15X_offer_Pension_newsletter_139532+15X_offer_Pension_newsletter_139549+15X_offer_Pension_newsletter_139560+15X_offer_Pension_newsletter_139577+15X_offer_Pension_newsletter_139580+15X_offer_Pension_newsletter_139636+15X_offer_Pension_newsletter_139647+15X_offer_Pension_newsletter_139649+15X_offer_Pension_newsletter_139665+15X_offer_Pension_newsletter_139667+15X_offer_Pension_newsletter_139696+15X_offer_Pension_newsletter_139752+15X_offer_Pension_newsletter_139832+15X_offer_Pension_newsletter_139859+15X_offer_Pension_newsletter_139881+23X_offer_Pension_seminar_139987+23X_offer_Pension_seminar_140030+23X_offer_Pension_seminar_140089+23X_offer_Pension_seminar_140097+23X_offer_Pension_seminar_139068+23X_offer_Pension_seminar_139154+23X_offer_Pension_seminar_139158+23X_offer_Pension_seminar_139169+23X_offer_Pension_seminar_139220+23X_offer_Pension_seminar_139261+23X_offer_Pension_seminar_139416+23X_offer_Pension_seminar_139422+23X_offer_Pension_seminar_139532+23X_offer_Pension_seminar_139549+23X_offer_Pension_seminar_139560+23X_offer_Pension_seminar_139577+23X_offer_Pension_seminar_139580+23X_offer_Pension_seminar_139636+23X_offer_Pension_seminar_139647+23X_offer_Pension_seminar_139649+23X_offer_Pension_seminar_139665+23X_offer_Pension_seminar_139667+23X_offer_Pension_seminar_139696+23X_offer_Pension_seminar_139752+23X_offer_Pension_seminar_139832+23X_offer_Pension_seminar_139859+23X_offer_Pension_seminar_139881   \n",
       "2                                                                                   20X_offer_Savings_gift_139987+20X_offer_Savings_gift_140030+20X_offer_Savings_gift_140089+20X_offer_Savings_gift_140097+20X_offer_Savings_gift_139068+20X_offer_Savings_gift_139154+20X_offer_Savings_gift_139158+20X_offer_Savings_gift_139169+20X_offer_Savings_gift_139220+20X_offer_Savings_gift_139261+20X_offer_Savings_gift_139416+20X_offer_Savings_gift_139422+20X_offer_Savings_gift_139532+20X_offer_Savings_gift_139549+20X_offer_Savings_gift_139560+20X_offer_Savings_gift_139577+20X_offer_Savings_gift_139580+20X_offer_Savings_gift_139636+20X_offer_Savings_gift_139647+20X_offer_Savings_gift_139649+20X_offer_Savings_gift_139665+20X_offer_Savings_gift_139667+20X_offer_Savings_gift_139696+20X_offer_Savings_gift_139752+20X_offer_Savings_gift_139832+20X_offer_Savings_gift_139859+20X_offer_Savings_gift_139881+15X_offer_Savings_newsletter_139987+15X_offer_Savings_newsletter_140030+15X_offer_Savings_newsletter_140089+15X_offer_Savings_newsletter_140097+15X_offer_Savings_newsletter_139068+15X_offer_Savings_newsletter_139154+15X_offer_Savings_newsletter_139158+15X_offer_Savings_newsletter_139169+15X_offer_Savings_newsletter_139220+15X_offer_Savings_newsletter_139261+15X_offer_Savings_newsletter_139416+15X_offer_Savings_newsletter_139422+15X_offer_Savings_newsletter_139532+15X_offer_Savings_newsletter_139549+15X_offer_Savings_newsletter_139560+15X_offer_Savings_newsletter_139577+15X_offer_Savings_newsletter_139580+15X_offer_Savings_newsletter_139636+15X_offer_Savings_newsletter_139647+15X_offer_Savings_newsletter_139649+15X_offer_Savings_newsletter_139665+15X_offer_Savings_newsletter_139667+15X_offer_Savings_newsletter_139696+15X_offer_Savings_newsletter_139752+15X_offer_Savings_newsletter_139832+15X_offer_Savings_newsletter_139859+15X_offer_Savings_newsletter_139881+23X_offer_Savings_seminar_139987+23X_offer_Savings_seminar_140030+23X_offer_Savings_seminar_140089+23X_offer_Savings_seminar_140097+23X_offer_Savings_seminar_139068+23X_offer_Savings_seminar_139154+23X_offer_Savings_seminar_139158+23X_offer_Savings_seminar_139169+23X_offer_Savings_seminar_139220+23X_offer_Savings_seminar_139261+23X_offer_Savings_seminar_139416+23X_offer_Savings_seminar_139422+23X_offer_Savings_seminar_139532+23X_offer_Savings_seminar_139549+23X_offer_Savings_seminar_139560+23X_offer_Savings_seminar_139577+23X_offer_Savings_seminar_139580+23X_offer_Savings_seminar_139636+23X_offer_Savings_seminar_139647+23X_offer_Savings_seminar_139649+23X_offer_Savings_seminar_139665+23X_offer_Savings_seminar_139667+23X_offer_Savings_seminar_139696+23X_offer_Savings_seminar_139752+23X_offer_Savings_seminar_139832+23X_offer_Savings_seminar_139859+23X_offer_Savings_seminar_139881   \n",
       "\n",
       "  value budget_share budget_per_product  \n",
       "0   300          0.5  X_budget_Mortgage  \n",
       "1   400          0.3   X_budget_Pension  \n",
       "2   200          0.2   X_budget_Savings  "
      ]
     },
     "metadata": {},
     "output_type": "display_data"
    }
   ],
   "source": [
    "df = pd.merge(customer_offers, channels, on = ['channel'] )\n",
    "\n",
    "df['offering_budget'] = df['channel_vars'] * df['cost']\n",
    "\n",
    "df.head(1)\n",
    "\n",
    "product_budget = df[['product','offering_budget']].groupby(['product']) .agg(CplexSum(mdl)).reset_index()\n",
    "\n",
    "df1 = pd.merge(product_budget, products, on = ['product'])\n",
    "\n",
    "display(df1)\n",
    "\n",
    "for row in df1.itertuples():\n",
    "    mdl.add_constraint(row.offering_budget == row.budget_per_product)"
   ]
  },
  {
   "cell_type": "markdown",
   "metadata": {},
   "source": [
    "### total budget is equal to sume of products' budgets"
   ]
  },
  {
   "cell_type": "code",
   "execution_count": 106,
   "metadata": {},
   "outputs": [
    {
     "data": {
      "text/plain": [
       "docplex.mp.LinearConstraint[](spent,EQ,X_budget_Savings+X_budget_Mortgage+X_budget_Pension)"
      ]
     },
     "execution_count": 106,
     "metadata": {},
     "output_type": "execute_result"
    }
   ],
   "source": [
    "mdl.add( budget_spent == mdl.sum(df1['budget_per_product']));"
   ]
  },
  {
   "cell_type": "markdown",
   "metadata": {},
   "source": [
    "### Balance the offers among products"
   ]
  },
  {
   "cell_type": "code",
   "execution_count": 112,
   "metadata": {},
   "outputs": [],
   "source": [
    "for row in df1.itertuples():\n",
    "    mdl.add_constraint(row.offering_budget <= row.budget_share *  total_offers)"
   ]
  },
  {
   "cell_type": "markdown",
   "metadata": {},
   "source": [
    "### Do not exceed the budget"
   ]
  },
  {
   "cell_type": "code",
   "execution_count": 114,
   "metadata": {},
   "outputs": [],
   "source": [
    "mdl.add_constraint( budget_spent  <= available_budget )  ;"
   ]
  },
  {
   "cell_type": "markdown",
   "metadata": {},
   "source": [
    "# KPIs"
   ]
  },
  {
   "cell_type": "markdown",
   "metadata": {},
   "source": [
    "We want to maximize the expected revenue."
   ]
  },
  {
   "cell_type": "code",
   "execution_count": 135,
   "metadata": {},
   "outputs": [
    {
     "data": {
      "text/html": [
       "<div>\n",
       "<style scoped>\n",
       "    .dataframe tbody tr th:only-of-type {\n",
       "        vertical-align: middle;\n",
       "    }\n",
       "\n",
       "    .dataframe tbody tr th {\n",
       "        vertical-align: top;\n",
       "    }\n",
       "\n",
       "    .dataframe thead th {\n",
       "        text-align: right;\n",
       "    }\n",
       "</style>\n",
       "<table border=\"1\" class=\"dataframe\">\n",
       "  <thead>\n",
       "    <tr style=\"text-align: right;\">\n",
       "      <th></th>\n",
       "      <th>product</th>\n",
       "      <th>channel</th>\n",
       "      <th>customerid</th>\n",
       "      <th>channel_vars</th>\n",
       "      <th>Product1</th>\n",
       "      <th>Confidence1</th>\n",
       "      <th>cost</th>\n",
       "      <th>factor</th>\n",
       "      <th>value</th>\n",
       "      <th>budget_share</th>\n",
       "      <th>budget_per_product</th>\n",
       "    </tr>\n",
       "  </thead>\n",
       "  <tbody>\n",
       "    <tr>\n",
       "      <th>0</th>\n",
       "      <td>Savings</td>\n",
       "      <td>gift</td>\n",
       "      <td>140030</td>\n",
       "      <td>X_offer_Savings_gift_140030</td>\n",
       "      <td>Savings</td>\n",
       "      <td>0.95678</td>\n",
       "      <td>20.0</td>\n",
       "      <td>0.2</td>\n",
       "      <td>200</td>\n",
       "      <td>0.2</td>\n",
       "      <td>X_budget_Savings</td>\n",
       "    </tr>\n",
       "    <tr>\n",
       "      <th>1</th>\n",
       "      <td>Savings</td>\n",
       "      <td>gift</td>\n",
       "      <td>140089</td>\n",
       "      <td>X_offer_Savings_gift_140089</td>\n",
       "      <td>Savings</td>\n",
       "      <td>0.95678</td>\n",
       "      <td>20.0</td>\n",
       "      <td>0.2</td>\n",
       "      <td>200</td>\n",
       "      <td>0.2</td>\n",
       "      <td>X_budget_Savings</td>\n",
       "    </tr>\n",
       "    <tr>\n",
       "      <th>2</th>\n",
       "      <td>Savings</td>\n",
       "      <td>gift</td>\n",
       "      <td>139532</td>\n",
       "      <td>X_offer_Savings_gift_139532</td>\n",
       "      <td>Savings</td>\n",
       "      <td>0.95676</td>\n",
       "      <td>20.0</td>\n",
       "      <td>0.2</td>\n",
       "      <td>200</td>\n",
       "      <td>0.2</td>\n",
       "      <td>X_budget_Savings</td>\n",
       "    </tr>\n",
       "    <tr>\n",
       "      <th>3</th>\n",
       "      <td>Savings</td>\n",
       "      <td>gift</td>\n",
       "      <td>139549</td>\n",
       "      <td>X_offer_Savings_gift_139549</td>\n",
       "      <td>Savings</td>\n",
       "      <td>0.16428</td>\n",
       "      <td>20.0</td>\n",
       "      <td>0.2</td>\n",
       "      <td>200</td>\n",
       "      <td>0.2</td>\n",
       "      <td>X_budget_Savings</td>\n",
       "    </tr>\n",
       "    <tr>\n",
       "      <th>4</th>\n",
       "      <td>Savings</td>\n",
       "      <td>gift</td>\n",
       "      <td>139560</td>\n",
       "      <td>X_offer_Savings_gift_139560</td>\n",
       "      <td>Savings</td>\n",
       "      <td>0.95678</td>\n",
       "      <td>20.0</td>\n",
       "      <td>0.2</td>\n",
       "      <td>200</td>\n",
       "      <td>0.2</td>\n",
       "      <td>X_budget_Savings</td>\n",
       "    </tr>\n",
       "  </tbody>\n",
       "</table>\n",
       "</div>"
      ],
      "text/plain": [
       "   product channel  customerid                 channel_vars Product1   \n",
       "0  Savings    gift      140030  X_offer_Savings_gift_140030  Savings  \\\n",
       "1  Savings    gift      140089  X_offer_Savings_gift_140089  Savings   \n",
       "2  Savings    gift      139532  X_offer_Savings_gift_139532  Savings   \n",
       "3  Savings    gift      139549  X_offer_Savings_gift_139549  Savings   \n",
       "4  Savings    gift      139560  X_offer_Savings_gift_139560  Savings   \n",
       "\n",
       "   Confidence1  cost  factor value budget_share budget_per_product  \n",
       "0      0.95678  20.0     0.2   200          0.2   X_budget_Savings  \n",
       "1      0.95678  20.0     0.2   200          0.2   X_budget_Savings  \n",
       "2      0.95676  20.0     0.2   200          0.2   X_budget_Savings  \n",
       "3      0.16428  20.0     0.2   200          0.2   X_budget_Savings  \n",
       "4      0.95678  20.0     0.2   200          0.2   X_budget_Savings  "
      ]
     },
     "execution_count": 135,
     "metadata": {},
     "output_type": "execute_result"
    }
   ],
   "source": [
    "df_ = pd.merge ( customer_offers, offers[['customerid','Product1','Confidence1']], left_on = ['customerid','product'], right_on =['customerid','Product1'] )\n",
    "df_ = pd.merge(df_, channels, on = ['channel'])\n",
    "df = pd.merge(df_, products, on = ['product'])\n",
    "\n",
    "df.head()"
   ]
  },
  {
   "cell_type": "code",
   "execution_count": null,
   "metadata": {},
   "outputs": [],
   "source": []
  }
 ],
 "metadata": {
  "kernelspec": {
   "display_name": "Python 3",
   "language": "python",
   "name": "python3"
  },
  "language_info": {
   "codemirror_mode": {
    "name": "ipython",
    "version": 3
   },
   "file_extension": ".py",
   "mimetype": "text/x-python",
   "name": "python",
   "nbconvert_exporter": "python",
   "pygments_lexer": "ipython3",
   "version": "3.10.8"
  },
  "orig_nbformat": 4
 },
 "nbformat": 4,
 "nbformat_minor": 2
}

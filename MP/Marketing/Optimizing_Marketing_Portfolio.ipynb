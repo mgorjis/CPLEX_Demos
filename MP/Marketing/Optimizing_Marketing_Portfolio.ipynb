{
 "cells": [
  {
   "cell_type": "code",
   "execution_count": 1,
   "metadata": {},
   "outputs": [],
   "source": [
    "%reload_ext autoreload\n",
    "%autoreload 2\n",
    "\n",
    "import pandas as pd\n",
    "import numpy as np\n",
    "from docplex.mp.model import  Model"
   ]
  },
  {
   "cell_type": "markdown",
   "metadata": {},
   "source": [
    "source: \n",
    "https://www.linkedin.com/pulse/optimizing-marketing-portfolio-through-linear-neelima-gaddam/\n",
    "\n",
    "Assume that ROI from each campaign as below: 7% from TV, 3% from Print, 15% from Mobile Advertising, 12% from SEO + Adwords, and 5% from Facebook.\n",
    "\n",
    "\n",
    "1. Production and airing the TV advertisements cost at least $500K.\n",
    "\n",
    "2. Print media should not account for more than 5% of the budget.\n",
    "    \n",
    "3. Minimum Ad agency costs for content creation and placement for Billboards, game place promotions, airport promotion cost $200K.\n",
    "    \n",
    "4. Mobile and SEO + AdWords together should account for at least 50% and that SEO+Adwords should be no more than 2.5 times the mobile marketing costs.\n",
    "    \n",
    "5. Mobile content and advertising cost anywhere between $300K and $900K.\n",
    "\n",
    "6. Facebook advertising should not exceed 15 % of the marketing spend.\n",
    "\n",
    "7. Agency costs for Facebook marketing cost at least $100K.\n",
    "\n",
    "\n",
    "It has been learnt that a $1 spent on each channel has customer reach as: Channel (# customers reached), TV (2), Print (0.3), Mobile (1.8), SEO+Adwords (0.9), Facebook (2).\n",
    "\n",
    "\n",
    "marketing budget should not exceed $5 million and there are about 2.5 million customers in the target market segment."
   ]
  },
  {
   "cell_type": "code",
   "execution_count": 8,
   "metadata": {},
   "outputs": [
    {
     "data": {
      "text/html": [
       "<div>\n",
       "<style scoped>\n",
       "    .dataframe tbody tr th:only-of-type {\n",
       "        vertical-align: middle;\n",
       "    }\n",
       "\n",
       "    .dataframe tbody tr th {\n",
       "        vertical-align: top;\n",
       "    }\n",
       "\n",
       "    .dataframe thead th {\n",
       "        text-align: right;\n",
       "    }\n",
       "</style>\n",
       "<table border=\"1\" class=\"dataframe\">\n",
       "  <thead>\n",
       "    <tr style=\"text-align: right;\">\n",
       "      <th></th>\n",
       "      <th>ROI</th>\n",
       "      <th>channel</th>\n",
       "      <th>Reach</th>\n",
       "    </tr>\n",
       "  </thead>\n",
       "  <tbody>\n",
       "    <tr>\n",
       "      <th>0</th>\n",
       "      <td>7</td>\n",
       "      <td>TV</td>\n",
       "      <td>2.0</td>\n",
       "    </tr>\n",
       "    <tr>\n",
       "      <th>1</th>\n",
       "      <td>3</td>\n",
       "      <td>Print</td>\n",
       "      <td>0.3</td>\n",
       "    </tr>\n",
       "    <tr>\n",
       "      <th>2</th>\n",
       "      <td>15</td>\n",
       "      <td>Mobile Advertising</td>\n",
       "      <td>1.8</td>\n",
       "    </tr>\n",
       "    <tr>\n",
       "      <th>3</th>\n",
       "      <td>12</td>\n",
       "      <td>SEO Adwords</td>\n",
       "      <td>0.9</td>\n",
       "    </tr>\n",
       "    <tr>\n",
       "      <th>4</th>\n",
       "      <td>5</td>\n",
       "      <td>Facebook</td>\n",
       "      <td>2.0</td>\n",
       "    </tr>\n",
       "  </tbody>\n",
       "</table>\n",
       "</div>"
      ],
      "text/plain": [
       "   ROI             channel  Reach\n",
       "0    7                  TV    2.0\n",
       "1    3               Print    0.3\n",
       "2   15  Mobile Advertising    1.8\n",
       "3   12         SEO Adwords    0.9\n",
       "4    5            Facebook    2.0"
      ]
     },
     "execution_count": 8,
     "metadata": {},
     "output_type": "execute_result"
    }
   ],
   "source": [
    "channels = pd.DataFrame( [[7 , 'TV'], [3 , 'Print'], [15 , 'Mobile Advertising'], [12 , 'SEO Adwords'], [ 5 , 'Facebook']], columns = ['ROI','channel'] )\n",
    "channels['Reach']=[2,0.3,1.8,0.9, 2]\n",
    "\n",
    "channels"
   ]
  },
  {
   "cell_type": "code",
   "execution_count": 32,
   "metadata": {},
   "outputs": [],
   "source": [
    "mdl = Model (\"Marketing\")"
   ]
  },
  {
   "cell_type": "code",
   "execution_count": 33,
   "metadata": {},
   "outputs": [
    {
     "data": {
      "text/html": [
       "<div>\n",
       "<style scoped>\n",
       "    .dataframe tbody tr th:only-of-type {\n",
       "        vertical-align: middle;\n",
       "    }\n",
       "\n",
       "    .dataframe tbody tr th {\n",
       "        vertical-align: top;\n",
       "    }\n",
       "\n",
       "    .dataframe thead th {\n",
       "        text-align: right;\n",
       "    }\n",
       "</style>\n",
       "<table border=\"1\" class=\"dataframe\">\n",
       "  <thead>\n",
       "    <tr style=\"text-align: right;\">\n",
       "      <th></th>\n",
       "      <th>ROI</th>\n",
       "      <th>channel</th>\n",
       "      <th>Reach</th>\n",
       "      <th>BudgetDV</th>\n",
       "    </tr>\n",
       "  </thead>\n",
       "  <tbody>\n",
       "    <tr>\n",
       "      <th>0</th>\n",
       "      <td>7</td>\n",
       "      <td>TV</td>\n",
       "      <td>2.0</td>\n",
       "      <td>X_Budget:TV</td>\n",
       "    </tr>\n",
       "    <tr>\n",
       "      <th>1</th>\n",
       "      <td>3</td>\n",
       "      <td>Print</td>\n",
       "      <td>0.3</td>\n",
       "      <td>X_Budget:Print</td>\n",
       "    </tr>\n",
       "    <tr>\n",
       "      <th>2</th>\n",
       "      <td>15</td>\n",
       "      <td>Mobile Advertising</td>\n",
       "      <td>1.8</td>\n",
       "      <td>X_Budget:Mobile Advertising</td>\n",
       "    </tr>\n",
       "    <tr>\n",
       "      <th>3</th>\n",
       "      <td>12</td>\n",
       "      <td>SEO Adwords</td>\n",
       "      <td>0.9</td>\n",
       "      <td>X_Budget:SEO Adwords</td>\n",
       "    </tr>\n",
       "    <tr>\n",
       "      <th>4</th>\n",
       "      <td>5</td>\n",
       "      <td>Facebook</td>\n",
       "      <td>2.0</td>\n",
       "      <td>X_Budget:Facebook</td>\n",
       "    </tr>\n",
       "  </tbody>\n",
       "</table>\n",
       "</div>"
      ],
      "text/plain": [
       "   ROI             channel  Reach                     BudgetDV\n",
       "0    7                  TV    2.0                  X_Budget:TV\n",
       "1    3               Print    0.3               X_Budget:Print\n",
       "2   15  Mobile Advertising    1.8  X_Budget:Mobile Advertising\n",
       "3   12         SEO Adwords    0.9         X_Budget:SEO Adwords\n",
       "4    5            Facebook    2.0            X_Budget:Facebook"
      ]
     },
     "execution_count": 33,
     "metadata": {},
     "output_type": "execute_result"
    }
   ],
   "source": [
    "channels['BudgetDV'] = 0\n",
    "\n",
    "for index, row in channels.iterrows():\n",
    "    dv =  mdl.continuous_var(lb = 0 , name=\"X_Budget:{}\".format(row.channel))\n",
    "    channels.at[index, 'BudgetDV']=dv\n",
    "\n",
    "\n",
    "channels\n"
   ]
  },
  {
   "cell_type": "markdown",
   "metadata": {},
   "source": [
    "Total budget should not exceed $5 Million"
   ]
  },
  {
   "cell_type": "code",
   "execution_count": 34,
   "metadata": {},
   "outputs": [
    {
     "data": {
      "text/plain": [
       "DecisionKPI(name=Total_Budgets,expr=X_Budget:TV+X_Budget:Print+X_Budget:Mobile Advertising+X_Budget:..)"
      ]
     },
     "execution_count": 34,
     "metadata": {},
     "output_type": "execute_result"
    }
   ],
   "source": [
    "Total_Budgets = mdl.sum(channels['BudgetDV'])\n",
    "\n",
    "mdl.add_kpi(Total_Budgets   , \"Total_Budgets\")"
   ]
  },
  {
   "cell_type": "code",
   "execution_count": 35,
   "metadata": {},
   "outputs": [],
   "source": [
    "mdl.add ( Total_Budgets <= 5000) ;"
   ]
  },
  {
   "cell_type": "markdown",
   "metadata": {},
   "source": [
    "TV advertising costs at least $500K"
   ]
  },
  {
   "cell_type": "code",
   "execution_count": 36,
   "metadata": {},
   "outputs": [],
   "source": [
    "mdl.add ( mdl.sum(channels[channels['channel']=='TV']['BudgetDV']) >= 500 );"
   ]
  },
  {
   "cell_type": "markdown",
   "metadata": {},
   "source": [
    "Print media not greater than 5% of the budget"
   ]
  },
  {
   "cell_type": "code",
   "execution_count": 37,
   "metadata": {},
   "outputs": [],
   "source": [
    "mdl.add ( mdl.sum(channels[channels['channel']=='Print']['BudgetDV'])<= 0.05 * Total_Budgets );"
   ]
  },
  {
   "cell_type": "markdown",
   "metadata": {},
   "source": [
    "Print media costs at least $200K "
   ]
  },
  {
   "cell_type": "code",
   "execution_count": 38,
   "metadata": {},
   "outputs": [
    {
     "data": {
      "text/plain": [
       "docplex.mp.LinearConstraint[](X_Budget:Print,GE,200)"
      ]
     },
     "execution_count": 38,
     "metadata": {},
     "output_type": "execute_result"
    }
   ],
   "source": [
    "mdl.add ( mdl.sum(channels[channels['channel']=='Print']['BudgetDV']) >= 200)"
   ]
  },
  {
   "cell_type": "markdown",
   "metadata": {},
   "source": [
    "Mobile and SEO + AdWords to account for at least 50% of budget "
   ]
  },
  {
   "cell_type": "code",
   "execution_count": 39,
   "metadata": {},
   "outputs": [],
   "source": [
    "mdl.add (  mdl.sum(  channels[channels['channel'].isin(['Mobile Advertising','SEO Adwords'])]['BudgetDV'] ) >= 0.5 * Total_Budgets  );"
   ]
  },
  {
   "cell_type": "markdown",
   "metadata": {},
   "source": [
    "SEO + AdWords to be not more than 2.5 times of Mobile"
   ]
  },
  {
   "cell_type": "code",
   "execution_count": 40,
   "metadata": {},
   "outputs": [
    {
     "data": {
      "text/plain": [
       "docplex.mp.LinearConstraint[](X_Budget:Mobile Advertising,LE,2.500X_Budget:SEO Adwords)"
      ]
     },
     "execution_count": 40,
     "metadata": {},
     "output_type": "execute_result"
    }
   ],
   "source": [
    "mdl.add (   mdl.sum( channels[channels['channel'].isin(['Mobile Advertising'])]['BudgetDV'] ) <= 2.5 * mdl.sum(channels[channels['channel']=='SEO Adwords']['BudgetDV'])  )"
   ]
  },
  {
   "cell_type": "code",
   "execution_count": 41,
   "metadata": {},
   "outputs": [],
   "source": [
    "#x3 = mdl.sum( channels[channels['channel'].isin(['Mobile Advertising','SEO Adwords'])]['BudgetDV'])\n",
    "#x4 = mdl.sum(channels[channels['channel']=='Mobile Advertising']['BudgetDV']) \n",
    "#mdl.add (  x4 <= 2.5 * x3 )"
   ]
  },
  {
   "cell_type": "markdown",
   "metadata": {},
   "source": [
    "Mobile marketing budget between $300K and $900K "
   ]
  },
  {
   "cell_type": "code",
   "execution_count": 42,
   "metadata": {},
   "outputs": [
    {
     "data": {
      "text/plain": [
       "docplex.mp.LinearConstraint[](X_Budget:SEO Adwords,LE,900)"
      ]
     },
     "execution_count": 42,
     "metadata": {},
     "output_type": "execute_result"
    }
   ],
   "source": [
    "mdl.add (300 <= mdl.sum(channels[channels['channel']=='SEO Adwords']['BudgetDV']) )\n",
    "\n",
    "mdl.add (mdl.sum(channels[channels['channel']=='SEO Adwords']['BudgetDV']) <= 900 )"
   ]
  },
  {
   "cell_type": "markdown",
   "metadata": {},
   "source": [
    "Facebook advertising costs at least $100K —> x5 >= 100K "
   ]
  },
  {
   "cell_type": "code",
   "execution_count": 43,
   "metadata": {},
   "outputs": [
    {
     "data": {
      "text/plain": [
       "docplex.mp.LinearConstraint[](X_Budget:Facebook,GE,100)"
      ]
     },
     "execution_count": 43,
     "metadata": {},
     "output_type": "execute_result"
    }
   ],
   "source": [
    "mdl.add (mdl.sum(channels[channels['channel']=='Facebook']['BudgetDV']) >= 100 )"
   ]
  },
  {
   "cell_type": "markdown",
   "metadata": {},
   "source": [
    "Reaching 2.5 million customers"
   ]
  },
  {
   "cell_type": "code",
   "execution_count": 44,
   "metadata": {},
   "outputs": [
    {
     "data": {
      "text/plain": [
       "docplex.mp.LinearConstraint[](2X_Budget:TV+0.300X_Budget:Print+1.800X_Budget:Mobile Advertising+0.900X_Budget:SEO Adwords+2X_Budget:Facebook,LE,2500)"
      ]
     },
     "execution_count": 44,
     "metadata": {},
     "output_type": "execute_result"
    }
   ],
   "source": [
    "mdl.add (  mdl.sum( channels['Reach']*channels['BudgetDV'] )  <= 2500  )"
   ]
  },
  {
   "cell_type": "code",
   "execution_count": 45,
   "metadata": {},
   "outputs": [
    {
     "data": {
      "text/plain": [
       "DecisionKPI(name=Total_Profit,expr=0.070X_Budget:TV+0.030X_Budget:Print+0.150X_Budget:Mobile Advert..)"
      ]
     },
     "execution_count": 45,
     "metadata": {},
     "output_type": "execute_result"
    }
   ],
   "source": [
    "Total_Profit = mdl.sum(channels['BudgetDV'] * channels['ROI']*0.01)\n",
    "\n",
    "mdl.add_kpi(Total_Profit   , \"Total_Profit\")"
   ]
  },
  {
   "cell_type": "code",
   "execution_count": 46,
   "metadata": {},
   "outputs": [
    {
     "name": "stdout",
     "output_type": "stream",
     "text": [
      "Version identifier: 22.1.1.0 | 2022-11-27 | 9160aff4d\n",
      "CPXPARAM_Read_DataCheck                          1\n",
      "Implied bounds make row 'c3' infeasible.\n",
      "Presolve time = 0.00 sec. (0.00 ticks)\n"
     ]
    }
   ],
   "source": [
    "mdl.maximize(Total_Profit)\n",
    "msol = mdl.solve(log_output=True)\n",
    "\n",
    "mdl.report()"
   ]
  },
  {
   "cell_type": "code",
   "execution_count": 47,
   "metadata": {},
   "outputs": [
    {
     "ename": "DOcplexException",
     "evalue": "Model<Marketing> did not solve successfully",
     "output_type": "error",
     "traceback": [
      "\u001b[1;31m---------------------------------------------------------------------------\u001b[0m",
      "\u001b[1;31mDOcplexException\u001b[0m                          Traceback (most recent call last)",
      "\u001b[1;32mc:\\Users\\m_gor\\Desktop\\OptimizationDemos\\MP\\Marketing\\Optimizing_Marketing_Portfolio.ipynb Cell 28\u001b[0m in \u001b[0;36m1\n\u001b[1;32m----> <a href='vscode-notebook-cell:/c%3A/Users/m_gor/Desktop/OptimizationDemos/MP/Marketing/Optimizing_Marketing_Portfolio.ipynb#X60sZmlsZQ%3D%3D?line=0'>1</a>\u001b[0m channels[\u001b[39m'\u001b[39m\u001b[39mBudgetDV_sol\u001b[39m\u001b[39m'\u001b[39m]\u001b[39m=\u001b[39m channels[\u001b[39m'\u001b[39;49m\u001b[39mBudgetDV\u001b[39;49m\u001b[39m'\u001b[39;49m]\u001b[39m.\u001b[39;49mapply(\u001b[39mlambda\u001b[39;49;00m x:x\u001b[39m.\u001b[39;49msolution_value)\n\u001b[0;32m      <a href='vscode-notebook-cell:/c%3A/Users/m_gor/Desktop/OptimizationDemos/MP/Marketing/Optimizing_Marketing_Portfolio.ipynb#X60sZmlsZQ%3D%3D?line=2'>3</a>\u001b[0m channels\n",
      "File \u001b[1;32mc:\\Users\\m_gor\\Python310\\lib\\site-packages\\pandas\\core\\series.py:4631\u001b[0m, in \u001b[0;36mSeries.apply\u001b[1;34m(self, func, convert_dtype, args, **kwargs)\u001b[0m\n\u001b[0;32m   4521\u001b[0m \u001b[39mdef\u001b[39;00m \u001b[39mapply\u001b[39m(\n\u001b[0;32m   4522\u001b[0m     \u001b[39mself\u001b[39m,\n\u001b[0;32m   4523\u001b[0m     func: AggFuncType,\n\u001b[1;32m   (...)\u001b[0m\n\u001b[0;32m   4526\u001b[0m     \u001b[39m*\u001b[39m\u001b[39m*\u001b[39mkwargs,\n\u001b[0;32m   4527\u001b[0m ) \u001b[39m-\u001b[39m\u001b[39m>\u001b[39m DataFrame \u001b[39m|\u001b[39m Series:\n\u001b[0;32m   4528\u001b[0m     \u001b[39m\"\"\"\u001b[39;00m\n\u001b[0;32m   4529\u001b[0m \u001b[39m    Invoke function on values of Series.\u001b[39;00m\n\u001b[0;32m   4530\u001b[0m \n\u001b[1;32m   (...)\u001b[0m\n\u001b[0;32m   4629\u001b[0m \u001b[39m    dtype: float64\u001b[39;00m\n\u001b[0;32m   4630\u001b[0m \u001b[39m    \"\"\"\u001b[39;00m\n\u001b[1;32m-> 4631\u001b[0m     \u001b[39mreturn\u001b[39;00m SeriesApply(\u001b[39mself\u001b[39;49m, func, convert_dtype, args, kwargs)\u001b[39m.\u001b[39;49mapply()\n",
      "File \u001b[1;32mc:\\Users\\m_gor\\Python310\\lib\\site-packages\\pandas\\core\\apply.py:1025\u001b[0m, in \u001b[0;36mSeriesApply.apply\u001b[1;34m(self)\u001b[0m\n\u001b[0;32m   1022\u001b[0m     \u001b[39mreturn\u001b[39;00m \u001b[39mself\u001b[39m\u001b[39m.\u001b[39mapply_str()\n\u001b[0;32m   1024\u001b[0m \u001b[39m# self.f is Callable\u001b[39;00m\n\u001b[1;32m-> 1025\u001b[0m \u001b[39mreturn\u001b[39;00m \u001b[39mself\u001b[39;49m\u001b[39m.\u001b[39;49mapply_standard()\n",
      "File \u001b[1;32mc:\\Users\\m_gor\\Python310\\lib\\site-packages\\pandas\\core\\apply.py:1076\u001b[0m, in \u001b[0;36mSeriesApply.apply_standard\u001b[1;34m(self)\u001b[0m\n\u001b[0;32m   1074\u001b[0m     \u001b[39melse\u001b[39;00m:\n\u001b[0;32m   1075\u001b[0m         values \u001b[39m=\u001b[39m obj\u001b[39m.\u001b[39mastype(\u001b[39mobject\u001b[39m)\u001b[39m.\u001b[39m_values\n\u001b[1;32m-> 1076\u001b[0m         mapped \u001b[39m=\u001b[39m lib\u001b[39m.\u001b[39;49mmap_infer(\n\u001b[0;32m   1077\u001b[0m             values,\n\u001b[0;32m   1078\u001b[0m             f,\n\u001b[0;32m   1079\u001b[0m             convert\u001b[39m=\u001b[39;49m\u001b[39mself\u001b[39;49m\u001b[39m.\u001b[39;49mconvert_dtype,\n\u001b[0;32m   1080\u001b[0m         )\n\u001b[0;32m   1082\u001b[0m \u001b[39mif\u001b[39;00m \u001b[39mlen\u001b[39m(mapped) \u001b[39mand\u001b[39;00m \u001b[39misinstance\u001b[39m(mapped[\u001b[39m0\u001b[39m], ABCSeries):\n\u001b[0;32m   1083\u001b[0m     \u001b[39m# GH#43986 Need to do list(mapped) in order to get treated as nested\u001b[39;00m\n\u001b[0;32m   1084\u001b[0m     \u001b[39m#  See also GH#25959 regarding EA support\u001b[39;00m\n\u001b[0;32m   1085\u001b[0m     \u001b[39mreturn\u001b[39;00m obj\u001b[39m.\u001b[39m_constructor_expanddim(\u001b[39mlist\u001b[39m(mapped), index\u001b[39m=\u001b[39mobj\u001b[39m.\u001b[39mindex)\n",
      "File \u001b[1;32mc:\\Users\\m_gor\\Python310\\lib\\site-packages\\pandas\\_libs\\lib.pyx:2834\u001b[0m, in \u001b[0;36mpandas._libs.lib.map_infer\u001b[1;34m()\u001b[0m\n",
      "\u001b[1;32mc:\\Users\\m_gor\\Desktop\\OptimizationDemos\\MP\\Marketing\\Optimizing_Marketing_Portfolio.ipynb Cell 28\u001b[0m in \u001b[0;36m1\n\u001b[1;32m----> <a href='vscode-notebook-cell:/c%3A/Users/m_gor/Desktop/OptimizationDemos/MP/Marketing/Optimizing_Marketing_Portfolio.ipynb#X60sZmlsZQ%3D%3D?line=0'>1</a>\u001b[0m channels[\u001b[39m'\u001b[39m\u001b[39mBudgetDV_sol\u001b[39m\u001b[39m'\u001b[39m]\u001b[39m=\u001b[39m channels[\u001b[39m'\u001b[39m\u001b[39mBudgetDV\u001b[39m\u001b[39m'\u001b[39m]\u001b[39m.\u001b[39mapply(\u001b[39mlambda\u001b[39;00m x:x\u001b[39m.\u001b[39;49msolution_value)\n\u001b[0;32m      <a href='vscode-notebook-cell:/c%3A/Users/m_gor/Desktop/OptimizationDemos/MP/Marketing/Optimizing_Marketing_Portfolio.ipynb#X60sZmlsZQ%3D%3D?line=2'>3</a>\u001b[0m channels\n",
      "File \u001b[1;32mc:\\Users\\m_gor\\Python310\\lib\\site-packages\\docplex\\mp\\dvar.py:230\u001b[0m, in \u001b[0;36mVar.solution_value\u001b[1;34m(self)\u001b[0m\n\u001b[0;32m    221\u001b[0m \u001b[39m@property\u001b[39m\n\u001b[0;32m    222\u001b[0m \u001b[39mdef\u001b[39;00m \u001b[39msolution_value\u001b[39m(\u001b[39mself\u001b[39m):\n\u001b[0;32m    223\u001b[0m     \u001b[39m\"\"\" This property returns the solution value of the variable.\u001b[39;00m\n\u001b[0;32m    224\u001b[0m \n\u001b[0;32m    225\u001b[0m \u001b[39m    Raises:\u001b[39;00m\n\u001b[1;32m   (...)\u001b[0m\n\u001b[0;32m    228\u001b[0m \n\u001b[0;32m    229\u001b[0m \u001b[39m    \"\"\"\u001b[39;00m\n\u001b[1;32m--> 230\u001b[0m     \u001b[39mself\u001b[39;49m\u001b[39m.\u001b[39;49mmodel\u001b[39m.\u001b[39;49m_check_has_solution()\n\u001b[0;32m    231\u001b[0m     \u001b[39mreturn\u001b[39;00m \u001b[39mself\u001b[39m\u001b[39m.\u001b[39m_raw_solution_value()\n",
      "File \u001b[1;32mc:\\Users\\m_gor\\Python310\\lib\\site-packages\\docplex\\mp\\model.py:5189\u001b[0m, in \u001b[0;36mModel._check_has_solution\u001b[1;34m(self)\u001b[0m\n\u001b[0;32m   5187\u001b[0m     \u001b[39mself\u001b[39m\u001b[39m.\u001b[39mfatal(\u001b[39m\"\u001b[39m\u001b[39mModel<\u001b[39m\u001b[39m{0}\u001b[39;00m\u001b[39m> has not been solved yet\u001b[39m\u001b[39m\"\u001b[39m, \u001b[39mself\u001b[39m\u001b[39m.\u001b[39mname)\n\u001b[0;32m   5188\u001b[0m \u001b[39melse\u001b[39;00m:\n\u001b[1;32m-> 5189\u001b[0m     \u001b[39mself\u001b[39;49m\u001b[39m.\u001b[39;49mfatal(\u001b[39m\"\u001b[39;49m\u001b[39mModel<\u001b[39;49m\u001b[39m{0}\u001b[39;49;00m\u001b[39m> did not solve successfully\u001b[39;49m\u001b[39m\"\u001b[39;49m, \u001b[39mself\u001b[39;49m\u001b[39m.\u001b[39;49mname)\n",
      "File \u001b[1;32mc:\\Users\\m_gor\\Python310\\lib\\site-packages\\docplex\\mp\\model.py:1080\u001b[0m, in \u001b[0;36mModel.fatal\u001b[1;34m(self, msg, *args)\u001b[0m\n\u001b[0;32m   1079\u001b[0m \u001b[39mdef\u001b[39;00m \u001b[39mfatal\u001b[39m(\u001b[39mself\u001b[39m, msg, \u001b[39m*\u001b[39margs):\n\u001b[1;32m-> 1080\u001b[0m     \u001b[39mself\u001b[39;49m\u001b[39m.\u001b[39;49m_error_handler\u001b[39m.\u001b[39;49mfatal(msg, args)\n",
      "File \u001b[1;32mc:\\Users\\m_gor\\Python310\\lib\\site-packages\\docplex\\mp\\error_handler.py:210\u001b[0m, in \u001b[0;36mAbstractErrorHandler.fatal\u001b[1;34m(self, msg, args)\u001b[0m\n\u001b[0;32m    208\u001b[0m resolved_message \u001b[39m=\u001b[39m resolve_pattern(msg, args)\n\u001b[0;32m    209\u001b[0m docplex_error_stop_here()\n\u001b[1;32m--> 210\u001b[0m \u001b[39mraise\u001b[39;00m DOcplexException(resolved_message)\n",
      "\u001b[1;31mDOcplexException\u001b[0m: Model<Marketing> did not solve successfully"
     ]
    }
   ],
   "source": [
    "channels['BudgetDV_sol']= channels['BudgetDV'].apply(lambda x:x.solution_value)\n",
    "\n",
    "channels"
   ]
  },
  {
   "cell_type": "code",
   "execution_count": 48,
   "metadata": {},
   "outputs": [
    {
     "name": "stdout",
     "output_type": "stream",
     "text": [
      "conflicts: 6\n",
      "  - linear constraints: 6\n",
      "solution for: Marketing\n",
      "objective: 189.833\n",
      "status: INFEASIBLE_SOLUTION(3)\n",
      "X_Budget:TV=500.000\n",
      "X_Budget:Print=200.000\n",
      "X_Budget:Mobile Advertising=238.889\n",
      "X_Budget:SEO Adwords=900.000\n",
      "X_Budget:Facebook=100.000\n",
      "\n"
     ]
    }
   ],
   "source": [
    "from docplex.mp.conflict_refiner import ConflictRefiner\n",
    "cr = ConflictRefiner()\n",
    "crr = cr.refine_conflict(mdl, display=True)\n",
    "\n",
    "from docplex.mp.relaxer import Relaxer\n",
    "rx = Relaxer()\n",
    "rs = rx.relax(mdl)\n",
    "print(rs)"
   ]
  },
  {
   "cell_type": "code",
   "execution_count": 107,
   "metadata": {},
   "outputs": [
    {
     "name": "stdout",
     "output_type": "stream",
     "text": [
      "Warning: Some identifiers are not valid LP identifiers: 5 (e.g.: \"X_Budget:TV\")\n",
      "\\ This file has been generated by DOcplex\n",
      "\\ ENCODING=ISO-8859-1\n",
      "\\Problem name: Marketing\n",
      "\n",
      "Maximize\n",
      " obj: 0.070000000000 x1 + 0.030000000000 x2 + 0.150000000000 x3\n",
      "      + 0.120000000000 x4 + 0.050000000000 x5\n",
      "Subject To\n",
      " c1: 2 x1 + 0.300000000000 x2 + 1.800000000000 x3 + 0.900000000000 x4 + 2 x5\n",
      "      <= 2500\n",
      " c2: x1 + x2 + x3 + x4 + x5 <= 5000\n",
      " c3: x1 >= 500\n",
      " c4: 0.950000000000 x2 - 0.050000000000 x1 - 0.050000000000 x3\n",
      "     - 0.050000000000 x4 - 0.050000000000 x5 <= 0\n",
      " c5: x2 >= 200\n",
      "\n",
      "Bounds\n",
      "End\n",
      "\n"
     ]
    }
   ],
   "source": [
    "print( mdl.export_as_lp_string() )"
   ]
  },
  {
   "cell_type": "code",
   "execution_count": null,
   "metadata": {},
   "outputs": [],
   "source": []
  },
  {
   "cell_type": "code",
   "execution_count": null,
   "metadata": {},
   "outputs": [],
   "source": []
  },
  {
   "cell_type": "code",
   "execution_count": null,
   "metadata": {},
   "outputs": [],
   "source": []
  },
  {
   "cell_type": "code",
   "execution_count": 108,
   "metadata": {},
   "outputs": [],
   "source": []
  },
  {
   "cell_type": "code",
   "execution_count": 112,
   "metadata": {},
   "outputs": [
    {
     "data": {
      "text/plain": [
       "[docplex.mp.Var(type=C,name='X_1'),\n",
       " docplex.mp.Var(type=C,name='X_2'),\n",
       " docplex.mp.Var(type=C,name='X_3'),\n",
       " docplex.mp.Var(type=C,name='X_4'),\n",
       " docplex.mp.Var(type=C,name='X_5')]"
      ]
     },
     "execution_count": 112,
     "metadata": {},
     "output_type": "execute_result"
    }
   ],
   "source": [
    "channels['BudgetDV'] = 0\n",
    "\n",
    "\n",
    "dv"
   ]
  },
  {
   "cell_type": "code",
   "execution_count": 7,
   "metadata": {},
   "outputs": [
    {
     "name": "stdout",
     "output_type": "stream",
     "text": [
      "Version identifier: 22.1.1.0 | 2022-11-27 | 9160aff4d\n",
      "CPXPARAM_Read_DataCheck                          1\n",
      "Implied bounds make row 'c3' infeasible.\n",
      "Presolve time = 0.00 sec. (0.00 ticks)\n"
     ]
    }
   ],
   "source": [
    "mdl = Model (\"Marketing\")\n",
    "dv =  mdl.continuous_var_list(keys = range(1,6) , lb = 0 , name=\"X\")\n",
    "\n",
    "mdl.add ( mdl.scal_prod(dv, [1,1,1,1,1] )<= 5000 ) \n",
    "mdl.add ( mdl.scal_prod(dv, [-1, 0, 0, 0, 0] )<= -500 ) \n",
    "mdl.add ( mdl.scal_prod(dv, [-0.05, 0.95, -0.05, -0.05, -0.05] )<= 0 ) \n",
    "mdl.add ( mdl.scal_prod(dv, [-0, -1, 0, 0, 0] )<= -200 ) \n",
    "mdl.add ( mdl.scal_prod(dv, [0.5, 0.5, -0.5, -0.5, 0.5] )<= 0 ) \n",
    "mdl.add ( mdl.scal_prod(dv, [0, 0, 1, -2.5, 0] )<= 0 ) \n",
    "mdl.add ( mdl.scal_prod(dv, [0, 0, 0, -1, 0] )<=-300 ) \n",
    "mdl.add ( mdl.scal_prod(dv, [0, 0, 0, 1, 0] )<=900 ) \n",
    "mdl.add ( mdl.scal_prod(dv, [0, 0, 0, 0, -1] )<=-100 ) \n",
    "mdl.add ( mdl.scal_prod(dv, [2, 0.3, 1.8, 0.9, 2] )<=2500 ) \n",
    "\n",
    "\n",
    "mdl.maximize(mdl.scal_prod(dv, [0.07, 0.03, 0.15, 0.12, 0.05] ))\n",
    "msol = mdl.solve(log_output=True)\n",
    "\n",
    "mdl.report()"
   ]
  },
  {
   "cell_type": "code",
   "execution_count": 27,
   "metadata": {},
   "outputs": [
    {
     "name": "stdout",
     "output_type": "stream",
     "text": [
      "conflicts: 6\n",
      "  - linear constraints: 6\n"
     ]
    }
   ],
   "source": [
    "from docplex.mp.conflict_refiner import ConflictRefiner\n",
    "cr = ConflictRefiner()\n",
    "crr = cr.refine_conflict(mdl, display=True)\n",
    "\n",
    "from docplex.mp.relaxer import Relaxer\n",
    "rx = Relaxer()\n",
    "rs = rx.relax(mdl)"
   ]
  },
  {
   "cell_type": "code",
   "execution_count": 31,
   "metadata": {},
   "outputs": [
    {
     "name": "stdout",
     "output_type": "stream",
     "text": [
      "solution for: Marketing\n",
      "objective: 189.833\n",
      "status: INFEASIBLE_SOLUTION(3)\n",
      "X_Budget:TV=500.000\n",
      "X_Budget:Print=200.000\n",
      "X_Budget:Mobile Advertising=238.889\n",
      "X_Budget:SEO Adwords=900.000\n",
      "X_Budget:Facebook=100.000\n",
      "\n"
     ]
    }
   ],
   "source": [
    "print(rs)"
   ]
  },
  {
   "cell_type": "code",
   "execution_count": 3,
   "metadata": {},
   "outputs": [
    {
     "name": "stdout",
     "output_type": "stream",
     "text": [
      "1849.2754 5000\n",
      "-500.0 -500\n",
      "2.9999999995311555e-05 0\n",
      "-97.4638 -200\n",
      "-232.1739 0\n",
      "-1993.1884 0\n",
      "-900.0 -300\n",
      "900.0 900\n",
      "-100.0 -100\n",
      "2500.00002 2500\n"
     ]
    }
   ],
   "source": [
    "def scal_prod(x,y):\n",
    "    return sum([a*b for a,b in zip(x,y)])\n",
    "\n",
    "##[i.solution_value for i in dv]\n",
    "dv = [500, 92.4638, 256.8116, 900.0000,100.0000 ]\n",
    "print(scal_prod(dv, [1,1,1,1,1] ), 5000 )\n",
    "print(scal_prod(dv, [-1, 0, 0, 0, 0] ), -500 ) \n",
    "print(scal_prod(dv, [-0.05, 0.95, -0.05, -0.05, -0.05] ), 0 ) \n",
    "print(scal_prod(dv, [-0.01, -1, 0, 0, 0] ), -200 ) \n",
    "print(scal_prod(dv, [0.5, 0.5, -0.5, -0.5, 0.5] ), 0 ) \n",
    "print(scal_prod(dv, [0, 0, 1, -2.5, 0] ), 0 ) \n",
    "print(scal_prod(dv, [0, 0, 0, -1, 0] ),-300 ) \n",
    "print(scal_prod(dv, [0, 0, 0, 1, 0] ),900 ) \n",
    "print(scal_prod(dv, [0, 0, 0, 0, -1] ),-100 ) \n",
    "print(scal_prod(dv, [2, 0.3, 1.8, 0.9, 2] ),2500 ) "
   ]
  },
  {
   "cell_type": "code",
   "execution_count": 1,
   "metadata": {},
   "outputs": [
    {
     "name": "stderr",
     "output_type": "stream",
     "text": [
      "Loading required package: lpSolve\n",
      "\n"
     ]
    },
    {
     "data": {
      "text/plain": [
       "\n",
       "\n",
       "Results of Linear Programming / Linear Optimization\n",
       "\n",
       "Objective function (Maximum): 189.296 \n",
       "\n",
       "Iterations in phase 1: 7\n",
       "Iterations in phase 2: 0\n",
       "Solution\n",
       "       opt\n",
       "1 500.0000\n",
       "2  92.4638\n",
       "3 256.8116\n",
       "4 900.0000\n",
       "5 100.0000\n",
       "\n",
       "Basic Variables\n",
       "          opt\n",
       "1    500.0000\n",
       "2     92.4638\n",
       "3    256.8116\n",
       "4    900.0000\n",
       "5    100.0000\n",
       "S 1 3150.7246\n",
       "S 4  107.5362\n",
       "S 5  232.1739\n",
       "S 6 1993.1884\n",
       "S 7  600.0000\n",
       "\n",
       "Constraints\n",
       "      actual dir bvec     free       dual  dual.reg\n",
       "1   1849.275  <= 5000 3150.725 0.00000000 3150.7246\n",
       "2   -500.000  <= -500    0.000 0.09669565  220.6612\n",
       "3      0.000  <=    0    0.000 0.00521739   88.6111\n",
       "4   -307.536  <= -200  107.536 0.00000000  107.5362\n",
       "5   -232.174  <=    0  232.174 0.00000000  232.1739\n",
       "6  -1993.188  <=    0 1993.188 0.00000000 1993.1884\n",
       "7   -900.000  <= -300  600.000 0.00000000  600.0000\n",
       "8    900.000  <=  900    0.000 0.04513043  600.0000\n",
       "9   -100.000  <= -100    0.000 0.11669565  220.6612\n",
       "10  2500.000  <= 2500    0.000 0.08347826  466.3158\n",
       "\n",
       "All Variables (including slack variables)\n",
       "           opt cvec      min.c      max.c        marg marg.reg\n",
       "1     500.0000 0.07       -Inf 0.16669565          NA       NA\n",
       "2      92.4638 0.03  0.0250000        Inf          NA       NA\n",
       "3     256.8116 0.15  0.0628982 0.18000000          NA       NA\n",
       "4     900.0000 0.12  0.0748696        Inf          NA       NA\n",
       "5     100.0000 0.05       -Inf 0.16669565          NA       NA\n",
       "S 1  3150.7246 0.00         NA 0.00600000  0.00000000       NA\n",
       "S 2     0.0000 0.00       -Inf 0.09669565 -0.09669565 220.6612\n",
       "S 3     0.0000 0.00       -Inf 0.00521739 -0.00521739  88.6111\n",
       "S 4   107.5362 0.00         NA 0.00500000  0.00000000       NA\n",
       "S 5   232.1739 0.00 -0.0919008 0.00857143  0.00000000       NA\n",
       "S 6  1993.1884 0.00 -0.0150217 0.08710183  0.00000000       NA\n",
       "S 7   600.0000 0.00 -0.0451304        Inf  0.00000000       NA\n",
       "S 8     0.0000 0.00       -Inf 0.04513044 -0.04513044 600.0000\n",
       "S 9     0.0000 0.00       -Inf 0.11669565 -0.11669565 220.6612\n",
       "S 10    0.0000 0.00       -Inf 0.08347826 -0.08347826 466.3158\n"
      ]
     },
     "metadata": {},
     "output_type": "display_data"
    }
   ],
   "source": [
    "library(linprog)\n",
    " \n",
    "Max_ROI <- c(0.07, 0.03, 0.15, 0.12, 0.05) #Objective Function\n",
    " \n",
    "Contraint_Vector <- c(5000, -500, 0, -200, 0, 0, -300, 900, -100, 2500) #Constraints\n",
    "\n",
    "#Decision variables under constraints \n",
    "Decision_Var <- rbind(\n",
    "  c(1,1,1,1,1), \n",
    "  c(-1, 0, 0, 0, 0), \n",
    "  c(-0.05, 0.95, -0.05, -0.05, -0.05), \n",
    "  c(-0, -1, 0, 0, 0), \n",
    "  c(0.5, 0.5, -0.5, -0.5, 0.5), \n",
    "  c(0, 0, 1, -2.5, 0), \n",
    "  c(0, 0, 0, -1, 0), \n",
    "  c(0, 0, 0, 1, 0), \n",
    "  c(0, 0, 0, 0, -1),\n",
    "  c(2, 0.3, 1.8, 0.9, 2)\n",
    ")\n",
    " \n",
    "solveLP(Max_ROI, Contraint_Vector, Decision_Var, TRUE)"
   ]
  },
  {
   "cell_type": "code",
   "execution_count": null,
   "metadata": {},
   "outputs": [],
   "source": []
  }
 ],
 "metadata": {
  "kernelspec": {
   "display_name": "Python 3",
   "language": "python",
   "name": "python3"
  },
  "language_info": {
   "codemirror_mode": {
    "name": "ipython",
    "version": 3
   },
   "file_extension": ".py",
   "mimetype": "text/x-python",
   "name": "python",
   "nbconvert_exporter": "python",
   "pygments_lexer": "ipython3",
   "version": "3.10.8"
  },
  "orig_nbformat": 4
 },
 "nbformat": 4,
 "nbformat_minor": 2
}

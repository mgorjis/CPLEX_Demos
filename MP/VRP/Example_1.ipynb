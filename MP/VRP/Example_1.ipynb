{
 "cells": [
  {
   "cell_type": "code",
   "execution_count": 1,
   "metadata": {},
   "outputs": [
    {
     "name": "stdout",
     "output_type": "stream",
     "text": [
      "Defaulting to user installation because normal site-packages is not writeable\n",
      "Requirement already satisfied: dse_do_utils in c:\\users\\python38\\lib\\site-packages (0.5.4.1)\n",
      "Note: you may need to restart the kernel to use updated packages.\n"
     ]
    }
   ],
   "source": [
    "%pip install dse_do_utils"
   ]
  },
  {
   "cell_type": "code",
   "execution_count": 1,
   "metadata": {},
   "outputs": [],
   "source": [
    "def continuous_var_series(df, mdl,**kargs):\n",
    "    return pd.Series(mdl.continuous_var_list(df.index, **kargs), index = df.index)\n",
    "\n",
    "def binary_var_series(df, mdl,**kargs):\n",
    "    return pd.Series(mdl.binary_var_list(df.index, **kargs), index = df.index)\n",
    "\n",
    "def integer_var_series(df, mdl,**kargs):\n",
    "    '''Create a Series of integer dvar for each row in the DF. Most effective method. Best practice.\n",
    "    Result can be assigned to a column of the df.\n",
    "    Usage:\n",
    "        df['xDVar'] = mdl.integer_var_series(df, name = 'xDVar')\n",
    "    Args:\n",
    "        mdl: CPLEX Model\n",
    "        df: DataFrame\n",
    "        **kargs: arguments passed to mdl.integer_var_list method. E.g. 'name'\n",
    "        \n",
    "    :returns: pandas.Series with integer dvars, index matches index of df\n",
    "    '''\n",
    "    #We are re-using the index from the DF index:\n",
    "    return pd.Series(mdl.integer_var_list(df.index, **kargs), index = df.index)"
   ]
  },
  {
   "cell_type": "code",
   "execution_count": 2,
   "metadata": {},
   "outputs": [],
   "source": [
    "import matplotlib.pyplot as plt\n",
    "%matplotlib inline\n",
    "\n",
    "plt.rcParams['figure.figsize'] = [4.5, 3]\n",
    "plt.rcParams['figure.dpi'] = 100 # 200 e.g. is really fine, but slower\n",
    "import numpy as np\n",
    "import pandas as pd\n",
    "\n",
    "from dse_do_utils import OptimizationEngine,ScenarioManager\n",
    "import docplex.mp\n",
    "from docplex.mp.model import Model"
   ]
  },
  {
   "cell_type": "code",
   "execution_count": 3,
   "metadata": {},
   "outputs": [],
   "source": [
    "MODEL_NAME = 'ToyVRP'\n",
    "SCENARIO_NAME = 'scenario_1' \n",
    "sm = ScenarioManager(model_name=MODEL_NAME, scenario_name=SCENARIO_NAME)\n",
    "\n",
    "sm.InputTables={}"
   ]
  },
  {
   "cell_type": "code",
   "execution_count": 4,
   "metadata": {},
   "outputs": [],
   "source": [
    "number_of_clientes = 4\n",
    "number_of_depots = 1\n",
    "number_of_locations = number_of_clientes + number_of_depots\n",
    "number_of_trucks = 1\n",
    "Truck_capacity= 20"
   ]
  },
  {
   "cell_type": "code",
   "execution_count": 5,
   "metadata": {},
   "outputs": [
    {
     "data": {
      "text/html": [
       "<div>\n",
       "<style scoped>\n",
       "    .dataframe tbody tr th:only-of-type {\n",
       "        vertical-align: middle;\n",
       "    }\n",
       "\n",
       "    .dataframe tbody tr th {\n",
       "        vertical-align: top;\n",
       "    }\n",
       "\n",
       "    .dataframe thead th {\n",
       "        text-align: right;\n",
       "    }\n",
       "</style>\n",
       "<table border=\"1\" class=\"dataframe\">\n",
       "  <thead>\n",
       "    <tr style=\"text-align: right;\">\n",
       "      <th></th>\n",
       "      <th>Name</th>\n",
       "      <th>Quantity</th>\n",
       "    </tr>\n",
       "  </thead>\n",
       "  <tbody>\n",
       "    <tr>\n",
       "      <th>0</th>\n",
       "      <td>Client_1</td>\n",
       "      <td>3</td>\n",
       "    </tr>\n",
       "    <tr>\n",
       "      <th>1</th>\n",
       "      <td>Client_2</td>\n",
       "      <td>8</td>\n",
       "    </tr>\n",
       "    <tr>\n",
       "      <th>2</th>\n",
       "      <td>Client_3</td>\n",
       "      <td>3</td>\n",
       "    </tr>\n",
       "    <tr>\n",
       "      <th>3</th>\n",
       "      <td>Client_4</td>\n",
       "      <td>2</td>\n",
       "    </tr>\n",
       "  </tbody>\n",
       "</table>\n",
       "</div>"
      ],
      "text/plain": [
       "       Name  Quantity\n",
       "0  Client_1         3\n",
       "1  Client_2         8\n",
       "2  Client_3         3\n",
       "3  Client_4         2"
      ]
     },
     "metadata": {},
     "output_type": "display_data"
    },
    {
     "data": {
      "text/html": [
       "<div>\n",
       "<style scoped>\n",
       "    .dataframe tbody tr th:only-of-type {\n",
       "        vertical-align: middle;\n",
       "    }\n",
       "\n",
       "    .dataframe tbody tr th {\n",
       "        vertical-align: top;\n",
       "    }\n",
       "\n",
       "    .dataframe thead th {\n",
       "        text-align: right;\n",
       "    }\n",
       "</style>\n",
       "<table border=\"1\" class=\"dataframe\">\n",
       "  <thead>\n",
       "    <tr style=\"text-align: right;\">\n",
       "      <th></th>\n",
       "      <th>Name</th>\n",
       "    </tr>\n",
       "  </thead>\n",
       "  <tbody>\n",
       "    <tr>\n",
       "      <th>0</th>\n",
       "      <td>Depot_1</td>\n",
       "    </tr>\n",
       "  </tbody>\n",
       "</table>\n",
       "</div>"
      ],
      "text/plain": [
       "      Name\n",
       "0  Depot_1"
      ]
     },
     "metadata": {},
     "output_type": "display_data"
    },
    {
     "data": {
      "text/html": [
       "<div>\n",
       "<style scoped>\n",
       "    .dataframe tbody tr th:only-of-type {\n",
       "        vertical-align: middle;\n",
       "    }\n",
       "\n",
       "    .dataframe tbody tr th {\n",
       "        vertical-align: top;\n",
       "    }\n",
       "\n",
       "    .dataframe thead th {\n",
       "        text-align: right;\n",
       "    }\n",
       "</style>\n",
       "<table border=\"1\" class=\"dataframe\">\n",
       "  <thead>\n",
       "    <tr style=\"text-align: right;\">\n",
       "      <th></th>\n",
       "      <th>Name</th>\n",
       "      <th>Latitude</th>\n",
       "      <th>Longitude</th>\n",
       "      <th>Type</th>\n",
       "    </tr>\n",
       "  </thead>\n",
       "  <tbody>\n",
       "    <tr>\n",
       "      <th>0</th>\n",
       "      <td>Client_1</td>\n",
       "      <td>99.514671</td>\n",
       "      <td>40.861946</td>\n",
       "      <td>Client</td>\n",
       "    </tr>\n",
       "    <tr>\n",
       "      <th>1</th>\n",
       "      <td>Client_2</td>\n",
       "      <td>46.497226</td>\n",
       "      <td>54.695061</td>\n",
       "      <td>Client</td>\n",
       "    </tr>\n",
       "    <tr>\n",
       "      <th>2</th>\n",
       "      <td>Client_3</td>\n",
       "      <td>117.346835</td>\n",
       "      <td>99.431327</td>\n",
       "      <td>Client</td>\n",
       "    </tr>\n",
       "    <tr>\n",
       "      <th>3</th>\n",
       "      <td>Client_4</td>\n",
       "      <td>88.177665</td>\n",
       "      <td>1.412681</td>\n",
       "      <td>Client</td>\n",
       "    </tr>\n",
       "    <tr>\n",
       "      <th>4</th>\n",
       "      <td>Depot_1</td>\n",
       "      <td>45.680807</td>\n",
       "      <td>31.018604</td>\n",
       "      <td>Depot</td>\n",
       "    </tr>\n",
       "  </tbody>\n",
       "</table>\n",
       "</div>"
      ],
      "text/plain": [
       "       Name    Latitude  Longitude    Type\n",
       "0  Client_1   99.514671  40.861946  Client\n",
       "1  Client_2   46.497226  54.695061  Client\n",
       "2  Client_3  117.346835  99.431327  Client\n",
       "3  Client_4   88.177665   1.412681  Client\n",
       "4   Depot_1   45.680807  31.018604   Depot"
      ]
     },
     "metadata": {},
     "output_type": "display_data"
    },
    {
     "data": {
      "text/html": [
       "<div>\n",
       "<style scoped>\n",
       "    .dataframe tbody tr th:only-of-type {\n",
       "        vertical-align: middle;\n",
       "    }\n",
       "\n",
       "    .dataframe tbody tr th {\n",
       "        vertical-align: top;\n",
       "    }\n",
       "\n",
       "    .dataframe thead th {\n",
       "        text-align: right;\n",
       "    }\n",
       "</style>\n",
       "<table border=\"1\" class=\"dataframe\">\n",
       "  <thead>\n",
       "    <tr style=\"text-align: right;\">\n",
       "      <th></th>\n",
       "      <th>Name</th>\n",
       "      <th>Capacity</th>\n",
       "    </tr>\n",
       "  </thead>\n",
       "  <tbody>\n",
       "    <tr>\n",
       "      <th>0</th>\n",
       "      <td>Truck_1</td>\n",
       "      <td>20</td>\n",
       "    </tr>\n",
       "  </tbody>\n",
       "</table>\n",
       "</div>"
      ],
      "text/plain": [
       "      Name  Capacity\n",
       "0  Truck_1        20"
      ]
     },
     "metadata": {},
     "output_type": "display_data"
    }
   ],
   "source": [
    "Demand = pd.DataFrame([])\n",
    "Demand[\"Name\"] = [\"Client_\" +str(i) for i in range(1,number_of_clientes+1)]\n",
    "Demand[\"Quantity\"]  = [np.random.randint(1, 10) for i in range(1,number_of_clientes+1)]\n",
    "display(Demand.head())\n",
    "\n",
    "Depots = pd.DataFrame([])\n",
    "Depots[\"Name\"]=[\"Depot_\" +str(i) for i in range(1,number_of_depots+1)]\n",
    "display(Depots.head())\n",
    "\n",
    "Locations = pd.DataFrame([])\n",
    "Locations[\"Name\"] = np.concatenate([Demand[\"Name\"].values , Depots[\"Name\"].values])\n",
    "Locations[\"Latitude\"] = np.random.rand(number_of_locations)*200\n",
    "Locations[\"Longitude\"] = np.random.rand(number_of_locations)*100\n",
    "Locations[\"Type\"]= [\"Client\" for i in range(0,number_of_clientes)] + [\"Depot\" for i in range(0,number_of_depots)] \n",
    "display(Locations.head())\n",
    "\n",
    "\n",
    "Trucks = pd.DataFrame([])\n",
    "Trucks[\"Name\"] = [\"Truck_\" +str(i) for i in range(1,number_of_trucks+1)]\n",
    "Trucks[\"Capacity\"] = Truck_capacity\n",
    "display(Trucks.head())\n",
    "\n",
    "\n",
    "sm.InputTables['Demand']=Demand\n",
    "sm.InputTables['Depots']=Depots\n",
    "sm.InputTables['Locations']=Locations\n",
    "sm.InputTables['Trucks']=Trucks"
   ]
  },
  {
   "cell_type": "code",
   "execution_count": 6,
   "metadata": {},
   "outputs": [
    {
     "data": {
      "text/html": [
       "<div>\n",
       "<style scoped>\n",
       "    .dataframe tbody tr th:only-of-type {\n",
       "        vertical-align: middle;\n",
       "    }\n",
       "\n",
       "    .dataframe tbody tr th {\n",
       "        vertical-align: top;\n",
       "    }\n",
       "\n",
       "    .dataframe thead th {\n",
       "        text-align: right;\n",
       "    }\n",
       "</style>\n",
       "<table border=\"1\" class=\"dataframe\">\n",
       "  <thead>\n",
       "    <tr style=\"text-align: right;\">\n",
       "      <th></th>\n",
       "      <th>Origin</th>\n",
       "      <th>Destination</th>\n",
       "      <th>Distance</th>\n",
       "    </tr>\n",
       "  </thead>\n",
       "  <tbody>\n",
       "    <tr>\n",
       "      <th>0</th>\n",
       "      <td>Client_1</td>\n",
       "      <td>Client_2</td>\n",
       "      <td>54.792376</td>\n",
       "    </tr>\n",
       "    <tr>\n",
       "      <th>1</th>\n",
       "      <td>Client_1</td>\n",
       "      <td>Client_3</td>\n",
       "      <td>61.223839</td>\n",
       "    </tr>\n",
       "    <tr>\n",
       "      <th>2</th>\n",
       "      <td>Client_1</td>\n",
       "      <td>Client_4</td>\n",
       "      <td>41.045977</td>\n",
       "    </tr>\n",
       "  </tbody>\n",
       "</table>\n",
       "</div>"
      ],
      "text/plain": [
       "     Origin Destination   Distance\n",
       "0  Client_1    Client_2  54.792376\n",
       "1  Client_1    Client_3  61.223839\n",
       "2  Client_1    Client_4  41.045977"
      ]
     },
     "metadata": {},
     "output_type": "display_data"
    }
   ],
   "source": [
    "All = []\n",
    "for i in Locations[\"Name\"]:\n",
    "    for j in Locations[\"Name\"]:\n",
    "        if i!=j:\n",
    "            Origin= Locations[Locations[\"Name\"]==i] \n",
    "            Destination= Locations[Locations[\"Name\"]==j] \n",
    "            \n",
    "            distance = np.hypot(  Destination[\"Latitude\"].values[0] - Origin[\"Latitude\"].values[0] ,  Destination[\"Longitude\"].values[0] - Origin[\"Longitude\"].values[0])\n",
    "            All.append([i,j,distance])\n",
    "Distances  = pd.DataFrame(All, columns = [\"Origin\",\"Destination\",'Distance'])   \n",
    "display(Distances.head(3))\n",
    "\n",
    "sm.InputTables['Distances']=Distances"
   ]
  },
  {
   "cell_type": "code",
   "execution_count": 7,
   "metadata": {},
   "outputs": [
    {
     "data": {
      "text/plain": [
       "dict_keys(['Demand', 'Depots', 'Locations', 'Trucks', 'Distances'])"
      ]
     },
     "execution_count": null,
     "metadata": {},
     "output_type": "execute_result"
    }
   ],
   "source": [
    "sm.InputTables.keys()"
   ]
  },
  {
   "cell_type": "code",
   "execution_count": 8,
   "metadata": {},
   "outputs": [],
   "source": [
    "\n",
    "mdl = Model(name='Toy_VRP')"
   ]
  },
  {
   "cell_type": "code",
   "execution_count": 9,
   "metadata": {},
   "outputs": [
    {
     "data": {
      "text/html": [
       "<div>\n",
       "<style scoped>\n",
       "    .dataframe tbody tr th:only-of-type {\n",
       "        vertical-align: middle;\n",
       "    }\n",
       "\n",
       "    .dataframe tbody tr th {\n",
       "        vertical-align: top;\n",
       "    }\n",
       "\n",
       "    .dataframe thead th {\n",
       "        text-align: right;\n",
       "    }\n",
       "</style>\n",
       "<table border=\"1\" class=\"dataframe\">\n",
       "  <thead>\n",
       "    <tr style=\"text-align: right;\">\n",
       "      <th></th>\n",
       "      <th></th>\n",
       "      <th>Distance</th>\n",
       "      <th>xPath</th>\n",
       "    </tr>\n",
       "    <tr>\n",
       "      <th>Origin</th>\n",
       "      <th>Destination</th>\n",
       "      <th></th>\n",
       "      <th></th>\n",
       "    </tr>\n",
       "  </thead>\n",
       "  <tbody>\n",
       "    <tr>\n",
       "      <th rowspan=\"4\" valign=\"top\">Client_1</th>\n",
       "      <th>Client_2</th>\n",
       "      <td>54.792376</td>\n",
       "      <td>x_Client_1_Client_2</td>\n",
       "    </tr>\n",
       "    <tr>\n",
       "      <th>Client_3</th>\n",
       "      <td>61.223839</td>\n",
       "      <td>x_Client_1_Client_3</td>\n",
       "    </tr>\n",
       "    <tr>\n",
       "      <th>Client_4</th>\n",
       "      <td>41.045977</td>\n",
       "      <td>x_Client_1_Client_4</td>\n",
       "    </tr>\n",
       "    <tr>\n",
       "      <th>Depot_1</th>\n",
       "      <td>54.726376</td>\n",
       "      <td>x_Client_1_Depot_1</td>\n",
       "    </tr>\n",
       "    <tr>\n",
       "      <th>Client_2</th>\n",
       "      <th>Client_1</th>\n",
       "      <td>54.792376</td>\n",
       "      <td>x_Client_2_Client_1</td>\n",
       "    </tr>\n",
       "  </tbody>\n",
       "</table>\n",
       "</div>"
      ],
      "text/plain": [
       "                       Distance                xPath\n",
       "Origin   Destination                                \n",
       "Client_1 Client_2     54.792376  x_Client_1_Client_2\n",
       "         Client_3     61.223839  x_Client_1_Client_3\n",
       "         Client_4     41.045977  x_Client_1_Client_4\n",
       "         Depot_1      54.726376   x_Client_1_Depot_1\n",
       "Client_2 Client_1     54.792376  x_Client_2_Client_1"
      ]
     },
     "execution_count": null,
     "metadata": {},
     "output_type": "execute_result"
    }
   ],
   "source": [
    "Paths = sm.InputTables['Distances']\n",
    "Paths= Paths.set_index([\"Origin\",\"Destination\"])\n",
    "Paths[\"xPath\"] = binary_var_series(Paths, mdl,name = 'x')\n",
    "\n",
    "Paths.head()"
   ]
  },
  {
   "cell_type": "code",
   "execution_count": 10,
   "metadata": {},
   "outputs": [
    {
     "data": {
      "text/html": [
       "<div>\n",
       "<style scoped>\n",
       "    .dataframe tbody tr th:only-of-type {\n",
       "        vertical-align: middle;\n",
       "    }\n",
       "\n",
       "    .dataframe tbody tr th {\n",
       "        vertical-align: top;\n",
       "    }\n",
       "\n",
       "    .dataframe thead th {\n",
       "        text-align: right;\n",
       "    }\n",
       "</style>\n",
       "<table border=\"1\" class=\"dataframe\">\n",
       "  <thead>\n",
       "    <tr style=\"text-align: right;\">\n",
       "      <th></th>\n",
       "      <th>Quantity</th>\n",
       "      <th>Cum_Demand</th>\n",
       "    </tr>\n",
       "    <tr>\n",
       "      <th>Name</th>\n",
       "      <th></th>\n",
       "      <th></th>\n",
       "    </tr>\n",
       "  </thead>\n",
       "  <tbody>\n",
       "    <tr>\n",
       "      <th>Client_1</th>\n",
       "      <td>3</td>\n",
       "      <td>CD_Client_1</td>\n",
       "    </tr>\n",
       "    <tr>\n",
       "      <th>Client_2</th>\n",
       "      <td>8</td>\n",
       "      <td>CD_Client_2</td>\n",
       "    </tr>\n",
       "    <tr>\n",
       "      <th>Client_3</th>\n",
       "      <td>3</td>\n",
       "      <td>CD_Client_3</td>\n",
       "    </tr>\n",
       "    <tr>\n",
       "      <th>Client_4</th>\n",
       "      <td>2</td>\n",
       "      <td>CD_Client_4</td>\n",
       "    </tr>\n",
       "  </tbody>\n",
       "</table>\n",
       "</div>"
      ],
      "text/plain": [
       "          Quantity   Cum_Demand\n",
       "Name                           \n",
       "Client_1         3  CD_Client_1\n",
       "Client_2         8  CD_Client_2\n",
       "Client_3         3  CD_Client_3\n",
       "Client_4         2  CD_Client_4"
      ]
     },
     "execution_count": null,
     "metadata": {},
     "output_type": "execute_result"
    }
   ],
   "source": [
    "Cum_Demand = sm.InputTables['Demand'].set_index(\"Name\")\n",
    "\n",
    "Cum_Demand[\"Cum_Demand\"] = continuous_var_series(Cum_Demand, mdl, name = \"CD\", ub= Truck_capacity)\n",
    "Cum_Demand"
   ]
  },
  {
   "cell_type": "markdown",
   "metadata": {},
   "source": [
    "go to a single client j and when we reach that client we must have arrived from a single node either the depot or the predecessor client i."
   ]
  },
  {
   "cell_type": "code",
   "execution_count": 11,
   "metadata": {},
   "outputs": [],
   "source": [
    "for origin, group in Paths.groupby(\"Origin\"):\n",
    "    mdl.add_constraint(   mdl.sum( group.xPath )  == 1 )"
   ]
  },
  {
   "cell_type": "markdown",
   "metadata": {},
   "source": [
    "go to a single client i and when we reach that client we must have arrived from a single node either the depot or the predecessor client j."
   ]
  },
  {
   "cell_type": "code",
   "execution_count": 12,
   "metadata": {},
   "outputs": [],
   "source": [
    "for Destination, group in Paths.groupby(\"Destination\"):\n",
    "    mdl.add_constraint(   mdl.sum( group.xPath )  == 1 )"
   ]
  },
  {
   "cell_type": "code",
   "execution_count": 13,
   "metadata": {},
   "outputs": [
    {
     "data": {
      "text/plain": [
       "DecisionKPI(name=total_cost,expr=54.792x_Client_1_Client_2+61.224x_Client_1_Client_3+41.046x_Clie..)"
      ]
     },
     "execution_count": null,
     "metadata": {},
     "output_type": "execute_result"
    }
   ],
   "source": [
    "total_cost = mdl.sum(Paths[\"Distance\"]*Paths[\"xPath\"])\n",
    "mdl.add_kpi(total_cost,\"total_cost\")"
   ]
  },
  {
   "cell_type": "code",
   "execution_count": 14,
   "metadata": {},
   "outputs": [
    {
     "name": "stdout",
     "output_type": "stream",
     "text": [
      "Model: Toy_VRP\n",
      " - number of variables: 24\n",
      "   - binary=20, integer=0, continuous=4\n",
      " - number of constraints: 10\n",
      "   - linear=10\n",
      " - parameters: defaults\n",
      " - objective: minimize\n",
      " - problem type is: MILP\n",
      "Model: Toy_VRP\n",
      " - number of variables: 24\n",
      "   - binary=20, integer=0, continuous=4\n",
      " - number of constraints: 10\n",
      "   - linear=10\n",
      " - parameters: defaults\n",
      " - objective: minimize\n",
      " - problem type is: MILP\n"
     ]
    }
   ],
   "source": [
    "mdl.minimize(total_cost)\n",
    "mdl.print_information()"
   ]
  },
  {
   "cell_type": "code",
   "execution_count": 15,
   "metadata": {},
   "outputs": [
    {
     "name": "stdout",
     "output_type": "stream",
     "text": [
      "Version identifier: 22.1.1.0 | 2022-11-27 | 9160aff4d\n",
      "Version identifier: 22.1.1.0 | 2022-11-27 | 9160aff4d\n"
     ]
    },
    {
     "name": "stdout",
     "output_type": "stream",
     "text": [
      "CPXPARAM_Read_DataCheck                          1\n",
      "CPXPARAM_Read_DataCheck                          1\n"
     ]
    },
    {
     "name": "stdout",
     "output_type": "stream",
     "text": [
      "Tried aggregator 1 time.\n",
      "Tried aggregator 1 time.\n"
     ]
    },
    {
     "name": "stdout",
     "output_type": "stream",
     "text": [
      "MIP Presolve eliminated 0 rows and 4 columns.\n",
      "MIP Presolve eliminated 0 rows and 4 columns.\n"
     ]
    },
    {
     "name": "stdout",
     "output_type": "stream",
     "text": [
      "Reduced MIP has 10 rows, 20 columns, and 40 nonzeros.\n",
      "Reduced MIP has 10 rows, 20 columns, and 40 nonzeros.\n"
     ]
    },
    {
     "name": "stdout",
     "output_type": "stream",
     "text": [
      "Reduced MIP has 20 binaries, 0 generals, 0 SOSs, and 0 indicators.\n",
      "Reduced MIP has 20 binaries, 0 generals, 0 SOSs, and 0 indicators.\n"
     ]
    },
    {
     "name": "stdout",
     "output_type": "stream",
     "text": [
      "Presolve time = 0.00 sec. (0.02 ticks)\n",
      "Presolve time = 0.00 sec. (0.02 ticks)\n"
     ]
    },
    {
     "name": "stdout",
     "output_type": "stream",
     "text": [
      "Found incumbent of value 315.147971 after 0.00 sec. (0.06 ticks)\n",
      "Found incumbent of value 315.147971 after 0.00 sec. (0.06 ticks)\n"
     ]
    },
    {
     "name": "stdout",
     "output_type": "stream",
     "text": [
      "Probing time = 0.00 sec. (0.01 ticks)\n",
      "Probing time = 0.00 sec. (0.01 ticks)\n"
     ]
    },
    {
     "name": "stdout",
     "output_type": "stream",
     "text": [
      "Tried aggregator 1 time.\n",
      "Tried aggregator 1 time.\n"
     ]
    },
    {
     "name": "stdout",
     "output_type": "stream",
     "text": [
      "Detecting symmetries...\n",
      "Detecting symmetries...\n"
     ]
    },
    {
     "name": "stdout",
     "output_type": "stream",
     "text": [
      "Reduced MIP has 10 rows, 20 columns, and 40 nonzeros.\n",
      "Reduced MIP has 10 rows, 20 columns, and 40 nonzeros.\n"
     ]
    },
    {
     "name": "stdout",
     "output_type": "stream",
     "text": [
      "Reduced MIP has 20 binaries, 0 generals, 0 SOSs, and 0 indicators.\n",
      "Reduced MIP has 20 binaries, 0 generals, 0 SOSs, and 0 indicators.\n"
     ]
    },
    {
     "name": "stdout",
     "output_type": "stream",
     "text": [
      "Presolve time = 0.02 sec. (0.03 ticks)\n",
      "Presolve time = 0.02 sec. (0.03 ticks)\n"
     ]
    },
    {
     "name": "stdout",
     "output_type": "stream",
     "text": [
      "Probing time = 0.00 sec. (0.01 ticks)\n",
      "Probing time = 0.00 sec. (0.01 ticks)\n"
     ]
    },
    {
     "name": "stdout",
     "output_type": "stream",
     "text": [
      "Clique table members: 10.\n",
      "Clique table members: 10.\n"
     ]
    },
    {
     "name": "stdout",
     "output_type": "stream",
     "text": [
      "MIP emphasis: balance optimality and feasibility.\n",
      "MIP emphasis: balance optimality and feasibility.\n"
     ]
    },
    {
     "name": "stdout",
     "output_type": "stream",
     "text": [
      "MIP search method: dynamic search.\n",
      "MIP search method: dynamic search.\n"
     ]
    },
    {
     "name": "stdout",
     "output_type": "stream",
     "text": [
      "Parallel mode: deterministic, using up to 8 threads.\n",
      "Parallel mode: deterministic, using up to 8 threads.\n"
     ]
    },
    {
     "name": "stdout",
     "output_type": "stream",
     "text": [
      "Root relaxation solution time = 0.00 sec. (0.02 ticks)\n",
      "Root relaxation solution time = 0.00 sec. (0.02 ticks)\n"
     ]
    },
    {
     "name": "stdout",
     "output_type": "stream",
     "text": [
      "\n",
      "        Nodes                                         Cuts/\n",
      "\n",
      "\n",
      "        Nodes                                         Cuts/\n"
     ]
    },
    {
     "name": "stdout",
     "output_type": "stream",
     "text": [
      "   Node  Left     Objective  IInf  Best Integer    Best Bound    ItCnt     Gap\n",
      "\n",
      "   Node  Left     Objective  IInf  Best Integer    Best Bound    ItCnt     Gap\n",
      "\n"
     ]
    },
    {
     "name": "stdout",
     "output_type": "stream",
     "text": [
      "*     0+    0                          315.1480        0.0000           100.00%\n",
      "*     0+    0                          315.1480        0.0000           100.00%\n"
     ]
    },
    {
     "name": "stdout",
     "output_type": "stream",
     "text": [
      "*     0+    0                          251.9177        0.0000           100.00%\n",
      "*     0+    0                          251.9177        0.0000           100.00%\n"
     ]
    },
    {
     "name": "stdout",
     "output_type": "stream",
     "text": [
      "      0     0        cutoff            251.9177      251.9177        6    0.00%\n",
      "      0     0        cutoff            251.9177      251.9177        6    0.00%\n"
     ]
    },
    {
     "name": "stdout",
     "output_type": "stream",
     "text": [
      "      0     0        cutoff            251.9177      251.9177        6    0.00%\n",
      "      0     0        cutoff            251.9177      251.9177        6    0.00%\n"
     ]
    },
    {
     "name": "stdout",
     "output_type": "stream",
     "text": [
      "Elapsed time = 0.03 sec. (0.18 ticks, tree = 0.01 MB, solutions = 2)\n",
      "Elapsed time = 0.03 sec. (0.18 ticks, tree = 0.01 MB, solutions = 2)\n"
     ]
    },
    {
     "name": "stdout",
     "output_type": "stream",
     "text": [
      "\n",
      "Root node processing (before b&c):\n",
      "\n",
      "\n",
      "Root node processing (before b&c):\n"
     ]
    },
    {
     "name": "stdout",
     "output_type": "stream",
     "text": [
      "  Real time             =    0.03 sec. (0.18 ticks)\n",
      "  Real time             =    0.03 sec. (0.18 ticks)\n"
     ]
    },
    {
     "name": "stdout",
     "output_type": "stream",
     "text": [
      "Parallel b&c, 8 threads:\n",
      "Parallel b&c, 8 threads:\n"
     ]
    },
    {
     "name": "stdout",
     "output_type": "stream",
     "text": [
      "  Real time             =    0.00 sec. (0.00 ticks)\n",
      "  Real time             =    0.00 sec. (0.00 ticks)\n"
     ]
    },
    {
     "name": "stdout",
     "output_type": "stream",
     "text": [
      "  Sync time (average)   =    0.00 sec.\n",
      "  Sync time (average)   =    0.00 sec.\n"
     ]
    },
    {
     "name": "stdout",
     "output_type": "stream",
     "text": [
      "  Wait time (average)   =    0.00 sec.\n",
      "  Wait time (average)   =    0.00 sec.\n"
     ]
    },
    {
     "name": "stdout",
     "output_type": "stream",
     "text": [
      "                          ------------\n",
      "                          ------------\n"
     ]
    },
    {
     "name": "stdout",
     "output_type": "stream",
     "text": [
      "Total (root+branch&cut) =    0.03 sec. (0.18 ticks)\n",
      "Total (root+branch&cut) =    0.03 sec. (0.18 ticks)\n"
     ]
    },
    {
     "name": "stdout",
     "output_type": "stream",
     "text": [
      "* model Toy_VRP solved with objective = 251.918\n",
      "*  KPI: total_cost = 251.918\n",
      "* model Toy_VRP solved with objective = 251.918\n",
      "*  KPI: total_cost = 251.918\n"
     ]
    }
   ],
   "source": [
    "solution = mdl.solve(log_output=True)\n",
    "assert solution, \"solve failed\"\n",
    "mdl.report()"
   ]
  },
  {
   "cell_type": "code",
   "execution_count": 16,
   "metadata": {},
   "outputs": [
    {
     "name": "stdout",
     "output_type": "stream",
     "text": [
      "solution for: Toy_VRP\n",
      "objective: 251.918\n",
      "status: OPTIMAL_SOLUTION(2)\n",
      "x_Client_1_Client_4=1\n",
      "x_Client_2_Depot_1=1\n",
      "x_Client_3_Client_1=1\n",
      "x_Client_4_Client_3=1\n",
      "x_Depot_1_Client_2=1\n",
      "\n",
      "solution for: Toy_VRP\n",
      "objective: 251.918\n",
      "status: OPTIMAL_SOLUTION(2)\n",
      "x_Client_1_Client_4=1\n",
      "x_Client_2_Depot_1=1\n",
      "x_Client_3_Client_1=1\n",
      "x_Client_4_Client_3=1\n",
      "x_Depot_1_Client_2=1\n",
      "\n"
     ]
    }
   ],
   "source": [
    "print(solution)"
   ]
  },
  {
   "cell_type": "code",
   "execution_count": 17,
   "metadata": {},
   "outputs": [
    {
     "data": {
      "text/html": [
       "<div>\n",
       "<style scoped>\n",
       "    .dataframe tbody tr th:only-of-type {\n",
       "        vertical-align: middle;\n",
       "    }\n",
       "\n",
       "    .dataframe tbody tr th {\n",
       "        vertical-align: top;\n",
       "    }\n",
       "\n",
       "    .dataframe thead th {\n",
       "        text-align: right;\n",
       "    }\n",
       "</style>\n",
       "<table border=\"1\" class=\"dataframe\">\n",
       "  <thead>\n",
       "    <tr style=\"text-align: right;\">\n",
       "      <th></th>\n",
       "      <th>Origin</th>\n",
       "      <th>Destination</th>\n",
       "      <th>Distance</th>\n",
       "      <th>xPath</th>\n",
       "      <th>xPath_Solution</th>\n",
       "    </tr>\n",
       "  </thead>\n",
       "  <tbody>\n",
       "    <tr>\n",
       "      <th>0</th>\n",
       "      <td>Client_1</td>\n",
       "      <td>Client_2</td>\n",
       "      <td>54.792376</td>\n",
       "      <td>x_Client_1_Client_2</td>\n",
       "      <td>0.0</td>\n",
       "    </tr>\n",
       "    <tr>\n",
       "      <th>1</th>\n",
       "      <td>Client_1</td>\n",
       "      <td>Client_3</td>\n",
       "      <td>61.223839</td>\n",
       "      <td>x_Client_1_Client_3</td>\n",
       "      <td>0.0</td>\n",
       "    </tr>\n",
       "    <tr>\n",
       "      <th>2</th>\n",
       "      <td>Client_1</td>\n",
       "      <td>Client_4</td>\n",
       "      <td>41.045977</td>\n",
       "      <td>x_Client_1_Client_4</td>\n",
       "      <td>1.0</td>\n",
       "    </tr>\n",
       "    <tr>\n",
       "      <th>3</th>\n",
       "      <td>Client_1</td>\n",
       "      <td>Depot_1</td>\n",
       "      <td>54.726376</td>\n",
       "      <td>x_Client_1_Depot_1</td>\n",
       "      <td>0.0</td>\n",
       "    </tr>\n",
       "    <tr>\n",
       "      <th>4</th>\n",
       "      <td>Client_2</td>\n",
       "      <td>Client_1</td>\n",
       "      <td>54.792376</td>\n",
       "      <td>x_Client_2_Client_1</td>\n",
       "      <td>0.0</td>\n",
       "    </tr>\n",
       "  </tbody>\n",
       "</table>\n",
       "</div>"
      ],
      "text/plain": [
       "     Origin  ... xPath_Solution\n",
       "0  Client_1  ...            0.0\n",
       "1  Client_1  ...            0.0\n",
       "2  Client_1  ...            1.0\n",
       "3  Client_1  ...            0.0\n",
       "4  Client_2  ...            0.0\n",
       "\n",
       "[5 rows x 5 columns]"
      ]
     },
     "execution_count": null,
     "metadata": {},
     "output_type": "execute_result"
    }
   ],
   "source": [
    "Paths[\"xPath_Solution\"] = Paths[\"xPath\"].apply(lambda x:x.solution_value)\n",
    "Paths = Paths.reset_index(drop = False)\n",
    "Paths.head()"
   ]
  },
  {
   "cell_type": "code",
   "execution_count": 18,
   "metadata": {},
   "outputs": [
    {
     "data": {
      "text/html": [
       "<div>\n",
       "<style scoped>\n",
       "    .dataframe tbody tr th:only-of-type {\n",
       "        vertical-align: middle;\n",
       "    }\n",
       "\n",
       "    .dataframe tbody tr th {\n",
       "        vertical-align: top;\n",
       "    }\n",
       "\n",
       "    .dataframe thead th {\n",
       "        text-align: right;\n",
       "    }\n",
       "</style>\n",
       "<table border=\"1\" class=\"dataframe\">\n",
       "  <thead>\n",
       "    <tr style=\"text-align: right;\">\n",
       "      <th></th>\n",
       "      <th>Origin</th>\n",
       "      <th>Destination</th>\n",
       "      <th>Distance</th>\n",
       "      <th>xPath</th>\n",
       "      <th>xPath_Solution</th>\n",
       "    </tr>\n",
       "  </thead>\n",
       "  <tbody>\n",
       "    <tr>\n",
       "      <th>2</th>\n",
       "      <td>Client_1</td>\n",
       "      <td>Client_4</td>\n",
       "      <td>41.045977</td>\n",
       "      <td>x_Client_1_Client_4</td>\n",
       "      <td>1.0</td>\n",
       "    </tr>\n",
       "  </tbody>\n",
       "</table>\n",
       "</div>"
      ],
      "text/plain": [
       "     Origin  ... xPath_Solution\n",
       "2  Client_1  ...            1.0\n",
       "\n",
       "[1 rows x 5 columns]"
      ]
     },
     "execution_count": null,
     "metadata": {},
     "output_type": "execute_result"
    }
   ],
   "source": [
    "active_paths = Paths[Paths[\"xPath_Solution\"]>=1]\n",
    "active_paths.head(1)"
   ]
  },
  {
   "cell_type": "code",
   "execution_count": 19,
   "metadata": {},
   "outputs": [],
   "source": [
    "def drawArrow(A, B):\n",
    "    plt.arrow(A[0], A[1], B[0] - A[0], B[1] - A[1],\n",
    "              head_width=2, length_includes_head=True)"
   ]
  },
  {
   "cell_type": "code",
   "execution_count": 20,
   "metadata": {},
   "outputs": [
    {
     "data": {
      "image/png": "[encoded data removed]",
      "text/plain": [
       "<Figure size 450x300 with 1 Axes>"
      ]
     },
     "metadata": {},
     "output_type": "display_data"
    }
   ],
   "source": [
    "Clients = Locations[Locations['Type']==\"Client\"]\n",
    "plt.scatter(Clients[\"Latitude\"], Clients[\"Longitude\"], c='b')\n",
    "for i in range(0,number_of_clientes):\n",
    "    plt.annotate(Clients[\"Name\"].values[i], (Clients[\"Latitude\"].iloc[i]+2, Clients[\"Longitude\"].iloc[i]))\n",
    "\n",
    "Depots = Locations[Locations['Type']==\"Depot\"] \n",
    "plt.scatter(Depots[\"Latitude\"], Depots[\"Longitude\"],c='r', marker='s')\n",
    "\n",
    "for i in range(0,number_of_depots):\n",
    "    plt.annotate(Depots[\"Name\"].values[i], (Depots[\"Latitude\"].iloc[i]+2, Depots[\"Longitude\"].iloc[i]))  \n",
    "\n",
    "\n",
    "for i in active_paths.itertuples():\n",
    "\n",
    "    Origin_coord = Locations[Locations[\"Name\"]==i.Origin][[\"Latitude\",\"Longitude\"]].values[0]\n",
    "    Destination_coord = Locations[Locations[\"Name\"]==i.Destination][[\"Latitude\",\"Longitude\"]].values[0]\n",
    "    drawArrow(Origin_coord, Destination_coord) \n",
    "    \n",
    "plt.title(\"location of demands and depot\");   "
   ]
  },
  {
   "cell_type": "code",
   "execution_count": null,
   "metadata": {},
   "outputs": [],
   "source": []
  },
  {
   "cell_type": "code",
   "execution_count": null,
   "metadata": {},
   "outputs": [],
   "source": []
  },
  {
   "cell_type": "code",
   "execution_count": 21,
   "metadata": {},
   "outputs": [
    {
     "data": {
      "text/html": [
       "<div>\n",
       "<style scoped>\n",
       "    .dataframe tbody tr th:only-of-type {\n",
       "        vertical-align: middle;\n",
       "    }\n",
       "\n",
       "    .dataframe tbody tr th {\n",
       "        vertical-align: top;\n",
       "    }\n",
       "\n",
       "    .dataframe thead th {\n",
       "        text-align: right;\n",
       "    }\n",
       "</style>\n",
       "<table border=\"1\" class=\"dataframe\">\n",
       "  <thead>\n",
       "    <tr style=\"text-align: right;\">\n",
       "      <th></th>\n",
       "      <th>Origin</th>\n",
       "      <th>Destination</th>\n",
       "    </tr>\n",
       "  </thead>\n",
       "  <tbody>\n",
       "    <tr>\n",
       "      <th>0</th>\n",
       "      <td>Client_1</td>\n",
       "      <td>Client_2</td>\n",
       "    </tr>\n",
       "    <tr>\n",
       "      <th>1</th>\n",
       "      <td>Client_1</td>\n",
       "      <td>Client_3</td>\n",
       "    </tr>\n",
       "    <tr>\n",
       "      <th>2</th>\n",
       "      <td>Client_1</td>\n",
       "      <td>Client_4</td>\n",
       "    </tr>\n",
       "  </tbody>\n",
       "</table>\n",
       "</div>"
      ],
      "text/plain": [
       "     Origin Destination\n",
       "0  Client_1    Client_2\n",
       "1  Client_1    Client_3\n",
       "2  Client_1    Client_4"
      ]
     },
     "execution_count": 21,
     "metadata": {},
     "output_type": "execute_result"
    }
   ],
   "source": [
    "loading_paths = sm.InputTables['Distances'][[\"Origin\",\"Destination\"]]\n",
    "loading_paths =loading_paths [loading_paths[\"Origin\"].isin(Clients['Name'])]\n",
    "loading_paths =loading_paths [loading_paths[\"Destination\"].isin(Clients['Name'])]\n",
    "loading_paths.head(3)"
   ]
  }
 ],
 "metadata": {
  "interpreter": {
   "hash": "409d98d8d7f2724c686dfb6a2ddc1d35f22770c454811ff64ebd43c4f7d1aec9"
  },
  "kernelspec": {
   "display_name": "Python 3.8.1 64-bit",
   "language": "python",
   "name": "python3"
  },
  "language_info": {
   "codemirror_mode": {
    "name": "ipython",
    "version": 3
   },
   "file_extension": ".py",
   "mimetype": "text/x-python",
   "name": "python",
   "nbconvert_exporter": "python",
   "pygments_lexer": "ipython3",
   "version": "3.8.1"
  },
  "orig_nbformat": 4
 },
 "nbformat": 4,
 "nbformat_minor": 2
}

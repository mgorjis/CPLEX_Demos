{
    "cells": [
        {
            "cell_type": "code",
            "execution_count": 121,
            "metadata": {},
            "outputs": [
                {
                    "name": "stderr",
                    "output_type": "stream",
                    "text": [
                        "<positron-console-cell-121>:17: DeprecationWarning: Importing display from IPython.core.display is deprecated since IPython 7.14, please import from IPython display\n"
                    ]
                },
                {
                    "data": {
                        "text/html": [
                            "<style>.container { width:100% !important; }</style>"
                        ],
                        "text/plain": [
                            "<IPython.core.display.HTML object>"
                        ]
                    },
                    "metadata": {},
                    "output_type": "display_data"
                }
            ],
            "source": [
                "import matplotlib.pyplot as plt\n",
                "import pandas as pd\n",
                "%matplotlib inline\n",
                "import networkx as nx\n",
                "import itertools\n",
                "\n",
                "plt.rcParams['figure.figsize'] = [4.5, 3]\n",
                "plt.rcParams['figure.dpi'] = 100 # 200 e.g. is really fine, but slower\n",
                "pd.set_option('display.max_colwidth', None)\n",
                "import numpy as np\n",
                "\n",
                "\n",
                "from dse_do_utils import OptimizationEngine,ScenarioManager\n",
                "import docplex.mp\n",
                "from docplex.mp.model import Model\n",
                "\n",
                "from IPython.core.display import display, HTML\n",
                "display(HTML(\"<style>.container { width:100% !important; }</style>\"))"
            ]
        },
        {
            "cell_type": "markdown",
            "metadata": {},
            "source": [
                "https://how-to.aimms.com/Articles/332/332-Formulation-CVRP.html"
            ]
        },
        {
            "cell_type": "code",
            "execution_count": 122,
            "metadata": {},
            "outputs": [],
            "source": [
                "def continuous_var_series(df, mdl,**kargs):\n",
                "    return pd.Series(mdl.continuous_var_list(df.index, **kargs), index = df.index)\n",
                "\n",
                "def binary_var_series(df, mdl,**kargs):\n",
                "    return pd.Series(mdl.binary_var_list(df.index, **kargs), index = df.index)\n",
                "\n",
                "def integer_var_series(df, mdl,**kargs):\n",
                "    '''Create a Series of integer dvar for each row in the DF. Most effective method. Best practice.\n",
                "    Result can be assigned to a column of the df.\n",
                "    Usage:\n",
                "        df['xDVar'] = mdl.integer_var_series(df, name = 'xDVar')\n",
                "    Args:\n",
                "        mdl: CPLEX Model\n",
                "        df: DataFrame\n",
                "        **kargs: arguments passed to mdl.integer_var_list method. E.g. 'name'\n",
                "        \n",
                "    :returns: pandas.Series with integer dvars, index matches index of df\n",
                "    '''\n",
                "    #We are re-using the index from the DF index:\n",
                "    return pd.Series(mdl.integer_var_list(df.index, **kargs), index = df.index)\n",
                "\n",
                "\n",
                "def extract_solution(df, extract_dvar_names=None, drop_column_names=None, drop:bool=True):\n",
                "    \"\"\"Generalized routine to extract a solution value. \n",
                "    Can remove the dvar column from the df to be able to have a clean df for export into scenario.\"\"\"\n",
                "    if extract_dvar_names is not None:\n",
                "        for xDVarName in extract_dvar_names:\n",
                "            if xDVarName in df.columns:\n",
                "                df[f'{xDVarName}Sol'] = [dvar.solution_value for dvar in df[xDVarName]]\n",
                "                if drop:\n",
                "                    df = df.drop([xDVarName], axis = 1)\n",
                "    if drop and drop_column_names is not None:\n",
                "        for column in drop_column_names:\n",
                "            if column in df.columns:\n",
                "                df = df.drop([column], axis = 1)\n",
                "    return df\n",
                "\n",
                "\n",
                "\n",
                "    \n",
                "# returns all undirected edges between vertices\n",
                "def pairs(vertices):\n",
                "    return itertools.combinations(vertices, 2)"
            ]
        },
        {
            "cell_type": "code",
            "execution_count": 123,
            "metadata": {},
            "outputs": [],
            "source": [
                "MODEL_NAME = 'ToyVRP'\n",
                "SCENARIO_NAME = 'scenario_1' \n",
                "sm = ScenarioManager(model_name=MODEL_NAME, scenario_name=SCENARIO_NAME)\n",
                "\n",
                "sm.InputTables={}"
            ]
        },
        {
            "cell_type": "markdown",
            "metadata": {},
            "source": [
                "# Create data"
            ]
        },
        {
            "cell_type": "code",
            "execution_count": 124,
            "metadata": {},
            "outputs": [],
            "source": [
                "number_of_clientes = 2\n",
                "number_of_depots = 1\n",
                "number_of_locations = number_of_clientes + number_of_depots\n",
                "number_of_trucks = 1\n",
                "Truck_capacity= 1000"
            ]
        },
        {
            "cell_type": "code",
            "execution_count": 125,
            "metadata": {},
            "outputs": [
                {
                    "data": {
                        "text/html": [
                            "<div>\n",
                            "<style scoped>\n",
                            "    .dataframe tbody tr th:only-of-type {\n",
                            "        vertical-align: middle;\n",
                            "    }\n",
                            "\n",
                            "    .dataframe tbody tr th {\n",
                            "        vertical-align: top;\n",
                            "    }\n",
                            "\n",
                            "    .dataframe thead th {\n",
                            "        text-align: right;\n",
                            "    }\n",
                            "</style>\n",
                            "<table border=\"1\" class=\"dataframe\">\n",
                            "  <thead>\n",
                            "    <tr style=\"text-align: right;\">\n",
                            "      <th></th>\n",
                            "      <th>GasStationID</th>\n",
                            "      <th>Quantity</th>\n",
                            "    </tr>\n",
                            "  </thead>\n",
                            "  <tbody>\n",
                            "    <tr>\n",
                            "      <th>0</th>\n",
                            "      <td>Client1</td>\n",
                            "      <td>4</td>\n",
                            "    </tr>\n",
                            "    <tr>\n",
                            "      <th>1</th>\n",
                            "      <td>Client2</td>\n",
                            "      <td>9</td>\n",
                            "    </tr>\n",
                            "  </tbody>\n",
                            "</table>\n",
                            "</div>"
                        ],
                        "text/plain": [
                            "  GasStationID  Quantity\n",
                            "0      Client1         4\n",
                            "1      Client2         9"
                        ]
                    },
                    "metadata": {},
                    "output_type": "display_data"
                },
                {
                    "data": {
                        "text/html": [
                            "<div>\n",
                            "<style scoped>\n",
                            "    .dataframe tbody tr th:only-of-type {\n",
                            "        vertical-align: middle;\n",
                            "    }\n",
                            "\n",
                            "    .dataframe tbody tr th {\n",
                            "        vertical-align: top;\n",
                            "    }\n",
                            "\n",
                            "    .dataframe thead th {\n",
                            "        text-align: right;\n",
                            "    }\n",
                            "</style>\n",
                            "<table border=\"1\" class=\"dataframe\">\n",
                            "  <thead>\n",
                            "    <tr style=\"text-align: right;\">\n",
                            "      <th></th>\n",
                            "      <th>TerminalID</th>\n",
                            "      <th>Quantity</th>\n",
                            "    </tr>\n",
                            "  </thead>\n",
                            "  <tbody>\n",
                            "    <tr>\n",
                            "      <th>0</th>\n",
                            "      <td>Depot1</td>\n",
                            "      <td>1000</td>\n",
                            "    </tr>\n",
                            "  </tbody>\n",
                            "</table>\n",
                            "</div>"
                        ],
                        "text/plain": [
                            "  TerminalID  Quantity\n",
                            "0     Depot1      1000"
                        ]
                    },
                    "metadata": {},
                    "output_type": "display_data"
                },
                {
                    "data": {
                        "text/html": [
                            "<div>\n",
                            "<style scoped>\n",
                            "    .dataframe tbody tr th:only-of-type {\n",
                            "        vertical-align: middle;\n",
                            "    }\n",
                            "\n",
                            "    .dataframe tbody tr th {\n",
                            "        vertical-align: top;\n",
                            "    }\n",
                            "\n",
                            "    .dataframe thead th {\n",
                            "        text-align: right;\n",
                            "    }\n",
                            "</style>\n",
                            "<table border=\"1\" class=\"dataframe\">\n",
                            "  <thead>\n",
                            "    <tr style=\"text-align: right;\">\n",
                            "      <th></th>\n",
                            "      <th>LocationName</th>\n",
                            "      <th>Latitude</th>\n",
                            "      <th>Longitude</th>\n",
                            "      <th>Type</th>\n",
                            "    </tr>\n",
                            "  </thead>\n",
                            "  <tbody>\n",
                            "    <tr>\n",
                            "      <th>0</th>\n",
                            "      <td>Client1</td>\n",
                            "      <td>2.597312</td>\n",
                            "      <td>5.181186</td>\n",
                            "      <td>Client</td>\n",
                            "    </tr>\n",
                            "    <tr>\n",
                            "      <th>1</th>\n",
                            "      <td>Client2</td>\n",
                            "      <td>4.918556</td>\n",
                            "      <td>9.362199</td>\n",
                            "      <td>Client</td>\n",
                            "    </tr>\n",
                            "    <tr>\n",
                            "      <th>2</th>\n",
                            "      <td>Depot1</td>\n",
                            "      <td>6.405593</td>\n",
                            "      <td>7.993372</td>\n",
                            "      <td>Depot</td>\n",
                            "    </tr>\n",
                            "  </tbody>\n",
                            "</table>\n",
                            "</div>"
                        ],
                        "text/plain": [
                            "  LocationName  Latitude  Longitude    Type\n",
                            "0      Client1  2.597312   5.181186  Client\n",
                            "1      Client2  4.918556   9.362199  Client\n",
                            "2       Depot1  6.405593   7.993372   Depot"
                        ]
                    },
                    "metadata": {},
                    "output_type": "display_data"
                },
                {
                    "data": {
                        "text/html": [
                            "<div>\n",
                            "<style scoped>\n",
                            "    .dataframe tbody tr th:only-of-type {\n",
                            "        vertical-align: middle;\n",
                            "    }\n",
                            "\n",
                            "    .dataframe tbody tr th {\n",
                            "        vertical-align: top;\n",
                            "    }\n",
                            "\n",
                            "    .dataframe thead th {\n",
                            "        text-align: right;\n",
                            "    }\n",
                            "</style>\n",
                            "<table border=\"1\" class=\"dataframe\">\n",
                            "  <thead>\n",
                            "    <tr style=\"text-align: right;\">\n",
                            "      <th></th>\n",
                            "      <th>TruckID</th>\n",
                            "    </tr>\n",
                            "  </thead>\n",
                            "  <tbody>\n",
                            "    <tr>\n",
                            "      <th>0</th>\n",
                            "      <td>Truck1</td>\n",
                            "    </tr>\n",
                            "  </tbody>\n",
                            "</table>\n",
                            "</div>"
                        ],
                        "text/plain": [
                            "  TruckID\n",
                            "0  Truck1"
                        ]
                    },
                    "metadata": {},
                    "output_type": "display_data"
                },
                {
                    "data": {
                        "text/html": [
                            "<div>\n",
                            "<style scoped>\n",
                            "    .dataframe tbody tr th:only-of-type {\n",
                            "        vertical-align: middle;\n",
                            "    }\n",
                            "\n",
                            "    .dataframe tbody tr th {\n",
                            "        vertical-align: top;\n",
                            "    }\n",
                            "\n",
                            "    .dataframe thead th {\n",
                            "        text-align: right;\n",
                            "    }\n",
                            "</style>\n",
                            "<table border=\"1\" class=\"dataframe\">\n",
                            "  <thead>\n",
                            "    <tr style=\"text-align: right;\">\n",
                            "      <th></th>\n",
                            "      <th>CompartmentID</th>\n",
                            "      <th>TruckID</th>\n",
                            "      <th>Capacity</th>\n",
                            "    </tr>\n",
                            "  </thead>\n",
                            "  <tbody>\n",
                            "    <tr>\n",
                            "      <th>0</th>\n",
                            "      <td>CompartmentID1</td>\n",
                            "      <td>Truck1</td>\n",
                            "      <td>20</td>\n",
                            "    </tr>\n",
                            "  </tbody>\n",
                            "</table>\n",
                            "</div>"
                        ],
                        "text/plain": [
                            "    CompartmentID TruckID  Capacity\n",
                            "0  CompartmentID1  Truck1        20"
                        ]
                    },
                    "metadata": {},
                    "output_type": "display_data"
                }
            ],
            "source": [
                "Demand = pd.DataFrame([])\n",
                "Demand[\"GasStationID\"] = [\"Client\" +str(i) for i in range(1,number_of_clientes+1)]\n",
                "Demand[\"Quantity\"]  = [np.random.randint(1, 10) for i in range(1,number_of_clientes+1)]\n",
                "display(Demand.head())\n",
                "\n",
                "Supply = pd.DataFrame([])\n",
                "Supply[\"TerminalID\"]=[\"Depot\" +str(i) for i in range(1,number_of_depots+1)]\n",
                "Supply.loc[:,\"Quantity\"]=1000\n",
                "display(Supply.head())\n",
                "\n",
                "Locations = pd.DataFrame([])\n",
                "Locations[\"LocationName\"] = np.concatenate([Demand[\"GasStationID\"].values , Supply[\"TerminalID\"].values])\n",
                "Locations[\"Latitude\"] = np.random.rand(number_of_locations)*20\n",
                "Locations[\"Longitude\"] = np.random.rand(number_of_locations)*10\n",
                "Locations[\"Type\"]= [\"Client\" for i in range(0,number_of_clientes)] + [\"Depot\" for i in range(0,number_of_depots)] \n",
                "display(Locations.head())\n",
                "\n",
                "\n",
                "Trucks = pd.DataFrame([])\n",
                "Trucks[\"TruckID\"] = [\"Truck\" +str(i) for i in range(1,number_of_trucks+1)]\n",
                "display(Trucks.head())\n",
                "\n",
                "Compartments = pd.DataFrame([])\n",
                "Compartments[\"CompartmentID\"] = [\"CompartmentID\" +str(i) for i in range(1,number_of_trucks+1)]\n",
                "Compartments[\"TruckID\"] =\"Truck1\"\n",
                "Compartments[\"Capacity\"] = 20\n",
                "display(Compartments.head())\n",
                "\n",
                "sm.InputTables['Demand']=Demand\n",
                "sm.InputTables['Supply']=Supply\n",
                "sm.InputTables['Locations']=Locations\n",
                "sm.InputTables['Trucks']=Trucks\n",
                "sm.InputTables['Compartments']=Compartments"
            ]
        },
        {
            "cell_type": "code",
            "execution_count": 126,
            "metadata": {},
            "outputs": [
                {
                    "data": {
                        "text/html": [
                            "<div>\n",
                            "<style scoped>\n",
                            "    .dataframe tbody tr th:only-of-type {\n",
                            "        vertical-align: middle;\n",
                            "    }\n",
                            "\n",
                            "    .dataframe tbody tr th {\n",
                            "        vertical-align: top;\n",
                            "    }\n",
                            "\n",
                            "    .dataframe thead th {\n",
                            "        text-align: right;\n",
                            "    }\n",
                            "</style>\n",
                            "<table border=\"1\" class=\"dataframe\">\n",
                            "  <thead>\n",
                            "    <tr style=\"text-align: right;\">\n",
                            "      <th></th>\n",
                            "      <th>Origin</th>\n",
                            "      <th>Destination</th>\n",
                            "      <th>Distance</th>\n",
                            "    </tr>\n",
                            "  </thead>\n",
                            "  <tbody>\n",
                            "    <tr>\n",
                            "      <th>0</th>\n",
                            "      <td>Client1</td>\n",
                            "      <td>Client2</td>\n",
                            "      <td>4.782159</td>\n",
                            "    </tr>\n",
                            "    <tr>\n",
                            "      <th>1</th>\n",
                            "      <td>Client1</td>\n",
                            "      <td>Depot1</td>\n",
                            "      <td>4.734068</td>\n",
                            "    </tr>\n",
                            "    <tr>\n",
                            "      <th>2</th>\n",
                            "      <td>Client2</td>\n",
                            "      <td>Client1</td>\n",
                            "      <td>4.782159</td>\n",
                            "    </tr>\n",
                            "  </tbody>\n",
                            "</table>\n",
                            "</div>"
                        ],
                        "text/plain": [
                            "    Origin Destination  Distance\n",
                            "0  Client1     Client2  4.782159\n",
                            "1  Client1      Depot1  4.734068\n",
                            "2  Client2     Client1  4.782159"
                        ]
                    },
                    "metadata": {},
                    "output_type": "display_data"
                }
            ],
            "source": [
                "All = []\n",
                "for i in Locations[\"LocationName\"]:\n",
                "    for j in Locations[\"LocationName\"]:\n",
                "        if i!=j:\n",
                "                Origin= Locations[Locations[\"LocationName\"]==i] \n",
                "                Destination= Locations[Locations[\"LocationName\"]==j] \n",
                "\n",
                "                distance = np.hypot(  Destination[\"Latitude\"].values[0] - Origin[\"Latitude\"].values[0] ,  Destination[\"Longitude\"].values[0] - Origin[\"Longitude\"].values[0])\n",
                "                All.append([i,j,distance])\n",
                "Distances  = pd.DataFrame(All, columns = [\"Origin\",\"Destination\",'Distance'])   \n",
                "display(Distances.head(3))\n",
                "\n",
                "sm.InputTables['Distances']=Distances"
            ]
        },
        {
            "cell_type": "code",
            "execution_count": 127,
            "metadata": {},
            "outputs": [],
            "source": []
        },
        {
            "cell_type": "code",
            "execution_count": 127,
            "metadata": {},
            "outputs": [
                {
                    "data": {
                        "image/png": "[encoded data removed]",
                        "text/plain": [
                            "<Figure size 450x300 with 1 Axes>"
                        ]
                    },
                    "metadata": {},
                    "output_type": "display_data"
                }
            ],
            "source": [
                "Clients = Locations[Locations['Type']==\"Client\"]\n",
                "plt.scatter(Clients[\"Latitude\"], Clients[\"Longitude\"], c='b')\n",
                "for i in range(0,number_of_clientes):\n",
                "    plt.annotate(Clients[\"LocationName\"].values[i], (Clients[\"Latitude\"].iloc[i]+2, Clients[\"Longitude\"].iloc[i]))\n",
                "\n",
                "Depots = Locations[Locations['Type']==\"Depot\"] \n",
                "plt.scatter(Depots[\"Latitude\"], Depots[\"Longitude\"],c='r', marker='s')\n",
                "\n",
                "for i in range(0,number_of_depots):\n",
                "    plt.annotate(Depots[\"LocationName\"].values[i], (Depots[\"Latitude\"].iloc[i]+2, Depots[\"Longitude\"].iloc[i]))   \n",
                "    \n",
                "plt.title(\"location of demands and depot\");   "
            ]
        },
        {
            "cell_type": "code",
            "execution_count": 128,
            "metadata": {},
            "outputs": [
                {
                    "data": {
                        "text/plain": [
                            "dict_keys(['Demand', 'Supply', 'Locations', 'Trucks', 'Compartments', 'Distances'])"
                        ]
                    },
                    "execution_count": null,
                    "metadata": {},
                    "output_type": "execute_result"
                }
            ],
            "source": [
                "sm.InputTables.keys()"
            ]
        },
        {
            "cell_type": "markdown",
            "metadata": {},
            "source": [
                "# Build Model"
            ]
        },
        {
            "cell_type": "code",
            "execution_count": 129,
            "metadata": {},
            "outputs": [],
            "source": [
                "mdl = Model(name='Toy_VRP')"
            ]
        },
        {
            "cell_type": "code",
            "execution_count": 130,
            "metadata": {},
            "outputs": [
                {
                    "data": {
                        "text/html": [
                            "<div>\n",
                            "<style scoped>\n",
                            "    .dataframe tbody tr th:only-of-type {\n",
                            "        vertical-align: middle;\n",
                            "    }\n",
                            "\n",
                            "    .dataframe tbody tr th {\n",
                            "        vertical-align: top;\n",
                            "    }\n",
                            "\n",
                            "    .dataframe thead th {\n",
                            "        text-align: right;\n",
                            "    }\n",
                            "</style>\n",
                            "<table border=\"1\" class=\"dataframe\">\n",
                            "  <thead>\n",
                            "    <tr style=\"text-align: right;\">\n",
                            "      <th></th>\n",
                            "      <th></th>\n",
                            "      <th></th>\n",
                            "      <th>Distance</th>\n",
                            "      <th>xArcDriven</th>\n",
                            "    </tr>\n",
                            "    <tr>\n",
                            "      <th>Origin</th>\n",
                            "      <th>Destination</th>\n",
                            "      <th>TruckID</th>\n",
                            "      <th></th>\n",
                            "      <th></th>\n",
                            "    </tr>\n",
                            "  </thead>\n",
                            "  <tbody>\n",
                            "    <tr>\n",
                            "      <th rowspan=\"2\" valign=\"top\">Client1</th>\n",
                            "      <th>Client2</th>\n",
                            "      <th>Truck1</th>\n",
                            "      <td>4.782159</td>\n",
                            "      <td>ArcDriven_Client1_Client2_Truck1</td>\n",
                            "    </tr>\n",
                            "    <tr>\n",
                            "      <th>Depot1</th>\n",
                            "      <th>Truck1</th>\n",
                            "      <td>4.734068</td>\n",
                            "      <td>ArcDriven_Client1_Depot1_Truck1</td>\n",
                            "    </tr>\n",
                            "    <tr>\n",
                            "      <th rowspan=\"2\" valign=\"top\">Client2</th>\n",
                            "      <th>Client1</th>\n",
                            "      <th>Truck1</th>\n",
                            "      <td>4.782159</td>\n",
                            "      <td>ArcDriven_Client2_Client1_Truck1</td>\n",
                            "    </tr>\n",
                            "    <tr>\n",
                            "      <th>Depot1</th>\n",
                            "      <th>Truck1</th>\n",
                            "      <td>2.021130</td>\n",
                            "      <td>ArcDriven_Client2_Depot1_Truck1</td>\n",
                            "    </tr>\n",
                            "    <tr>\n",
                            "      <th>Depot1</th>\n",
                            "      <th>Client1</th>\n",
                            "      <th>Truck1</th>\n",
                            "      <td>4.734068</td>\n",
                            "      <td>ArcDriven_Depot1_Client1_Truck1</td>\n",
                            "    </tr>\n",
                            "  </tbody>\n",
                            "</table>\n",
                            "</div>"
                        ],
                        "text/plain": [
                            "                             Distance                        xArcDriven\n",
                            "Origin  Destination TruckID                                            \n",
                            "Client1 Client2     Truck1   4.782159  ArcDriven_Client1_Client2_Truck1\n",
                            "        Depot1      Truck1   4.734068   ArcDriven_Client1_Depot1_Truck1\n",
                            "Client2 Client1     Truck1   4.782159  ArcDriven_Client2_Client1_Truck1\n",
                            "        Depot1      Truck1   2.021130   ArcDriven_Client2_Depot1_Truck1\n",
                            "Depot1  Client1     Truck1   4.734068   ArcDriven_Depot1_Client1_Truck1"
                        ]
                    },
                    "execution_count": null,
                    "metadata": {},
                    "output_type": "execute_result"
                }
            ],
            "source": [
                "Arc_truck = pd.merge(sm.InputTables['Distances'],Trucks[\"TruckID\"], how = \"cross\")\n",
                "Arc_truck= Arc_truck.set_index([\"Origin\",\"Destination\",\"TruckID\"])\n",
                "\n",
                "Arc_truck[\"xArcDriven\"] = binary_var_series(Arc_truck, mdl,name = 'ArcDriven')\n",
                "Arc_truck.head()"
            ]
        },
        {
            "cell_type": "markdown",
            "metadata": {},
            "source": []
        },
        {
            "cell_type": "code",
            "execution_count": 131,
            "metadata": {},
            "outputs": [],
            "source": []
        },
        {
            "cell_type": "markdown",
            "metadata": {},
            "source": [
                "Vehicle leaves node that it enters, Ensure that the number of times a vehicle enters a node is equal to the number of times it leaves that node:\n",
                "\n",
                "$\\sum_{i=1}^{n} x_{ijk} =  \\sum_{i=1}^{n} x_{jik}$            for every j in locations and k in truck list"
            ]
        },
        {
            "cell_type": "code",
            "execution_count": 131,
            "metadata": {},
            "outputs": [
                {
                    "data": {
                        "text/html": [
                            "<div>\n",
                            "<style scoped>\n",
                            "    .dataframe tbody tr th:only-of-type {\n",
                            "        vertical-align: middle;\n",
                            "    }\n",
                            "\n",
                            "    .dataframe tbody tr th {\n",
                            "        vertical-align: top;\n",
                            "    }\n",
                            "\n",
                            "    .dataframe thead th {\n",
                            "        text-align: right;\n",
                            "    }\n",
                            "</style>\n",
                            "<table border=\"1\" class=\"dataframe\">\n",
                            "  <thead>\n",
                            "    <tr style=\"text-align: right;\">\n",
                            "      <th></th>\n",
                            "      <th>Destination</th>\n",
                            "      <th>TruckID</th>\n",
                            "      <th>Times_truck_enter_location</th>\n",
                            "    </tr>\n",
                            "  </thead>\n",
                            "  <tbody>\n",
                            "    <tr>\n",
                            "      <th>0</th>\n",
                            "      <td>Client1</td>\n",
                            "      <td>Truck1</td>\n",
                            "      <td>ArcDriven_Client2_Client1_Truck1+ArcDriven_Depot1_Client1_Truck1</td>\n",
                            "    </tr>\n",
                            "    <tr>\n",
                            "      <th>1</th>\n",
                            "      <td>Client2</td>\n",
                            "      <td>Truck1</td>\n",
                            "      <td>ArcDriven_Client1_Client2_Truck1+ArcDriven_Depot1_Client2_Truck1</td>\n",
                            "    </tr>\n",
                            "    <tr>\n",
                            "      <th>2</th>\n",
                            "      <td>Depot1</td>\n",
                            "      <td>Truck1</td>\n",
                            "      <td>ArcDriven_Client1_Depot1_Truck1+ArcDriven_Client2_Depot1_Truck1</td>\n",
                            "    </tr>\n",
                            "  </tbody>\n",
                            "</table>\n",
                            "</div>"
                        ],
                        "text/plain": [
                            "  Destination  ...                                        Times_truck_enter_location\n",
                            "0     Client1  ...  ArcDriven_Client2_Client1_Truck1+ArcDriven_Depot1_Client1_Truck1\n",
                            "1     Client2  ...  ArcDriven_Client1_Client2_Truck1+ArcDriven_Depot1_Client2_Truck1\n",
                            "2      Depot1  ...   ArcDriven_Client1_Depot1_Truck1+ArcDriven_Client2_Depot1_Truck1\n",
                            "\n",
                            "[3 rows x 3 columns]"
                        ]
                    },
                    "metadata": {},
                    "output_type": "display_data"
                },
                {
                    "data": {
                        "text/html": [
                            "<div>\n",
                            "<style scoped>\n",
                            "    .dataframe tbody tr th:only-of-type {\n",
                            "        vertical-align: middle;\n",
                            "    }\n",
                            "\n",
                            "    .dataframe tbody tr th {\n",
                            "        vertical-align: top;\n",
                            "    }\n",
                            "\n",
                            "    .dataframe thead th {\n",
                            "        text-align: right;\n",
                            "    }\n",
                            "</style>\n",
                            "<table border=\"1\" class=\"dataframe\">\n",
                            "  <thead>\n",
                            "    <tr style=\"text-align: right;\">\n",
                            "      <th></th>\n",
                            "      <th>Origin</th>\n",
                            "      <th>TruckID</th>\n",
                            "      <th>Times_truck_leave_location</th>\n",
                            "    </tr>\n",
                            "  </thead>\n",
                            "  <tbody>\n",
                            "    <tr>\n",
                            "      <th>0</th>\n",
                            "      <td>Client1</td>\n",
                            "      <td>Truck1</td>\n",
                            "      <td>ArcDriven_Client1_Client2_Truck1+ArcDriven_Client1_Depot1_Truck1</td>\n",
                            "    </tr>\n",
                            "    <tr>\n",
                            "      <th>1</th>\n",
                            "      <td>Client2</td>\n",
                            "      <td>Truck1</td>\n",
                            "      <td>ArcDriven_Client2_Client1_Truck1+ArcDriven_Client2_Depot1_Truck1</td>\n",
                            "    </tr>\n",
                            "    <tr>\n",
                            "      <th>2</th>\n",
                            "      <td>Depot1</td>\n",
                            "      <td>Truck1</td>\n",
                            "      <td>ArcDriven_Depot1_Client1_Truck1+ArcDriven_Depot1_Client2_Truck1</td>\n",
                            "    </tr>\n",
                            "  </tbody>\n",
                            "</table>\n",
                            "</div>"
                        ],
                        "text/plain": [
                            "    Origin  ...                                        Times_truck_leave_location\n",
                            "0  Client1  ...  ArcDriven_Client1_Client2_Truck1+ArcDriven_Client1_Depot1_Truck1\n",
                            "1  Client2  ...  ArcDriven_Client2_Client1_Truck1+ArcDriven_Client2_Depot1_Truck1\n",
                            "2   Depot1  ...   ArcDriven_Depot1_Client1_Truck1+ArcDriven_Depot1_Client2_Truck1\n",
                            "\n",
                            "[3 rows x 3 columns]"
                        ]
                    },
                    "metadata": {},
                    "output_type": "display_data"
                },
                {
                    "data": {
                        "text/html": [
                            "<div>\n",
                            "<style scoped>\n",
                            "    .dataframe tbody tr th:only-of-type {\n",
                            "        vertical-align: middle;\n",
                            "    }\n",
                            "\n",
                            "    .dataframe tbody tr th {\n",
                            "        vertical-align: top;\n",
                            "    }\n",
                            "\n",
                            "    .dataframe thead th {\n",
                            "        text-align: right;\n",
                            "    }\n",
                            "</style>\n",
                            "<table border=\"1\" class=\"dataframe\">\n",
                            "  <thead>\n",
                            "    <tr style=\"text-align: right;\">\n",
                            "      <th></th>\n",
                            "      <th>Destination</th>\n",
                            "      <th>TruckID</th>\n",
                            "      <th>Times_truck_enter_location</th>\n",
                            "      <th>Origin</th>\n",
                            "      <th>Times_truck_leave_location</th>\n",
                            "    </tr>\n",
                            "  </thead>\n",
                            "  <tbody>\n",
                            "    <tr>\n",
                            "      <th>0</th>\n",
                            "      <td>Client1</td>\n",
                            "      <td>Truck1</td>\n",
                            "      <td>ArcDriven_Client2_Client1_Truck1+ArcDriven_Depot1_Client1_Truck1</td>\n",
                            "      <td>Client1</td>\n",
                            "      <td>ArcDriven_Client1_Client2_Truck1+ArcDriven_Client1_Depot1_Truck1</td>\n",
                            "    </tr>\n",
                            "    <tr>\n",
                            "      <th>1</th>\n",
                            "      <td>Client2</td>\n",
                            "      <td>Truck1</td>\n",
                            "      <td>ArcDriven_Client1_Client2_Truck1+ArcDriven_Depot1_Client2_Truck1</td>\n",
                            "      <td>Client2</td>\n",
                            "      <td>ArcDriven_Client2_Client1_Truck1+ArcDriven_Client2_Depot1_Truck1</td>\n",
                            "    </tr>\n",
                            "    <tr>\n",
                            "      <th>2</th>\n",
                            "      <td>Depot1</td>\n",
                            "      <td>Truck1</td>\n",
                            "      <td>ArcDriven_Client1_Depot1_Truck1+ArcDriven_Client2_Depot1_Truck1</td>\n",
                            "      <td>Depot1</td>\n",
                            "      <td>ArcDriven_Depot1_Client1_Truck1+ArcDriven_Depot1_Client2_Truck1</td>\n",
                            "    </tr>\n",
                            "  </tbody>\n",
                            "</table>\n",
                            "</div>"
                        ],
                        "text/plain": [
                            "  Destination  ...                                        Times_truck_leave_location\n",
                            "0     Client1  ...  ArcDriven_Client1_Client2_Truck1+ArcDriven_Client1_Depot1_Truck1\n",
                            "1     Client2  ...  ArcDriven_Client2_Client1_Truck1+ArcDriven_Client2_Depot1_Truck1\n",
                            "2      Depot1  ...   ArcDriven_Depot1_Client1_Truck1+ArcDriven_Depot1_Client2_Truck1\n",
                            "\n",
                            "[3 rows x 5 columns]"
                        ]
                    },
                    "metadata": {},
                    "output_type": "display_data"
                }
            ],
            "source": [
                "outgoing_drives =  pd.DataFrame ( Arc_truck[\"xArcDriven\"].groupby([\"Origin\",\"TruckID\"]).agg( Times_truck_leave_location=\"sum\") ).reset_index(drop = False)\n",
                "Incoming_drives =  pd.DataFrame ( Arc_truck[\"xArcDriven\"].groupby([\"Destination\",\"TruckID\"]).agg(Times_truck_enter_location =\"sum\") ).reset_index(drop = False)\n",
                "\n",
                "display( Incoming_drives.head(3))\n",
                "display( outgoing_drives.head(3))\n",
                "\n",
                "Incoming_outgoing_drives = pd.merge(Incoming_drives,outgoing_drives, how = \"outer\", left_on = [\"Destination\",\"TruckID\"], right_on = [\"Origin\",\"TruckID\"]  )\n",
                "display( Incoming_outgoing_drives.head(3))\n",
                "\n",
                "for row in Incoming_outgoing_drives.itertuples():\n",
                "    mdl.add_constraint(row.Times_truck_enter_location== row.Times_truck_leave_location)"
            ]
        },
        {
            "cell_type": "markdown",
            "metadata": {},
            "source": [
                "Ensure that every node is entered once. Together with the first constraint, it ensures that the every node is entered only once, and it is left by the same vehicle.\n",
                "\n",
                "$\\sum_{k=1}^{p} \\sum_{i=1}^{n} x_{ijk} =   1$  for j in demand locations (all locations excluding terminal)"
            ]
        },
        {
            "cell_type": "code",
            "execution_count": 132,
            "metadata": {},
            "outputs": [
                {
                    "data": {
                        "text/html": [
                            "<div>\n",
                            "<style scoped>\n",
                            "    .dataframe tbody tr th:only-of-type {\n",
                            "        vertical-align: middle;\n",
                            "    }\n",
                            "\n",
                            "    .dataframe tbody tr th {\n",
                            "        vertical-align: top;\n",
                            "    }\n",
                            "\n",
                            "    .dataframe thead th {\n",
                            "        text-align: right;\n",
                            "    }\n",
                            "</style>\n",
                            "<table border=\"1\" class=\"dataframe\">\n",
                            "  <thead>\n",
                            "    <tr style=\"text-align: right;\">\n",
                            "      <th></th>\n",
                            "      <th></th>\n",
                            "      <th>Times_truck_enter_location</th>\n",
                            "    </tr>\n",
                            "    <tr>\n",
                            "      <th>Origin</th>\n",
                            "      <th>TruckID</th>\n",
                            "      <th></th>\n",
                            "    </tr>\n",
                            "  </thead>\n",
                            "  <tbody>\n",
                            "    <tr>\n",
                            "      <th>Client1</th>\n",
                            "      <th>Truck1</th>\n",
                            "      <td>ArcDriven_Client1_Client2_Truck1</td>\n",
                            "    </tr>\n",
                            "    <tr>\n",
                            "      <th>Client2</th>\n",
                            "      <th>Truck1</th>\n",
                            "      <td>ArcDriven_Client2_Client1_Truck1</td>\n",
                            "    </tr>\n",
                            "    <tr>\n",
                            "      <th>Depot1</th>\n",
                            "      <th>Truck1</th>\n",
                            "      <td>ArcDriven_Depot1_Client1_Truck1+ArcDriven_Depot1_Client2_Truck1</td>\n",
                            "    </tr>\n",
                            "  </tbody>\n",
                            "</table>\n",
                            "</div>"
                        ],
                        "text/plain": [
                            "                                                      Times_truck_enter_location\n",
                            "Origin  TruckID                                                                 \n",
                            "Client1 Truck1                                  ArcDriven_Client1_Client2_Truck1\n",
                            "Client2 Truck1                                  ArcDriven_Client2_Client1_Truck1\n",
                            "Depot1  Truck1   ArcDriven_Depot1_Client1_Truck1+ArcDriven_Depot1_Client2_Truck1"
                        ]
                    },
                    "metadata": {},
                    "output_type": "display_data"
                }
            ],
            "source": [
                "Terminals =  sm.InputTables['Locations'][sm.InputTables['Locations'][\"Type\"]==\"Depot\"][\"LocationName\"].values\n",
                "Entering_nodes = Arc_truck.reset_index(drop = False)\n",
                "Entering_nodes= Entering_nodes[~Entering_nodes[\"Destination\"].isin(Terminals)].set_index([\"Origin\",\"TruckID\"])\n",
                "Entering_nodes = Entering_nodes[\"xArcDriven\"].groupby([\"Origin\",\"TruckID\"]).agg(Times_truck_enter_location =\"sum\")\n",
                "\n",
                "display( Entering_nodes.tail(3))\n",
                "\n",
                "for row in Entering_nodes.itertuples():\n",
                "    mdl.add_constraint(row.Times_truck_enter_location== 1)"
            ]
        },
        {
            "cell_type": "code",
            "execution_count": 133,
            "metadata": {},
            "outputs": [
                {
                    "data": {
                        "text/html": [
                            "<div>\n",
                            "<style scoped>\n",
                            "    .dataframe tbody tr th:only-of-type {\n",
                            "        vertical-align: middle;\n",
                            "    }\n",
                            "\n",
                            "    .dataframe tbody tr th {\n",
                            "        vertical-align: top;\n",
                            "    }\n",
                            "\n",
                            "    .dataframe thead th {\n",
                            "        text-align: right;\n",
                            "    }\n",
                            "</style>\n",
                            "<table border=\"1\" class=\"dataframe\">\n",
                            "  <thead>\n",
                            "    <tr style=\"text-align: right;\">\n",
                            "      <th></th>\n",
                            "      <th>Times_truck_enter_location</th>\n",
                            "    </tr>\n",
                            "    <tr>\n",
                            "      <th>Destination</th>\n",
                            "      <th></th>\n",
                            "    </tr>\n",
                            "  </thead>\n",
                            "  <tbody>\n",
                            "    <tr>\n",
                            "      <th>Client1</th>\n",
                            "      <td>ArcDriven_Client2_Client1_Truck1+ArcDriven_Depot1_Client1_Truck1</td>\n",
                            "    </tr>\n",
                            "    <tr>\n",
                            "      <th>Client2</th>\n",
                            "      <td>ArcDriven_Client1_Client2_Truck1+ArcDriven_Depot1_Client2_Truck1</td>\n",
                            "    </tr>\n",
                            "  </tbody>\n",
                            "</table>\n",
                            "</div>"
                        ],
                        "text/plain": [
                            "                                                   Times_truck_enter_location\n",
                            "Destination                                                                  \n",
                            "Client1      ArcDriven_Client2_Client1_Truck1+ArcDriven_Depot1_Client1_Truck1\n",
                            "Client2      ArcDriven_Client1_Client2_Truck1+ArcDriven_Depot1_Client2_Truck1"
                        ]
                    },
                    "metadata": {},
                    "output_type": "display_data"
                }
            ],
            "source": [
                "Terminals =  sm.InputTables['Locations'][sm.InputTables['Locations'][\"Type\"]==\"Depot\"][\"LocationName\"].values\n",
                "Entering_nodes = Arc_truck.reset_index(drop = False)\n",
                "Entering_nodes= Entering_nodes[~Entering_nodes[\"Destination\"].isin(Terminals)].set_index([\"Destination\",\"TruckID\"])\n",
                "#Entering_nodes\n",
                "Entering_nodes = Entering_nodes[\"xArcDriven\"].groupby([\"Destination\"]).agg(Times_truck_enter_location =\"sum\")\n",
                "Entering_nodes\n",
                "display( Entering_nodes.tail(3))\n",
                "\n",
                "for row in Entering_nodes.itertuples():\n",
                "    mdl.add_constraint(row.Times_truck_enter_location== 1)\n"
            ]
        },
        {
            "cell_type": "markdown",
            "metadata": {},
            "source": [
                "Every vehicle leaves the depot, Together with constraint 1, we know that every vehicle arrives again at the depot.\n",
                "\n",
                "$\\sum_{j=2}^{n} x_{ijk} =   1$  for all k"
            ]
        },
        {
            "cell_type": "code",
            "execution_count": 134,
            "metadata": {},
            "outputs": [
                {
                    "data": {
                        "text/html": [
                            "<div>\n",
                            "<style scoped>\n",
                            "    .dataframe tbody tr th:only-of-type {\n",
                            "        vertical-align: middle;\n",
                            "    }\n",
                            "\n",
                            "    .dataframe tbody tr th {\n",
                            "        vertical-align: top;\n",
                            "    }\n",
                            "\n",
                            "    .dataframe thead th {\n",
                            "        text-align: right;\n",
                            "    }\n",
                            "</style>\n",
                            "<table border=\"1\" class=\"dataframe\">\n",
                            "  <thead>\n",
                            "    <tr style=\"text-align: right;\">\n",
                            "      <th></th>\n",
                            "      <th>Times_truck_leaves_depot</th>\n",
                            "    </tr>\n",
                            "    <tr>\n",
                            "      <th>TruckID</th>\n",
                            "      <th></th>\n",
                            "    </tr>\n",
                            "  </thead>\n",
                            "  <tbody>\n",
                            "    <tr>\n",
                            "      <th>Truck1</th>\n",
                            "      <td>ArcDriven_Depot1_Client1_Truck1+ArcDriven_Depot1_Client2_Truck1</td>\n",
                            "    </tr>\n",
                            "  </tbody>\n",
                            "</table>\n",
                            "</div>"
                        ],
                        "text/plain": [
                            "                                                Times_truck_leaves_depot\n",
                            "TruckID                                                                 \n",
                            "Truck1   ArcDriven_Depot1_Client1_Truck1+ArcDriven_Depot1_Client2_Truck1"
                        ]
                    },
                    "metadata": {},
                    "output_type": "display_data"
                }
            ],
            "source": [
                "Outgoing_depot = Arc_truck.reset_index(drop = False)\n",
                "Outgoing_depot= Outgoing_depot[Outgoing_depot[\"Origin\"].isin(Terminals)].set_index([\"Origin\",\"TruckID\"])\n",
                "Outgoing_depot = Outgoing_depot[\"xArcDriven\"].groupby(\"TruckID\").agg(Times_truck_leaves_depot =\"sum\")\n",
                "\n",
                "display( Outgoing_depot.tail(3))\n",
                "\n",
                "#for row in Outgoing_depot.itertuples():\n",
                "    #mdl.add_constraint(row.Times_truck_leaves_depot== 1)"
            ]
        },
        {
            "cell_type": "markdown",
            "metadata": {},
            "source": [
                "Capacity constraint :Respect the capacity of the vehicles. Note that all vehicles have the same capacity."
            ]
        },
        {
            "cell_type": "markdown",
            "metadata": {},
            "source": [
                "$\\sum_{i=1}^{n} \\sum_{j=2}^{n} x_{ijk} <=   Q$  for all $k$"
            ]
        },
        {
            "cell_type": "code",
            "execution_count": 135,
            "metadata": {},
            "outputs": [
                {
                    "data": {
                        "text/html": [
                            "<div>\n",
                            "<style scoped>\n",
                            "    .dataframe tbody tr th:only-of-type {\n",
                            "        vertical-align: middle;\n",
                            "    }\n",
                            "\n",
                            "    .dataframe tbody tr th {\n",
                            "        vertical-align: top;\n",
                            "    }\n",
                            "\n",
                            "    .dataframe thead th {\n",
                            "        text-align: right;\n",
                            "    }\n",
                            "</style>\n",
                            "<table border=\"1\" class=\"dataframe\">\n",
                            "  <thead>\n",
                            "    <tr style=\"text-align: right;\">\n",
                            "      <th></th>\n",
                            "      <th>Total_route_demand</th>\n",
                            "      <th>Unfulfilled_delivery_Truck</th>\n",
                            "      <th>fulfilled_delivery_Truck</th>\n",
                            "    </tr>\n",
                            "    <tr>\n",
                            "      <th>TruckID</th>\n",
                            "      <th></th>\n",
                            "      <th></th>\n",
                            "      <th></th>\n",
                            "    </tr>\n",
                            "  </thead>\n",
                            "  <tbody>\n",
                            "    <tr>\n",
                            "      <th>Truck1</th>\n",
                            "      <td>9ArcDriven_Client1_Client2_Truck1+4ArcDriven_Client2_Client1_Truck1+4ArcDriven_Depot1_Client1_Truck1+9ArcDriven_Depot1_Client2_Truck1</td>\n",
                            "      <td>Unfulfilled_delivery_Truck1</td>\n",
                            "      <td>9ArcDriven_Client1_Client2_Truck1+4ArcDriven_Client2_Client1_Truck1+4ArcDriven_Depot1_Client1_Truck1+9ArcDriven_Depot1_Client2_Truck1-Unfulfilled_delivery_Truck1</td>\n",
                            "    </tr>\n",
                            "  </tbody>\n",
                            "</table>\n",
                            "</div>"
                        ],
                        "text/plain": [
                            "                                                                                                                            Total_route_demand  ...                                                                                                                                           fulfilled_delivery_Truck\n",
                            "TruckID                                                                                                                                         ...                                                                                                                                                                   \n",
                            "Truck1   9ArcDriven_Client1_Client2_Truck1+4ArcDriven_Client2_Client1_Truck1+4ArcDriven_Depot1_Client1_Truck1+9ArcDriven_Depot1_Client2_Truck1  ...  9ArcDriven_Client1_Client2_Truck1+4ArcDriven_Client2_Client1_Truck1+4ArcDriven_Depot1_Client1_Truck1+9ArcDriven_Depot1_Client2_Truck1-Unfulfilled_delivery_Truck1\n",
                            "\n",
                            "[1 rows x 3 columns]"
                        ]
                    },
                    "metadata": {},
                    "output_type": "display_data"
                }
            ],
            "source": [
                "Outgoing_arcs = Arc_truck.reset_index(drop = False)[['Origin','Destination','TruckID','xArcDriven']]\n",
                "Outgoing_arcs= Outgoing_arcs[~Outgoing_arcs[\"Destination\"].isin(Terminals)]#.set_index([\"Origin\",\"TruckID\"])\n",
                "df =  pd.merge(Outgoing_arcs,Demand, left_on = \"Destination\", right_on = \"GasStationID\" )\n",
                "df[\"Delived_demand\"]= df[\"xArcDriven\"] * df[\"Quantity\"]\n",
                "\n",
                "delivery = df[[\"TruckID\",\"Delived_demand\"]].groupby(\"TruckID\").sum().rename(columns = {\"Delived_demand\":\"Total_route_demand\"})\n",
                "delivery[\"Unfulfilled_delivery_Truck\"]=continuous_var_series(delivery,mdl, name = \"Unfulfilled_delivery\")\n",
                "delivery[\"fulfilled_delivery_Truck\"]=delivery[\"Total_route_demand\"] - delivery[\"Unfulfilled_delivery_Truck\"]\n",
                "\n",
                "\n",
                "display(delivery)\n",
                "for row in delivery.itertuples():\n",
                "    mdl.add_constraint(row.Total_route_demand - row.Unfulfilled_delivery_Truck <= Truck_capacity)"
            ]
        },
        {
            "cell_type": "code",
            "execution_count": 136,
            "metadata": {},
            "outputs": [],
            "source": []
        },
        {
            "cell_type": "markdown",
            "metadata": {},
            "source": [
                "multiple depots"
            ]
        },
        {
            "cell_type": "markdown",
            "metadata": {},
            "source": [
                "$\\sum_{j \\in customers} x_{ijk} <=   1$  for all $k, i \\in depots$\n",
                "\n",
                "$\\sum_{i \\in customers} x_{ijk} <=   1$  for all $k, j \\in depots$"
            ]
        },
        {
            "cell_type": "code",
            "execution_count": 136,
            "metadata": {},
            "outputs": [
                {
                    "data": {
                        "text/html": [
                            "<div>\n",
                            "<style scoped>\n",
                            "    .dataframe tbody tr th:only-of-type {\n",
                            "        vertical-align: middle;\n",
                            "    }\n",
                            "\n",
                            "    .dataframe tbody tr th {\n",
                            "        vertical-align: top;\n",
                            "    }\n",
                            "\n",
                            "    .dataframe thead th {\n",
                            "        text-align: right;\n",
                            "    }\n",
                            "</style>\n",
                            "<table border=\"1\" class=\"dataframe\">\n",
                            "  <thead>\n",
                            "    <tr style=\"text-align: right;\">\n",
                            "      <th></th>\n",
                            "      <th></th>\n",
                            "      <th>xArcDriven</th>\n",
                            "    </tr>\n",
                            "    <tr>\n",
                            "      <th>TruckID</th>\n",
                            "      <th>Origin</th>\n",
                            "      <th></th>\n",
                            "    </tr>\n",
                            "  </thead>\n",
                            "  <tbody>\n",
                            "    <tr>\n",
                            "      <th>Truck1</th>\n",
                            "      <th>Depot1</th>\n",
                            "      <td>ArcDriven_Depot1_Client1_Truck1+ArcDriven_Depot1_Client2_Truck1</td>\n",
                            "    </tr>\n",
                            "  </tbody>\n",
                            "</table>\n",
                            "</div>"
                        ],
                        "text/plain": [
                            "                                                                     xArcDriven\n",
                            "TruckID Origin                                                                 \n",
                            "Truck1  Depot1  ArcDriven_Depot1_Client1_Truck1+ArcDriven_Depot1_Client2_Truck1"
                        ]
                    },
                    "metadata": {},
                    "output_type": "display_data"
                }
            ],
            "source": [
                "Outgoing_depots = Arc_truck.reset_index(drop = False)\n",
                "Outgoing_depots = Outgoing_depots[Outgoing_depots[\"Origin\"].isin(Terminals)]\n",
                "Outgoing_depots = Outgoing_depots[~Outgoing_depots[\"Destination\"].isin(Terminals)]\n",
                "Outgoing_depots = Outgoing_depots[[\"TruckID\",\"Origin\",\"xArcDriven\"]].groupby([\"TruckID\",\"Origin\"]).sum()\n",
                "\n",
                "display(Outgoing_depots)\n",
                "\n",
                "for row in Outgoing_depots.itertuples():\n",
                "    mdl.add_constraint(row.xArcDriven<= 1)"
            ]
        },
        {
            "cell_type": "code",
            "execution_count": 137,
            "metadata": {},
            "outputs": [
                {
                    "data": {
                        "text/html": [
                            "<div>\n",
                            "<style scoped>\n",
                            "    .dataframe tbody tr th:only-of-type {\n",
                            "        vertical-align: middle;\n",
                            "    }\n",
                            "\n",
                            "    .dataframe tbody tr th {\n",
                            "        vertical-align: top;\n",
                            "    }\n",
                            "\n",
                            "    .dataframe thead th {\n",
                            "        text-align: right;\n",
                            "    }\n",
                            "</style>\n",
                            "<table border=\"1\" class=\"dataframe\">\n",
                            "  <thead>\n",
                            "    <tr style=\"text-align: right;\">\n",
                            "      <th></th>\n",
                            "      <th></th>\n",
                            "      <th>xArcDriven</th>\n",
                            "    </tr>\n",
                            "    <tr>\n",
                            "      <th>TruckID</th>\n",
                            "      <th>Destination</th>\n",
                            "      <th></th>\n",
                            "    </tr>\n",
                            "  </thead>\n",
                            "  <tbody>\n",
                            "    <tr>\n",
                            "      <th>Truck1</th>\n",
                            "      <th>Depot1</th>\n",
                            "      <td>ArcDriven_Client1_Depot1_Truck1+ArcDriven_Client2_Depot1_Truck1</td>\n",
                            "    </tr>\n",
                            "  </tbody>\n",
                            "</table>\n",
                            "</div>"
                        ],
                        "text/plain": [
                            "                                                                          xArcDriven\n",
                            "TruckID Destination                                                                 \n",
                            "Truck1  Depot1       ArcDriven_Client1_Depot1_Truck1+ArcDriven_Client2_Depot1_Truck1"
                        ]
                    },
                    "metadata": {},
                    "output_type": "display_data"
                }
            ],
            "source": [
                "Ingoing_depots = Arc_truck.reset_index(drop = False)\n",
                "Ingoing_depots = Ingoing_depots[Ingoing_depots[\"Destination\"].isin(Terminals)]\n",
                "Ingoing_depots = Ingoing_depots[~Ingoing_depots[\"Origin\"].isin(Terminals)]\n",
                "\n",
                "Ingoing_depots = Ingoing_depots[[\"TruckID\",\"Destination\",\"xArcDriven\"]].groupby([\"TruckID\",\"Destination\"]).sum()\n",
                "\n",
                "display(Ingoing_depots)\n",
                "\n",
                "for row in Ingoing_depots.itertuples():\n",
                "    mdl.add_constraint(row.xArcDriven<= 1)"
            ]
        },
        {
            "cell_type": "markdown",
            "metadata": {},
            "source": [
                "each truck only exit one depot"
            ]
        },
        {
            "cell_type": "code",
            "execution_count": 138,
            "metadata": {},
            "outputs": [
                {
                    "data": {
                        "text/html": [
                            "<div>\n",
                            "<style scoped>\n",
                            "    .dataframe tbody tr th:only-of-type {\n",
                            "        vertical-align: middle;\n",
                            "    }\n",
                            "\n",
                            "    .dataframe tbody tr th {\n",
                            "        vertical-align: top;\n",
                            "    }\n",
                            "\n",
                            "    .dataframe thead th {\n",
                            "        text-align: right;\n",
                            "    }\n",
                            "</style>\n",
                            "<table border=\"1\" class=\"dataframe\">\n",
                            "  <thead>\n",
                            "    <tr style=\"text-align: right;\">\n",
                            "      <th></th>\n",
                            "      <th>xArcDriven</th>\n",
                            "    </tr>\n",
                            "    <tr>\n",
                            "      <th>TruckID</th>\n",
                            "      <th></th>\n",
                            "    </tr>\n",
                            "  </thead>\n",
                            "  <tbody>\n",
                            "    <tr>\n",
                            "      <th>Truck1</th>\n",
                            "      <td>ArcDriven_Depot1_Client1_Truck1+ArcDriven_Depot1_Client2_Truck1</td>\n",
                            "    </tr>\n",
                            "  </tbody>\n",
                            "</table>\n",
                            "</div>"
                        ],
                        "text/plain": [
                            "                                                              xArcDriven\n",
                            "TruckID                                                                 \n",
                            "Truck1   ArcDriven_Depot1_Client1_Truck1+ArcDriven_Depot1_Client2_Truck1"
                        ]
                    },
                    "metadata": {},
                    "output_type": "display_data"
                }
            ],
            "source": [
                "Outgoing_depots = Arc_truck.reset_index(drop = False)\n",
                "Outgoing_depots = Outgoing_depots[Outgoing_depots[\"Origin\"].isin(Terminals)]\n",
                "Outgoing_depots = Outgoing_depots[~Outgoing_depots[\"Destination\"].isin(Terminals)]\n",
                "df = Outgoing_depots[[\"TruckID\",\"xArcDriven\"]].groupby([\"TruckID\"]).sum()\n",
                "\n",
                "display(df)\n",
                "\n",
                "for row in df.itertuples():\n",
                "    mdl.add_constraint(row.xArcDriven<= 1)"
            ]
        },
        {
            "cell_type": "markdown",
            "metadata": {},
            "source": [
                "Objective Function"
            ]
        },
        {
            "cell_type": "code",
            "execution_count": 139,
            "metadata": {},
            "outputs": [
                {
                    "data": {
                        "text/html": [
                            "<div>\n",
                            "<style scoped>\n",
                            "    .dataframe tbody tr th:only-of-type {\n",
                            "        vertical-align: middle;\n",
                            "    }\n",
                            "\n",
                            "    .dataframe tbody tr th {\n",
                            "        vertical-align: top;\n",
                            "    }\n",
                            "\n",
                            "    .dataframe thead th {\n",
                            "        text-align: right;\n",
                            "    }\n",
                            "</style>\n",
                            "<table border=\"1\" class=\"dataframe\">\n",
                            "  <thead>\n",
                            "    <tr style=\"text-align: right;\">\n",
                            "      <th></th>\n",
                            "      <th>Total_route_demand</th>\n",
                            "      <th>Unfulfilled_delivery_Truck</th>\n",
                            "      <th>fulfilled_delivery_Truck</th>\n",
                            "    </tr>\n",
                            "    <tr>\n",
                            "      <th>TruckID</th>\n",
                            "      <th></th>\n",
                            "      <th></th>\n",
                            "      <th></th>\n",
                            "    </tr>\n",
                            "  </thead>\n",
                            "  <tbody>\n",
                            "    <tr>\n",
                            "      <th>Truck1</th>\n",
                            "      <td>9ArcDriven_Client1_Client2_Truck1+4ArcDriven_Client2_Client1_Truck1+4ArcDriven_Depot1_Client1_Truck1+9ArcDriven_Depot1_Client2_Truck1</td>\n",
                            "      <td>Unfulfilled_delivery_Truck1</td>\n",
                            "      <td>9ArcDriven_Client1_Client2_Truck1+4ArcDriven_Client2_Client1_Truck1+4ArcDriven_Depot1_Client1_Truck1+9ArcDriven_Depot1_Client2_Truck1-Unfulfilled_delivery_Truck1</td>\n",
                            "    </tr>\n",
                            "  </tbody>\n",
                            "</table>\n",
                            "</div>"
                        ],
                        "text/plain": [
                            "                                                                                                                            Total_route_demand  ...                                                                                                                                           fulfilled_delivery_Truck\n",
                            "TruckID                                                                                                                                         ...                                                                                                                                                                   \n",
                            "Truck1   9ArcDriven_Client1_Client2_Truck1+4ArcDriven_Client2_Client1_Truck1+4ArcDriven_Depot1_Client1_Truck1+9ArcDriven_Depot1_Client2_Truck1  ...  9ArcDriven_Client1_Client2_Truck1+4ArcDriven_Client2_Client1_Truck1+4ArcDriven_Depot1_Client1_Truck1+9ArcDriven_Depot1_Client2_Truck1-Unfulfilled_delivery_Truck1\n",
                            "\n",
                            "[1 rows x 3 columns]"
                        ]
                    },
                    "execution_count": null,
                    "metadata": {},
                    "output_type": "execute_result"
                }
            ],
            "source": [
                "delivery"
            ]
        },
        {
            "cell_type": "code",
            "execution_count": 140,
            "metadata": {},
            "outputs": [
                {
                    "data": {
                        "text/plain": [
                            "DecisionKPI(name=Total_Unfulfilled_Demand,expr=Unfulfilled_delivery_Truck1)"
                        ]
                    },
                    "execution_count": null,
                    "metadata": {},
                    "output_type": "execute_result"
                }
            ],
            "source": [
                "Total_Distance = mdl.sum ( Arc_truck[\"xArcDriven\"]*Arc_truck[\"Distance\"])\n",
                "mdl.add_kpi( Total_Distance,\"Total_Distance\")\n",
                "            \n",
                "Total_Unfulfilled_Demand= mdl.sum (  delivery[\"Unfulfilled_delivery_Truck\"])\n",
                "mdl.add_kpi(Total_Unfulfilled_Demand,\"Total_Unfulfilled_Demand\")"
            ]
        },
        {
            "cell_type": "markdown",
            "metadata": {},
            "source": [
                "# Solve the optimization"
            ]
        },
        {
            "cell_type": "code",
            "execution_count": 141,
            "metadata": {},
            "outputs": [],
            "source": [
                "Locations = sm.InputTables['Locations'].set_index(\"LocationName\") \n",
                "Clients = Locations[Locations['Type']==\"Client\"]\n",
                "Depots = Locations[Locations['Type']==\"Depot\"] "
            ]
        },
        {
            "cell_type": "code",
            "execution_count": 142,
            "metadata": {},
            "outputs": [],
            "source": [
                "def find_subtours(Solution):\n",
                "    \n",
                "    graph  = nx.Graph()\n",
                "        \n",
                "    def create_node(name):\n",
                "        graph.add_node(name)\n",
                "\n",
                "    def create_edge(Origin,Destination):\n",
                "        graph.add_edge(Origin, Destination)\n",
                "\n",
                "    Node_edges = Solution[Solution[\"xArcDrivenSol\"]>0][[\"Origin\",\"Destination\",\"xArcDrivenSol\"]]\n",
                "\n",
                "    list(map(create_node,  Node_edges['Origin']));\n",
                "    list(map(create_edge,  Node_edges['Origin'], Node_edges['Destination']));\n",
                "    \n",
                "    #plt.figure()\n",
                "    #nx.draw(graph, node_size=500,with_labels=True, arrowsize=20, font_size=10 )\n",
                "\n",
                "    components = list(nx.connected_components(graph))\n",
                "    #if len(components) == 1:\n",
                "        #return []\n",
                "    #else:\n",
                "    return components\n",
                "    \n",
                "    \n",
                "\n",
                "def find_subtours_without_depot (Solution, Depots ):\n",
                "\n",
                "    subtours = find_subtours(Solution)\n",
                "    Subtours_without_depot = []\n",
                "    for subtour in subtours:\n",
                "        nodes_of_subtour =subtour\n",
                "        edges_of_subtour=[i for i in pairs(nodes_of_subtour)]\n",
                "        Depots_in_subtour = [i for i in Depots if i in nodes_of_subtour]\n",
                "        if len(Depots_in_subtour) ==0:\n",
                "            Subtours_without_depot.append(subtour)\n",
                "    return Subtours_without_depot"
            ]
        },
        {
            "cell_type": "code",
            "execution_count": 143,
            "metadata": {},
            "outputs": [],
            "source": [
                "penalization_factor = 100"
            ]
        },
        {
            "cell_type": "code",
            "execution_count": 144,
            "metadata": {},
            "outputs": [
                {
                    "ename": "DOcplexException",
                    "evalue": "Model<Toy_VRP> did not solve successfully",
                    "output_type": "error",
                    "traceback": [
                        "\u001b[1;31m----------------------------------------------\u001b[0m\n",
                        "\u001b[1;31mDOcplexException\u001b[0mTraceback (most recent call last)\n",
                        "File \u001b[1;32m<timed exec>:6\u001b[0m\n",
                        "\n",
                        "Cell \u001b[1;32mIn[122], line 29\u001b[0m, in \u001b[0;36mextract_solution\u001b[1;34m(df, extract_dvar_names, drop_column_names, drop)\u001b[0m\n",
                        "\u001b[0;32m     27\u001b[0m \u001b[38;5;28;01mfor\u001b[39;00m xDVarName \u001b[38;5;129;01min\u001b[39;00m extract_dvar_names:\n",
                        "\u001b[0;32m     28\u001b[0m     \u001b[38;5;28;01mif\u001b[39;00m xDVarName \u001b[38;5;129;01min\u001b[39;00m df\u001b[38;5;241m.\u001b[39mcolumns:\n",
                        "\u001b[1;32m---> 29\u001b[0m         df[\u001b[38;5;124mf\u001b[39m\u001b[38;5;124m'\u001b[39m\u001b[38;5;132;01m{\u001b[39;00mxDVarName\u001b[38;5;132;01m}\u001b[39;00m\u001b[38;5;124mSol\u001b[39m\u001b[38;5;124m'\u001b[39m] \u001b[38;5;241m=\u001b[39m [dvar\u001b[38;5;241m.\u001b[39msolution_value \u001b[38;5;28;01mfor\u001b[39;00m dvar \u001b[38;5;129;01min\u001b[39;00m df[xDVarName]]\n",
                        "\u001b[0;32m     30\u001b[0m         \u001b[38;5;28;01mif\u001b[39;00m drop:\n",
                        "\u001b[0;32m     31\u001b[0m             df \u001b[38;5;241m=\u001b[39m df\u001b[38;5;241m.\u001b[39mdrop([xDVarName], axis \u001b[38;5;241m=\u001b[39m \u001b[38;5;241m1\u001b[39m)\n",
                        "\n",
                        "Cell \u001b[1;32mIn[122], line 29\u001b[0m, in \u001b[0;36m<listcomp>\u001b[1;34m(.0)\u001b[0m\n",
                        "\u001b[0;32m     27\u001b[0m \u001b[38;5;28;01mfor\u001b[39;00m xDVarName \u001b[38;5;129;01min\u001b[39;00m extract_dvar_names:\n",
                        "\u001b[0;32m     28\u001b[0m     \u001b[38;5;28;01mif\u001b[39;00m xDVarName \u001b[38;5;129;01min\u001b[39;00m df\u001b[38;5;241m.\u001b[39mcolumns:\n",
                        "\u001b[1;32m---> 29\u001b[0m         df[\u001b[38;5;124mf\u001b[39m\u001b[38;5;124m'\u001b[39m\u001b[38;5;132;01m{\u001b[39;00mxDVarName\u001b[38;5;132;01m}\u001b[39;00m\u001b[38;5;124mSol\u001b[39m\u001b[38;5;124m'\u001b[39m] \u001b[38;5;241m=\u001b[39m [\u001b[43mdvar\u001b[49m\u001b[38;5;241;43m.\u001b[39;49m\u001b[43msolution_value\u001b[49m \u001b[38;5;28;01mfor\u001b[39;00m dvar \u001b[38;5;129;01min\u001b[39;00m df[xDVarName]]\n",
                        "\u001b[0;32m     30\u001b[0m         \u001b[38;5;28;01mif\u001b[39;00m drop:\n",
                        "\u001b[0;32m     31\u001b[0m             df \u001b[38;5;241m=\u001b[39m df\u001b[38;5;241m.\u001b[39mdrop([xDVarName], axis \u001b[38;5;241m=\u001b[39m \u001b[38;5;241m1\u001b[39m)\n",
                        "\n",
                        "File \u001b[1;32m~\\Python310\\lib\\site-packages\\docplex\\mp\\dvar.py:230\u001b[0m, in \u001b[0;36mVar.solution_value\u001b[1;34m(self)\u001b[0m\n",
                        "\u001b[0;32m    221\u001b[0m \u001b[38;5;129m@property\u001b[39m\n",
                        "\u001b[0;32m    222\u001b[0m \u001b[38;5;28;01mdef\u001b[39;00m \u001b[38;5;21msolution_value\u001b[39m(\u001b[38;5;28mself\u001b[39m):\n",
                        "\u001b[0;32m    223\u001b[0m     \u001b[38;5;124;03m\"\"\" This property returns the solution value of the variable.\u001b[39;00m\n",
                        "\u001b[0;32m    224\u001b[0m \n",
                        "\u001b[0;32m    225\u001b[0m \u001b[38;5;124;03m    Raises:\u001b[39;00m\n",
                        "\u001b[1;32m   (...)\u001b[0m\n",
                        "\u001b[0;32m    228\u001b[0m \n",
                        "\u001b[0;32m    229\u001b[0m \u001b[38;5;124;03m    \"\"\"\u001b[39;00m\n",
                        "\u001b[1;32m--> 230\u001b[0m     \u001b[38;5;28;43mself\u001b[39;49m\u001b[38;5;241;43m.\u001b[39;49m\u001b[43mmodel\u001b[49m\u001b[38;5;241;43m.\u001b[39;49m\u001b[43m_check_has_solution\u001b[49m\u001b[43m(\u001b[49m\u001b[43m)\u001b[49m\n",
                        "\u001b[0;32m    231\u001b[0m     \u001b[38;5;28;01mreturn\u001b[39;00m \u001b[38;5;28mself\u001b[39m\u001b[38;5;241m.\u001b[39m_raw_solution_value()\n",
                        "\n",
                        "File \u001b[1;32m~\\Python310\\lib\\site-packages\\docplex\\mp\\model.py:5189\u001b[0m, in \u001b[0;36mModel._check_has_solution\u001b[1;34m(self)\u001b[0m\n",
                        "\u001b[0;32m   5187\u001b[0m     \u001b[38;5;28mself\u001b[39m\u001b[38;5;241m.\u001b[39mfatal(\u001b[38;5;124m\"\u001b[39m\u001b[38;5;124mModel<\u001b[39m\u001b[38;5;132;01m{0}\u001b[39;00m\u001b[38;5;124m> has not been solved yet\u001b[39m\u001b[38;5;124m\"\u001b[39m, \u001b[38;5;28mself\u001b[39m\u001b[38;5;241m.\u001b[39mname)\n",
                        "\u001b[0;32m   5188\u001b[0m \u001b[38;5;28;01melse\u001b[39;00m:\n",
                        "\u001b[1;32m-> 5189\u001b[0m     \u001b[38;5;28;43mself\u001b[39;49m\u001b[38;5;241;43m.\u001b[39;49m\u001b[43mfatal\u001b[49m\u001b[43m(\u001b[49m\u001b[38;5;124;43m\"\u001b[39;49m\u001b[38;5;124;43mModel<\u001b[39;49m\u001b[38;5;132;43;01m{0}\u001b[39;49;00m\u001b[38;5;124;43m> did not solve successfully\u001b[39;49m\u001b[38;5;124;43m\"\u001b[39;49m\u001b[43m,\u001b[49m\u001b[43m \u001b[49m\u001b[38;5;28;43mself\u001b[39;49m\u001b[38;5;241;43m.\u001b[39;49m\u001b[43mname\u001b[49m\u001b[43m)\u001b[49m\n",
                        "\n",
                        "File \u001b[1;32m~\\Python310\\lib\\site-packages\\docplex\\mp\\model.py:1080\u001b[0m, in \u001b[0;36mModel.fatal\u001b[1;34m(self, msg, *args)\u001b[0m\n",
                        "\u001b[0;32m   1079\u001b[0m \u001b[38;5;28;01mdef\u001b[39;00m \u001b[38;5;21mfatal\u001b[39m(\u001b[38;5;28mself\u001b[39m, msg, \u001b[38;5;241m*\u001b[39margs):\n",
                        "\u001b[1;32m-> 1080\u001b[0m     \u001b[38;5;28;43mself\u001b[39;49m\u001b[38;5;241;43m.\u001b[39;49m\u001b[43m_error_handler\u001b[49m\u001b[38;5;241;43m.\u001b[39;49m\u001b[43mfatal\u001b[49m\u001b[43m(\u001b[49m\u001b[43mmsg\u001b[49m\u001b[43m,\u001b[49m\u001b[43m \u001b[49m\u001b[43margs\u001b[49m\u001b[43m)\u001b[49m\n",
                        "\n",
                        "File \u001b[1;32m~\\Python310\\lib\\site-packages\\docplex\\mp\\error_handler.py:210\u001b[0m, in \u001b[0;36mAbstractErrorHandler.fatal\u001b[1;34m(self, msg, args)\u001b[0m\n",
                        "\u001b[0;32m    208\u001b[0m resolved_message \u001b[38;5;241m=\u001b[39m resolve_pattern(msg, args)\n",
                        "\u001b[0;32m    209\u001b[0m docplex_error_stop_here()\n",
                        "\u001b[1;32m--> 210\u001b[0m \u001b[38;5;28;01mraise\u001b[39;00m DOcplexException(resolved_message)\n",
                        "\n",
                        "\u001b[1;31mDOcplexException\u001b[0m: Model<Toy_VRP> did not solve successfully"
                    ]
                }
            ],
            "source": [
                "%%time\n",
                "\n",
                "mdl.time_limit= 60 * 1\n",
                "mdl.minimize(Total_Distance+penalization_factor * Total_Unfulfilled_Demand)\n",
                "mdl.solve() #log_output=True\n",
                "\n",
                "\n",
                "Solution = extract_solution(Arc_truck, drop = False, extract_dvar_names =[\"xArcDriven\"]).reset_index(drop = False)\n",
                "#Solution\n",
                "\n",
                "subtours = find_subtours_without_depot (Solution, Depots.index )\n",
                "\n",
                "print(\"Find Subtours\")\n",
                "i=0\n",
                "while subtours:\n",
                "    i=i+1\n",
                "    print(\"Interation \"+str(i)+ \": \"+str(len(subtours))+ \" subtours are found\")\n",
                "    for subtour in subtours:\n",
                "        nodes_of_subtour = subtour\n",
                "        SubtourRoutes = Arc_truck[[\"xArcDriven\"]].reset_index(drop = False)\n",
                "        SubtourRoutes = SubtourRoutes[ (~SubtourRoutes[\"Origin\"].isin(Depots.index)) &  (~SubtourRoutes[\"Destination\"].isin(Depots.index))]\n",
                "        edges_trucks_of_subtour = SubtourRoutes[(SubtourRoutes[\"Origin\"].isin(nodes_of_subtour)) & (SubtourRoutes[\"Destination\"].isin(nodes_of_subtour))]\n",
                "        subtour_arcs_summation = edges_trucks_of_subtour[[\"TruckID\",\"xArcDriven\"]].groupby(\"TruckID\").sum().rename(columns = {\"xArcDriven\":\"xArcDrivenTourSum\"})  \n",
                "        subtour_arcs_summation[\"Number_nodes_subtour\"]= len(nodes_of_subtour)\n",
                "        #display(subtour_arcs_summation)\n",
                "\n",
                "            #print(\"Interation \"+str(i)+ \": add \" + str(len(subtour_arcs_summation)) + \" constraints\")\n",
                "        for row in subtour_arcs_summation.itertuples():\n",
                "            mdl.add_constraint(row.xArcDrivenTourSum <= row.Number_nodes_subtour - 1 )\n",
                "    else:\n",
                "        subtours=[]\n",
                "\n",
                "    mdl.minimize(Total_Distance+penalization_factor * Total_Unfulfilled_Demand)\n",
                "    mdl.solve() #log_output=True\n",
                "    print(\"Solved Again!\")\n",
                "    Solution = extract_solution(Arc_truck, drop = False, extract_dvar_names =[\"xArcDriven\"]).reset_index(drop = False)\n",
                "    subtours = find_subtours_without_depot (Solution, Depots.index )\n",
                "        \n",
                "print(\"Removed Subtours!\")"
            ]
        },
        {
            "cell_type": "code",
            "execution_count": null,
            "metadata": {},
            "outputs": [],
            "source": [
                "mdl.print_information()"
            ]
        },
        {
            "cell_type": "code",
            "execution_count": null,
            "metadata": {},
            "outputs": [],
            "source": [
                "mdl.report()"
            ]
        },
        {
            "cell_type": "code",
            "execution_count": null,
            "metadata": {},
            "outputs": [],
            "source": [
                "cmap=plt.cm.get_cmap(\"Set1\", number_of_trucks)\n",
                "#https://matplotlib.org/stable/tutorials/colors/colormaps.html\n",
                "\n",
                "plt.scatter(Clients[\"Latitude\"], Clients[\"Longitude\"], c='y', s=200)\n",
                "for i in range(0,number_of_clientes):\n",
                "    plt.annotate(Clients.index.values[i], (Clients[\"Latitude\"].iloc[i]+2, Clients[\"Longitude\"].iloc[i]))\n",
                "\n",
                "\n",
                "plt.scatter(Depots[\"Latitude\"], Depots[\"Longitude\"],c='c', marker='s', s=200)\n",
                "for i in range(0,number_of_depots):\n",
                "    plt.annotate(Depots.index.values[i], (Depots[\"Latitude\"].iloc[i]+2, Depots[\"Longitude\"].iloc[i])) \n",
                "    \n",
                "\n",
                "for row in Solution.itertuples() :\n",
                "    if row.xArcDrivenSol>0:\n",
                "        x=Locations.loc[row.Origin][\"Latitude\"]\n",
                "        y=Locations.loc[row.Origin][\"Longitude\"]\n",
                "        dx=Locations.loc[row.Destination][\"Latitude\"] - Locations.loc[row.Origin][\"Latitude\"]\n",
                "        dy=Locations.loc[row.Destination][\"Longitude\"] - Locations.loc[row.Origin][\"Longitude\"]\n",
                "        \n",
                "        truck_index = np.where ( Trucks[\"TruckID\"].values == row.TruckID )[0]    \n",
                "        plt.arrow(x, y, dx, dy, head_width=3, color=cmap(truck_index))     \n",
                "          \n",
                "\n",
                "        #plt.plot([Locations.loc[row.Origin][\"Latitude\"], Locations.loc[row.Destination][\"Latitude\"]], [Locations.loc[row.Origin][\"Longitude\"], Locations.loc[row.Destination][\"Longitude\"]], c='g', alpha=0.3)\n",
                "\n",
                "    \n",
                "plt.title(\"routes between demands and depots\");  "
            ]
        },
        {
            "cell_type": "code",
            "execution_count": null,
            "metadata": {},
            "outputs": [],
            "source": [
                "Solution[Solution[\"xArcDrivenSol\"]>0].sort_values(\"TruckID\")"
            ]
        },
        {
            "cell_type": "code",
            "execution_count": null,
            "metadata": {},
            "outputs": [],
            "source": [
                "extract_solution(delivery, drop = True, extract_dvar_names =[\"Total_route_demand\",\"fulfilled_delivery_Truck\",\"Unfulfilled_delivery_Truck\"]).reset_index(drop = False)   "
            ]
        },
        {
            "cell_type": "code",
            "execution_count": null,
            "metadata": {},
            "outputs": [],
            "source": [
                "Demand[\"Quantity\"].sum()"
            ]
        },
        {
            "cell_type": "code",
            "execution_count": null,
            "metadata": {},
            "outputs": [],
            "source": []
        }
    ],
    "metadata": {
        "interpreter": {
            "hash": "409d98d8d7f2724c686dfb6a2ddc1d35f22770c454811ff64ebd43c4f7d1aec9"
        },
        "kernelspec": {
            "display_name": "Python 3.9",
            "language": "python",
            "name": "python3"
        },
        "language_info": {
            "codemirror_mode": {
                "name": "ipython",
                "version": 3
            },
            "file_extension": ".py",
            "mimetype": "text/x-python",
            "name": "python",
            "nbconvert_exporter": "python",
            "pygments_lexer": "ipython3",
            "version": "3.9.7"
        }
    },
    "nbformat": 4,
    "nbformat_minor": 2
}

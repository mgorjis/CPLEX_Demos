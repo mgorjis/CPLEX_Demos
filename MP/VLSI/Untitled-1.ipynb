{
 "cells": [
  {
   "cell_type": "code",
   "execution_count": 13,
   "metadata": {},
   "outputs": [
    {
     "data": {
      "text/plain": [
       "'2.25.236'"
      ]
     },
     "execution_count": 13,
     "metadata": {},
     "output_type": "execute_result"
    }
   ],
   "source": [
    "import pandas as pd\n",
    "from dse_do_utils import DataManager, OptimizationEngine,ScenarioManager\n",
    "from docplex.mp.model import Model\n",
    "import pandas as pd\n",
    "pd.set_option('display.max_colwidth', None)\n",
    "pd.set_option('display.max_rows', None)\n",
    "\n",
    "from docplex import __version__\n",
    "__version__"
   ]
  },
  {
   "cell_type": "markdown",
   "metadata": {},
   "source": [
    "Borrowed from \"Ashok D. Belegundu; Tirupathi R. Chandrupatla, Optimization Concepts and Applications in Engineering, 2011 \""
   ]
  },
  {
   "cell_type": "markdown",
   "metadata": {},
   "source": [
    "VLSI (very large-scale integration) is a process used to build electronic components\n",
    "such as microprocessors and memory chips comprising millions of transistors.\n",
    "The first stage of the VLSI design process typically produces a set of\n",
    "indivisible rectangular blocks called cells. In a second stage, interconnection\n",
    "information is used to determine the relative placements of these cells. In a\n",
    "third stage, implementations are selected for the various cells with the goal of\n",
    "optimizing the total area, which is related to cost of the chips. It is the third\n",
    "stage, floor plan optimization, for which we give a simple example below."
   ]
  },
  {
   "cell_type": "markdown",
   "metadata": {},
   "source": [
    "We are given three rectangular cells. Dimensions of C1 is 5 × 10, C2 can be\n",
    "chosen as 3 × 8, 2 × 12, or 6 × 4, and C3 can be chosen 5 × 8 or 8 × 5."
   ]
  },
  {
   "cell_type": "markdown",
   "metadata": {},
   "source": [
    " Relative ordering of the cells must satisfy the following vertical and horizontal ordering:"
   ]
  },
  {
   "cell_type": "markdown",
   "metadata": {},
   "source": [
    "Let ($w_i$ , $h_i$ ), $i = 1, 2, 3$, denote the width and height of cell i, and ($x_i$, $y_i$) denote the coordinates of the left bottom corner of cell $i$. $W$ and $H$ are the sizes of bounding rectangle, where the area supposed to be maximized. "
   ]
  },
  {
   "cell_type": "markdown",
   "metadata": {},
   "source": [
    "![](vlsi.png)"
   ]
  },
  {
   "cell_type": "markdown",
   "metadata": {},
   "source": [
    "$y_1 + h_1 ≤ H$\n",
    "\n",
    "$y_3 + h_3 ≤ y_2$\n",
    "\n",
    "$y_2 + h_2 ≤ H$\n",
    "\n",
    "$x_1 + w_1 ≤ x_2$\n",
    "\n",
    "$x_1 + w_1 ≤ x_3$\n",
    "\n",
    "$x_2 + w_2 ≤ W$\n",
    "\n",
    "$x_3 + w_3 ≤ W$"
   ]
  },
  {
   "cell_type": "code",
   "execution_count": 14,
   "metadata": {},
   "outputs": [],
   "source": [
    "mdl = Model(name=\"vlsi\")"
   ]
  },
  {
   "cell_type": "code",
   "execution_count": 15,
   "metadata": {},
   "outputs": [],
   "source": [
    "h1 = mdl.continuous_var(lb = 0, name = 'h1')\n",
    "h2 = mdl.continuous_var(lb = 0, name = 'h2')\n",
    "h3 = mdl.continuous_var(lb = 0, name = 'h3')\n",
    "\n",
    "w1 = mdl.continuous_var(lb = 0, name = 'w1')\n",
    "w2 = mdl.continuous_var(lb = 0, name = 'w2')\n",
    "w3 = mdl.continuous_var(lb = 0, name = 'w3')\n",
    "\n",
    "H = mdl.continuous_var(lb = 0, name = 'H')\n",
    "W = mdl.continuous_var(lb = 0, name = 'W')\n",
    "\n",
    "x1 = mdl.continuous_var(lb = 0, name = 'x1')\n",
    "x2 = mdl.continuous_var(lb = 0, name = 'x2')\n",
    "x3 = mdl.continuous_var(lb = 0, name = 'x3')\n",
    "\n",
    "y1 = mdl.continuous_var(lb = 0, name = 'y1')\n",
    "y2 = mdl.continuous_var(lb = 0, name = 'y2')\n",
    "y3 = mdl.continuous_var(lb = 0, name = 'y3')\n",
    "\n"
   ]
  },
  {
   "cell_type": "code",
   "execution_count": 16,
   "metadata": {},
   "outputs": [
    {
     "data": {
      "text/plain": [
       "docplex.mp.LinearConstraint[](w3+x3,LE,W)"
      ]
     },
     "execution_count": 16,
     "metadata": {},
     "output_type": "execute_result"
    }
   ],
   "source": [
    "mdl.add_constraint(y1 + h1 <= H)\n",
    "mdl.add_constraint(y3 + h3 <= y2)\n",
    "mdl.add_constraint(y2 + h2 <= H)\n",
    "mdl.add_constraint(x1 + w1 <= x2)\n",
    "mdl.add_constraint(x1 + w1 <= x3)\n",
    "mdl.add_constraint(x2 + w2 <= W)\n",
    "mdl.add_constraint(x3 + w3 <= W)"
   ]
  },
  {
   "cell_type": "markdown",
   "metadata": {},
   "source": [
    "Introducing the binary (or 0/1) variables $d_{i j}$ to implement discrete selection"
   ]
  },
  {
   "cell_type": "code",
   "execution_count": 17,
   "metadata": {},
   "outputs": [],
   "source": [
    "d21 = mdl.binary_var( name = 'd21')\n",
    "d22 = mdl.binary_var(name = 'd22')\n",
    "d23 = mdl.binary_var(name = 'd23')\n",
    "\n",
    "d31 = mdl.binary_var( name = 'd31')\n",
    "d32 = mdl.binary_var( name = 'd32')"
   ]
  },
  {
   "cell_type": "code",
   "execution_count": 18,
   "metadata": {},
   "outputs": [
    {
     "data": {
      "text/html": [
       "<div>\n",
       "<style scoped>\n",
       "    .dataframe tbody tr th:only-of-type {\n",
       "        vertical-align: middle;\n",
       "    }\n",
       "\n",
       "    .dataframe tbody tr th {\n",
       "        vertical-align: top;\n",
       "    }\n",
       "\n",
       "    .dataframe thead th {\n",
       "        text-align: right;\n",
       "    }\n",
       "</style>\n",
       "<table border=\"1\" class=\"dataframe\">\n",
       "  <thead>\n",
       "    <tr style=\"text-align: right;\">\n",
       "      <th></th>\n",
       "      <th>cell</th>\n",
       "      <th>h</th>\n",
       "      <th>w</th>\n",
       "      <th>cases</th>\n",
       "    </tr>\n",
       "  </thead>\n",
       "  <tbody>\n",
       "    <tr>\n",
       "      <th>0</th>\n",
       "      <td>C1</td>\n",
       "      <td>5</td>\n",
       "      <td>10</td>\n",
       "      <td>0</td>\n",
       "    </tr>\n",
       "    <tr>\n",
       "      <th>1</th>\n",
       "      <td>C2</td>\n",
       "      <td>3</td>\n",
       "      <td>8</td>\n",
       "      <td>d21</td>\n",
       "    </tr>\n",
       "    <tr>\n",
       "      <th>2</th>\n",
       "      <td>C2</td>\n",
       "      <td>2</td>\n",
       "      <td>12</td>\n",
       "      <td>d22</td>\n",
       "    </tr>\n",
       "    <tr>\n",
       "      <th>3</th>\n",
       "      <td>C2</td>\n",
       "      <td>6</td>\n",
       "      <td>4</td>\n",
       "      <td>d23</td>\n",
       "    </tr>\n",
       "    <tr>\n",
       "      <th>4</th>\n",
       "      <td>C3</td>\n",
       "      <td>5</td>\n",
       "      <td>8</td>\n",
       "      <td>d31</td>\n",
       "    </tr>\n",
       "    <tr>\n",
       "      <th>5</th>\n",
       "      <td>C3</td>\n",
       "      <td>8</td>\n",
       "      <td>5</td>\n",
       "      <td>d32</td>\n",
       "    </tr>\n",
       "  </tbody>\n",
       "</table>\n",
       "</div>"
      ],
      "text/plain": [
       "  cell  h   w cases\n",
       "0   C1  5  10     0\n",
       "1   C2  3   8   d21\n",
       "2   C2  2  12   d22\n",
       "3   C2  6   4   d23\n",
       "4   C3  5   8   d31\n",
       "5   C3  8   5   d32"
      ]
     },
     "execution_count": 18,
     "metadata": {},
     "output_type": "execute_result"
    }
   ],
   "source": [
    "options = [['C1', 5 , 10], ['C2',3,8],['C2',2,12],['C2',6,4],['C3',5,8],['C3',8,5]]\n",
    "options = pd.DataFrame(options, columns = ['cell','h','w'])\n",
    "options['cases'] = [0, d21, d22, d23, d31,d32]\n",
    "options"
   ]
  },
  {
   "cell_type": "code",
   "execution_count": 19,
   "metadata": {},
   "outputs": [
    {
     "data": {
      "text/plain": [
       "docplex.mp.LinearConstraint[](d31+d32,EQ,1)"
      ]
     },
     "execution_count": 19,
     "metadata": {},
     "output_type": "execute_result"
    }
   ],
   "source": [
    "mdl.add_constraint(8*d21 + 12 * d22 + 4*d23 == w2)\n",
    "mdl.add_constraint(3*d21 + 2 * d22 + 6*d23 == h2)\n",
    "\n",
    "mdl.add_constraint(5*d31 + 8 * d32  == w3)\n",
    "mdl.add_constraint(8*d31 + 5 * d32  == h3)\n",
    "\n",
    "mdl.add_constraint(d21 +  d22 + d23  == 1)\n",
    "mdl.add_constraint(d31 +  d32  == 1)\n"
   ]
  },
  {
   "cell_type": "markdown",
   "metadata": {},
   "source": [
    "# For testing only. add constraint for optimal solution\n",
    "\n",
    "mdl.add_constraint(x1   == 0)  # added for testing only\n",
    "mdl.add_constraint(y1   == 0)  # added for testing only\n",
    "mdl.add_constraint(w1   == 5)  # added for testing only\n",
    "mdl.add_constraint(h1   == 10)  # added for testing only\n",
    "\n",
    "mdl.add_constraint(x2   == 5)  # added for testing only\n",
    "mdl.add_constraint(y2   == 7)  # added for testing only\n",
    "mdl.add_constraint(w2   == 8)  # added for testing only\n",
    "mdl.add_constraint(h2   == 3)  # added for testing only\n",
    "\n",
    "mdl.add_constraint(x3   == 5)  # added for testing only\n",
    "mdl.add_constraint(y3   == 0)  # added for testing only\n",
    "mdl.add_constraint(w3   == 8)  # added for testing only\n",
    "mdl.add_constraint(h3   == 5)  # added for testing only\n",
    "\n",
    "mdl.add_constraint(d32   == 1)  # added for testing only\n",
    "mdl.add_constraint(d21   == 1)  # added for testing only4\n",
    "mdl.add_constraint(W   == 13)  # added for testing only4\n",
    "mdl.add_constraint(H   == 10)  # added for testing only4"
   ]
  },
  {
   "cell_type": "code",
   "execution_count": 20,
   "metadata": {},
   "outputs": [
    {
     "name": "stdout",
     "output_type": "stream",
     "text": [
      "Model: vlsi\n",
      " - number of variables: 19\n",
      "   - binary=5, integer=0, continuous=14\n",
      " - number of constraints: 13\n",
      "   - linear=13\n",
      " - parameters:\n",
      "     parameters.dettimelimit = 120.00000000000000\n",
      "     parameters.optimalitytarget = 3\n",
      " - objective: none\n",
      " - problem type is: MILP\n"
     ]
    }
   ],
   "source": [
    "#https://www.ibm.com/docs/en/icos/22.1.1?topic=parameters-linearization-switch-qp-miqp\n",
    "#https://www.ibm.com/docs/en/icos/22.1.1?topic=smippqt-miqp-mixed-integer-programs-quadratic-terms-in-objective-function\n",
    "\n",
    "mdl.parameters.optimalitytarget = 3\n",
    "mdl.parameters.dettimelimit = 120\n",
    "#mdl.parameters.preprocessing.qtolin = 1\n",
    "#mdl.parameters.emphasis.numerical =1\n",
    "\n",
    "mdl.print_information()"
   ]
  },
  {
   "cell_type": "code",
   "execution_count": 21,
   "metadata": {},
   "outputs": [
    {
     "name": "stdout",
     "output_type": "stream",
     "text": [
      "Version identifier: 22.1.1.0 | 2022-11-27 | 9160aff4d\n",
      "CPXPARAM_Read_DataCheck                          1\n",
      "CPXPARAM_OptimalityTarget                        3\n",
      "CPXPARAM_DetTimeLimit                            120\n",
      "Tried aggregator 2 times.\n",
      "MIQP Presolve eliminated 3 rows and 7 columns.\n",
      "MIQP Presolve added 0 rows and 4 columns.\n",
      "MIQP Presolve modified 6 coefficients.\n",
      "Aggregator did 5 substitutions.\n",
      "Reduced MIQP has 9 rows, 12 columns, and 24 nonzeros.\n",
      "Reduced MIQP has 4 binaries, 0 generals, 0 SOSs, and 0 indicators.\n",
      "Reduced MIQP objective Q matrix has 2 nonzeros.\n",
      "Presolve time = 0.00 sec. (0.04 ticks)\n",
      "Probing time = 0.00 sec. (0.00 ticks)\n",
      "Clique table members: 1.\n",
      "\n",
      "        Nodes                                         Cuts/\n",
      "   Node  Left     Objective  IInf  Best Integer    Best Bound    ItCnt     Gap\n",
      "\n",
      "      0     1  -1.00000e+37     0                                    0         \n",
      "\n",
      "Root node processing (before b&c):\n",
      "  Real time             =    0.02 sec. (0.08 ticks)\n",
      "Parallel b&c, 8 threads:\n",
      "  Real time             =    0.00 sec. (0.00 ticks)\n",
      "  Sync time (average)   =    0.00 sec.\n",
      "  Wait time (average)   =    0.00 sec.\n",
      "                          ------------\n",
      "Total (root+branch&cut) =    0.02 sec. (0.08 ticks)\n"
     ]
    },
    {
     "ename": "AssertionError",
     "evalue": "Solve failed",
     "output_type": "error",
     "traceback": [
      "\u001b[1;31m---------------------------------------------------------------------------\u001b[0m",
      "\u001b[1;31mAssertionError\u001b[0m                            Traceback (most recent call last)",
      "Cell \u001b[1;32mIn[21], line 6\u001b[0m\n\u001b[0;32m      2\u001b[0m mdl\u001b[38;5;241m.\u001b[39madd_kpi(area   , \u001b[38;5;124m\"\u001b[39m\u001b[38;5;124marea\u001b[39m\u001b[38;5;124m\"\u001b[39m)\n\u001b[0;32m      3\u001b[0m mdl\u001b[38;5;241m.\u001b[39mminimize(area)\n\u001b[1;32m----> 6\u001b[0m \u001b[38;5;28;01massert\u001b[39;00m mdl\u001b[38;5;241m.\u001b[39msolve(log_output\u001b[38;5;241m=\u001b[39m\u001b[38;5;28;01mTrue\u001b[39;00m), \u001b[38;5;124m\"\u001b[39m\u001b[38;5;124mSolve failed\u001b[39m\u001b[38;5;124m\"\u001b[39m \n\u001b[0;32m      7\u001b[0m mdl\u001b[38;5;241m.\u001b[39mreport()\n",
      "\u001b[1;31mAssertionError\u001b[0m: Solve failed"
     ]
    }
   ],
   "source": [
    "area = W * H\n",
    "mdl.add_kpi(area   , \"area\")\n",
    "mdl.minimize(area)\n",
    "\n",
    "\n",
    "assert mdl.solve(log_output=True), \"Solve failed\" \n",
    "mdl.report()"
   ]
  },
  {
   "cell_type": "code",
   "execution_count": 22,
   "metadata": {},
   "outputs": [
    {
     "name": "stdout",
     "output_type": "stream",
     "text": [
      "Solve Status = constructed relaxation is unbounded\n"
     ]
    }
   ],
   "source": [
    "print(f\"Solve Status = {mdl.solve_details.status}\")"
   ]
  },
  {
   "cell_type": "code",
   "execution_count": 23,
   "metadata": {},
   "outputs": [
    {
     "ename": "DOcplexException",
     "evalue": "Model<vlsi> did not solve successfully",
     "output_type": "error",
     "traceback": [
      "\u001b[1;31m---------------------------------------------------------------------------\u001b[0m",
      "\u001b[1;31mDOcplexException\u001b[0m                          Traceback (most recent call last)",
      "Cell \u001b[1;32mIn[23], line 1\u001b[0m\n\u001b[1;32m----> 1\u001b[0m \u001b[43mmdl\u001b[49m\u001b[38;5;241;43m.\u001b[39;49m\u001b[43mprint_solution\u001b[49m\u001b[43m(\u001b[49m\u001b[43m)\u001b[49m\n",
      "File \u001b[1;32mc:\\Users\\m_gor\\Python310\\lib\\site-packages\\docplex\\mp\\model.py:6081\u001b[0m, in \u001b[0;36mModel.print_solution\u001b[1;34m(self, print_zeros, solution_header_fmt, var_value_fmt, **kwargs)\u001b[0m\n\u001b[0;32m   6063\u001b[0m \u001b[38;5;28;01mdef\u001b[39;00m \u001b[38;5;21mprint_solution\u001b[39m(\u001b[38;5;28mself\u001b[39m, print_zeros\u001b[38;5;241m=\u001b[39m\u001b[38;5;28;01mFalse\u001b[39;00m,\n\u001b[0;32m   6064\u001b[0m                    solution_header_fmt\u001b[38;5;241m=\u001b[39m\u001b[38;5;28;01mNone\u001b[39;00m,\n\u001b[0;32m   6065\u001b[0m                    var_value_fmt\u001b[38;5;241m=\u001b[39m\u001b[38;5;28;01mNone\u001b[39;00m,\n\u001b[0;32m   6066\u001b[0m                    \u001b[38;5;241m*\u001b[39m\u001b[38;5;241m*\u001b[39mkwargs):\n\u001b[0;32m   6067\u001b[0m     \u001b[38;5;124;03m\"\"\"  Prints the values of the model variables after a solve.\u001b[39;00m\n\u001b[0;32m   6068\u001b[0m \n\u001b[0;32m   6069\u001b[0m \u001b[38;5;124;03m    Only valid after a successful solve. If the model has not been solved successfully, an\u001b[39;00m\n\u001b[1;32m   (...)\u001b[0m\n\u001b[0;32m   6079\u001b[0m \u001b[38;5;124;03m        :func:`docplex.mp.solution.SolveSolution.display`\u001b[39;00m\n\u001b[0;32m   6080\u001b[0m \u001b[38;5;124;03m    \"\"\"\u001b[39;00m\n\u001b[1;32m-> 6081\u001b[0m     \u001b[38;5;28;43mself\u001b[39;49m\u001b[38;5;241;43m.\u001b[39;49m\u001b[43m_check_has_solution\u001b[49m\u001b[43m(\u001b[49m\u001b[43m)\u001b[49m\n\u001b[0;32m   6082\u001b[0m     \u001b[38;5;28;01mif\u001b[39;00m var_value_fmt \u001b[38;5;129;01mis\u001b[39;00m \u001b[38;5;28;01mNone\u001b[39;00m:\n\u001b[0;32m   6083\u001b[0m         \u001b[38;5;28;01mif\u001b[39;00m \u001b[38;5;28mself\u001b[39m\u001b[38;5;241m.\u001b[39m_has_username_with_spaces():\n",
      "File \u001b[1;32mc:\\Users\\m_gor\\Python310\\lib\\site-packages\\docplex\\mp\\model.py:5189\u001b[0m, in \u001b[0;36mModel._check_has_solution\u001b[1;34m(self)\u001b[0m\n\u001b[0;32m   5187\u001b[0m     \u001b[38;5;28mself\u001b[39m\u001b[38;5;241m.\u001b[39mfatal(\u001b[38;5;124m\"\u001b[39m\u001b[38;5;124mModel<\u001b[39m\u001b[38;5;132;01m{0}\u001b[39;00m\u001b[38;5;124m> has not been solved yet\u001b[39m\u001b[38;5;124m\"\u001b[39m, \u001b[38;5;28mself\u001b[39m\u001b[38;5;241m.\u001b[39mname)\n\u001b[0;32m   5188\u001b[0m \u001b[38;5;28;01melse\u001b[39;00m:\n\u001b[1;32m-> 5189\u001b[0m     \u001b[38;5;28;43mself\u001b[39;49m\u001b[38;5;241;43m.\u001b[39;49m\u001b[43mfatal\u001b[49m\u001b[43m(\u001b[49m\u001b[38;5;124;43m\"\u001b[39;49m\u001b[38;5;124;43mModel<\u001b[39;49m\u001b[38;5;132;43;01m{0}\u001b[39;49;00m\u001b[38;5;124;43m> did not solve successfully\u001b[39;49m\u001b[38;5;124;43m\"\u001b[39;49m\u001b[43m,\u001b[49m\u001b[43m \u001b[49m\u001b[38;5;28;43mself\u001b[39;49m\u001b[38;5;241;43m.\u001b[39;49m\u001b[43mname\u001b[49m\u001b[43m)\u001b[49m\n",
      "File \u001b[1;32mc:\\Users\\m_gor\\Python310\\lib\\site-packages\\docplex\\mp\\model.py:1080\u001b[0m, in \u001b[0;36mModel.fatal\u001b[1;34m(self, msg, *args)\u001b[0m\n\u001b[0;32m   1079\u001b[0m \u001b[38;5;28;01mdef\u001b[39;00m \u001b[38;5;21mfatal\u001b[39m(\u001b[38;5;28mself\u001b[39m, msg, \u001b[38;5;241m*\u001b[39margs):\n\u001b[1;32m-> 1080\u001b[0m     \u001b[38;5;28;43mself\u001b[39;49m\u001b[38;5;241;43m.\u001b[39;49m\u001b[43m_error_handler\u001b[49m\u001b[38;5;241;43m.\u001b[39;49m\u001b[43mfatal\u001b[49m\u001b[43m(\u001b[49m\u001b[43mmsg\u001b[49m\u001b[43m,\u001b[49m\u001b[43m \u001b[49m\u001b[43margs\u001b[49m\u001b[43m)\u001b[49m\n",
      "File \u001b[1;32mc:\\Users\\m_gor\\Python310\\lib\\site-packages\\docplex\\mp\\error_handler.py:210\u001b[0m, in \u001b[0;36mAbstractErrorHandler.fatal\u001b[1;34m(self, msg, args)\u001b[0m\n\u001b[0;32m    208\u001b[0m resolved_message \u001b[38;5;241m=\u001b[39m resolve_pattern(msg, args)\n\u001b[0;32m    209\u001b[0m docplex_error_stop_here()\n\u001b[1;32m--> 210\u001b[0m \u001b[38;5;28;01mraise\u001b[39;00m DOcplexException(resolved_message)\n",
      "\u001b[1;31mDOcplexException\u001b[0m: Model<vlsi> did not solve successfully"
     ]
    }
   ],
   "source": [
    "mdl.print_solution()"
   ]
  },
  {
   "cell_type": "code",
   "execution_count": null,
   "metadata": {},
   "outputs": [
    {
     "ename": "DOcplexException",
     "evalue": "KPI.compute() requires a solution, but model is not solved and no solution was passed",
     "output_type": "error",
     "traceback": [
      "\u001b[1;31m---------------------------------------------------------------------------\u001b[0m",
      "\u001b[1;31mDOcplexException\u001b[0m                          Traceback (most recent call last)",
      "Cell \u001b[1;32mIn[12], line 1\u001b[0m\n\u001b[1;32m----> 1\u001b[0m \u001b[43mmdl\u001b[49m\u001b[38;5;241;43m.\u001b[39;49m\u001b[43mreport_kpis\u001b[49m\u001b[43m(\u001b[49m\u001b[43m)\u001b[49m\n",
      "File \u001b[1;32mc:\\Users\\m_gor\\Python310\\lib\\site-packages\\docplex\\mp\\model.py:6140\u001b[0m, in \u001b[0;36mModel.report_kpis\u001b[1;34m(self, solution, selected_kpis, kpi_format)\u001b[0m\n\u001b[0;32m   6138\u001b[0m     max_kpi_name_len \u001b[38;5;241m=\u001b[39m \u001b[38;5;241m0\u001b[39m\n\u001b[0;32m   6139\u001b[0m \u001b[38;5;28;01mfor\u001b[39;00m kpi \u001b[38;5;129;01min\u001b[39;00m printed_kpis:\n\u001b[1;32m-> 6140\u001b[0m     kpi_value \u001b[38;5;241m=\u001b[39m \u001b[43mkpi\u001b[49m\u001b[38;5;241;43m.\u001b[39;49m\u001b[43mcompute\u001b[49m\u001b[43m(\u001b[49m\u001b[43msolution\u001b[49m\u001b[43m)\u001b[49m\n\u001b[0;32m   6141\u001b[0m     \u001b[38;5;28;01mif\u001b[39;00m is_number(kpi_value):\n\u001b[0;32m   6142\u001b[0m         k_format \u001b[38;5;241m=\u001b[39m kpi_num_format\n",
      "File \u001b[1;32mc:\\Users\\m_gor\\Python310\\lib\\site-packages\\docplex\\mp\\kpi.py:164\u001b[0m, in \u001b[0;36mDecisionKPI.compute\u001b[1;34m(self, s)\u001b[0m\n\u001b[0;32m    146\u001b[0m \u001b[38;5;28;01mdef\u001b[39;00m \u001b[38;5;21mcompute\u001b[39m(\u001b[38;5;28mself\u001b[39m, s\u001b[38;5;241m=\u001b[39m\u001b[38;5;28;01mNone\u001b[39;00m):\n\u001b[0;32m    147\u001b[0m     \u001b[38;5;124;03m\"\"\" Redefinition of the abstract `compute(s=None)` method.\u001b[39;00m\n\u001b[0;32m    148\u001b[0m \n\u001b[0;32m    149\u001b[0m \u001b[38;5;124;03m    Returns:\u001b[39;00m\n\u001b[1;32m   (...)\u001b[0m\n\u001b[0;32m    162\u001b[0m \u001b[38;5;124;03m        :class:`docplex.mp.solution.SolveSolution`\u001b[39;00m\n\u001b[0;32m    163\u001b[0m \u001b[38;5;124;03m    \"\"\"\u001b[39;00m\n\u001b[1;32m--> 164\u001b[0m     es \u001b[38;5;241m=\u001b[39m \u001b[38;5;28;43mself\u001b[39;49m\u001b[38;5;241;43m.\u001b[39;49m\u001b[43m_ensure_solution\u001b[49m\u001b[43m(\u001b[49m\u001b[43ms\u001b[49m\u001b[43m,\u001b[49m\u001b[43m \u001b[49m\u001b[43mdo_raise\u001b[49m\u001b[38;5;241;43m=\u001b[39;49m\u001b[38;5;28;43;01mTrue\u001b[39;49;00m\u001b[43m)\u001b[49m\n\u001b[0;32m    165\u001b[0m     \u001b[38;5;28;01mreturn\u001b[39;00m \u001b[38;5;28mself\u001b[39m\u001b[38;5;241m.\u001b[39m_expr\u001b[38;5;241m.\u001b[39m_raw_solution_value(es)\n",
      "File \u001b[1;32mc:\\Users\\m_gor\\Python310\\lib\\site-packages\\docplex\\mp\\kpi.py:69\u001b[0m, in \u001b[0;36mKPI._ensure_solution\u001b[1;34m(self, s, do_raise)\u001b[0m\n\u001b[0;32m     67\u001b[0m     \u001b[38;5;28;01mreturn\u001b[39;00m ms\n\u001b[0;32m     68\u001b[0m \u001b[38;5;28;01melif\u001b[39;00m do_raise:\n\u001b[1;32m---> 69\u001b[0m     \u001b[38;5;28;43mself\u001b[39;49m\u001b[38;5;241;43m.\u001b[39;49m\u001b[43mget_model\u001b[49m\u001b[43m(\u001b[49m\u001b[43m)\u001b[49m\u001b[38;5;241;43m.\u001b[39;49m\u001b[43mfatal\u001b[49m\u001b[43m(\u001b[49m\u001b[38;5;124;43m\"\u001b[39;49m\u001b[38;5;124;43mKPI.compute() requires a solution, but model is not solved and no solution was passed\u001b[39;49m\u001b[38;5;124;43m\"\u001b[39;49m\u001b[43m)\u001b[49m\n\u001b[0;32m     70\u001b[0m \u001b[38;5;28;01melse\u001b[39;00m:\n\u001b[0;32m     71\u001b[0m     \u001b[38;5;28;01mreturn\u001b[39;00m \u001b[38;5;28;01mNone\u001b[39;00m\n",
      "File \u001b[1;32mc:\\Users\\m_gor\\Python310\\lib\\site-packages\\docplex\\mp\\model.py:1080\u001b[0m, in \u001b[0;36mModel.fatal\u001b[1;34m(self, msg, *args)\u001b[0m\n\u001b[0;32m   1079\u001b[0m \u001b[38;5;28;01mdef\u001b[39;00m \u001b[38;5;21mfatal\u001b[39m(\u001b[38;5;28mself\u001b[39m, msg, \u001b[38;5;241m*\u001b[39margs):\n\u001b[1;32m-> 1080\u001b[0m     \u001b[38;5;28;43mself\u001b[39;49m\u001b[38;5;241;43m.\u001b[39;49m\u001b[43m_error_handler\u001b[49m\u001b[38;5;241;43m.\u001b[39;49m\u001b[43mfatal\u001b[49m\u001b[43m(\u001b[49m\u001b[43mmsg\u001b[49m\u001b[43m,\u001b[49m\u001b[43m \u001b[49m\u001b[43margs\u001b[49m\u001b[43m)\u001b[49m\n",
      "File \u001b[1;32mc:\\Users\\m_gor\\Python310\\lib\\site-packages\\docplex\\mp\\error_handler.py:210\u001b[0m, in \u001b[0;36mAbstractErrorHandler.fatal\u001b[1;34m(self, msg, args)\u001b[0m\n\u001b[0;32m    208\u001b[0m resolved_message \u001b[38;5;241m=\u001b[39m resolve_pattern(msg, args)\n\u001b[0;32m    209\u001b[0m docplex_error_stop_here()\n\u001b[1;32m--> 210\u001b[0m \u001b[38;5;28;01mraise\u001b[39;00m DOcplexException(resolved_message)\n",
      "\u001b[1;31mDOcplexException\u001b[0m: KPI.compute() requires a solution, but model is not solved and no solution was passed"
     ]
    }
   ],
   "source": [
    "mdl.report_kpis()"
   ]
  },
  {
   "cell_type": "code",
   "execution_count": null,
   "metadata": {},
   "outputs": [],
   "source": []
  },
  {
   "cell_type": "code",
   "execution_count": null,
   "metadata": {},
   "outputs": [],
   "source": [
    "#mdl.export_as_mps(\"vlsi1.mps\")"
   ]
  },
  {
   "cell_type": "code",
   "execution_count": null,
   "metadata": {},
   "outputs": [
    {
     "data": {
      "text/plain": [
       "2"
      ]
     },
     "execution_count": 117,
     "metadata": {},
     "output_type": "execute_result"
    }
   ],
   "source": [
    "2"
   ]
  },
  {
   "cell_type": "code",
   "execution_count": null,
   "metadata": {},
   "outputs": [],
   "source": []
  }
 ],
 "metadata": {
  "kernelspec": {
   "display_name": "Python 3",
   "language": "python",
   "name": "python3"
  },
  "language_info": {
   "codemirror_mode": {
    "name": "ipython",
    "version": 3
   },
   "file_extension": ".py",
   "mimetype": "text/x-python",
   "name": "python",
   "nbconvert_exporter": "python",
   "pygments_lexer": "ipython3",
   "version": "3.10.8"
  }
 },
 "nbformat": 4,
 "nbformat_minor": 2
}

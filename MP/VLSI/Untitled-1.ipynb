{
 "cells": [
  {
   "cell_type": "code",
   "execution_count": 1,
   "metadata": {},
   "outputs": [
    {
     "data": {
      "text/plain": [
       "'2.25.236'"
      ]
     },
     "execution_count": 1,
     "metadata": {},
     "output_type": "execute_result"
    }
   ],
   "source": [
    "import pandas as pd\n",
    "from dse_do_utils import DataManager, OptimizationEngine,ScenarioManager\n",
    "from docplex.mp.model import Model\n",
    "import pandas as pd\n",
    "pd.set_option('display.max_colwidth', None)\n",
    "pd.set_option('display.max_rows', None)\n",
    "\n",
    "from docplex import __version__\n",
    "__version__"
   ]
  },
  {
   "cell_type": "markdown",
   "metadata": {},
   "source": [
    "Borrowed from \"Ashok D. Belegundu; Tirupathi R. Chandrupatla, Optimization Concepts and Applications in Engineering, 2011 \""
   ]
  },
  {
   "cell_type": "markdown",
   "metadata": {},
   "source": [
    "VLSI (very large-scale integration) is a process used to build electronic components\n",
    "such as microprocessors and memory chips comprising millions of transistors.\n",
    "The first stage of the VLSI design process typically produces a set of\n",
    "indivisible rectangular blocks called cells. In a second stage, interconnection\n",
    "information is used to determine the relative placements of these cells. In a\n",
    "third stage, implementations are selected for the various cells with the goal of\n",
    "optimizing the total area, which is related to cost of the chips. It is the third\n",
    "stage, floor plan optimization, for which we give a simple example below."
   ]
  },
  {
   "cell_type": "markdown",
   "metadata": {},
   "source": [
    "We are given three rectangular cells. Dimensions of C1 is 5 × 10, C2 can be\n",
    "chosen as 3 × 8, 2 × 12, or 6 × 4, and C3 can be chosen 5 × 8 or 8 × 5."
   ]
  },
  {
   "cell_type": "markdown",
   "metadata": {},
   "source": [
    " Relative ordering of the cells must satisfy the following vertical and horizontal ordering:"
   ]
  },
  {
   "cell_type": "markdown",
   "metadata": {},
   "source": [
    "Let ($w_i$ , $h_i$ ), $i = 1, 2, 3$, denote the width and height of cell i, and ($x_i$, $y_i$) denote the coordinates of the left bottom corner of cell $i$. $W$ and $H$ are the sizes of bounding rectangle, where the area supposed to be maximized. "
   ]
  },
  {
   "cell_type": "markdown",
   "metadata": {},
   "source": [
    "![](vlsi.png)"
   ]
  },
  {
   "cell_type": "markdown",
   "metadata": {},
   "source": [
    "$y_1 + h_1 ≤ H$\n",
    "\n",
    "$y_3 + h_3 ≤ y_2$\n",
    "\n",
    "$y_2 + h_2 ≤ H$\n",
    "\n",
    "$x_1 + w_1 ≤ x_2$\n",
    "\n",
    "$x_1 + w_1 ≤ x_3$\n",
    "\n",
    "$x_2 + w_2 ≤ W$\n",
    "\n",
    "$x_3 + w_3 ≤ W$"
   ]
  },
  {
   "cell_type": "code",
   "execution_count": 2,
   "metadata": {},
   "outputs": [],
   "source": [
    "mdl = Model(name=\"vlsi\")"
   ]
  },
  {
   "cell_type": "code",
   "execution_count": 3,
   "metadata": {},
   "outputs": [],
   "source": [
    "h1 = mdl.continuous_var(lb = 2, ub = 10, name = 'h1')\n",
    "h2 = mdl.continuous_var(lb = 2,  ub = 10, name = 'h2')\n",
    "h3 = mdl.continuous_var(lb = 2,  ub = 10, name = 'h3')\n",
    "\n",
    "w1 = mdl.continuous_var(lb = 2,  ub = 10, name = 'w1')\n",
    "w2 = mdl.continuous_var(lb = 2,  ub = 10, name = 'w2')\n",
    "w3 = mdl.continuous_var(lb = 2,  ub = 10, name = 'w3')\n",
    "\n",
    "H = mdl.continuous_var(lb = 2, ub = 15,  name = 'H')\n",
    "W = mdl.continuous_var(lb = 2, ub = 15,  name = 'W')\n",
    "\n",
    "x1 = mdl.continuous_var(lb = 0,  ub = 15, name = 'x1')\n",
    "x2 = mdl.continuous_var(lb = 0,  ub = 15, name = 'x2')\n",
    "x3 = mdl.continuous_var(lb = 0,  ub = 15, name = 'x3')\n",
    "\n",
    "y1 = mdl.continuous_var(lb = 0,  ub = 15, name = 'y1')\n",
    "y2 = mdl.continuous_var(lb = 0,  ub = 15, name = 'y2')\n",
    "y3 = mdl.continuous_var(lb = 0,  ub = 15, name = 'y3')\n",
    "\n"
   ]
  },
  {
   "cell_type": "code",
   "execution_count": 4,
   "metadata": {},
   "outputs": [
    {
     "data": {
      "text/plain": [
       "docplex.mp.LinearConstraint[](w3+x3,LE,W)"
      ]
     },
     "execution_count": 4,
     "metadata": {},
     "output_type": "execute_result"
    }
   ],
   "source": [
    "mdl.add_constraint(y1 + h1 <= H)\n",
    "mdl.add_constraint(y3 + h3 <= y2)\n",
    "mdl.add_constraint(y2 + h2 <= H)\n",
    "mdl.add_constraint(x1 + w1 <= x2)\n",
    "mdl.add_constraint(x1 + w1 <= x3)\n",
    "mdl.add_constraint(x2 + w2 <= W)\n",
    "mdl.add_constraint(x3 + w3 <= W)"
   ]
  },
  {
   "cell_type": "markdown",
   "metadata": {},
   "source": [
    "Introducing the binary (or 0/1) variables $d_{i j}$ to implement discrete selection"
   ]
  },
  {
   "cell_type": "code",
   "execution_count": 5,
   "metadata": {},
   "outputs": [],
   "source": [
    "d21 = mdl.binary_var( name = 'd21')\n",
    "d22 = mdl.binary_var(name = 'd22')\n",
    "d23 = mdl.binary_var(name = 'd23')\n",
    "\n",
    "d31 = mdl.binary_var( name = 'd31')\n",
    "d32 = mdl.binary_var( name = 'd32')"
   ]
  },
  {
   "cell_type": "code",
   "execution_count": 6,
   "metadata": {},
   "outputs": [
    {
     "data": {
      "text/html": [
       "<div>\n",
       "<style scoped>\n",
       "    .dataframe tbody tr th:only-of-type {\n",
       "        vertical-align: middle;\n",
       "    }\n",
       "\n",
       "    .dataframe tbody tr th {\n",
       "        vertical-align: top;\n",
       "    }\n",
       "\n",
       "    .dataframe thead th {\n",
       "        text-align: right;\n",
       "    }\n",
       "</style>\n",
       "<table border=\"1\" class=\"dataframe\">\n",
       "  <thead>\n",
       "    <tr style=\"text-align: right;\">\n",
       "      <th></th>\n",
       "      <th>cell</th>\n",
       "      <th>h</th>\n",
       "      <th>w</th>\n",
       "      <th>cases</th>\n",
       "    </tr>\n",
       "  </thead>\n",
       "  <tbody>\n",
       "    <tr>\n",
       "      <th>0</th>\n",
       "      <td>C1</td>\n",
       "      <td>5</td>\n",
       "      <td>10</td>\n",
       "      <td>0</td>\n",
       "    </tr>\n",
       "    <tr>\n",
       "      <th>1</th>\n",
       "      <td>C2</td>\n",
       "      <td>3</td>\n",
       "      <td>8</td>\n",
       "      <td>d21</td>\n",
       "    </tr>\n",
       "    <tr>\n",
       "      <th>2</th>\n",
       "      <td>C2</td>\n",
       "      <td>2</td>\n",
       "      <td>12</td>\n",
       "      <td>d22</td>\n",
       "    </tr>\n",
       "    <tr>\n",
       "      <th>3</th>\n",
       "      <td>C2</td>\n",
       "      <td>6</td>\n",
       "      <td>4</td>\n",
       "      <td>d23</td>\n",
       "    </tr>\n",
       "    <tr>\n",
       "      <th>4</th>\n",
       "      <td>C3</td>\n",
       "      <td>5</td>\n",
       "      <td>8</td>\n",
       "      <td>d31</td>\n",
       "    </tr>\n",
       "    <tr>\n",
       "      <th>5</th>\n",
       "      <td>C3</td>\n",
       "      <td>8</td>\n",
       "      <td>5</td>\n",
       "      <td>d32</td>\n",
       "    </tr>\n",
       "  </tbody>\n",
       "</table>\n",
       "</div>"
      ],
      "text/plain": [
       "  cell  h   w cases\n",
       "0   C1  5  10     0\n",
       "1   C2  3   8   d21\n",
       "2   C2  2  12   d22\n",
       "3   C2  6   4   d23\n",
       "4   C3  5   8   d31\n",
       "5   C3  8   5   d32"
      ]
     },
     "execution_count": 6,
     "metadata": {},
     "output_type": "execute_result"
    }
   ],
   "source": [
    "options = [['C1', 5 , 10], ['C2',3,8],['C2',2,12],['C2',6,4],['C3',5,8],['C3',8,5]]\n",
    "options = pd.DataFrame(options, columns = ['cell','h','w'])\n",
    "options['cases'] = [0, d21, d22, d23, d31,d32]\n",
    "options"
   ]
  },
  {
   "cell_type": "code",
   "execution_count": 7,
   "metadata": {},
   "outputs": [
    {
     "data": {
      "text/plain": [
       "docplex.mp.LinearConstraint[](d31+d32,EQ,1)"
      ]
     },
     "execution_count": 7,
     "metadata": {},
     "output_type": "execute_result"
    }
   ],
   "source": [
    "mdl.add_constraint(8*d21 + 12 * d22 + 4*d23 == w2)\n",
    "mdl.add_constraint(3*d21 + 2 * d22 + 6*d23 == h2)\n",
    "\n",
    "mdl.add_constraint(5*d31 + 8 * d32  == w3)\n",
    "mdl.add_constraint(8*d31 + 5 * d32  == h3)\n",
    "\n",
    "mdl.add_constraint(d21 +  d22 + d23  == 1)\n",
    "mdl.add_constraint(d31 +  d32  == 1)\n"
   ]
  },
  {
   "cell_type": "markdown",
   "metadata": {},
   "source": [
    "# !!!For testing only. add constraint for known optimal solution!!!"
   ]
  },
  {
   "cell_type": "markdown",
   "metadata": {},
   "source": [
    "mdl.add_constraint(x1   == 0)  # added for testing only\n",
    "mdl.add_constraint(y1   == 0)  # added for testing only\n",
    "mdl.add_constraint(w1   == 5)  # added for testing only\n",
    "mdl.add_constraint(h1   == 10)  # added for testing only\n",
    "\n",
    "mdl.add_constraint(x2   == 5)  # added for testing only\n",
    "mdl.add_constraint(y2   == 7)  # added for testing only\n",
    "mdl.add_constraint(w2   == 8)  # added for testing only\n",
    "mdl.add_constraint(h2   == 3)  # added for testing only\n",
    "\n",
    "mdl.add_constraint(x3   == 5)  # added for testing only\n",
    "mdl.add_constraint(y3   == 0)  # added for testing only\n",
    "mdl.add_constraint(w3   == 8)  # added for testing only\n",
    "mdl.add_constraint(h3   == 5)  # added for testing only\n",
    "\n",
    "mdl.add_constraint(d32   == 1)  # added for testing only\n",
    "mdl.add_constraint(d21   == 1)  # added for testing only4\n",
    "mdl.add_constraint(W   == 13)  # added for testing only4\n",
    "mdl.add_constraint(H   == 10)  # added for testing only4"
   ]
  },
  {
   "cell_type": "code",
   "execution_count": 8,
   "metadata": {},
   "outputs": [
    {
     "name": "stdout",
     "output_type": "stream",
     "text": [
      "Model: vlsi\n",
      " - number of variables: 19\n",
      "   - binary=5, integer=0, continuous=14\n",
      " - number of constraints: 13\n",
      "   - linear=13\n",
      " - parameters:\n",
      "     parameters.dettimelimit = 120.00000000000000\n",
      "     parameters.optimalitytarget = 3\n",
      "     parameters.preprocessing.qtolin = 1\n",
      " - objective: none\n",
      " - problem type is: MILP\n"
     ]
    }
   ],
   "source": [
    "#https://www.ibm.com/docs/en/icos/22.1.1?topic=parameters-linearization-switch-qp-miqp\n",
    "#https://www.ibm.com/docs/en/icos/22.1.1?topic=smippqt-miqp-mixed-integer-programs-quadratic-terms-in-objective-function\n",
    "\n",
    "mdl.parameters.optimalitytarget = 3\n",
    "mdl.parameters.dettimelimit = 120\n",
    "mdl.parameters.preprocessing.qtolin = 1\n",
    "#mdl.parameters.emphasis.numerical =1\n",
    "\n",
    "mdl.print_information()"
   ]
  },
  {
   "cell_type": "code",
   "execution_count": 9,
   "metadata": {},
   "outputs": [
    {
     "name": "stdout",
     "output_type": "stream",
     "text": [
      "Version identifier: 22.1.1.0 | 2022-11-27 | 9160aff4d\n",
      "CPXPARAM_Read_DataCheck                          1\n",
      "CPXPARAM_OptimalityTarget                        3\n",
      "CPXPARAM_Preprocessing_QToLin                    1\n",
      "CPXPARAM_DetTimeLimit                            120\n",
      "Found incumbent of value 110.000000 after 0.00 sec. (0.00 ticks)\n",
      "Tried aggregator 2 times.\n",
      "MIQP Presolve eliminated 4 rows and 8 columns.\n",
      "MIQP Presolve modified 2 coefficients.\n",
      "Aggregator did 6 substitutions.\n",
      "Reduced MIQP has 4 rows, 6 columns, and 9 nonzeros.\n",
      "Reduced MIQP has 2 binaries, 0 generals, 0 SOSs, and 0 indicators.\n",
      "Reduced MIQP objective Q matrix has 2 nonzeros.\n",
      "Presolve time = 0.00 sec. (0.03 ticks)\n",
      "Probing time = 0.00 sec. (0.00 ticks)\n",
      "MIP emphasis: balance optimality and feasibility.\n",
      "MIP search method: dynamic search.\n",
      "Parallel mode: deterministic, using up to 8 threads.\n",
      "Root relaxation solution time = 0.00 sec. (0.01 ticks)\n",
      "\n",
      "        Nodes                                         Cuts/\n",
      "   Node  Left     Objective  IInf  Best Integer    Best Bound    ItCnt     Gap\n",
      "\n",
      "*     0     0      integral     0       80.0000       80.0000        0    0.00%\n",
      "      0     0        cutoff             80.0000       80.0000        0    0.00%\n",
      "Elapsed time = 0.03 sec. (0.07 ticks, tree = 0.01 MB, solutions = 1)\n",
      "\n",
      "Root node processing (before b&c):\n",
      "  Real time             =    0.03 sec. (0.07 ticks)\n",
      "Parallel b&c, 8 threads:\n",
      "  Real time             =    0.03 sec. (0.00 ticks)\n",
      "  Sync time (average)   =    0.00 sec.\n",
      "  Wait time (average)   =    0.00 sec.\n",
      "                          ------------\n",
      "Total (root+branch&cut) =    0.06 sec. (0.07 ticks)\n",
      "* model vlsi solved with objective = 80.000\n",
      "*  KPI: area = 80.000\n"
     ]
    }
   ],
   "source": [
    "area = W * H\n",
    "mdl.add_kpi(area   , \"area\")\n",
    "mdl.minimize(area)\n",
    "\n",
    "\n",
    "assert mdl.solve(log_output=True), \"Solve failed\" \n",
    "mdl.report()"
   ]
  },
  {
   "cell_type": "code",
   "execution_count": 10,
   "metadata": {},
   "outputs": [
    {
     "name": "stdout",
     "output_type": "stream",
     "text": [
      "Solve Status = integer optimal solution\n"
     ]
    }
   ],
   "source": [
    "print(f\"Solve Status = {mdl.solve_details.status}\")"
   ]
  },
  {
   "cell_type": "code",
   "execution_count": 11,
   "metadata": {},
   "outputs": [
    {
     "name": "stdout",
     "output_type": "stream",
     "text": [
      "objective: 80.000\n",
      "status: OPTIMAL_SOLUTION(2)\n",
      "  h1=2.000\n",
      "  h2=3.000\n",
      "  h3=5.000\n",
      "  w1=2.000\n",
      "  w2=8.000\n",
      "  w3=8.000\n",
      "  H=8.000\n",
      "  W=10.000\n",
      "  x2=2.000\n",
      "  x3=2.000\n",
      "  y2=5.000\n",
      "  d21=1\n",
      "  d32=1\n"
     ]
    }
   ],
   "source": [
    "mdl.print_solution()"
   ]
  },
  {
   "cell_type": "code",
   "execution_count": 12,
   "metadata": {},
   "outputs": [
    {
     "name": "stdout",
     "output_type": "stream",
     "text": [
      "*  KPI: area = 80.000\n"
     ]
    }
   ],
   "source": [
    "mdl.report_kpis()"
   ]
  },
  {
   "cell_type": "code",
   "execution_count": 13,
   "metadata": {},
   "outputs": [],
   "source": [
    "#mdl.export_as_mps(\"vlsi1.mps\")"
   ]
  }
 ],
 "metadata": {
  "kernelspec": {
   "display_name": "Python 3",
   "language": "python",
   "name": "python3"
  },
  "language_info": {
   "codemirror_mode": {
    "name": "ipython",
    "version": 3
   },
   "file_extension": ".py",
   "mimetype": "text/x-python",
   "name": "python",
   "nbconvert_exporter": "python",
   "pygments_lexer": "ipython3",
   "version": "3.10.8"
  }
 },
 "nbformat": 4,
 "nbformat_minor": 2
}

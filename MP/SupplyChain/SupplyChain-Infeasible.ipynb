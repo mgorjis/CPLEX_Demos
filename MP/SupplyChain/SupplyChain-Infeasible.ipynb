{
    "cells": [
        {
            "cell_type": "code",
            "execution_count": 1,
            "metadata": {},
            "outputs": [],
            "source": [
                "# The code was removed by Watson Studio for sharing."
            ]
        },
        {
            "cell_type": "markdown",
            "metadata": {},
            "source": [
                "Company X has two plants, Plant1 and Plant2, which can produce Product1 and Product2\n",
                "\n",
                "The cost of producing Product1 in Plant1 and Plant2 are 2 and 3 dollars, respectively\n",
                "\n",
                "The cost of producing Product2 in Plant1 and Plant2 are 4 and 5 dollars, respectively\n",
                "\n",
                "There are two customers, Customer1 and Customer2\n",
                "\n",
                "Customer1 needs 1000 of Product1 and 1300 of Product2\n",
                "\n",
                "Customer2 needs 1500 of Product1 and 1400 of Product2\n",
                "\n",
                "Cost of transportation of Product1 from Plant1 to Customer1 and Customer2 is 0.2 and 0.3 dollars.\n",
                "\n",
                "Cost of transportation of Product2 from Plant2 to Customer1 and Customer2 is 0.5 and 0.4 dollars.\n",
                "\n",
                "What is the best production and transportation plan that minimizes the costs?"
            ]
        },
        {
            "cell_type": "code",
            "execution_count": 2,
            "metadata": {},
            "outputs": [
                {
                    "name": "stdout",
                    "output_type": "stream",
                    "text": [
                        "Requirement already satisfied: dse_do_utils in c:\\users\\m_gor\\python310\\lib\\site-packages (0.5.5.1)\n"
                    ]
                }
            ],
            "source": [
                "!pip install dse_do_utils"
            ]
        },
        {
            "cell_type": "code",
            "execution_count": 2,
            "metadata": {},
            "outputs": [
                {
                    "data": {
                        "text/plain": [
                            "'2.25.236'"
                        ]
                    },
                    "execution_count": 2,
                    "metadata": {},
                    "output_type": "execute_result"
                }
            ],
            "source": [
                "from dse_do_utils import DataManager, OptimizationEngine,ScenarioManager\n",
                "from docplex.mp.model import Model\n",
                "import pandas as pd\n",
                "pd.set_option('display.max_colwidth', None)\n",
                "pd.set_option('display.max_rows', None)\n",
                "\n",
                "from docplex import __version__\n",
                "__version__"
            ]
        },
        {
            "cell_type": "code",
            "execution_count": 3,
            "metadata": {},
            "outputs": [],
            "source": [
                "class CplexSum():\n",
                "    \"\"\"Function class that adds a series of dvars into a cplex sum expression.\n",
                "    To be used as a custom aggregation in a groupby.\n",
                "    Usage:\n",
                "        df2 = df1.groupby(['a']).agg({'xDVar':CplexSum(engine.mdl)}).rename(columns={'xDVar':'expr'})\n",
                "\n",
                "    Sums the dvars in the 'xDVar' column into an expression\n",
                "    \"\"\"\n",
                "    def __init__(self, mdl):\n",
                "        self.mdl = mdl\n",
                "    def __call__(self, dvar_series):\n",
                "        return self.mdl.sum(dvar_series)\n",
                "\n",
                "\n",
                "def extract_solution(df, extract_dvar_names=None, drop_column_names=None, drop:bool=True):\n",
                "    df = df.copy()\n",
                "    \"\"\"Generalized routine to extract a solution value. \n",
                "    Can remove the dvar column from the df to be able to have a clean df for export into scenario.\"\"\"\n",
                "    if extract_dvar_names is not None:\n",
                "        for xDVarName in extract_dvar_names:\n",
                "            if xDVarName in df.columns:\n",
                "                df[f'{xDVarName}_Solution'] = [dvar.solution_value for dvar in df[xDVarName]]\n",
                "                if drop:\n",
                "                    df = df.drop([xDVarName], axis = 1)\n",
                "    if drop and drop_column_names is not None:\n",
                "        for column in drop_column_names:\n",
                "            if column in df.columns:\n",
                "                df = df.drop([column], axis = 1)\n",
                "    return df  \n"
            ]
        },
        {
            "cell_type": "markdown",
            "metadata": {},
            "source": [
                "# Modify Demand table"
            ]
        },
        {
            "cell_type": "code",
            "execution_count": 4,
            "metadata": {},
            "outputs": [],
            "source": [
                "MODEL_NAME = 'SupplyChain'\n",
                "SCENARIO_NAME = 'Base_Scenario' \n",
                "\n",
                "#sm = ScenarioManager(model_name=MODEL_NAME, scenario_name=SCENARIO_NAME) #, project = project\n",
                "#InputTables, OutputTables = sm.load_data_from_scenario()\n",
                "#print ( InputTables.keys())\n",
                "\n",
                "#print (  OutputTables.keys())\n",
                "\n",
                "Plants = pd.DataFrame([\"Plant1\",\"Plant2\"], columns = [\"PlantName\"])\n",
                "\n",
                "Customers = pd.DataFrame([\"Customer1\",\"Customer2\"], columns = [\"CustomerName\"])\n",
                "\n",
                "Products = pd.DataFrame([\"Product1\",\"Product2\"], columns = [\"ProductName\"])\n",
                "\n",
                "ProductionCosts = pd.DataFrame([[\"Plant1\",\"Product1\",2],\n",
                "                                [\"Plant2\",\"Product1\",3],\n",
                "                                [\"Plant1\",\"Product2\",4],\n",
                "                                [\"Plant2\",\"Product2\",5]], columns = [\"PlantName\",\"ProductName\",\"ProductionCost\"]) \n",
                "\n",
                "TransportationCosts = pd.DataFrame([[\"Plant1\",\"Customer1\",\"Product1\",0.2],\n",
                "                                    [\"Plant1\",\"Customer1\",\"Product2\",0.5],\n",
                "                                    [\"Plant1\",\"Customer2\",\"Product1\",0.3],\n",
                "                                    [\"Plant1\",\"Customer2\",\"Product2\",0.4],\n",
                "                                    [\"Plant2\",\"Customer1\",\"Product1\",0.25],\n",
                "                                    [\"Plant2\",\"Customer1\",\"Product2\",0.2],\n",
                "                                    [\"Plant2\",\"Customer2\",\"Product1\",0.35],\n",
                "                                    [\"Plant2\",\"Customer2\",\"Product2\",0.3]], columns = [\"PlantName\",\"CustomerName\",\"ProductName\",\"TransportationCost\"]) \n",
                "\n",
                "ProductionCapacity = pd.DataFrame([[\"Plant1\",\"Product1\",500],\n",
                "                                   [\"Plant2\",\"Product1\",400],\n",
                "                                   [\"Plant1\",\"Product2\",300],\n",
                "                                   [\"Plant2\",\"Product2\",600]], columns = [\"PlantName\",\"ProductName\",\"Capacity\"]) \n",
                "\n",
                "\n",
                "\n",
                "\n",
                "Demand = pd.DataFrame([[\"Customer1\",\"Product1\",1000],\n",
                "                       [\"Customer1\",\"Product2\",1300],\n",
                "                       [\"Customer2\",\"Product1\",1500],\n",
                "                       [\"Customer2\",\"Product2\",1400]], columns = [\"CustomerName\",\"ProductName\",\"Demand\"])\n",
                "\n",
                "\n",
                "\n",
                "inputs={}\n",
                "\n",
                "outputs={}\n",
                "\n",
                "inputs['Plants']=Plants\n",
                "inputs['Customers']=Customers\n",
                "inputs['Products']=Products\n",
                "inputs['ProductionCosts']=ProductionCosts\n",
                "inputs['Demand']=Demand\n",
                "inputs['TransportationCosts']=TransportationCosts\n",
                "inputs['ProductionCapacity']=ProductionCapacity\n",
                "\n",
                "#for i in inputs.values():\n",
                "    #display(i)"
            ]
        },
        {
            "cell_type": "markdown",
            "metadata": {},
            "source": [
                "## Save the inputs to a new scenario"
            ]
        },
        {
            "cell_type": "code",
            "execution_count": 5,
            "metadata": {},
            "outputs": [],
            "source": [
                "MODEL_NAME = 'SupplyChain'\n",
                "SCENARIO_NAME = 'High_Demand' "
            ]
        },
        {
            "cell_type": "code",
            "execution_count": 6,
            "metadata": {},
            "outputs": [],
            "source": [
                "sm = ScenarioManager(model_name=MODEL_NAME, scenario_name=SCENARIO_NAME ) #, project =project\n",
                "sm.inputs=inputs\n",
                "\n",
                "#sm.write_data_into_scenario_s(model_name=MODEL_NAME, scenario_name=SCENARIO_NAME, inputs=inputs, outputs=outputs)"
            ]
        },
        {
            "cell_type": "markdown",
            "metadata": {},
            "source": [
                "## Specify the primary key, convert primary key column to index"
            ]
        },
        {
            "cell_type": "code",
            "execution_count": 7,
            "metadata": {},
            "outputs": [],
            "source": [
                "Plants = inputs['Plants'].set_index([\"PlantName\"], verify_integrity=True)\n",
                "\n",
                "Customers = inputs['Customers'].set_index([\"CustomerName\"], verify_integrity=True)\n",
                "\n",
                "Products = inputs['Products'].set_index([\"ProductName\"], verify_integrity=True)\n",
                "\n",
                "ProductionCosts= inputs['ProductionCosts'].set_index([\"PlantName\",\"ProductName\"], verify_integrity=True)\n",
                "\n",
                "Demand= inputs['Demand'].set_index([\"CustomerName\",\"ProductName\"], verify_integrity=True)\n",
                "\n",
                "TransportationCosts= inputs['TransportationCosts'].set_index([\"PlantName\",\"CustomerName\",\"ProductName\"], verify_integrity=True)\n",
                "\n",
                "ProductionCapacity= inputs['ProductionCapacity'].set_index([\"PlantName\",\"ProductName\"], verify_integrity=True)"
            ]
        },
        {
            "cell_type": "markdown",
            "metadata": {},
            "source": [
                "## Build Optimization"
            ]
        },
        {
            "cell_type": "code",
            "execution_count": 20,
            "metadata": {},
            "outputs": [],
            "source": [
                "\n",
                "mdl = Model(MODEL_NAME)"
            ]
        },
        {
            "cell_type": "code",
            "execution_count": 21,
            "metadata": {},
            "outputs": [
                {
                    "data": {
                        "text/html": [
                            "<div>\n",
                            "<style scoped>\n",
                            "    .dataframe tbody tr th:only-of-type {\n",
                            "        vertical-align: middle;\n",
                            "    }\n",
                            "\n",
                            "    .dataframe tbody tr th {\n",
                            "        vertical-align: top;\n",
                            "    }\n",
                            "\n",
                            "    .dataframe thead th {\n",
                            "        text-align: right;\n",
                            "    }\n",
                            "</style>\n",
                            "<table border=\"1\" class=\"dataframe\">\n",
                            "  <thead>\n",
                            "    <tr style=\"text-align: right;\">\n",
                            "      <th></th>\n",
                            "      <th>PlantName</th>\n",
                            "    </tr>\n",
                            "  </thead>\n",
                            "  <tbody>\n",
                            "    <tr>\n",
                            "      <th>0</th>\n",
                            "      <td>Plant1</td>\n",
                            "    </tr>\n",
                            "    <tr>\n",
                            "      <th>1</th>\n",
                            "      <td>Plant2</td>\n",
                            "    </tr>\n",
                            "  </tbody>\n",
                            "</table>\n",
                            "</div>"
                        ],
                        "text/plain": [
                            "  PlantName\n",
                            "0    Plant1\n",
                            "1    Plant2"
                        ]
                    },
                    "metadata": {},
                    "output_type": "display_data"
                },
                {
                    "data": {
                        "text/html": [
                            "<div>\n",
                            "<style scoped>\n",
                            "    .dataframe tbody tr th:only-of-type {\n",
                            "        vertical-align: middle;\n",
                            "    }\n",
                            "\n",
                            "    .dataframe tbody tr th {\n",
                            "        vertical-align: top;\n",
                            "    }\n",
                            "\n",
                            "    .dataframe thead th {\n",
                            "        text-align: right;\n",
                            "    }\n",
                            "</style>\n",
                            "<table border=\"1\" class=\"dataframe\">\n",
                            "  <thead>\n",
                            "    <tr style=\"text-align: right;\">\n",
                            "      <th></th>\n",
                            "      <th>CustomerName</th>\n",
                            "    </tr>\n",
                            "  </thead>\n",
                            "  <tbody>\n",
                            "    <tr>\n",
                            "      <th>0</th>\n",
                            "      <td>Customer1</td>\n",
                            "    </tr>\n",
                            "    <tr>\n",
                            "      <th>1</th>\n",
                            "      <td>Customer2</td>\n",
                            "    </tr>\n",
                            "  </tbody>\n",
                            "</table>\n",
                            "</div>"
                        ],
                        "text/plain": [
                            "  CustomerName\n",
                            "0    Customer1\n",
                            "1    Customer2"
                        ]
                    },
                    "metadata": {},
                    "output_type": "display_data"
                },
                {
                    "data": {
                        "text/html": [
                            "<div>\n",
                            "<style scoped>\n",
                            "    .dataframe tbody tr th:only-of-type {\n",
                            "        vertical-align: middle;\n",
                            "    }\n",
                            "\n",
                            "    .dataframe tbody tr th {\n",
                            "        vertical-align: top;\n",
                            "    }\n",
                            "\n",
                            "    .dataframe thead th {\n",
                            "        text-align: right;\n",
                            "    }\n",
                            "</style>\n",
                            "<table border=\"1\" class=\"dataframe\">\n",
                            "  <thead>\n",
                            "    <tr style=\"text-align: right;\">\n",
                            "      <th></th>\n",
                            "      <th>ProductName</th>\n",
                            "    </tr>\n",
                            "  </thead>\n",
                            "  <tbody>\n",
                            "    <tr>\n",
                            "      <th>0</th>\n",
                            "      <td>Product1</td>\n",
                            "    </tr>\n",
                            "    <tr>\n",
                            "      <th>1</th>\n",
                            "      <td>Product2</td>\n",
                            "    </tr>\n",
                            "  </tbody>\n",
                            "</table>\n",
                            "</div>"
                        ],
                        "text/plain": [
                            "  ProductName\n",
                            "0    Product1\n",
                            "1    Product2"
                        ]
                    },
                    "metadata": {},
                    "output_type": "display_data"
                },
                {
                    "data": {
                        "text/html": [
                            "<div>\n",
                            "<style scoped>\n",
                            "    .dataframe tbody tr th:only-of-type {\n",
                            "        vertical-align: middle;\n",
                            "    }\n",
                            "\n",
                            "    .dataframe tbody tr th {\n",
                            "        vertical-align: top;\n",
                            "    }\n",
                            "\n",
                            "    .dataframe thead th {\n",
                            "        text-align: right;\n",
                            "    }\n",
                            "</style>\n",
                            "<table border=\"1\" class=\"dataframe\">\n",
                            "  <thead>\n",
                            "    <tr style=\"text-align: right;\">\n",
                            "      <th></th>\n",
                            "      <th>PlantName</th>\n",
                            "      <th>ProductName</th>\n",
                            "      <th>ProductionCost</th>\n",
                            "    </tr>\n",
                            "  </thead>\n",
                            "  <tbody>\n",
                            "    <tr>\n",
                            "      <th>0</th>\n",
                            "      <td>Plant1</td>\n",
                            "      <td>Product1</td>\n",
                            "      <td>2</td>\n",
                            "    </tr>\n",
                            "    <tr>\n",
                            "      <th>1</th>\n",
                            "      <td>Plant2</td>\n",
                            "      <td>Product1</td>\n",
                            "      <td>3</td>\n",
                            "    </tr>\n",
                            "    <tr>\n",
                            "      <th>2</th>\n",
                            "      <td>Plant1</td>\n",
                            "      <td>Product2</td>\n",
                            "      <td>4</td>\n",
                            "    </tr>\n",
                            "    <tr>\n",
                            "      <th>3</th>\n",
                            "      <td>Plant2</td>\n",
                            "      <td>Product2</td>\n",
                            "      <td>5</td>\n",
                            "    </tr>\n",
                            "  </tbody>\n",
                            "</table>\n",
                            "</div>"
                        ],
                        "text/plain": [
                            "  PlantName ProductName  ProductionCost\n",
                            "0    Plant1    Product1               2\n",
                            "1    Plant2    Product1               3\n",
                            "2    Plant1    Product2               4\n",
                            "3    Plant2    Product2               5"
                        ]
                    },
                    "metadata": {},
                    "output_type": "display_data"
                },
                {
                    "data": {
                        "text/html": [
                            "<div>\n",
                            "<style scoped>\n",
                            "    .dataframe tbody tr th:only-of-type {\n",
                            "        vertical-align: middle;\n",
                            "    }\n",
                            "\n",
                            "    .dataframe tbody tr th {\n",
                            "        vertical-align: top;\n",
                            "    }\n",
                            "\n",
                            "    .dataframe thead th {\n",
                            "        text-align: right;\n",
                            "    }\n",
                            "</style>\n",
                            "<table border=\"1\" class=\"dataframe\">\n",
                            "  <thead>\n",
                            "    <tr style=\"text-align: right;\">\n",
                            "      <th></th>\n",
                            "      <th>CustomerName</th>\n",
                            "      <th>ProductName</th>\n",
                            "      <th>Demand</th>\n",
                            "    </tr>\n",
                            "  </thead>\n",
                            "  <tbody>\n",
                            "    <tr>\n",
                            "      <th>0</th>\n",
                            "      <td>Customer1</td>\n",
                            "      <td>Product1</td>\n",
                            "      <td>1000</td>\n",
                            "    </tr>\n",
                            "    <tr>\n",
                            "      <th>1</th>\n",
                            "      <td>Customer1</td>\n",
                            "      <td>Product2</td>\n",
                            "      <td>1300</td>\n",
                            "    </tr>\n",
                            "    <tr>\n",
                            "      <th>2</th>\n",
                            "      <td>Customer2</td>\n",
                            "      <td>Product1</td>\n",
                            "      <td>1500</td>\n",
                            "    </tr>\n",
                            "    <tr>\n",
                            "      <th>3</th>\n",
                            "      <td>Customer2</td>\n",
                            "      <td>Product2</td>\n",
                            "      <td>1400</td>\n",
                            "    </tr>\n",
                            "  </tbody>\n",
                            "</table>\n",
                            "</div>"
                        ],
                        "text/plain": [
                            "  CustomerName ProductName  Demand\n",
                            "0    Customer1    Product1    1000\n",
                            "1    Customer1    Product2    1300\n",
                            "2    Customer2    Product1    1500\n",
                            "3    Customer2    Product2    1400"
                        ]
                    },
                    "metadata": {},
                    "output_type": "display_data"
                },
                {
                    "data": {
                        "text/html": [
                            "<div>\n",
                            "<style scoped>\n",
                            "    .dataframe tbody tr th:only-of-type {\n",
                            "        vertical-align: middle;\n",
                            "    }\n",
                            "\n",
                            "    .dataframe tbody tr th {\n",
                            "        vertical-align: top;\n",
                            "    }\n",
                            "\n",
                            "    .dataframe thead th {\n",
                            "        text-align: right;\n",
                            "    }\n",
                            "</style>\n",
                            "<table border=\"1\" class=\"dataframe\">\n",
                            "  <thead>\n",
                            "    <tr style=\"text-align: right;\">\n",
                            "      <th></th>\n",
                            "      <th>PlantName</th>\n",
                            "      <th>CustomerName</th>\n",
                            "      <th>ProductName</th>\n",
                            "      <th>TransportationCost</th>\n",
                            "    </tr>\n",
                            "  </thead>\n",
                            "  <tbody>\n",
                            "    <tr>\n",
                            "      <th>0</th>\n",
                            "      <td>Plant1</td>\n",
                            "      <td>Customer1</td>\n",
                            "      <td>Product1</td>\n",
                            "      <td>0.20</td>\n",
                            "    </tr>\n",
                            "    <tr>\n",
                            "      <th>1</th>\n",
                            "      <td>Plant1</td>\n",
                            "      <td>Customer1</td>\n",
                            "      <td>Product2</td>\n",
                            "      <td>0.50</td>\n",
                            "    </tr>\n",
                            "    <tr>\n",
                            "      <th>2</th>\n",
                            "      <td>Plant1</td>\n",
                            "      <td>Customer2</td>\n",
                            "      <td>Product1</td>\n",
                            "      <td>0.30</td>\n",
                            "    </tr>\n",
                            "    <tr>\n",
                            "      <th>3</th>\n",
                            "      <td>Plant1</td>\n",
                            "      <td>Customer2</td>\n",
                            "      <td>Product2</td>\n",
                            "      <td>0.40</td>\n",
                            "    </tr>\n",
                            "    <tr>\n",
                            "      <th>4</th>\n",
                            "      <td>Plant2</td>\n",
                            "      <td>Customer1</td>\n",
                            "      <td>Product1</td>\n",
                            "      <td>0.25</td>\n",
                            "    </tr>\n",
                            "    <tr>\n",
                            "      <th>5</th>\n",
                            "      <td>Plant2</td>\n",
                            "      <td>Customer1</td>\n",
                            "      <td>Product2</td>\n",
                            "      <td>0.20</td>\n",
                            "    </tr>\n",
                            "    <tr>\n",
                            "      <th>6</th>\n",
                            "      <td>Plant2</td>\n",
                            "      <td>Customer2</td>\n",
                            "      <td>Product1</td>\n",
                            "      <td>0.35</td>\n",
                            "    </tr>\n",
                            "    <tr>\n",
                            "      <th>7</th>\n",
                            "      <td>Plant2</td>\n",
                            "      <td>Customer2</td>\n",
                            "      <td>Product2</td>\n",
                            "      <td>0.30</td>\n",
                            "    </tr>\n",
                            "  </tbody>\n",
                            "</table>\n",
                            "</div>"
                        ],
                        "text/plain": [
                            "  PlantName CustomerName ProductName  TransportationCost\n",
                            "0    Plant1    Customer1    Product1                0.20\n",
                            "1    Plant1    Customer1    Product2                0.50\n",
                            "2    Plant1    Customer2    Product1                0.30\n",
                            "3    Plant1    Customer2    Product2                0.40\n",
                            "4    Plant2    Customer1    Product1                0.25\n",
                            "5    Plant2    Customer1    Product2                0.20\n",
                            "6    Plant2    Customer2    Product1                0.35\n",
                            "7    Plant2    Customer2    Product2                0.30"
                        ]
                    },
                    "metadata": {},
                    "output_type": "display_data"
                },
                {
                    "data": {
                        "text/html": [
                            "<div>\n",
                            "<style scoped>\n",
                            "    .dataframe tbody tr th:only-of-type {\n",
                            "        vertical-align: middle;\n",
                            "    }\n",
                            "\n",
                            "    .dataframe tbody tr th {\n",
                            "        vertical-align: top;\n",
                            "    }\n",
                            "\n",
                            "    .dataframe thead th {\n",
                            "        text-align: right;\n",
                            "    }\n",
                            "</style>\n",
                            "<table border=\"1\" class=\"dataframe\">\n",
                            "  <thead>\n",
                            "    <tr style=\"text-align: right;\">\n",
                            "      <th></th>\n",
                            "      <th>PlantName</th>\n",
                            "      <th>ProductName</th>\n",
                            "      <th>Capacity</th>\n",
                            "    </tr>\n",
                            "  </thead>\n",
                            "  <tbody>\n",
                            "    <tr>\n",
                            "      <th>0</th>\n",
                            "      <td>Plant1</td>\n",
                            "      <td>Product1</td>\n",
                            "      <td>500</td>\n",
                            "    </tr>\n",
                            "    <tr>\n",
                            "      <th>1</th>\n",
                            "      <td>Plant2</td>\n",
                            "      <td>Product1</td>\n",
                            "      <td>400</td>\n",
                            "    </tr>\n",
                            "    <tr>\n",
                            "      <th>2</th>\n",
                            "      <td>Plant1</td>\n",
                            "      <td>Product2</td>\n",
                            "      <td>300</td>\n",
                            "    </tr>\n",
                            "    <tr>\n",
                            "      <th>3</th>\n",
                            "      <td>Plant2</td>\n",
                            "      <td>Product2</td>\n",
                            "      <td>600</td>\n",
                            "    </tr>\n",
                            "  </tbody>\n",
                            "</table>\n",
                            "</div>"
                        ],
                        "text/plain": [
                            "  PlantName ProductName  Capacity\n",
                            "0    Plant1    Product1       500\n",
                            "1    Plant2    Product1       400\n",
                            "2    Plant1    Product2       300\n",
                            "3    Plant2    Product2       600"
                        ]
                    },
                    "metadata": {},
                    "output_type": "display_data"
                }
            ],
            "source": [
                "for i in inputs.values():\n",
                "    display(i)"
            ]
        },
        {
            "cell_type": "markdown",
            "metadata": {},
            "source": [
                "## Define Decision Variables"
            ]
        },
        {
            "cell_type": "markdown",
            "metadata": {},
            "source": [
                "What are the production amount of Product1 and Product2 in either Plant1 or Plant2\n",
                "\n",
                "How much of Product1 or Product2 should be sent from Plant1 and Plant2 to Customer1 and Customer2 "
            ]
        },
        {
            "cell_type": "code",
            "execution_count": 22,
            "metadata": {},
            "outputs": [],
            "source": [
                "def continuous_var_series(df, mdl,**kargs):\n",
                "    return pd.Series(mdl.continuous_var_list(df.index, **kargs), index = df.index)"
            ]
        },
        {
            "cell_type": "code",
            "execution_count": 23,
            "metadata": {},
            "outputs": [
                {
                    "data": {
                        "text/html": [
                            "<div>\n",
                            "<style scoped>\n",
                            "    .dataframe tbody tr th:only-of-type {\n",
                            "        vertical-align: middle;\n",
                            "    }\n",
                            "\n",
                            "    .dataframe tbody tr th {\n",
                            "        vertical-align: top;\n",
                            "    }\n",
                            "\n",
                            "    .dataframe thead th {\n",
                            "        text-align: right;\n",
                            "    }\n",
                            "</style>\n",
                            "<table border=\"1\" class=\"dataframe\">\n",
                            "  <thead>\n",
                            "    <tr style=\"text-align: right;\">\n",
                            "      <th></th>\n",
                            "      <th></th>\n",
                            "      <th>X_production</th>\n",
                            "    </tr>\n",
                            "    <tr>\n",
                            "      <th>ProductName</th>\n",
                            "      <th>PlantName</th>\n",
                            "      <th></th>\n",
                            "    </tr>\n",
                            "  </thead>\n",
                            "  <tbody>\n",
                            "    <tr>\n",
                            "      <th rowspan=\"2\" valign=\"top\">Product1</th>\n",
                            "      <th>Plant1</th>\n",
                            "      <td>X_production_Product1_Plant1</td>\n",
                            "    </tr>\n",
                            "    <tr>\n",
                            "      <th>Plant2</th>\n",
                            "      <td>X_production_Product1_Plant2</td>\n",
                            "    </tr>\n",
                            "    <tr>\n",
                            "      <th rowspan=\"2\" valign=\"top\">Product2</th>\n",
                            "      <th>Plant1</th>\n",
                            "      <td>X_production_Product2_Plant1</td>\n",
                            "    </tr>\n",
                            "    <tr>\n",
                            "      <th>Plant2</th>\n",
                            "      <td>X_production_Product2_Plant2</td>\n",
                            "    </tr>\n",
                            "  </tbody>\n",
                            "</table>\n",
                            "</div>"
                        ],
                        "text/plain": [
                            "                                       X_production\n",
                            "ProductName PlantName                              \n",
                            "Product1    Plant1     X_production_Product1_Plant1\n",
                            "            Plant2     X_production_Product1_Plant2\n",
                            "Product2    Plant1     X_production_Product2_Plant1\n",
                            "            Plant2     X_production_Product2_Plant2"
                        ]
                    },
                    "execution_count": 23,
                    "metadata": {},
                    "output_type": "execute_result"
                }
            ],
            "source": [
                "ProductionPlan = pd.merge(Products.reset_index(drop=False),Plants.reset_index(drop=False),how=\"cross\").set_index([\"ProductName\",\"PlantName\"])\n",
                "ProductionPlan[\"X_production\"]= continuous_var_series(ProductionPlan, mdl, name=\"X_production\", lb = 0)\n",
                "ProductionPlan"
            ]
        },
        {
            "cell_type": "code",
            "execution_count": 24,
            "metadata": {},
            "outputs": [
                {
                    "data": {
                        "text/html": [
                            "<div>\n",
                            "<style scoped>\n",
                            "    .dataframe tbody tr th:only-of-type {\n",
                            "        vertical-align: middle;\n",
                            "    }\n",
                            "\n",
                            "    .dataframe tbody tr th {\n",
                            "        vertical-align: top;\n",
                            "    }\n",
                            "\n",
                            "    .dataframe thead th {\n",
                            "        text-align: right;\n",
                            "    }\n",
                            "</style>\n",
                            "<table border=\"1\" class=\"dataframe\">\n",
                            "  <thead>\n",
                            "    <tr style=\"text-align: right;\">\n",
                            "      <th></th>\n",
                            "      <th></th>\n",
                            "      <th></th>\n",
                            "      <th>X_transportation</th>\n",
                            "    </tr>\n",
                            "    <tr>\n",
                            "      <th>ProductName</th>\n",
                            "      <th>PlantName</th>\n",
                            "      <th>CustomerName</th>\n",
                            "      <th></th>\n",
                            "    </tr>\n",
                            "  </thead>\n",
                            "  <tbody>\n",
                            "    <tr>\n",
                            "      <th rowspan=\"4\" valign=\"top\">Product1</th>\n",
                            "      <th rowspan=\"2\" valign=\"top\">Plant1</th>\n",
                            "      <th>Customer1</th>\n",
                            "      <td>X_transportation_Product1_Plant1_Customer1</td>\n",
                            "    </tr>\n",
                            "    <tr>\n",
                            "      <th>Customer2</th>\n",
                            "      <td>X_transportation_Product1_Plant1_Customer2</td>\n",
                            "    </tr>\n",
                            "    <tr>\n",
                            "      <th rowspan=\"2\" valign=\"top\">Plant2</th>\n",
                            "      <th>Customer1</th>\n",
                            "      <td>X_transportation_Product1_Plant2_Customer1</td>\n",
                            "    </tr>\n",
                            "    <tr>\n",
                            "      <th>Customer2</th>\n",
                            "      <td>X_transportation_Product1_Plant2_Customer2</td>\n",
                            "    </tr>\n",
                            "    <tr>\n",
                            "      <th rowspan=\"4\" valign=\"top\">Product2</th>\n",
                            "      <th rowspan=\"2\" valign=\"top\">Plant1</th>\n",
                            "      <th>Customer1</th>\n",
                            "      <td>X_transportation_Product2_Plant1_Customer1</td>\n",
                            "    </tr>\n",
                            "    <tr>\n",
                            "      <th>Customer2</th>\n",
                            "      <td>X_transportation_Product2_Plant1_Customer2</td>\n",
                            "    </tr>\n",
                            "    <tr>\n",
                            "      <th rowspan=\"2\" valign=\"top\">Plant2</th>\n",
                            "      <th>Customer1</th>\n",
                            "      <td>X_transportation_Product2_Plant2_Customer1</td>\n",
                            "    </tr>\n",
                            "    <tr>\n",
                            "      <th>Customer2</th>\n",
                            "      <td>X_transportation_Product2_Plant2_Customer2</td>\n",
                            "    </tr>\n",
                            "  </tbody>\n",
                            "</table>\n",
                            "</div>"
                        ],
                        "text/plain": [
                            "                                                              X_transportation\n",
                            "ProductName PlantName CustomerName                                            \n",
                            "Product1    Plant1    Customer1     X_transportation_Product1_Plant1_Customer1\n",
                            "                      Customer2     X_transportation_Product1_Plant1_Customer2\n",
                            "            Plant2    Customer1     X_transportation_Product1_Plant2_Customer1\n",
                            "                      Customer2     X_transportation_Product1_Plant2_Customer2\n",
                            "Product2    Plant1    Customer1     X_transportation_Product2_Plant1_Customer1\n",
                            "                      Customer2     X_transportation_Product2_Plant1_Customer2\n",
                            "            Plant2    Customer1     X_transportation_Product2_Plant2_Customer1\n",
                            "                      Customer2     X_transportation_Product2_Plant2_Customer2"
                        ]
                    },
                    "execution_count": 24,
                    "metadata": {},
                    "output_type": "execute_result"
                }
            ],
            "source": [
                "TransportationPlan = pd.merge(Products.reset_index(drop=False),Plants.reset_index(drop=False),how=\"cross\").merge(Customers.reset_index(drop=False),how=\"cross\").set_index([\"ProductName\",\"PlantName\",\"CustomerName\"])\n",
                "TransportationPlan[\"X_transportation\"]= continuous_var_series(TransportationPlan, mdl, name=\"X_transportation\", lb = 0)\n",
                "TransportationPlan"
            ]
        },
        {
            "cell_type": "markdown",
            "metadata": {},
            "source": [
                "## Define Constraints"
            ]
        },
        {
            "cell_type": "markdown",
            "metadata": {},
            "source": [
                "### We can't generate more than the plant capacity"
            ]
        },
        {
            "cell_type": "code",
            "execution_count": 25,
            "metadata": {},
            "outputs": [
                {
                    "data": {
                        "text/html": [
                            "<div>\n",
                            "<style scoped>\n",
                            "    .dataframe tbody tr th:only-of-type {\n",
                            "        vertical-align: middle;\n",
                            "    }\n",
                            "\n",
                            "    .dataframe tbody tr th {\n",
                            "        vertical-align: top;\n",
                            "    }\n",
                            "\n",
                            "    .dataframe thead th {\n",
                            "        text-align: right;\n",
                            "    }\n",
                            "</style>\n",
                            "<table border=\"1\" class=\"dataframe\">\n",
                            "  <thead>\n",
                            "    <tr style=\"text-align: right;\">\n",
                            "      <th></th>\n",
                            "      <th>ProductName</th>\n",
                            "      <th>PlantName</th>\n",
                            "      <th>X_production</th>\n",
                            "      <th>Capacity</th>\n",
                            "    </tr>\n",
                            "  </thead>\n",
                            "  <tbody>\n",
                            "    <tr>\n",
                            "      <th>0</th>\n",
                            "      <td>Product1</td>\n",
                            "      <td>Plant1</td>\n",
                            "      <td>X_production_Product1_Plant1</td>\n",
                            "      <td>500</td>\n",
                            "    </tr>\n",
                            "    <tr>\n",
                            "      <th>1</th>\n",
                            "      <td>Product1</td>\n",
                            "      <td>Plant2</td>\n",
                            "      <td>X_production_Product1_Plant2</td>\n",
                            "      <td>400</td>\n",
                            "    </tr>\n",
                            "    <tr>\n",
                            "      <th>2</th>\n",
                            "      <td>Product2</td>\n",
                            "      <td>Plant1</td>\n",
                            "      <td>X_production_Product2_Plant1</td>\n",
                            "      <td>300</td>\n",
                            "    </tr>\n",
                            "    <tr>\n",
                            "      <th>3</th>\n",
                            "      <td>Product2</td>\n",
                            "      <td>Plant2</td>\n",
                            "      <td>X_production_Product2_Plant2</td>\n",
                            "      <td>600</td>\n",
                            "    </tr>\n",
                            "  </tbody>\n",
                            "</table>\n",
                            "</div>"
                        ],
                        "text/plain": [
                            "  ProductName PlantName                  X_production  Capacity\n",
                            "0    Product1    Plant1  X_production_Product1_Plant1       500\n",
                            "1    Product1    Plant2  X_production_Product1_Plant2       400\n",
                            "2    Product2    Plant1  X_production_Product2_Plant1       300\n",
                            "3    Product2    Plant2  X_production_Product2_Plant2       600"
                        ]
                    },
                    "execution_count": 25,
                    "metadata": {},
                    "output_type": "execute_result"
                }
            ],
            "source": [
                "Plant_Product_Capacity = pd.merge(ProductionPlan.reset_index(drop=False), ProductionCapacity, on = [\"ProductName\",\"PlantName\"])\n",
                "Plant_Product_Capacity"
            ]
        },
        {
            "cell_type": "code",
            "execution_count": 26,
            "metadata": {},
            "outputs": [],
            "source": [
                "for row in Plant_Product_Capacity.itertuples():\n",
                "    mdl.add_constraint(row.X_production <= row.Capacity, ctname = \"const_production_{}_{}\".format(row.ProductName, row.PlantName))"
            ]
        },
        {
            "cell_type": "code",
            "execution_count": 27,
            "metadata": {},
            "outputs": [
                {
                    "data": {
                        "text/plain": [
                            "docplex.mp.LinearConstraint[const_production_Product1_Plant1](X_production_Product1_Plant1,LE,500)"
                        ]
                    },
                    "execution_count": 27,
                    "metadata": {},
                    "output_type": "execute_result"
                }
            ],
            "source": [
                "mdl.get_constraint_by_index(0)"
            ]
        },
        {
            "cell_type": "code",
            "execution_count": 16,
            "metadata": {},
            "outputs": [
                {
                    "data": {
                        "text/plain": [
                            "docplex.mp.LinearConstraint[](X_production_Product2_Plant2,LE,600)"
                        ]
                    },
                    "execution_count": 16,
                    "metadata": {},
                    "output_type": "execute_result"
                }
            ],
            "source": [
                "mdl.get_constraint_by_index(3)"
            ]
        },
        {
            "cell_type": "markdown",
            "metadata": {},
            "source": [
                "###  We must deliver at least the value of demand"
            ]
        },
        {
            "cell_type": "code",
            "execution_count": 28,
            "metadata": {},
            "outputs": [],
            "source": [
                "Delivery = TransportationPlan.reset_index(drop = False)\n",
                "Delivery = Delivery[[\"ProductName\",\"CustomerName\",\"X_transportation\"]].groupby([\"ProductName\",\"CustomerName\"]).agg(CplexSum(mdl)).reset_index(drop = False).rename(columns = {\"X_transportation\":\"Total_Delivered\"})   "
            ]
        },
        {
            "cell_type": "code",
            "execution_count": 29,
            "metadata": {},
            "outputs": [
                {
                    "data": {
                        "text/html": [
                            "<div>\n",
                            "<style scoped>\n",
                            "    .dataframe tbody tr th:only-of-type {\n",
                            "        vertical-align: middle;\n",
                            "    }\n",
                            "\n",
                            "    .dataframe tbody tr th {\n",
                            "        vertical-align: top;\n",
                            "    }\n",
                            "\n",
                            "    .dataframe thead th {\n",
                            "        text-align: right;\n",
                            "    }\n",
                            "</style>\n",
                            "<table border=\"1\" class=\"dataframe\">\n",
                            "  <thead>\n",
                            "    <tr style=\"text-align: right;\">\n",
                            "      <th></th>\n",
                            "      <th>ProductName</th>\n",
                            "      <th>CustomerName</th>\n",
                            "      <th>Total_Delivered</th>\n",
                            "      <th>Demand</th>\n",
                            "    </tr>\n",
                            "  </thead>\n",
                            "  <tbody>\n",
                            "    <tr>\n",
                            "      <th>0</th>\n",
                            "      <td>Product1</td>\n",
                            "      <td>Customer1</td>\n",
                            "      <td>X_transportation_Product1_Plant1_Customer1+X_transportation_Product1_Plant2_Customer1</td>\n",
                            "      <td>1000</td>\n",
                            "    </tr>\n",
                            "    <tr>\n",
                            "      <th>1</th>\n",
                            "      <td>Product1</td>\n",
                            "      <td>Customer2</td>\n",
                            "      <td>X_transportation_Product1_Plant1_Customer2+X_transportation_Product1_Plant2_Customer2</td>\n",
                            "      <td>1500</td>\n",
                            "    </tr>\n",
                            "    <tr>\n",
                            "      <th>2</th>\n",
                            "      <td>Product2</td>\n",
                            "      <td>Customer1</td>\n",
                            "      <td>X_transportation_Product2_Plant1_Customer1+X_transportation_Product2_Plant2_Customer1</td>\n",
                            "      <td>1300</td>\n",
                            "    </tr>\n",
                            "    <tr>\n",
                            "      <th>3</th>\n",
                            "      <td>Product2</td>\n",
                            "      <td>Customer2</td>\n",
                            "      <td>X_transportation_Product2_Plant1_Customer2+X_transportation_Product2_Plant2_Customer2</td>\n",
                            "      <td>1400</td>\n",
                            "    </tr>\n",
                            "  </tbody>\n",
                            "</table>\n",
                            "</div>"
                        ],
                        "text/plain": [
                            "  ProductName CustomerName   \n",
                            "0    Product1    Customer1  \\\n",
                            "1    Product1    Customer2   \n",
                            "2    Product2    Customer1   \n",
                            "3    Product2    Customer2   \n",
                            "\n",
                            "                                                                         Total_Delivered   \n",
                            "0  X_transportation_Product1_Plant1_Customer1+X_transportation_Product1_Plant2_Customer1  \\\n",
                            "1  X_transportation_Product1_Plant1_Customer2+X_transportation_Product1_Plant2_Customer2   \n",
                            "2  X_transportation_Product2_Plant1_Customer1+X_transportation_Product2_Plant2_Customer1   \n",
                            "3  X_transportation_Product2_Plant1_Customer2+X_transportation_Product2_Plant2_Customer2   \n",
                            "\n",
                            "   Demand  \n",
                            "0    1000  \n",
                            "1    1500  \n",
                            "2    1300  \n",
                            "3    1400  "
                        ]
                    },
                    "execution_count": 29,
                    "metadata": {},
                    "output_type": "execute_result"
                }
            ],
            "source": [
                "Delivery = pd.merge(Delivery, Demand.reset_index(drop = False), on = [\"ProductName\",\"CustomerName\"] )\n",
                "Delivery"
            ]
        },
        {
            "cell_type": "code",
            "execution_count": 30,
            "metadata": {},
            "outputs": [],
            "source": [
                "for row in Delivery.itertuples():\n",
                "    mdl.add_constraint(row.Total_Delivered >= row.Demand, ctname = \"const_delivery_{}_{}\".format(row.ProductName, row.CustomerName))"
            ]
        },
        {
            "cell_type": "markdown",
            "metadata": {},
            "source": [
                "### We cannot ship more than what we produced in a plant"
            ]
        },
        {
            "cell_type": "code",
            "execution_count": 31,
            "metadata": {},
            "outputs": [
                {
                    "data": {
                        "text/html": [
                            "<div>\n",
                            "<style scoped>\n",
                            "    .dataframe tbody tr th:only-of-type {\n",
                            "        vertical-align: middle;\n",
                            "    }\n",
                            "\n",
                            "    .dataframe tbody tr th {\n",
                            "        vertical-align: top;\n",
                            "    }\n",
                            "\n",
                            "    .dataframe thead th {\n",
                            "        text-align: right;\n",
                            "    }\n",
                            "</style>\n",
                            "<table border=\"1\" class=\"dataframe\">\n",
                            "  <thead>\n",
                            "    <tr style=\"text-align: right;\">\n",
                            "      <th></th>\n",
                            "      <th>ProductName</th>\n",
                            "      <th>PlantName</th>\n",
                            "      <th>Total_Shipped</th>\n",
                            "    </tr>\n",
                            "  </thead>\n",
                            "  <tbody>\n",
                            "    <tr>\n",
                            "      <th>0</th>\n",
                            "      <td>Product1</td>\n",
                            "      <td>Plant1</td>\n",
                            "      <td>X_transportation_Product1_Plant1_Customer1+X_transportation_Product1_Plant1_Customer2</td>\n",
                            "    </tr>\n",
                            "    <tr>\n",
                            "      <th>1</th>\n",
                            "      <td>Product1</td>\n",
                            "      <td>Plant2</td>\n",
                            "      <td>X_transportation_Product1_Plant2_Customer1+X_transportation_Product1_Plant2_Customer2</td>\n",
                            "    </tr>\n",
                            "    <tr>\n",
                            "      <th>2</th>\n",
                            "      <td>Product2</td>\n",
                            "      <td>Plant1</td>\n",
                            "      <td>X_transportation_Product2_Plant1_Customer1+X_transportation_Product2_Plant1_Customer2</td>\n",
                            "    </tr>\n",
                            "    <tr>\n",
                            "      <th>3</th>\n",
                            "      <td>Product2</td>\n",
                            "      <td>Plant2</td>\n",
                            "      <td>X_transportation_Product2_Plant2_Customer1+X_transportation_Product2_Plant2_Customer2</td>\n",
                            "    </tr>\n",
                            "  </tbody>\n",
                            "</table>\n",
                            "</div>"
                        ],
                        "text/plain": [
                            "  ProductName PlantName   \n",
                            "0    Product1    Plant1  \\\n",
                            "1    Product1    Plant2   \n",
                            "2    Product2    Plant1   \n",
                            "3    Product2    Plant2   \n",
                            "\n",
                            "                                                                           Total_Shipped  \n",
                            "0  X_transportation_Product1_Plant1_Customer1+X_transportation_Product1_Plant1_Customer2  \n",
                            "1  X_transportation_Product1_Plant2_Customer1+X_transportation_Product1_Plant2_Customer2  \n",
                            "2  X_transportation_Product2_Plant1_Customer1+X_transportation_Product2_Plant1_Customer2  \n",
                            "3  X_transportation_Product2_Plant2_Customer1+X_transportation_Product2_Plant2_Customer2  "
                        ]
                    },
                    "execution_count": 31,
                    "metadata": {},
                    "output_type": "execute_result"
                }
            ],
            "source": [
                "Shipment = TransportationPlan.reset_index(drop = False)\n",
                "Shipment = Shipment[[\"ProductName\",\"PlantName\",\"X_transportation\"]].groupby([\"ProductName\",\"PlantName\"]).agg(CplexSum(mdl)).reset_index(drop = False).rename(columns = {\"X_transportation\":\"Total_Shipped\"})\n",
                "Shipment"
            ]
        },
        {
            "cell_type": "code",
            "execution_count": 32,
            "metadata": {},
            "outputs": [
                {
                    "data": {
                        "text/html": [
                            "<div>\n",
                            "<style scoped>\n",
                            "    .dataframe tbody tr th:only-of-type {\n",
                            "        vertical-align: middle;\n",
                            "    }\n",
                            "\n",
                            "    .dataframe tbody tr th {\n",
                            "        vertical-align: top;\n",
                            "    }\n",
                            "\n",
                            "    .dataframe thead th {\n",
                            "        text-align: right;\n",
                            "    }\n",
                            "</style>\n",
                            "<table border=\"1\" class=\"dataframe\">\n",
                            "  <thead>\n",
                            "    <tr style=\"text-align: right;\">\n",
                            "      <th></th>\n",
                            "      <th>ProductName</th>\n",
                            "      <th>PlantName</th>\n",
                            "      <th>X_production</th>\n",
                            "      <th>Total_Shipped</th>\n",
                            "    </tr>\n",
                            "  </thead>\n",
                            "  <tbody>\n",
                            "    <tr>\n",
                            "      <th>0</th>\n",
                            "      <td>Product1</td>\n",
                            "      <td>Plant1</td>\n",
                            "      <td>X_production_Product1_Plant1</td>\n",
                            "      <td>X_transportation_Product1_Plant1_Customer1+X_transportation_Product1_Plant1_Customer2</td>\n",
                            "    </tr>\n",
                            "    <tr>\n",
                            "      <th>1</th>\n",
                            "      <td>Product1</td>\n",
                            "      <td>Plant2</td>\n",
                            "      <td>X_production_Product1_Plant2</td>\n",
                            "      <td>X_transportation_Product1_Plant2_Customer1+X_transportation_Product1_Plant2_Customer2</td>\n",
                            "    </tr>\n",
                            "    <tr>\n",
                            "      <th>2</th>\n",
                            "      <td>Product2</td>\n",
                            "      <td>Plant1</td>\n",
                            "      <td>X_production_Product2_Plant1</td>\n",
                            "      <td>X_transportation_Product2_Plant1_Customer1+X_transportation_Product2_Plant1_Customer2</td>\n",
                            "    </tr>\n",
                            "    <tr>\n",
                            "      <th>3</th>\n",
                            "      <td>Product2</td>\n",
                            "      <td>Plant2</td>\n",
                            "      <td>X_production_Product2_Plant2</td>\n",
                            "      <td>X_transportation_Product2_Plant2_Customer1+X_transportation_Product2_Plant2_Customer2</td>\n",
                            "    </tr>\n",
                            "  </tbody>\n",
                            "</table>\n",
                            "</div>"
                        ],
                        "text/plain": [
                            "  ProductName PlantName                  X_production   \n",
                            "0    Product1    Plant1  X_production_Product1_Plant1  \\\n",
                            "1    Product1    Plant2  X_production_Product1_Plant2   \n",
                            "2    Product2    Plant1  X_production_Product2_Plant1   \n",
                            "3    Product2    Plant2  X_production_Product2_Plant2   \n",
                            "\n",
                            "                                                                           Total_Shipped  \n",
                            "0  X_transportation_Product1_Plant1_Customer1+X_transportation_Product1_Plant1_Customer2  \n",
                            "1  X_transportation_Product1_Plant2_Customer1+X_transportation_Product1_Plant2_Customer2  \n",
                            "2  X_transportation_Product2_Plant1_Customer1+X_transportation_Product2_Plant1_Customer2  \n",
                            "3  X_transportation_Product2_Plant2_Customer1+X_transportation_Product2_Plant2_Customer2  "
                        ]
                    },
                    "execution_count": 32,
                    "metadata": {},
                    "output_type": "execute_result"
                }
            ],
            "source": [
                "Plant_Shipment = pd.merge(ProductionPlan.reset_index(drop= False), Shipment, on =[ \"ProductName\",\"PlantName\"])\n",
                "Plant_Shipment"
            ]
        },
        {
            "cell_type": "code",
            "execution_count": 33,
            "metadata": {},
            "outputs": [],
            "source": [
                "for row in Plant_Shipment.itertuples():\n",
                "    mdl.add_constraint(row.Total_Shipped <= row.X_production, ctname = \"const_prod_ship_{}_{}\".format(row.ProductName, row.PlantName))"
            ]
        },
        {
            "cell_type": "markdown",
            "metadata": {},
            "source": [
                "# KPIs and Objective Function"
            ]
        },
        {
            "cell_type": "markdown",
            "metadata": {},
            "source": [
                "## Production Cost"
            ]
        },
        {
            "cell_type": "code",
            "execution_count": 34,
            "metadata": {},
            "outputs": [
                {
                    "data": {
                        "text/html": [
                            "<div>\n",
                            "<style scoped>\n",
                            "    .dataframe tbody tr th:only-of-type {\n",
                            "        vertical-align: middle;\n",
                            "    }\n",
                            "\n",
                            "    .dataframe tbody tr th {\n",
                            "        vertical-align: top;\n",
                            "    }\n",
                            "\n",
                            "    .dataframe thead th {\n",
                            "        text-align: right;\n",
                            "    }\n",
                            "</style>\n",
                            "<table border=\"1\" class=\"dataframe\">\n",
                            "  <thead>\n",
                            "    <tr style=\"text-align: right;\">\n",
                            "      <th></th>\n",
                            "      <th>ProductName</th>\n",
                            "      <th>PlantName</th>\n",
                            "      <th>X_production</th>\n",
                            "      <th>ProductionCost</th>\n",
                            "    </tr>\n",
                            "  </thead>\n",
                            "  <tbody>\n",
                            "    <tr>\n",
                            "      <th>0</th>\n",
                            "      <td>Product1</td>\n",
                            "      <td>Plant1</td>\n",
                            "      <td>X_production_Product1_Plant1</td>\n",
                            "      <td>2</td>\n",
                            "    </tr>\n",
                            "    <tr>\n",
                            "      <th>1</th>\n",
                            "      <td>Product1</td>\n",
                            "      <td>Plant2</td>\n",
                            "      <td>X_production_Product1_Plant2</td>\n",
                            "      <td>3</td>\n",
                            "    </tr>\n",
                            "    <tr>\n",
                            "      <th>2</th>\n",
                            "      <td>Product2</td>\n",
                            "      <td>Plant1</td>\n",
                            "      <td>X_production_Product2_Plant1</td>\n",
                            "      <td>4</td>\n",
                            "    </tr>\n",
                            "    <tr>\n",
                            "      <th>3</th>\n",
                            "      <td>Product2</td>\n",
                            "      <td>Plant2</td>\n",
                            "      <td>X_production_Product2_Plant2</td>\n",
                            "      <td>5</td>\n",
                            "    </tr>\n",
                            "  </tbody>\n",
                            "</table>\n",
                            "</div>"
                        ],
                        "text/plain": [
                            "  ProductName PlantName                  X_production  ProductionCost\n",
                            "0    Product1    Plant1  X_production_Product1_Plant1               2\n",
                            "1    Product1    Plant2  X_production_Product1_Plant2               3\n",
                            "2    Product2    Plant1  X_production_Product2_Plant1               4\n",
                            "3    Product2    Plant2  X_production_Product2_Plant2               5"
                        ]
                    },
                    "metadata": {},
                    "output_type": "display_data"
                },
                {
                    "data": {
                        "text/plain": [
                            "DecisionKPI(name=Total_Production_Costs,expr=2X_production_Product1_Plant1+3X_production_Product1_Plant2+4X_p..)"
                        ]
                    },
                    "execution_count": 34,
                    "metadata": {},
                    "output_type": "execute_result"
                }
            ],
            "source": [
                "TotalProductionCosts = pd.merge(ProductionPlan.reset_index(drop = False), ProductionCosts.reset_index(drop = False), on = [\"ProductName\",\"PlantName\"])\n",
                "display(TotalProductionCosts)\n",
                "\n",
                "Total_Production_Costs = mdl.sum(TotalProductionCosts.ProductionCost * TotalProductionCosts.X_production)\n",
                "mdl.add_kpi(Total_Production_Costs   , \"Total_Production_Costs\")"
            ]
        },
        {
            "cell_type": "code",
            "execution_count": 35,
            "metadata": {},
            "outputs": [
                {
                    "data": {
                        "text/html": [
                            "<div>\n",
                            "<style scoped>\n",
                            "    .dataframe tbody tr th:only-of-type {\n",
                            "        vertical-align: middle;\n",
                            "    }\n",
                            "\n",
                            "    .dataframe tbody tr th {\n",
                            "        vertical-align: top;\n",
                            "    }\n",
                            "\n",
                            "    .dataframe thead th {\n",
                            "        text-align: right;\n",
                            "    }\n",
                            "</style>\n",
                            "<table border=\"1\" class=\"dataframe\">\n",
                            "  <thead>\n",
                            "    <tr style=\"text-align: right;\">\n",
                            "      <th></th>\n",
                            "      <th></th>\n",
                            "      <th></th>\n",
                            "      <th>X_transportation</th>\n",
                            "    </tr>\n",
                            "    <tr>\n",
                            "      <th>ProductName</th>\n",
                            "      <th>PlantName</th>\n",
                            "      <th>CustomerName</th>\n",
                            "      <th></th>\n",
                            "    </tr>\n",
                            "  </thead>\n",
                            "  <tbody>\n",
                            "    <tr>\n",
                            "      <th>Product1</th>\n",
                            "      <th>Plant1</th>\n",
                            "      <th>Customer1</th>\n",
                            "      <td>X_transportation_Product1_Plant1_Customer1</td>\n",
                            "    </tr>\n",
                            "  </tbody>\n",
                            "</table>\n",
                            "</div>"
                        ],
                        "text/plain": [
                            "                                                              X_transportation\n",
                            "ProductName PlantName CustomerName                                            \n",
                            "Product1    Plant1    Customer1     X_transportation_Product1_Plant1_Customer1"
                        ]
                    },
                    "execution_count": 35,
                    "metadata": {},
                    "output_type": "execute_result"
                }
            ],
            "source": [
                "TransportationPlan.head(1)"
            ]
        },
        {
            "cell_type": "code",
            "execution_count": 36,
            "metadata": {},
            "outputs": [
                {
                    "data": {
                        "text/html": [
                            "<div>\n",
                            "<style scoped>\n",
                            "    .dataframe tbody tr th:only-of-type {\n",
                            "        vertical-align: middle;\n",
                            "    }\n",
                            "\n",
                            "    .dataframe tbody tr th {\n",
                            "        vertical-align: top;\n",
                            "    }\n",
                            "\n",
                            "    .dataframe thead th {\n",
                            "        text-align: right;\n",
                            "    }\n",
                            "</style>\n",
                            "<table border=\"1\" class=\"dataframe\">\n",
                            "  <thead>\n",
                            "    <tr style=\"text-align: right;\">\n",
                            "      <th></th>\n",
                            "      <th>ProductName</th>\n",
                            "      <th>PlantName</th>\n",
                            "      <th>CustomerName</th>\n",
                            "      <th>X_transportation</th>\n",
                            "      <th>TransportationCost</th>\n",
                            "    </tr>\n",
                            "  </thead>\n",
                            "  <tbody>\n",
                            "    <tr>\n",
                            "      <th>0</th>\n",
                            "      <td>Product1</td>\n",
                            "      <td>Plant1</td>\n",
                            "      <td>Customer1</td>\n",
                            "      <td>X_transportation_Product1_Plant1_Customer1</td>\n",
                            "      <td>0.20</td>\n",
                            "    </tr>\n",
                            "    <tr>\n",
                            "      <th>1</th>\n",
                            "      <td>Product1</td>\n",
                            "      <td>Plant1</td>\n",
                            "      <td>Customer2</td>\n",
                            "      <td>X_transportation_Product1_Plant1_Customer2</td>\n",
                            "      <td>0.30</td>\n",
                            "    </tr>\n",
                            "    <tr>\n",
                            "      <th>2</th>\n",
                            "      <td>Product1</td>\n",
                            "      <td>Plant2</td>\n",
                            "      <td>Customer1</td>\n",
                            "      <td>X_transportation_Product1_Plant2_Customer1</td>\n",
                            "      <td>0.25</td>\n",
                            "    </tr>\n",
                            "    <tr>\n",
                            "      <th>3</th>\n",
                            "      <td>Product1</td>\n",
                            "      <td>Plant2</td>\n",
                            "      <td>Customer2</td>\n",
                            "      <td>X_transportation_Product1_Plant2_Customer2</td>\n",
                            "      <td>0.35</td>\n",
                            "    </tr>\n",
                            "    <tr>\n",
                            "      <th>4</th>\n",
                            "      <td>Product2</td>\n",
                            "      <td>Plant1</td>\n",
                            "      <td>Customer1</td>\n",
                            "      <td>X_transportation_Product2_Plant1_Customer1</td>\n",
                            "      <td>0.50</td>\n",
                            "    </tr>\n",
                            "    <tr>\n",
                            "      <th>5</th>\n",
                            "      <td>Product2</td>\n",
                            "      <td>Plant1</td>\n",
                            "      <td>Customer2</td>\n",
                            "      <td>X_transportation_Product2_Plant1_Customer2</td>\n",
                            "      <td>0.40</td>\n",
                            "    </tr>\n",
                            "    <tr>\n",
                            "      <th>6</th>\n",
                            "      <td>Product2</td>\n",
                            "      <td>Plant2</td>\n",
                            "      <td>Customer1</td>\n",
                            "      <td>X_transportation_Product2_Plant2_Customer1</td>\n",
                            "      <td>0.20</td>\n",
                            "    </tr>\n",
                            "    <tr>\n",
                            "      <th>7</th>\n",
                            "      <td>Product2</td>\n",
                            "      <td>Plant2</td>\n",
                            "      <td>Customer2</td>\n",
                            "      <td>X_transportation_Product2_Plant2_Customer2</td>\n",
                            "      <td>0.30</td>\n",
                            "    </tr>\n",
                            "  </tbody>\n",
                            "</table>\n",
                            "</div>"
                        ],
                        "text/plain": [
                            "  ProductName PlantName CustomerName   \n",
                            "0    Product1    Plant1    Customer1  \\\n",
                            "1    Product1    Plant1    Customer2   \n",
                            "2    Product1    Plant2    Customer1   \n",
                            "3    Product1    Plant2    Customer2   \n",
                            "4    Product2    Plant1    Customer1   \n",
                            "5    Product2    Plant1    Customer2   \n",
                            "6    Product2    Plant2    Customer1   \n",
                            "7    Product2    Plant2    Customer2   \n",
                            "\n",
                            "                             X_transportation  TransportationCost  \n",
                            "0  X_transportation_Product1_Plant1_Customer1                0.20  \n",
                            "1  X_transportation_Product1_Plant1_Customer2                0.30  \n",
                            "2  X_transportation_Product1_Plant2_Customer1                0.25  \n",
                            "3  X_transportation_Product1_Plant2_Customer2                0.35  \n",
                            "4  X_transportation_Product2_Plant1_Customer1                0.50  \n",
                            "5  X_transportation_Product2_Plant1_Customer2                0.40  \n",
                            "6  X_transportation_Product2_Plant2_Customer1                0.20  \n",
                            "7  X_transportation_Product2_Plant2_Customer2                0.30  "
                        ]
                    },
                    "metadata": {},
                    "output_type": "display_data"
                },
                {
                    "data": {
                        "text/plain": [
                            "DecisionKPI(name=Total_Transportation_Costs,expr=0.200X_transportation_Product1_Plant1_Customer1+0.300X_transport..)"
                        ]
                    },
                    "execution_count": 36,
                    "metadata": {},
                    "output_type": "execute_result"
                }
            ],
            "source": [
                "TotalTransportationCosts = pd.merge(TransportationPlan.reset_index(drop = False), TransportationCosts.reset_index(drop = False), on = [\"ProductName\",\"CustomerName\",\"PlantName\"])\n",
                "display(TotalTransportationCosts)\n",
                "\n",
                "Total_Transportation_Costs = mdl.sum(TotalTransportationCosts.TransportationCost * TotalTransportationCosts.X_transportation)\n",
                "mdl.add_kpi(Total_Transportation_Costs   , \"Total_Transportation_Costs\")"
            ]
        },
        {
            "cell_type": "code",
            "execution_count": 37,
            "metadata": {},
            "outputs": [
                {
                    "data": {
                        "text/plain": [
                            "DecisionKPI(name=Total_Costs,expr=2X_production_Product1_Plant1+3X_production_Product1_Plant2+4X_p..)"
                        ]
                    },
                    "execution_count": 37,
                    "metadata": {},
                    "output_type": "execute_result"
                }
            ],
            "source": [
                "Total_Costs = Total_Transportation_Costs + Total_Production_Costs\n",
                "mdl.add_kpi(Total_Costs   , \"Total_Costs\")"
            ]
        },
        {
            "cell_type": "code",
            "execution_count": 38,
            "metadata": {},
            "outputs": [
                {
                    "name": "stdout",
                    "output_type": "stream",
                    "text": [
                        "Model: SupplyChain\n",
                        " - number of variables: 12\n",
                        "   - binary=0, integer=0, continuous=12\n",
                        " - number of constraints: 12\n",
                        "   - linear=12\n",
                        " - parameters: defaults\n",
                        " - objective: none\n",
                        " - problem type is: LP\n"
                    ]
                }
            ],
            "source": [
                "mdl.print_information()"
            ]
        },
        {
            "cell_type": "markdown",
            "metadata": {},
            "source": [
                "# Solve"
            ]
        },
        {
            "cell_type": "code",
            "execution_count": 41,
            "metadata": {},
            "outputs": [
                {
                    "name": "stdout",
                    "output_type": "stream",
                    "text": [
                        "Version identifier: 22.1.1.0 | 2022-11-27 | 9160aff4d\n",
                        "CPXPARAM_Read_DataCheck                          1\n",
                        "Implied bounds make row 'const_delivery_Product1_Customer1' infeasible.\n",
                        "Presolve time = 0.00 sec. (0.00 ticks)\n"
                    ]
                }
            ],
            "source": [
                "mdl.minimize(Total_Costs)\n",
                "mdl.solve(log_output=True)\n",
                "\n"
            ]
        },
        {
            "cell_type": "code",
            "execution_count": 42,
            "metadata": {},
            "outputs": [],
            "source": [
                "mdl.report()"
            ]
        },
        {
            "cell_type": "markdown",
            "metadata": {},
            "source": [
                "# Postprocessing"
            ]
        },
        {
            "cell_type": "code",
            "execution_count": 43,
            "metadata": {},
            "outputs": [
                {
                    "ename": "DOcplexException",
                    "evalue": "Model<SupplyChain> did not solve successfully",
                    "output_type": "error",
                    "traceback": [
                        "\u001b[1;31m---------------------------------------------------------------------------\u001b[0m",
                        "\u001b[1;31mDOcplexException\u001b[0m                          Traceback (most recent call last)",
                        "\u001b[1;32mc:\\Users\\m_gor\\Desktop\\OptimizationDemos\\MP\\SupplyChain\\SupplyChain-Infeasible.ipynb Cell 46\u001b[0m in \u001b[0;36m1\n\u001b[1;32m----> <a href='vscode-notebook-cell:/c%3A/Users/m_gor/Desktop/OptimizationDemos/MP/SupplyChain/SupplyChain-Infeasible.ipynb#X62sZmlsZQ%3D%3D?line=0'>1</a>\u001b[0m ProductionPlan \u001b[39m=\u001b[39m extract_solution(Plant_Product_Capacity, extract_dvar_names\u001b[39m=\u001b[39;49m [\u001b[39m'\u001b[39;49m\u001b[39mX_production\u001b[39;49m\u001b[39m'\u001b[39;49m] ,drop\u001b[39m=\u001b[39;49m\u001b[39mFalse\u001b[39;49;00m)\n\u001b[0;32m      <a href='vscode-notebook-cell:/c%3A/Users/m_gor/Desktop/OptimizationDemos/MP/SupplyChain/SupplyChain-Infeasible.ipynb#X62sZmlsZQ%3D%3D?line=1'>2</a>\u001b[0m ProductionPlan\n",
                        "\u001b[1;32mc:\\Users\\m_gor\\Desktop\\OptimizationDemos\\MP\\SupplyChain\\SupplyChain-Infeasible.ipynb Cell 46\u001b[0m in \u001b[0;36m2\n\u001b[0;32m     <a href='vscode-notebook-cell:/c%3A/Users/m_gor/Desktop/OptimizationDemos/MP/SupplyChain/SupplyChain-Infeasible.ipynb#X62sZmlsZQ%3D%3D?line=19'>20</a>\u001b[0m \u001b[39mfor\u001b[39;00m xDVarName \u001b[39min\u001b[39;00m extract_dvar_names:\n\u001b[0;32m     <a href='vscode-notebook-cell:/c%3A/Users/m_gor/Desktop/OptimizationDemos/MP/SupplyChain/SupplyChain-Infeasible.ipynb#X62sZmlsZQ%3D%3D?line=20'>21</a>\u001b[0m     \u001b[39mif\u001b[39;00m xDVarName \u001b[39min\u001b[39;00m df\u001b[39m.\u001b[39mcolumns:\n\u001b[1;32m---> <a href='vscode-notebook-cell:/c%3A/Users/m_gor/Desktop/OptimizationDemos/MP/SupplyChain/SupplyChain-Infeasible.ipynb#X62sZmlsZQ%3D%3D?line=21'>22</a>\u001b[0m         df[\u001b[39mf\u001b[39m\u001b[39m'\u001b[39m\u001b[39m{\u001b[39;00mxDVarName\u001b[39m}\u001b[39;00m\u001b[39m_Solution\u001b[39m\u001b[39m'\u001b[39m] \u001b[39m=\u001b[39m [dvar\u001b[39m.\u001b[39msolution_value \u001b[39mfor\u001b[39;00m dvar \u001b[39min\u001b[39;00m df[xDVarName]]\n\u001b[0;32m     <a href='vscode-notebook-cell:/c%3A/Users/m_gor/Desktop/OptimizationDemos/MP/SupplyChain/SupplyChain-Infeasible.ipynb#X62sZmlsZQ%3D%3D?line=22'>23</a>\u001b[0m         \u001b[39mif\u001b[39;00m drop:\n\u001b[0;32m     <a href='vscode-notebook-cell:/c%3A/Users/m_gor/Desktop/OptimizationDemos/MP/SupplyChain/SupplyChain-Infeasible.ipynb#X62sZmlsZQ%3D%3D?line=23'>24</a>\u001b[0m             df \u001b[39m=\u001b[39m df\u001b[39m.\u001b[39mdrop([xDVarName], axis \u001b[39m=\u001b[39m \u001b[39m1\u001b[39m)\n",
                        "\u001b[1;32mc:\\Users\\m_gor\\Desktop\\OptimizationDemos\\MP\\SupplyChain\\SupplyChain-Infeasible.ipynb Cell 46\u001b[0m in \u001b[0;36m2\n\u001b[0;32m     <a href='vscode-notebook-cell:/c%3A/Users/m_gor/Desktop/OptimizationDemos/MP/SupplyChain/SupplyChain-Infeasible.ipynb#X62sZmlsZQ%3D%3D?line=19'>20</a>\u001b[0m \u001b[39mfor\u001b[39;00m xDVarName \u001b[39min\u001b[39;00m extract_dvar_names:\n\u001b[0;32m     <a href='vscode-notebook-cell:/c%3A/Users/m_gor/Desktop/OptimizationDemos/MP/SupplyChain/SupplyChain-Infeasible.ipynb#X62sZmlsZQ%3D%3D?line=20'>21</a>\u001b[0m     \u001b[39mif\u001b[39;00m xDVarName \u001b[39min\u001b[39;00m df\u001b[39m.\u001b[39mcolumns:\n\u001b[1;32m---> <a href='vscode-notebook-cell:/c%3A/Users/m_gor/Desktop/OptimizationDemos/MP/SupplyChain/SupplyChain-Infeasible.ipynb#X62sZmlsZQ%3D%3D?line=21'>22</a>\u001b[0m         df[\u001b[39mf\u001b[39m\u001b[39m'\u001b[39m\u001b[39m{\u001b[39;00mxDVarName\u001b[39m}\u001b[39;00m\u001b[39m_Solution\u001b[39m\u001b[39m'\u001b[39m] \u001b[39m=\u001b[39m [dvar\u001b[39m.\u001b[39;49msolution_value \u001b[39mfor\u001b[39;00m dvar \u001b[39min\u001b[39;00m df[xDVarName]]\n\u001b[0;32m     <a href='vscode-notebook-cell:/c%3A/Users/m_gor/Desktop/OptimizationDemos/MP/SupplyChain/SupplyChain-Infeasible.ipynb#X62sZmlsZQ%3D%3D?line=22'>23</a>\u001b[0m         \u001b[39mif\u001b[39;00m drop:\n\u001b[0;32m     <a href='vscode-notebook-cell:/c%3A/Users/m_gor/Desktop/OptimizationDemos/MP/SupplyChain/SupplyChain-Infeasible.ipynb#X62sZmlsZQ%3D%3D?line=23'>24</a>\u001b[0m             df \u001b[39m=\u001b[39m df\u001b[39m.\u001b[39mdrop([xDVarName], axis \u001b[39m=\u001b[39m \u001b[39m1\u001b[39m)\n",
                        "File \u001b[1;32mc:\\Users\\m_gor\\Python310\\lib\\site-packages\\docplex\\mp\\dvar.py:230\u001b[0m, in \u001b[0;36mVar.solution_value\u001b[1;34m(self)\u001b[0m\n\u001b[0;32m    221\u001b[0m \u001b[39m@property\u001b[39m\n\u001b[0;32m    222\u001b[0m \u001b[39mdef\u001b[39;00m \u001b[39msolution_value\u001b[39m(\u001b[39mself\u001b[39m):\n\u001b[0;32m    223\u001b[0m     \u001b[39m\"\"\" This property returns the solution value of the variable.\u001b[39;00m\n\u001b[0;32m    224\u001b[0m \n\u001b[0;32m    225\u001b[0m \u001b[39m    Raises:\u001b[39;00m\n\u001b[1;32m   (...)\u001b[0m\n\u001b[0;32m    228\u001b[0m \n\u001b[0;32m    229\u001b[0m \u001b[39m    \"\"\"\u001b[39;00m\n\u001b[1;32m--> 230\u001b[0m     \u001b[39mself\u001b[39;49m\u001b[39m.\u001b[39;49mmodel\u001b[39m.\u001b[39;49m_check_has_solution()\n\u001b[0;32m    231\u001b[0m     \u001b[39mreturn\u001b[39;00m \u001b[39mself\u001b[39m\u001b[39m.\u001b[39m_raw_solution_value()\n",
                        "File \u001b[1;32mc:\\Users\\m_gor\\Python310\\lib\\site-packages\\docplex\\mp\\model.py:5189\u001b[0m, in \u001b[0;36mModel._check_has_solution\u001b[1;34m(self)\u001b[0m\n\u001b[0;32m   5187\u001b[0m     \u001b[39mself\u001b[39m\u001b[39m.\u001b[39mfatal(\u001b[39m\"\u001b[39m\u001b[39mModel<\u001b[39m\u001b[39m{0}\u001b[39;00m\u001b[39m> has not been solved yet\u001b[39m\u001b[39m\"\u001b[39m, \u001b[39mself\u001b[39m\u001b[39m.\u001b[39mname)\n\u001b[0;32m   5188\u001b[0m \u001b[39melse\u001b[39;00m:\n\u001b[1;32m-> 5189\u001b[0m     \u001b[39mself\u001b[39;49m\u001b[39m.\u001b[39;49mfatal(\u001b[39m\"\u001b[39;49m\u001b[39mModel<\u001b[39;49m\u001b[39m{0}\u001b[39;49;00m\u001b[39m> did not solve successfully\u001b[39;49m\u001b[39m\"\u001b[39;49m, \u001b[39mself\u001b[39;49m\u001b[39m.\u001b[39;49mname)\n",
                        "File \u001b[1;32mc:\\Users\\m_gor\\Python310\\lib\\site-packages\\docplex\\mp\\model.py:1080\u001b[0m, in \u001b[0;36mModel.fatal\u001b[1;34m(self, msg, *args)\u001b[0m\n\u001b[0;32m   1079\u001b[0m \u001b[39mdef\u001b[39;00m \u001b[39mfatal\u001b[39m(\u001b[39mself\u001b[39m, msg, \u001b[39m*\u001b[39margs):\n\u001b[1;32m-> 1080\u001b[0m     \u001b[39mself\u001b[39;49m\u001b[39m.\u001b[39;49m_error_handler\u001b[39m.\u001b[39;49mfatal(msg, args)\n",
                        "File \u001b[1;32mc:\\Users\\m_gor\\Python310\\lib\\site-packages\\docplex\\mp\\error_handler.py:210\u001b[0m, in \u001b[0;36mAbstractErrorHandler.fatal\u001b[1;34m(self, msg, args)\u001b[0m\n\u001b[0;32m    208\u001b[0m resolved_message \u001b[39m=\u001b[39m resolve_pattern(msg, args)\n\u001b[0;32m    209\u001b[0m docplex_error_stop_here()\n\u001b[1;32m--> 210\u001b[0m \u001b[39mraise\u001b[39;00m DOcplexException(resolved_message)\n",
                        "\u001b[1;31mDOcplexException\u001b[0m: Model<SupplyChain> did not solve successfully"
                    ]
                }
            ],
            "source": [
                "ProductionPlan = extract_solution(Plant_Product_Capacity, extract_dvar_names= ['X_production'] ,drop=False)\n",
                "ProductionPlan"
            ]
        },
        {
            "cell_type": "code",
            "execution_count": 31,
            "metadata": {},
            "outputs": [
                {
                    "ename": "DOcplexException",
                    "evalue": "Model<SupplyChain> did not solve successfully",
                    "output_type": "error",
                    "traceback": [
                        "\u001b[1;31m---------------------------------------------------------------------------\u001b[0m",
                        "\u001b[1;31mDOcplexException\u001b[0m                          Traceback (most recent call last)",
                        "\u001b[1;32mc:\\Users\\m_gor\\Desktop\\OptimizationDemos\\MP\\SupplyChain\\SupplyChain-Infeasible.ipynb Cell 46\u001b[0m in \u001b[0;36m1\n\u001b[1;32m----> <a href='vscode-notebook-cell:/c%3A/Users/m_gor/Desktop/OptimizationDemos/MP/SupplyChain/SupplyChain-Infeasible.ipynb#X65sZmlsZQ%3D%3D?line=0'>1</a>\u001b[0m TransportationPlan \u001b[39m=\u001b[39m extract_solution(TransportationPlan, extract_dvar_names\u001b[39m=\u001b[39;49m [\u001b[39m'\u001b[39;49m\u001b[39mX_transportation\u001b[39;49m\u001b[39m'\u001b[39;49m] ,drop\u001b[39m=\u001b[39;49m\u001b[39mFalse\u001b[39;49;00m)\n\u001b[0;32m      <a href='vscode-notebook-cell:/c%3A/Users/m_gor/Desktop/OptimizationDemos/MP/SupplyChain/SupplyChain-Infeasible.ipynb#X65sZmlsZQ%3D%3D?line=1'>2</a>\u001b[0m TransportationPlan\n",
                        "\u001b[1;32mc:\\Users\\m_gor\\Desktop\\OptimizationDemos\\MP\\SupplyChain\\SupplyChain-Infeasible.ipynb Cell 46\u001b[0m in \u001b[0;36m2\n\u001b[0;32m     <a href='vscode-notebook-cell:/c%3A/Users/m_gor/Desktop/OptimizationDemos/MP/SupplyChain/SupplyChain-Infeasible.ipynb#X65sZmlsZQ%3D%3D?line=19'>20</a>\u001b[0m \u001b[39mfor\u001b[39;00m xDVarName \u001b[39min\u001b[39;00m extract_dvar_names:\n\u001b[0;32m     <a href='vscode-notebook-cell:/c%3A/Users/m_gor/Desktop/OptimizationDemos/MP/SupplyChain/SupplyChain-Infeasible.ipynb#X65sZmlsZQ%3D%3D?line=20'>21</a>\u001b[0m     \u001b[39mif\u001b[39;00m xDVarName \u001b[39min\u001b[39;00m df\u001b[39m.\u001b[39mcolumns:\n\u001b[1;32m---> <a href='vscode-notebook-cell:/c%3A/Users/m_gor/Desktop/OptimizationDemos/MP/SupplyChain/SupplyChain-Infeasible.ipynb#X65sZmlsZQ%3D%3D?line=21'>22</a>\u001b[0m         df[\u001b[39mf\u001b[39m\u001b[39m'\u001b[39m\u001b[39m{\u001b[39;00mxDVarName\u001b[39m}\u001b[39;00m\u001b[39m_Solution\u001b[39m\u001b[39m'\u001b[39m] \u001b[39m=\u001b[39m [dvar\u001b[39m.\u001b[39msolution_value \u001b[39mfor\u001b[39;00m dvar \u001b[39min\u001b[39;00m df[xDVarName]]\n\u001b[0;32m     <a href='vscode-notebook-cell:/c%3A/Users/m_gor/Desktop/OptimizationDemos/MP/SupplyChain/SupplyChain-Infeasible.ipynb#X65sZmlsZQ%3D%3D?line=22'>23</a>\u001b[0m         \u001b[39mif\u001b[39;00m drop:\n\u001b[0;32m     <a href='vscode-notebook-cell:/c%3A/Users/m_gor/Desktop/OptimizationDemos/MP/SupplyChain/SupplyChain-Infeasible.ipynb#X65sZmlsZQ%3D%3D?line=23'>24</a>\u001b[0m             df \u001b[39m=\u001b[39m df\u001b[39m.\u001b[39mdrop([xDVarName], axis \u001b[39m=\u001b[39m \u001b[39m1\u001b[39m)\n",
                        "\u001b[1;32mc:\\Users\\m_gor\\Desktop\\OptimizationDemos\\MP\\SupplyChain\\SupplyChain-Infeasible.ipynb Cell 46\u001b[0m in \u001b[0;36m2\n\u001b[0;32m     <a href='vscode-notebook-cell:/c%3A/Users/m_gor/Desktop/OptimizationDemos/MP/SupplyChain/SupplyChain-Infeasible.ipynb#X65sZmlsZQ%3D%3D?line=19'>20</a>\u001b[0m \u001b[39mfor\u001b[39;00m xDVarName \u001b[39min\u001b[39;00m extract_dvar_names:\n\u001b[0;32m     <a href='vscode-notebook-cell:/c%3A/Users/m_gor/Desktop/OptimizationDemos/MP/SupplyChain/SupplyChain-Infeasible.ipynb#X65sZmlsZQ%3D%3D?line=20'>21</a>\u001b[0m     \u001b[39mif\u001b[39;00m xDVarName \u001b[39min\u001b[39;00m df\u001b[39m.\u001b[39mcolumns:\n\u001b[1;32m---> <a href='vscode-notebook-cell:/c%3A/Users/m_gor/Desktop/OptimizationDemos/MP/SupplyChain/SupplyChain-Infeasible.ipynb#X65sZmlsZQ%3D%3D?line=21'>22</a>\u001b[0m         df[\u001b[39mf\u001b[39m\u001b[39m'\u001b[39m\u001b[39m{\u001b[39;00mxDVarName\u001b[39m}\u001b[39;00m\u001b[39m_Solution\u001b[39m\u001b[39m'\u001b[39m] \u001b[39m=\u001b[39m [dvar\u001b[39m.\u001b[39;49msolution_value \u001b[39mfor\u001b[39;00m dvar \u001b[39min\u001b[39;00m df[xDVarName]]\n\u001b[0;32m     <a href='vscode-notebook-cell:/c%3A/Users/m_gor/Desktop/OptimizationDemos/MP/SupplyChain/SupplyChain-Infeasible.ipynb#X65sZmlsZQ%3D%3D?line=22'>23</a>\u001b[0m         \u001b[39mif\u001b[39;00m drop:\n\u001b[0;32m     <a href='vscode-notebook-cell:/c%3A/Users/m_gor/Desktop/OptimizationDemos/MP/SupplyChain/SupplyChain-Infeasible.ipynb#X65sZmlsZQ%3D%3D?line=23'>24</a>\u001b[0m             df \u001b[39m=\u001b[39m df\u001b[39m.\u001b[39mdrop([xDVarName], axis \u001b[39m=\u001b[39m \u001b[39m1\u001b[39m)\n",
                        "File \u001b[1;32mc:\\Users\\m_gor\\Python310\\lib\\site-packages\\docplex\\mp\\dvar.py:230\u001b[0m, in \u001b[0;36mVar.solution_value\u001b[1;34m(self)\u001b[0m\n\u001b[0;32m    221\u001b[0m \u001b[39m@property\u001b[39m\n\u001b[0;32m    222\u001b[0m \u001b[39mdef\u001b[39;00m \u001b[39msolution_value\u001b[39m(\u001b[39mself\u001b[39m):\n\u001b[0;32m    223\u001b[0m     \u001b[39m\"\"\" This property returns the solution value of the variable.\u001b[39;00m\n\u001b[0;32m    224\u001b[0m \n\u001b[0;32m    225\u001b[0m \u001b[39m    Raises:\u001b[39;00m\n\u001b[1;32m   (...)\u001b[0m\n\u001b[0;32m    228\u001b[0m \n\u001b[0;32m    229\u001b[0m \u001b[39m    \"\"\"\u001b[39;00m\n\u001b[1;32m--> 230\u001b[0m     \u001b[39mself\u001b[39;49m\u001b[39m.\u001b[39;49mmodel\u001b[39m.\u001b[39;49m_check_has_solution()\n\u001b[0;32m    231\u001b[0m     \u001b[39mreturn\u001b[39;00m \u001b[39mself\u001b[39m\u001b[39m.\u001b[39m_raw_solution_value()\n",
                        "File \u001b[1;32mc:\\Users\\m_gor\\Python310\\lib\\site-packages\\docplex\\mp\\model.py:5189\u001b[0m, in \u001b[0;36mModel._check_has_solution\u001b[1;34m(self)\u001b[0m\n\u001b[0;32m   5187\u001b[0m     \u001b[39mself\u001b[39m\u001b[39m.\u001b[39mfatal(\u001b[39m\"\u001b[39m\u001b[39mModel<\u001b[39m\u001b[39m{0}\u001b[39;00m\u001b[39m> has not been solved yet\u001b[39m\u001b[39m\"\u001b[39m, \u001b[39mself\u001b[39m\u001b[39m.\u001b[39mname)\n\u001b[0;32m   5188\u001b[0m \u001b[39melse\u001b[39;00m:\n\u001b[1;32m-> 5189\u001b[0m     \u001b[39mself\u001b[39;49m\u001b[39m.\u001b[39;49mfatal(\u001b[39m\"\u001b[39;49m\u001b[39mModel<\u001b[39;49m\u001b[39m{0}\u001b[39;49;00m\u001b[39m> did not solve successfully\u001b[39;49m\u001b[39m\"\u001b[39;49m, \u001b[39mself\u001b[39;49m\u001b[39m.\u001b[39;49mname)\n",
                        "File \u001b[1;32mc:\\Users\\m_gor\\Python310\\lib\\site-packages\\docplex\\mp\\model.py:1080\u001b[0m, in \u001b[0;36mModel.fatal\u001b[1;34m(self, msg, *args)\u001b[0m\n\u001b[0;32m   1079\u001b[0m \u001b[39mdef\u001b[39;00m \u001b[39mfatal\u001b[39m(\u001b[39mself\u001b[39m, msg, \u001b[39m*\u001b[39margs):\n\u001b[1;32m-> 1080\u001b[0m     \u001b[39mself\u001b[39;49m\u001b[39m.\u001b[39;49m_error_handler\u001b[39m.\u001b[39;49mfatal(msg, args)\n",
                        "File \u001b[1;32mc:\\Users\\m_gor\\Python310\\lib\\site-packages\\docplex\\mp\\error_handler.py:210\u001b[0m, in \u001b[0;36mAbstractErrorHandler.fatal\u001b[1;34m(self, msg, args)\u001b[0m\n\u001b[0;32m    208\u001b[0m resolved_message \u001b[39m=\u001b[39m resolve_pattern(msg, args)\n\u001b[0;32m    209\u001b[0m docplex_error_stop_here()\n\u001b[1;32m--> 210\u001b[0m \u001b[39mraise\u001b[39;00m DOcplexException(resolved_message)\n",
                        "\u001b[1;31mDOcplexException\u001b[0m: Model<SupplyChain> did not solve successfully"
                    ]
                }
            ],
            "source": [
                "TransportationPlan = extract_solution(TransportationPlan, extract_dvar_names= ['X_transportation'] ,drop=False)\n",
                "TransportationPlan"
            ]
        },
        {
            "cell_type": "code",
            "execution_count": 32,
            "metadata": {},
            "outputs": [
                {
                    "ename": "DOcplexException",
                    "evalue": "Model<SupplyChain> did not solve successfully",
                    "output_type": "error",
                    "traceback": [
                        "\u001b[1;31m---------------------------------------------------------------------------\u001b[0m",
                        "\u001b[1;31mDOcplexException\u001b[0m                          Traceback (most recent call last)",
                        "\u001b[1;32mc:\\Users\\m_gor\\Desktop\\OptimizationDemos\\MP\\SupplyChain\\SupplyChain-Infeasible.ipynb Cell 47\u001b[0m in \u001b[0;36m1\n\u001b[1;32m----> <a href='vscode-notebook-cell:/c%3A/Users/m_gor/Desktop/OptimizationDemos/MP/SupplyChain/SupplyChain-Infeasible.ipynb#X66sZmlsZQ%3D%3D?line=0'>1</a>\u001b[0m Delivery \u001b[39m=\u001b[39m extract_solution(Delivery, extract_dvar_names\u001b[39m=\u001b[39;49m [\u001b[39m'\u001b[39;49m\u001b[39mTotal_Delivered\u001b[39;49m\u001b[39m'\u001b[39;49m] ,drop\u001b[39m=\u001b[39;49m\u001b[39mFalse\u001b[39;49;00m)\n\u001b[0;32m      <a href='vscode-notebook-cell:/c%3A/Users/m_gor/Desktop/OptimizationDemos/MP/SupplyChain/SupplyChain-Infeasible.ipynb#X66sZmlsZQ%3D%3D?line=2'>3</a>\u001b[0m Delivery\n",
                        "\u001b[1;32mc:\\Users\\m_gor\\Desktop\\OptimizationDemos\\MP\\SupplyChain\\SupplyChain-Infeasible.ipynb Cell 47\u001b[0m in \u001b[0;36m2\n\u001b[0;32m     <a href='vscode-notebook-cell:/c%3A/Users/m_gor/Desktop/OptimizationDemos/MP/SupplyChain/SupplyChain-Infeasible.ipynb#X66sZmlsZQ%3D%3D?line=19'>20</a>\u001b[0m \u001b[39mfor\u001b[39;00m xDVarName \u001b[39min\u001b[39;00m extract_dvar_names:\n\u001b[0;32m     <a href='vscode-notebook-cell:/c%3A/Users/m_gor/Desktop/OptimizationDemos/MP/SupplyChain/SupplyChain-Infeasible.ipynb#X66sZmlsZQ%3D%3D?line=20'>21</a>\u001b[0m     \u001b[39mif\u001b[39;00m xDVarName \u001b[39min\u001b[39;00m df\u001b[39m.\u001b[39mcolumns:\n\u001b[1;32m---> <a href='vscode-notebook-cell:/c%3A/Users/m_gor/Desktop/OptimizationDemos/MP/SupplyChain/SupplyChain-Infeasible.ipynb#X66sZmlsZQ%3D%3D?line=21'>22</a>\u001b[0m         df[\u001b[39mf\u001b[39m\u001b[39m'\u001b[39m\u001b[39m{\u001b[39;00mxDVarName\u001b[39m}\u001b[39;00m\u001b[39m_Solution\u001b[39m\u001b[39m'\u001b[39m] \u001b[39m=\u001b[39m [dvar\u001b[39m.\u001b[39msolution_value \u001b[39mfor\u001b[39;00m dvar \u001b[39min\u001b[39;00m df[xDVarName]]\n\u001b[0;32m     <a href='vscode-notebook-cell:/c%3A/Users/m_gor/Desktop/OptimizationDemos/MP/SupplyChain/SupplyChain-Infeasible.ipynb#X66sZmlsZQ%3D%3D?line=22'>23</a>\u001b[0m         \u001b[39mif\u001b[39;00m drop:\n\u001b[0;32m     <a href='vscode-notebook-cell:/c%3A/Users/m_gor/Desktop/OptimizationDemos/MP/SupplyChain/SupplyChain-Infeasible.ipynb#X66sZmlsZQ%3D%3D?line=23'>24</a>\u001b[0m             df \u001b[39m=\u001b[39m df\u001b[39m.\u001b[39mdrop([xDVarName], axis \u001b[39m=\u001b[39m \u001b[39m1\u001b[39m)\n",
                        "\u001b[1;32mc:\\Users\\m_gor\\Desktop\\OptimizationDemos\\MP\\SupplyChain\\SupplyChain-Infeasible.ipynb Cell 47\u001b[0m in \u001b[0;36m2\n\u001b[0;32m     <a href='vscode-notebook-cell:/c%3A/Users/m_gor/Desktop/OptimizationDemos/MP/SupplyChain/SupplyChain-Infeasible.ipynb#X66sZmlsZQ%3D%3D?line=19'>20</a>\u001b[0m \u001b[39mfor\u001b[39;00m xDVarName \u001b[39min\u001b[39;00m extract_dvar_names:\n\u001b[0;32m     <a href='vscode-notebook-cell:/c%3A/Users/m_gor/Desktop/OptimizationDemos/MP/SupplyChain/SupplyChain-Infeasible.ipynb#X66sZmlsZQ%3D%3D?line=20'>21</a>\u001b[0m     \u001b[39mif\u001b[39;00m xDVarName \u001b[39min\u001b[39;00m df\u001b[39m.\u001b[39mcolumns:\n\u001b[1;32m---> <a href='vscode-notebook-cell:/c%3A/Users/m_gor/Desktop/OptimizationDemos/MP/SupplyChain/SupplyChain-Infeasible.ipynb#X66sZmlsZQ%3D%3D?line=21'>22</a>\u001b[0m         df[\u001b[39mf\u001b[39m\u001b[39m'\u001b[39m\u001b[39m{\u001b[39;00mxDVarName\u001b[39m}\u001b[39;00m\u001b[39m_Solution\u001b[39m\u001b[39m'\u001b[39m] \u001b[39m=\u001b[39m [dvar\u001b[39m.\u001b[39;49msolution_value \u001b[39mfor\u001b[39;00m dvar \u001b[39min\u001b[39;00m df[xDVarName]]\n\u001b[0;32m     <a href='vscode-notebook-cell:/c%3A/Users/m_gor/Desktop/OptimizationDemos/MP/SupplyChain/SupplyChain-Infeasible.ipynb#X66sZmlsZQ%3D%3D?line=22'>23</a>\u001b[0m         \u001b[39mif\u001b[39;00m drop:\n\u001b[0;32m     <a href='vscode-notebook-cell:/c%3A/Users/m_gor/Desktop/OptimizationDemos/MP/SupplyChain/SupplyChain-Infeasible.ipynb#X66sZmlsZQ%3D%3D?line=23'>24</a>\u001b[0m             df \u001b[39m=\u001b[39m df\u001b[39m.\u001b[39mdrop([xDVarName], axis \u001b[39m=\u001b[39m \u001b[39m1\u001b[39m)\n",
                        "File \u001b[1;32mc:\\Users\\m_gor\\Python310\\lib\\site-packages\\docplex\\mp\\linear.py:1095\u001b[0m, in \u001b[0;36mLinearExpr.solution_value\u001b[1;34m(self)\u001b[0m\n\u001b[0;32m   1087\u001b[0m \u001b[39m@property\u001b[39m\n\u001b[0;32m   1088\u001b[0m \u001b[39mdef\u001b[39;00m \u001b[39msolution_value\u001b[39m(\u001b[39mself\u001b[39m):\n\u001b[0;32m   1089\u001b[0m     \u001b[39m\"\"\" This property returns the solution value of the variable.\u001b[39;00m\n\u001b[0;32m   1090\u001b[0m \n\u001b[0;32m   1091\u001b[0m \u001b[39m    Raises:\u001b[39;00m\n\u001b[0;32m   1092\u001b[0m \u001b[39m        DOCplexException\u001b[39;00m\n\u001b[0;32m   1093\u001b[0m \u001b[39m            if the model has not been solved.\u001b[39;00m\n\u001b[0;32m   1094\u001b[0m \u001b[39m    \"\"\"\u001b[39;00m\n\u001b[1;32m-> 1095\u001b[0m     \u001b[39mreturn\u001b[39;00m \u001b[39msuper\u001b[39;49m()\u001b[39m.\u001b[39;49msolution_value\n",
                        "File \u001b[1;32mc:\\Users\\m_gor\\Python310\\lib\\site-packages\\docplex\\mp\\basic.py:75\u001b[0m, in \u001b[0;36m_AbstractValuable.solution_value\u001b[1;34m(self)\u001b[0m\n\u001b[0;32m     73\u001b[0m \u001b[39m@property\u001b[39m\n\u001b[0;32m     74\u001b[0m \u001b[39mdef\u001b[39;00m \u001b[39msolution_value\u001b[39m(\u001b[39mself\u001b[39m):\n\u001b[1;32m---> 75\u001b[0m     \u001b[39mself\u001b[39;49m\u001b[39m.\u001b[39;49mmodel\u001b[39m.\u001b[39;49m_check_has_solution()\n\u001b[0;32m     76\u001b[0m     raw \u001b[39m=\u001b[39m \u001b[39mself\u001b[39m\u001b[39m.\u001b[39m_raw_solution_value()\n\u001b[0;32m     77\u001b[0m     \u001b[39mreturn\u001b[39;00m \u001b[39mself\u001b[39m\u001b[39m.\u001b[39m_round_if_discrete(raw)\n",
                        "File \u001b[1;32mc:\\Users\\m_gor\\Python310\\lib\\site-packages\\docplex\\mp\\model.py:5189\u001b[0m, in \u001b[0;36mModel._check_has_solution\u001b[1;34m(self)\u001b[0m\n\u001b[0;32m   5187\u001b[0m     \u001b[39mself\u001b[39m\u001b[39m.\u001b[39mfatal(\u001b[39m\"\u001b[39m\u001b[39mModel<\u001b[39m\u001b[39m{0}\u001b[39;00m\u001b[39m> has not been solved yet\u001b[39m\u001b[39m\"\u001b[39m, \u001b[39mself\u001b[39m\u001b[39m.\u001b[39mname)\n\u001b[0;32m   5188\u001b[0m \u001b[39melse\u001b[39;00m:\n\u001b[1;32m-> 5189\u001b[0m     \u001b[39mself\u001b[39;49m\u001b[39m.\u001b[39;49mfatal(\u001b[39m\"\u001b[39;49m\u001b[39mModel<\u001b[39;49m\u001b[39m{0}\u001b[39;49;00m\u001b[39m> did not solve successfully\u001b[39;49m\u001b[39m\"\u001b[39;49m, \u001b[39mself\u001b[39;49m\u001b[39m.\u001b[39;49mname)\n",
                        "File \u001b[1;32mc:\\Users\\m_gor\\Python310\\lib\\site-packages\\docplex\\mp\\model.py:1080\u001b[0m, in \u001b[0;36mModel.fatal\u001b[1;34m(self, msg, *args)\u001b[0m\n\u001b[0;32m   1079\u001b[0m \u001b[39mdef\u001b[39;00m \u001b[39mfatal\u001b[39m(\u001b[39mself\u001b[39m, msg, \u001b[39m*\u001b[39margs):\n\u001b[1;32m-> 1080\u001b[0m     \u001b[39mself\u001b[39;49m\u001b[39m.\u001b[39;49m_error_handler\u001b[39m.\u001b[39;49mfatal(msg, args)\n",
                        "File \u001b[1;32mc:\\Users\\m_gor\\Python310\\lib\\site-packages\\docplex\\mp\\error_handler.py:210\u001b[0m, in \u001b[0;36mAbstractErrorHandler.fatal\u001b[1;34m(self, msg, args)\u001b[0m\n\u001b[0;32m    208\u001b[0m resolved_message \u001b[39m=\u001b[39m resolve_pattern(msg, args)\n\u001b[0;32m    209\u001b[0m docplex_error_stop_here()\n\u001b[1;32m--> 210\u001b[0m \u001b[39mraise\u001b[39;00m DOcplexException(resolved_message)\n",
                        "\u001b[1;31mDOcplexException\u001b[0m: Model<SupplyChain> did not solve successfully"
                    ]
                }
            ],
            "source": [
                "Delivery = extract_solution(Delivery, extract_dvar_names= ['Total_Delivered'] ,drop=False)\n",
                "\n",
                "Delivery"
            ]
        },
        {
            "cell_type": "markdown",
            "metadata": {},
            "source": [
                "## save the data into watson studio optimization GUI"
            ]
        },
        {
            "cell_type": "code",
            "execution_count": 34,
            "metadata": {},
            "outputs": [],
            "source": [
                "InputTables={}\n",
                "\n",
                "InputTables['Plants']=Plants\n",
                "InputTables['Customers']=Customers\n",
                "InputTables['Products']=Products\n",
                "InputTables['ProductionCosts']=ProductionCosts\n",
                "InputTables['Demand']=Demand\n",
                "InputTables['TransportationCosts']=TransportationCosts\n",
                "InputTables['ProductionCapacity']=ProductionCapacity\n",
                "\n",
                "sm = ScenarioManager(model_name=MODEL_NAME, scenario_name=SCENARIO_NAME)\n",
                "sm.inputs=InputTables"
            ]
        },
        {
            "cell_type": "code",
            "execution_count": null,
            "metadata": {},
            "outputs": [],
            "source": [
                "OutputTables={}\n",
                "OutputTables['Delivery']=Delivery\n",
                "OutputTables['TransportationPlan']=TransportationPlan\n",
                "OutputTables['ProductionPlan']=ProductionPlan\n",
                "sm.outputs=OutputTables"
            ]
        },
        {
            "cell_type": "code",
            "execution_count": null,
            "metadata": {},
            "outputs": [],
            "source": [
                "#sm.write_data_into_scenario_s(model_name=MODEL_NAME, scenario_name=SCENARIO_NAME, inputs=InputTables, outputs=OutputTables)"
            ]
        },
        {
            "cell_type": "code",
            "execution_count": null,
            "metadata": {},
            "outputs": [],
            "source": []
        }
    ],
    "metadata": {
        "interpreter": {
            "hash": "fabd3858ac0dfe34c7f51cfba2184e3fe909a3bb3f004f23d94d0c9ec7a69945"
        },
        "kernelspec": {
            "display_name": "Python 3.9",
            "language": "python",
            "name": "python3"
        },
        "language_info": {
            "codemirror_mode": {
                "name": "ipython",
                "version": 3
            },
            "file_extension": ".py",
            "mimetype": "text/x-python",
            "name": "python",
            "nbconvert_exporter": "python",
            "pygments_lexer": "ipython3",
            "version": "3.10.8"
        }
    },
    "nbformat": 4,
    "nbformat_minor": 2
}

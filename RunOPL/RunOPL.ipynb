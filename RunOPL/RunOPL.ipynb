{
 "cells": [
  {
   "attachments": {},
   "cell_type": "markdown",
   "metadata": {},
   "source": [
    "# Run OPL models in command line with a configuration"
   ]
  },
  {
   "attachments": {},
   "cell_type": "markdown",
   "metadata": {},
   "source": [
    "A CPLEX Studio project with OPL is shown below. It has a modified configuration as \"PastaConfiguration\". This configurations has three files:\n",
    "\n",
    "Pasta.mod $~$ The OPL file of the model\n",
    "\n",
    "Pasta.dat $~$ The input data of the model\n",
    "\n",
    "Pasta.ops $~$ The configuration file including setting of thread, etc"
   ]
  },
  {
   "attachments": {},
   "cell_type": "markdown",
   "metadata": {},
   "source": [
    "![alternatvie text](image.jpg)"
   ]
  },
  {
   "attachments": {},
   "cell_type": "markdown",
   "metadata": {},
   "source": [
    "There are two methods to run such a project in command line"
   ]
  },
  {
   "attachments": {},
   "cell_type": "markdown",
   "metadata": {},
   "source": [
    "### 1 - Run from the project file\n",
    "\n",
    "The project folder has a file as .project that has the information about the OPL, DAT and OPS files. We can directly run the code using this config. \n",
    "\n",
    "In this specific example, we set the number of threads to 3, and time limit to 350 seconds"
   ]
  },
  {
   "cell_type": "code",
   "execution_count": 1,
   "metadata": {},
   "outputs": [],
   "source": [
    "import os\n",
    "import subprocess\n",
    "\n",
    "\n",
    "# The path of OPL folder in CPLEX installation\n",
    "\n",
    "CPLEX_path  = \"C:/IBM/ILOG/CPLEX_Studio2211/opl/bin/x64_win64\"\n",
    "os.chdir(CPLEX_path)"
   ]
  },
  {
   "cell_type": "code",
   "execution_count": 2,
   "metadata": {},
   "outputs": [
    {
     "name": "stdout",
     "output_type": "stream",
     "text": [
      "oplrun -p C:/Users/m_gor/Desktop/PastaProject PastaConfiguration\n",
      "\n",
      "<<< setup\n",
      "\n",
      "\n",
      "<<< generate\n",
      "\n",
      "Version identifier: 22.1.1.0 | 2022-11-27 | 9160aff4d\n",
      "CPXPARAM_Threads                                 3\n",
      "CPXPARAM_Conflict_Algorithm                      3\n",
      "CPXPARAM_Conflict_Display                        2\n",
      "CPXPARAM_TimeLimit                               350\n",
      "CPXPARAM_DetTimeLimit                            350\n",
      "Tried aggregator 1 time.\n",
      "No LP presolve or aggregator reductions.\n",
      "Presolve time = 0.00 sec. (0.00 ticks)\n",
      "\n",
      "Iteration log . . .\n",
      "Iteration:     1   Dual objective     =            90.000000\n",
      "\n",
      "<<< solve\n",
      "\n",
      "\n",
      "OBJECTIVE: 372\n",
      "Generating Outputs\n",
      " {<\"kluski\" 40 60> <\"capellini\" 0 200> <\"fettucine\" 0 300>}\n",
      "\n",
      "<<< post process\n",
      "\n",
      "\n",
      "<<< done\n",
      "\n"
     ]
    }
   ],
   "source": [
    "# The path of the project that containts all the .project, OPL. and etc. files\n",
    "\n",
    "path = \"C:/Users/m_gor/Desktop/PastaProject\"\n",
    "\n",
    "command = \"oplrun -p %s %s\" %(path, \"PastaConfiguration\" )\n",
    "print(command)\n",
    "\n",
    "output = subprocess.getoutput(command)\n",
    "print(output)\n"
   ]
  },
  {
   "attachments": {},
   "cell_type": "markdown",
   "metadata": {},
   "source": [
    "### 2 - Run with setting harcoded into OPL file"
   ]
  },
  {
   "attachments": {},
   "cell_type": "markdown",
   "metadata": {},
   "source": [
    "In this method, we add the configuration added into the OPL file. For example in the PastaConfiged.mod file, we have the following configuration:\n",
    "\n",
    "```\n",
    "execute PARAMS {\n",
    "  cplex.threads= 3;\n",
    "  cplex.tilim= 150;\n",
    "}\n",
    "```"
   ]
  },
  {
   "cell_type": "code",
   "execution_count": 4,
   "metadata": {},
   "outputs": [
    {
     "name": "stdout",
     "output_type": "stream",
     "text": [
      "oplrun  C:/Users/m_gor/Desktop/PastaProject/PastaConfiged.mod C:/Users/m_gor/Desktop/PastaProject/Pasta.dat  \n",
      "\n",
      "<<< setup\n",
      "\n",
      "\n",
      "<<< generate\n",
      "\n",
      "Version identifier: 22.1.1.0 | 2022-11-27 | 9160aff4d\n",
      "CPXPARAM_Threads                                 3\n",
      "CPXPARAM_TimeLimit                               150\n",
      "Tried aggregator 1 time.\n",
      "No LP presolve or aggregator reductions.\n",
      "Presolve time = 0.00 sec. (0.00 ticks)\n",
      "\n",
      "Iteration log . . .\n",
      "Iteration:     1   Dual objective     =            90.000000\n",
      "\n",
      "<<< solve\n",
      "\n",
      "\n",
      "OBJECTIVE: 372\n",
      "Generating Outputs\n",
      " {<\"kluski\" 40 60> <\"capellini\" 0 200> <\"fettucine\" 0 300>}\n",
      "\n",
      "<<< post process\n",
      "\n",
      "\n",
      "<<< done\n",
      "\n"
     ]
    }
   ],
   "source": [
    "CPLEX_path  = \"C:/IBM/ILOG/CPLEX_Studio2211/opl/bin/x64_win64\"\n",
    "os.chdir(CPLEX_path)\n",
    "\n",
    "\n",
    "path = \"C:/Users/m_gor/Desktop/PastaProject/\"\n",
    "\n",
    "mod_file =path+ \"PastaConfiged.mod\"\n",
    "dat_file = path + \"Pasta.dat\"\n",
    "\n",
    "command = \"oplrun  %s %s  \" %(mod_file, dat_file )\n",
    "print( command )\n",
    "\n",
    "output = subprocess.getoutput(command)\n",
    "print(output)"
   ]
  },
  {
   "attachments": {},
   "cell_type": "markdown",
   "metadata": {},
   "source": [
    "For more information, see:\n",
    "\n",
    "https://www.ibm.com/docs/en/icos/12.9.0?topic=opl-oplrun-command-line-interface"
   ]
  }
 ],
 "metadata": {
  "kernelspec": {
   "display_name": "Python 3",
   "language": "python",
   "name": "python3"
  },
  "language_info": {
   "codemirror_mode": {
    "name": "ipython",
    "version": 3
   },
   "file_extension": ".py",
   "mimetype": "text/x-python",
   "name": "python",
   "nbconvert_exporter": "python",
   "pygments_lexer": "ipython3",
   "version": "3.10.8"
  },
  "orig_nbformat": 4
 },
 "nbformat": 4,
 "nbformat_minor": 2
}

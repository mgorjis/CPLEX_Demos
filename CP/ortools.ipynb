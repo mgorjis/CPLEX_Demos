{
 "cells": [
  {
   "cell_type": "code",
   "execution_count": 2,
   "metadata": {},
   "outputs": [],
   "source": [
    "import collections\n",
    "from ortools.sat.python import cp_model"
   ]
  },
  {
   "cell_type": "code",
   "execution_count": 3,
   "metadata": {},
   "outputs": [],
   "source": [
    "jobs_data = [  # task = (machine_id, processing_time).\n",
    "    [(0, 3), (1, 2), (2, 2)],  # Job0\n",
    "    [(0, 2), (2, 1), (1, 4)],  # Job1\n",
    "    [(1, 4), (2, 3)]  # Job2\n",
    "]\n",
    "\n",
    "machines_count = 1 + max(task[0] for job in jobs_data for task in job)\n",
    "all_machines = range(machines_count)\n",
    "# Computes horizon dynamically as the sum of all durations.\n",
    "horizon = sum(task[1] for job in jobs_data for task in job)"
   ]
  },
  {
   "cell_type": "code",
   "execution_count": 5,
   "metadata": {},
   "outputs": [
    {
     "data": {
      "text/plain": [
       "21"
      ]
     },
     "execution_count": 5,
     "metadata": {},
     "output_type": "execute_result"
    }
   ],
   "source": [
    "horizon"
   ]
  },
  {
   "cell_type": "code",
   "execution_count": 5,
   "metadata": {},
   "outputs": [],
   "source": [
    "model = cp_model.CpModel()"
   ]
  },
  {
   "cell_type": "code",
   "execution_count": 6,
   "metadata": {},
   "outputs": [],
   "source": [
    "# Named tuple to store information about created variables.\n",
    "task_type = collections.namedtuple('task_type', 'start end interval')\n",
    "# Named tuple to manipulate solution information.\n",
    "assigned_task_type = collections.namedtuple('assigned_task_type',\n",
    "                                            'start job index duration')\n",
    "\n",
    "# Creates job intervals and add to the corresponding machine lists.\n",
    "all_tasks = {}\n",
    "machine_to_intervals = collections.defaultdict(list)\n",
    "\n",
    "for job_id, job in enumerate(jobs_data):\n",
    "    for task_id, task in enumerate(job):\n",
    "        machine = task[0]\n",
    "        duration = task[1]\n",
    "        suffix = '_%i_%i' % (job_id, task_id)\n",
    "        start_var = model.NewIntVar(0, horizon, 'start' + suffix)\n",
    "        end_var = model.NewIntVar(0, horizon, 'end' + suffix)\n",
    "        interval_var = model.NewIntervalVar(start_var, duration, end_var,\n",
    "                                            'interval' + suffix)\n",
    "        all_tasks[job_id, task_id] = task_type(start=start_var,\n",
    "                                               end=end_var,\n",
    "                                               interval=interval_var)\n",
    "        machine_to_intervals[machine].append(interval_var)"
   ]
  },
  {
   "cell_type": "code",
   "execution_count": 8,
   "metadata": {},
   "outputs": [],
   "source": [
    "# Create and add disjunctive constraints.\n",
    "for machine in all_machines:\n",
    "    model.AddNoOverlap(machine_to_intervals[machine])\n",
    "\n",
    "# Precedences inside a job.\n",
    "for job_id, job in enumerate(jobs_data):\n",
    "    for task_id in range(len(job) - 1):\n",
    "        model.Add(all_tasks[job_id, task_id +\n",
    "                            1].start >= all_tasks[job_id, task_id].end)"
   ]
  },
  {
   "cell_type": "code",
   "execution_count": 9,
   "metadata": {},
   "outputs": [],
   "source": [
    "# Makespan objective.\n",
    "obj_var = model.NewIntVar(0, horizon, 'makespan')\n",
    "model.AddMaxEquality(obj_var, [\n",
    "    all_tasks[job_id, len(job) - 1].end\n",
    "    for job_id, job in enumerate(jobs_data)\n",
    "])\n",
    "model.Minimize(obj_var)"
   ]
  },
  {
   "cell_type": "code",
   "execution_count": 10,
   "metadata": {},
   "outputs": [],
   "source": [
    "solver = cp_model.CpSolver()\n",
    "status = solver.Solve(model)"
   ]
  },
  {
   "cell_type": "code",
   "execution_count": 11,
   "metadata": {},
   "outputs": [
    {
     "name": "stdout",
     "output_type": "stream",
     "text": [
      "Solution:\n",
      "Optimal Schedule Length: 11.0\n",
      "Machine 0: job_1_task_0   job_0_task_0   \n",
      "           [0,2]          [2,5]          \n",
      "Machine 1: job_2_task_0   job_0_task_1   job_1_task_2   \n",
      "           [0,4]          [5,7]          [7,11]         \n",
      "Machine 2: job_1_task_1   job_2_task_1   job_0_task_2   \n",
      "           [2,3]          [4,7]          [7,9]          \n",
      "\n"
     ]
    }
   ],
   "source": [
    "if status == cp_model.OPTIMAL or status == cp_model.FEASIBLE:\n",
    "    print('Solution:')\n",
    "    # Create one list of assigned tasks per machine.\n",
    "    assigned_jobs = collections.defaultdict(list)\n",
    "    for job_id, job in enumerate(jobs_data):\n",
    "        for task_id, task in enumerate(job):\n",
    "            machine = task[0]\n",
    "            assigned_jobs[machine].append(\n",
    "                assigned_task_type(start=solver.Value(\n",
    "                    all_tasks[job_id, task_id].start),\n",
    "                                   job=job_id,\n",
    "                                   index=task_id,\n",
    "                                   duration=task[1]))\n",
    "\n",
    "    # Create per machine output lines.\n",
    "    output = ''\n",
    "    for machine in all_machines:\n",
    "        # Sort by starting time.\n",
    "        assigned_jobs[machine].sort()\n",
    "        sol_line_tasks = 'Machine ' + str(machine) + ': '\n",
    "        sol_line = '           '\n",
    "\n",
    "        for assigned_task in assigned_jobs[machine]:\n",
    "            name = 'job_%i_task_%i' % (assigned_task.job,\n",
    "                                       assigned_task.index)\n",
    "            # Add spaces to output to align columns.\n",
    "            sol_line_tasks += '%-15s' % name\n",
    "\n",
    "            start = assigned_task.start\n",
    "            duration = assigned_task.duration\n",
    "            sol_tmp = '[%i,%i]' % (start, start + duration)\n",
    "            # Add spaces to output to align columns.\n",
    "            sol_line += '%-15s' % sol_tmp\n",
    "\n",
    "        sol_line += '\\n'\n",
    "        sol_line_tasks += '\\n'\n",
    "        output += sol_line_tasks\n",
    "        output += sol_line\n",
    "\n",
    "    # Finally print the solution found.\n",
    "    print(f'Optimal Schedule Length: {solver.ObjectiveValue()}')\n",
    "    print(output)\n",
    "else:\n",
    "    print('No solution found.')"
   ]
  },
  {
   "cell_type": "code",
   "execution_count": null,
   "metadata": {},
   "outputs": [],
   "source": []
  },
  {
   "cell_type": "code",
   "execution_count": null,
   "metadata": {},
   "outputs": [],
   "source": []
  },
  {
   "cell_type": "code",
   "execution_count": 12,
   "metadata": {},
   "outputs": [],
   "source": [
    "import pandas as pd"
   ]
  },
  {
   "cell_type": "code",
   "execution_count": 7,
   "metadata": {},
   "outputs": [],
   "source": [
    "from docplex.cp.model import *\n",
    "mdl0 = CpoModel()\n",
    "\n",
    "masonry = mdl0.interval_var(size=35)\n",
    "carpentry = mdl0.interval_var(size=15)\n",
    "plumbing = mdl0.interval_var(size=40)\n",
    "ceiling = mdl0.interval_var(size=15)\n",
    "roofing = mdl0.interval_var(size=5)\n",
    "painting = mdl0.interval_var(size=10)\n",
    "windows = mdl0.interval_var(size=5)\n",
    "facade = mdl0.interval_var(size=10)\n",
    "garden = mdl0.interval_var(size=5)\n",
    "moving = mdl0.interval_var(size=5)"
   ]
  },
  {
   "cell_type": "code",
   "execution_count": 14,
   "metadata": {},
   "outputs": [
    {
     "data": {
      "text/html": [
       "<div>\n",
       "<style scoped>\n",
       "    .dataframe tbody tr th:only-of-type {\n",
       "        vertical-align: middle;\n",
       "    }\n",
       "\n",
       "    .dataframe tbody tr th {\n",
       "        vertical-align: top;\n",
       "    }\n",
       "\n",
       "    .dataframe thead th {\n",
       "        text-align: right;\n",
       "    }\n",
       "</style>\n",
       "<table border=\"1\" class=\"dataframe\">\n",
       "  <thead>\n",
       "    <tr style=\"text-align: right;\">\n",
       "      <th></th>\n",
       "      <th>0</th>\n",
       "    </tr>\n",
       "  </thead>\n",
       "  <tbody>\n",
       "    <tr>\n",
       "      <th>0</th>\n",
       "      <td>intervalVar(size=35)</td>\n",
       "    </tr>\n",
       "  </tbody>\n",
       "</table>\n",
       "</div>"
      ],
      "text/plain": [
       "                      0\n",
       "0  intervalVar(size=35)"
      ]
     },
     "execution_count": 14,
     "metadata": {},
     "output_type": "execute_result"
    }
   ],
   "source": [
    "pd.DataFrame([masonry])"
   ]
  },
  {
   "cell_type": "code",
   "execution_count": 8,
   "metadata": {},
   "outputs": [],
   "source": [
    "mdl0.add( mdl0.end_before_start(masonry, carpentry) )"
   ]
  },
  {
   "cell_type": "code",
   "execution_count": 9,
   "metadata": {},
   "outputs": [
    {
     "name": "stdout",
     "output_type": "stream",
     "text": [
      "\n",
      "Solving model....\n",
      " ! --------------------------------------------------- CP Optimizer 22.1.1.0 --\n",
      " ! Satisfiability problem - 2 variables, 1 constraint\n",
      " ! TimeLimit            = 10\n",
      " ! Initial process time : 0.01s (0.01s extraction + 0.00s propagation)\n",
      " !  . Log search space  : 2.0 (before), 2.0 (after)\n",
      " !  . Memory usage      : 301.8 kB (before), 301.8 kB (after)\n",
      " ! Using parallel search with 8 workers.\n",
      " ! ----------------------------------------------------------------------------\n",
      " !               Branches  Non-fixed    W       Branch decision\n",
      " *                      2  0.02s        1            -\n",
      " ! ----------------------------------------------------------------------------\n",
      " ! Search completed, 1 solution found.\n",
      " ! ----------------------------------------------------------------------------\n",
      " ! Number of branches     : 12\n",
      " ! Number of fails        : 0\n",
      " ! Total memory usage     : 2.5 MB (2.5 MB CP Optimizer + 0.0 MB Concert)\n",
      " ! Time spent in solve    : 0.02s (0.02s engine + 0.01s extraction)\n",
      " ! Search speed (br. / s) : 1000.0\n",
      " ! ----------------------------------------------------------------------------\n",
      "done\n"
     ]
    }
   ],
   "source": [
    "# Solve the model\n",
    "print(\"\\nSolving model....\")\n",
    "msol0 = mdl0.solve(TimeLimit=10)\n",
    "print(\"done\")"
   ]
  },
  {
   "cell_type": "code",
   "execution_count": null,
   "metadata": {},
   "outputs": [],
   "source": []
  }
 ],
 "metadata": {
  "kernelspec": {
   "display_name": "Python 3",
   "language": "python",
   "name": "python3"
  },
  "language_info": {
   "codemirror_mode": {
    "name": "ipython",
    "version": 3
   },
   "file_extension": ".py",
   "mimetype": "text/x-python",
   "name": "python",
   "nbconvert_exporter": "python",
   "pygments_lexer": "ipython3",
   "version": "3.10.8"
  },
  "orig_nbformat": 4
 },
 "nbformat": 4,
 "nbformat_minor": 2
}

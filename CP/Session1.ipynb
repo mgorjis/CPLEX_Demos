{
 "cells": [
  {
   "cell_type": "code",
   "execution_count": 1,
   "metadata": {},
   "outputs": [],
   "source": [
    "import pandas as pd\n",
    "\n",
    "#import docplex.cp\n",
    "\n",
    "#from docplex.cp.model import *\n",
    "from docplex.cp.model import  CpoModel"
   ]
  },
  {
   "attachments": {},
   "cell_type": "markdown",
   "metadata": {},
   "source": [
    "Example0\n",
    "\n",
    "$max \\hspace{.1cm} x + y $\n",
    "\n",
    "$ 0 <= x <=2 $\n",
    "\n",
    "$ 0 <= y <=2 $"
   ]
  },
  {
   "cell_type": "code",
   "execution_count": 45,
   "metadata": {},
   "outputs": [
    {
     "name": "stdout",
     "output_type": "stream",
     "text": [
      " ! --------------------------------------------------- CP Optimizer 22.1.1.0 --\n",
      " ! Maximization problem - 2 variables, 0 constraints\n",
      " ! Initial process time : 0.01s (0.01s extraction + 0.00s propagation)\n",
      " !  . Log search space  : 3.2 (before), 3.2 (after)\n",
      " !  . Memory usage      : 267.0 kB (before), 267.0 kB (after)\n",
      " ! Using parallel search with 8 workers.\n",
      " ! ----------------------------------------------------------------------------\n",
      " !          Best Branches  Non-fixed    W       Branch decision\n",
      "                        0          2                 -\n",
      " + New bound is 4\n",
      "               4        0          2    1            -\n",
      " *             4        0  0.02s        1      (gap is 0.00%)\n",
      " ! ----------------------------------------------------------------------------\n",
      " ! Search completed, 1 solution found.\n",
      " ! Best objective         : 4 (optimal - effective tol. is 0)\n",
      " ! Best bound             : 4\n",
      " ! ----------------------------------------------------------------------------\n",
      " ! Number of branches     : 225\n",
      " ! Number of fails        : 130\n",
      " ! Total memory usage     : 3.8 MB (3.7 MB CP Optimizer + 0.0 MB Concert)\n",
      " ! Time spent in solve    : 0.02s (0.02s engine + 0.01s extraction)\n",
      " ! Search speed (br. / s) : 20454.5\n",
      " ! ----------------------------------------------------------------------------\n",
      "x = 2\n",
      "y = 2\n",
      "OF = 4\n"
     ]
    }
   ],
   "source": [
    "mdl = CpoModel(name=\"Example0\")\n",
    "\n",
    "x = mdl.integer_var(0, 2, 'x')\n",
    "y = mdl.integer_var(0, 2, 'y')\n",
    "\n",
    "Objective = mdl.sum([x,y])\n",
    "mdl.add( mdl.maximize(Objective))\n",
    "msol = mdl.solve( )  #TimeLimit=20,\n",
    "\n",
    "if msol.is_solution():\n",
    "    print('x = %i' % msol.get_value(x))\n",
    "    print('y = %i' % msol.get_value(y))\n",
    "    print('OF = %i' % msol.get_objective_value())\n",
    "\n"
   ]
  },
  {
   "attachments": {},
   "cell_type": "markdown",
   "metadata": {},
   "source": [
    "Example 1\n",
    "\n",
    "$\\max 2x+2y+3z$\n",
    "\n",
    "$x + 7/2 y + 3/2 z <=25$\n",
    "\n",
    "$3x - 5 y + 7 z <=45$\n",
    "\n",
    "$5x + 2 y -6 z <=37$\n",
    "\n",
    "$x,y,z>=0$\n"
   ]
  },
  {
   "cell_type": "code",
   "execution_count": 46,
   "metadata": {},
   "outputs": [
    {
     "name": "stdout",
     "output_type": "stream",
     "text": [
      "x = 7\n",
      "y = 3\n",
      "z = 5\n",
      "OF = 35\n"
     ]
    }
   ],
   "source": [
    "mdl = CpoModel(name=\"Example1\")\n",
    "\n",
    "x = mdl.integer_var(min = 0,  max = None ,name='x')\n",
    "y = mdl.integer_var(min =0, max = None ,name='y')\n",
    "z = mdl.integer_var(min =0,  max = None ,name='z')\n",
    "\n",
    "\n",
    "mdl.add(x + 7/2*y +3/2 *z <= 25)\n",
    "mdl.add(3*x - 5*y + 7*z <= 45)\n",
    "mdl.add(5*x + 2*y -6 *z <= 37)\n",
    "\n",
    "Objective = 2*x+2*y+3*z\n",
    "mdl.add( mdl.maximize(Objective))\n",
    "\n",
    "#mdl.LogVerbosity='Quiet'\n",
    "\n",
    "msol = mdl.solve( log_output = None)\n",
    "\n",
    "if msol.is_solution():\n",
    "    print('x = %i' % msol.get_value(x))\n",
    "    print('y = %i' % msol.get_value(y))\n",
    "    print('z = %i' % msol.get_value(z))\n",
    "    print('OF = %i' % msol.get_objective_value())\n",
    "\n"
   ]
  },
  {
   "attachments": {},
   "cell_type": "markdown",
   "metadata": {},
   "source": [
    "Example 2\n",
    "\n",
    "$0 <= x <=2$\n",
    "\n",
    "$0 <= y <=2$\n",
    "\n",
    "$0 <= z <=2$\n",
    "\n",
    "$x!=y$"
   ]
  },
  {
   "cell_type": "code",
   "execution_count": 43,
   "metadata": {},
   "outputs": [
    {
     "name": "stdout",
     "output_type": "stream",
     "text": [
      " ! --------------------------------------------------- CP Optimizer 22.1.1.0 --\n",
      " ! Satisfiability problem - 2 variables, 1 constraint\n",
      " ! Initial process time : 0.01s (0.01s extraction + 0.00s propagation)\n",
      " !  . Log search space  : 3.2 (before), 3.2 (after)\n",
      " !  . Memory usage      : 266.9 kB (before), 266.9 kB (after)\n",
      " ! Using parallel search with 8 workers.\n",
      " ! ----------------------------------------------------------------------------\n",
      " !               Branches  Non-fixed    W       Branch decision\n",
      " *                      3  0.02s        1         0  = y\n",
      " ! ----------------------------------------------------------------------------\n",
      " ! Search completed, 1 solution found.\n",
      " ! ----------------------------------------------------------------------------\n",
      " ! Number of branches     : 42\n",
      " ! Number of fails        : 10\n",
      " ! Total memory usage     : 3.8 MB (3.7 MB CP Optimizer + 0.0 MB Concert)\n",
      " ! Time spent in solve    : 0.02s (0.02s engine + 0.01s extraction)\n",
      " ! Search speed (br. / s) : 3818.2\n",
      " ! ----------------------------------------------------------------------------\n",
      "x = 2\n",
      "y = 0\n"
     ]
    }
   ],
   "source": [
    "mdl = CpoModel(name=\"Example2\")\n",
    "\n",
    "x = mdl.integer_var(min = 0,  max = 2 ,name='x')\n",
    "y = mdl.integer_var(min =0, max = 2 ,name='y')\n",
    "z = mdl.integer_var(min =0,  max = 2 ,name='z')\n",
    "\n",
    "mdl.add(x !=y)\n",
    "\n",
    "msol = mdl.solve( log_output = True)\n",
    "\n",
    "if msol.is_solution():\n",
    "    print('x = %i' % msol.get_value(x))\n",
    "    print('y = %i' % msol.get_value(y))\n",
    "    #print('z = %i' % msol.get_value(z))\n",
    "\n"
   ]
  },
  {
   "cell_type": "code",
   "execution_count": 13,
   "metadata": {},
   "outputs": [],
   "source": [
    "#msol.print_solution()\n",
    "\n",
    "#msol.get_solve_status() \n",
    "msol.get_objective_value()\n",
    "\n"
   ]
  },
  {
   "cell_type": "code",
   "execution_count": null,
   "metadata": {},
   "outputs": [],
   "source": []
  }
 ],
 "metadata": {
  "kernelspec": {
   "display_name": "Python 3 (ipykernel)",
   "language": "python",
   "name": "python3"
  },
  "language_info": {
   "codemirror_mode": {
    "name": "ipython",
    "version": 3
   },
   "file_extension": ".py",
   "mimetype": "text/x-python",
   "name": "python",
   "nbconvert_exporter": "python",
   "pygments_lexer": "ipython3",
   "version": "3.10.8"
  }
 },
 "nbformat": 4,
 "nbformat_minor": 2
}

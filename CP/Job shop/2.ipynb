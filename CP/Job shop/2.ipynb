{
 "cells": [
  {
   "cell_type": "markdown",
   "metadata": {},
   "source": [
    "source: Ronald l. RaRdin  - Optimization in Operations Research - 2016\n",
    "\n",
    "job shop scheduling with a fictitious Custom Metalworking company\n",
    "which fabricates prototype metal parts for a nearby engine manufacturer.\n",
    "Figure 11.9 provides details on the 3 jobs waiting to be scheduled. First is a die\n",
    "requiring work on a sequence of 5 workstations: 1 (forging), then 2 (machining),\n",
    "then 3 (grinding), then 4 (polishing), and finally, 6 (electric discharge cutting). Job\n",
    "2 is a cam shaft requiring 4 stations, and job 3 a fuel injector requiring 5 steps.\n",
    "Numbers in boxes indicate process times\n",
    "\n",
    "$p_{j,k}$ = process time (in minutes) of job j on processor k\n",
    "\n",
    "assume that the company wants to complete\n",
    "all 3 jobs as soon as possible (minimize maximum completion), so that workers\n",
    "can leave for a holiday.\n",
    "\n",
    "![](../pics/2023-08-03-10-06-51.png)\n"
   ]
  },
  {
   "cell_type": "markdown",
   "metadata": {},
   "source": []
  },
  {
   "cell_type": "code",
   "execution_count": 2,
   "metadata": {},
   "outputs": [],
   "source": [
    "from docplex.cp.model import CpoModel"
   ]
  },
  {
   "cell_type": "markdown",
   "metadata": {},
   "source": []
  }
 ],
 "metadata": {
  "kernelspec": {
   "display_name": "Python 3",
   "language": "python",
   "name": "python3"
  },
  "language_info": {
   "codemirror_mode": {
    "name": "ipython",
    "version": 3
   },
   "file_extension": ".py",
   "mimetype": "text/x-python",
   "name": "python",
   "nbconvert_exporter": "python",
   "pygments_lexer": "ipython3",
   "version": "3.10.8"
  },
  "orig_nbformat": 4
 },
 "nbformat": 4,
 "nbformat_minor": 2
}

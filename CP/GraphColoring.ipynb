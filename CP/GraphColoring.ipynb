{
 "cells": [
  {
   "cell_type": "code",
   "execution_count": 17,
   "metadata": {},
   "outputs": [],
   "source": [
    "import pandas as pd\n",
    "import numpy as np\n",
    "from docplex.cp.model import  CpoModel"
   ]
  },
  {
   "attachments": {},
   "cell_type": "markdown",
   "metadata": {},
   "source": [
    "![alternatvie text](2023-06-30-22-20-21.png)  "
   ]
  },
  {
   "attachments": {},
   "cell_type": "markdown",
   "metadata": {},
   "source": [
    "With minimum number of colors, color the nodes such that nodes connected to each other have different colors"
   ]
  },
  {
   "cell_type": "code",
   "execution_count": 3,
   "metadata": {},
   "outputs": [],
   "source": [
    "arcs= [(0,1),(1,2),(2,3),(3,4),(0,4),(1,5),(0,6),(2,7),(3,8),(4,9),(5,9),(5,8),(6,7),(6,8),(7,9)]\n",
    "\n",
    "Nc = 5\n",
    "N = 10"
   ]
  },
  {
   "cell_type": "code",
   "execution_count": 46,
   "metadata": {},
   "outputs": [],
   "source": [
    "def binary_var_series(df, mdl,**kargs):\n",
    "    return pd.Series(mdl.binary_var_list(len(df), **kargs), index = df.index)\n",
    "def integer_var_series(df, mdl,**kargs):\n",
    "    return pd.Series(mdl.integer_var_list(len(df), **kargs), index = df.index)\n",
    "\n",
    "\n",
    "def extract_solution(msol, df, extract_dvar_names=None, drop_column_names=None, drop:bool=True):\n",
    "    df = df.copy()\n",
    "    \"\"\"Generalized routine to extract a solution value. \n",
    "    Can remove the dvar column from the df to be able to have a clean df for export into scenario.\"\"\"\n",
    "    if extract_dvar_names is not None:\n",
    "        for xDVarName in extract_dvar_names:\n",
    "            if xDVarName in df.columns:\n",
    "                df[f'{xDVarName}_Solution'] = [msol.get_value(dvar)   for dvar in df[xDVarName]]  #dvar.solution_value\n",
    "                if drop:\n",
    "                    df = df.drop([xDVarName], axis = 1)\n",
    "    if drop and drop_column_names is not None:\n",
    "        for column in drop_column_names:\n",
    "            if column in df.columns:\n",
    "                df = df.drop([column], axis = 1)\n",
    "    return df    "
   ]
  },
  {
   "cell_type": "code",
   "execution_count": 105,
   "metadata": {},
   "outputs": [
    {
     "data": {
      "text/html": [
       "<div>\n",
       "<style scoped>\n",
       "    .dataframe tbody tr th:only-of-type {\n",
       "        vertical-align: middle;\n",
       "    }\n",
       "\n",
       "    .dataframe tbody tr th {\n",
       "        vertical-align: top;\n",
       "    }\n",
       "\n",
       "    .dataframe thead th {\n",
       "        text-align: right;\n",
       "    }\n",
       "</style>\n",
       "<table border=\"1\" class=\"dataframe\">\n",
       "  <thead>\n",
       "    <tr style=\"text-align: right;\">\n",
       "      <th></th>\n",
       "      <th>u</th>\n",
       "    </tr>\n",
       "    <tr>\n",
       "      <th>ColorId</th>\n",
       "      <th></th>\n",
       "    </tr>\n",
       "  </thead>\n",
       "  <tbody>\n",
       "    <tr>\n",
       "      <th>0</th>\n",
       "      <td>u_0 = intVar(0, 1)</td>\n",
       "    </tr>\n",
       "    <tr>\n",
       "      <th>1</th>\n",
       "      <td>u_1 = intVar(0, 1)</td>\n",
       "    </tr>\n",
       "    <tr>\n",
       "      <th>2</th>\n",
       "      <td>u_2 = intVar(0, 1)</td>\n",
       "    </tr>\n",
       "    <tr>\n",
       "      <th>3</th>\n",
       "      <td>u_3 = intVar(0, 1)</td>\n",
       "    </tr>\n",
       "    <tr>\n",
       "      <th>4</th>\n",
       "      <td>u_4 = intVar(0, 1)</td>\n",
       "    </tr>\n",
       "  </tbody>\n",
       "</table>\n",
       "</div>"
      ],
      "text/plain": [
       "                          u\n",
       "ColorId                    \n",
       "0        u_0 = intVar(0, 1)\n",
       "1        u_1 = intVar(0, 1)\n",
       "2        u_2 = intVar(0, 1)\n",
       "3        u_3 = intVar(0, 1)\n",
       "4        u_4 = intVar(0, 1)"
      ]
     },
     "metadata": {},
     "output_type": "display_data"
    },
    {
     "data": {
      "text/html": [
       "<div>\n",
       "<style scoped>\n",
       "    .dataframe tbody tr th:only-of-type {\n",
       "        vertical-align: middle;\n",
       "    }\n",
       "\n",
       "    .dataframe tbody tr th {\n",
       "        vertical-align: top;\n",
       "    }\n",
       "\n",
       "    .dataframe thead th {\n",
       "        text-align: right;\n",
       "    }\n",
       "</style>\n",
       "<table border=\"1\" class=\"dataframe\">\n",
       "  <thead>\n",
       "    <tr style=\"text-align: right;\">\n",
       "      <th></th>\n",
       "      <th>X</th>\n",
       "    </tr>\n",
       "    <tr>\n",
       "      <th>NodeId</th>\n",
       "      <th></th>\n",
       "    </tr>\n",
       "  </thead>\n",
       "  <tbody>\n",
       "    <tr>\n",
       "      <th>0</th>\n",
       "      <td>x_0 = intVar(0..4)</td>\n",
       "    </tr>\n",
       "    <tr>\n",
       "      <th>1</th>\n",
       "      <td>x_1 = intVar(0..4)</td>\n",
       "    </tr>\n",
       "    <tr>\n",
       "      <th>2</th>\n",
       "      <td>x_2 = intVar(0..4)</td>\n",
       "    </tr>\n",
       "    <tr>\n",
       "      <th>3</th>\n",
       "      <td>x_3 = intVar(0..4)</td>\n",
       "    </tr>\n",
       "    <tr>\n",
       "      <th>4</th>\n",
       "      <td>x_4 = intVar(0..4)</td>\n",
       "    </tr>\n",
       "    <tr>\n",
       "      <th>5</th>\n",
       "      <td>x_5 = intVar(0..4)</td>\n",
       "    </tr>\n",
       "    <tr>\n",
       "      <th>6</th>\n",
       "      <td>x_6 = intVar(0..4)</td>\n",
       "    </tr>\n",
       "    <tr>\n",
       "      <th>7</th>\n",
       "      <td>x_7 = intVar(0..4)</td>\n",
       "    </tr>\n",
       "    <tr>\n",
       "      <th>8</th>\n",
       "      <td>x_8 = intVar(0..4)</td>\n",
       "    </tr>\n",
       "    <tr>\n",
       "      <th>9</th>\n",
       "      <td>x_9 = intVar(0..4)</td>\n",
       "    </tr>\n",
       "  </tbody>\n",
       "</table>\n",
       "</div>"
      ],
      "text/plain": [
       "                         X\n",
       "NodeId                    \n",
       "0       x_0 = intVar(0..4)\n",
       "1       x_1 = intVar(0..4)\n",
       "2       x_2 = intVar(0..4)\n",
       "3       x_3 = intVar(0..4)\n",
       "4       x_4 = intVar(0..4)\n",
       "5       x_5 = intVar(0..4)\n",
       "6       x_6 = intVar(0..4)\n",
       "7       x_7 = intVar(0..4)\n",
       "8       x_8 = intVar(0..4)\n",
       "9       x_9 = intVar(0..4)"
      ]
     },
     "metadata": {},
     "output_type": "display_data"
    }
   ],
   "source": [
    "mdl = CpoModel(name=\"GraphColoring\")\n",
    "\n",
    "Colors = pd.DataFrame(np.arange(0,Nc).reshape(-1,1), columns = [\"ColorId\"]).set_index(\"ColorId\")\n",
    "Colors['u']= binary_var_series(Colors, mdl, name = 'u')\n",
    "display(Colors)\n",
    "\n",
    "NodeColors = pd.DataFrame(np.arange(0,N).reshape(-1,1), columns = [\"NodeId\"]).set_index(\"NodeId\")\n",
    "NodeColors['X']= integer_var_series(NodeColors, mdl, domain =np.arange(0,Nc),  name = 'x')\n",
    "display(NodeColors)\n",
    "\n"
   ]
  },
  {
   "cell_type": "code",
   "execution_count": 106,
   "metadata": {},
   "outputs": [],
   "source": [
    "for (i,j) in arcs:\n",
    "    df = NodeColors.reset_index(drop = False)\n",
    "    mdl.add (df[df['NodeId']==i]['X'].values[0] != df[df['NodeId']==j]['X'].values[0] )\n"
   ]
  },
  {
   "cell_type": "code",
   "execution_count": 107,
   "metadata": {},
   "outputs": [
    {
     "data": {
      "text/html": [
       "<div>\n",
       "<style scoped>\n",
       "    .dataframe tbody tr th:only-of-type {\n",
       "        vertical-align: middle;\n",
       "    }\n",
       "\n",
       "    .dataframe tbody tr th {\n",
       "        vertical-align: top;\n",
       "    }\n",
       "\n",
       "    .dataframe thead th {\n",
       "        text-align: right;\n",
       "    }\n",
       "</style>\n",
       "<table border=\"1\" class=\"dataframe\">\n",
       "  <thead>\n",
       "    <tr style=\"text-align: right;\">\n",
       "      <th></th>\n",
       "      <th>ColorId</th>\n",
       "      <th>u</th>\n",
       "      <th>expressions</th>\n",
       "    </tr>\n",
       "  </thead>\n",
       "  <tbody>\n",
       "    <tr>\n",
       "      <th>0</th>\n",
       "      <td>0</td>\n",
       "      <td>u_0 = intVar(0, 1)</td>\n",
       "      <td>0 * u_0</td>\n",
       "    </tr>\n",
       "    <tr>\n",
       "      <th>1</th>\n",
       "      <td>1</td>\n",
       "      <td>u_1 = intVar(0, 1)</td>\n",
       "      <td>1 * u_1</td>\n",
       "    </tr>\n",
       "    <tr>\n",
       "      <th>2</th>\n",
       "      <td>2</td>\n",
       "      <td>u_2 = intVar(0, 1)</td>\n",
       "      <td>2 * u_2</td>\n",
       "    </tr>\n",
       "    <tr>\n",
       "      <th>3</th>\n",
       "      <td>3</td>\n",
       "      <td>u_3 = intVar(0, 1)</td>\n",
       "      <td>3 * u_3</td>\n",
       "    </tr>\n",
       "    <tr>\n",
       "      <th>4</th>\n",
       "      <td>4</td>\n",
       "      <td>u_4 = intVar(0, 1)</td>\n",
       "      <td>4 * u_4</td>\n",
       "    </tr>\n",
       "  </tbody>\n",
       "</table>\n",
       "</div>"
      ],
      "text/plain": [
       "   ColorId                   u expressions\n",
       "0        0  u_0 = intVar(0, 1)     0 * u_0\n",
       "1        1  u_1 = intVar(0, 1)     1 * u_1\n",
       "2        2  u_2 = intVar(0, 1)     2 * u_2\n",
       "3        3  u_3 = intVar(0, 1)     3 * u_3\n",
       "4        4  u_4 = intVar(0, 1)     4 * u_4"
      ]
     },
     "metadata": {},
     "output_type": "display_data"
    },
    {
     "data": {
      "text/plain": [
       "<docplex.cp.expression.CpoFunctionCall at 0x24134bbe140>"
      ]
     },
     "execution_count": 107,
     "metadata": {},
     "output_type": "execute_result"
    }
   ],
   "source": [
    "# use minimum number of colors\n",
    "\n",
    "Colors  = Colors.reset_index(drop = False)\n",
    "Colors[\"expressions\"] = Colors[\"ColorId\"]  * Colors[\"u\"] \n",
    "display(Colors)\n",
    "\n",
    "ColorCosts = mdl.sum(Colors[\"expressions\"])\n",
    "mdl.add_kpi(ColorCosts, \"ColorCosts\")\n",
    "ColorCosts\n"
   ]
  },
  {
   "cell_type": "code",
   "execution_count": 115,
   "metadata": {},
   "outputs": [
    {
     "data": {
      "text/html": [
       "<div>\n",
       "<style scoped>\n",
       "    .dataframe tbody tr th:only-of-type {\n",
       "        vertical-align: middle;\n",
       "    }\n",
       "\n",
       "    .dataframe tbody tr th {\n",
       "        vertical-align: top;\n",
       "    }\n",
       "\n",
       "    .dataframe thead th {\n",
       "        text-align: right;\n",
       "    }\n",
       "</style>\n",
       "<table border=\"1\" class=\"dataframe\">\n",
       "  <thead>\n",
       "    <tr style=\"text-align: right;\">\n",
       "      <th></th>\n",
       "      <th>X_Solution</th>\n",
       "    </tr>\n",
       "    <tr>\n",
       "      <th>NodeId</th>\n",
       "      <th></th>\n",
       "    </tr>\n",
       "  </thead>\n",
       "  <tbody>\n",
       "    <tr>\n",
       "      <th>0</th>\n",
       "      <td>2</td>\n",
       "    </tr>\n",
       "    <tr>\n",
       "      <th>1</th>\n",
       "      <td>1</td>\n",
       "    </tr>\n",
       "    <tr>\n",
       "      <th>2</th>\n",
       "      <td>2</td>\n",
       "    </tr>\n",
       "    <tr>\n",
       "      <th>3</th>\n",
       "      <td>0</td>\n",
       "    </tr>\n",
       "    <tr>\n",
       "      <th>4</th>\n",
       "      <td>1</td>\n",
       "    </tr>\n",
       "    <tr>\n",
       "      <th>5</th>\n",
       "      <td>0</td>\n",
       "    </tr>\n",
       "    <tr>\n",
       "      <th>6</th>\n",
       "      <td>0</td>\n",
       "    </tr>\n",
       "    <tr>\n",
       "      <th>7</th>\n",
       "      <td>1</td>\n",
       "    </tr>\n",
       "    <tr>\n",
       "      <th>8</th>\n",
       "      <td>1</td>\n",
       "    </tr>\n",
       "    <tr>\n",
       "      <th>9</th>\n",
       "      <td>2</td>\n",
       "    </tr>\n",
       "  </tbody>\n",
       "</table>\n",
       "</div>"
      ],
      "text/plain": [
       "        X_Solution\n",
       "NodeId            \n",
       "0                2\n",
       "1                1\n",
       "2                2\n",
       "3                0\n",
       "4                1\n",
       "5                0\n",
       "6                0\n",
       "7                1\n",
       "8                1\n",
       "9                2"
      ]
     },
     "execution_count": 115,
     "metadata": {},
     "output_type": "execute_result"
    }
   ],
   "source": [
    "mdl.minimize(ColorCosts)\n",
    "\n",
    "msol = mdl.solve( log_output = None)\n",
    "if msol.is_solution():\n",
    "    a= extract_solution(msol,NodeColors, extract_dvar_names=['X'])\n",
    "\n",
    "a\n",
    "    "
   ]
  },
  {
   "cell_type": "code",
   "execution_count": 119,
   "metadata": {},
   "outputs": [
    {
     "data": {
      "text/html": [
       "<div>\n",
       "<style scoped>\n",
       "    .dataframe tbody tr th:only-of-type {\n",
       "        vertical-align: middle;\n",
       "    }\n",
       "\n",
       "    .dataframe tbody tr th {\n",
       "        vertical-align: top;\n",
       "    }\n",
       "\n",
       "    .dataframe thead th {\n",
       "        text-align: right;\n",
       "    }\n",
       "</style>\n",
       "<table border=\"1\" class=\"dataframe\">\n",
       "  <thead>\n",
       "    <tr style=\"text-align: right;\">\n",
       "      <th></th>\n",
       "      <th>ColorId</th>\n",
       "      <th>expressions</th>\n",
       "      <th>u_Solution</th>\n",
       "    </tr>\n",
       "  </thead>\n",
       "  <tbody>\n",
       "    <tr>\n",
       "      <th>0</th>\n",
       "      <td>0</td>\n",
       "      <td>0 * u_0</td>\n",
       "      <td>0</td>\n",
       "    </tr>\n",
       "    <tr>\n",
       "      <th>1</th>\n",
       "      <td>1</td>\n",
       "      <td>1 * u_1</td>\n",
       "      <td>0</td>\n",
       "    </tr>\n",
       "    <tr>\n",
       "      <th>2</th>\n",
       "      <td>2</td>\n",
       "      <td>2 * u_2</td>\n",
       "      <td>0</td>\n",
       "    </tr>\n",
       "    <tr>\n",
       "      <th>3</th>\n",
       "      <td>3</td>\n",
       "      <td>3 * u_3</td>\n",
       "      <td>0</td>\n",
       "    </tr>\n",
       "    <tr>\n",
       "      <th>4</th>\n",
       "      <td>4</td>\n",
       "      <td>4 * u_4</td>\n",
       "      <td>0</td>\n",
       "    </tr>\n",
       "  </tbody>\n",
       "</table>\n",
       "</div>"
      ],
      "text/plain": [
       "   ColorId expressions  u_Solution\n",
       "0        0     0 * u_0           0\n",
       "1        1     1 * u_1           0\n",
       "2        2     2 * u_2           0\n",
       "3        3     3 * u_3           0\n",
       "4        4     4 * u_4           0"
      ]
     },
     "execution_count": 119,
     "metadata": {},
     "output_type": "execute_result"
    }
   ],
   "source": [
    "msol = mdl.solve( log_output = None)\n",
    "if msol.is_solution():\n",
    "    a= extract_solution(msol,Colors, extract_dvar_names=['u'])\n",
    "\n",
    "a"
   ]
  },
  {
   "cell_type": "code",
   "execution_count": 131,
   "metadata": {},
   "outputs": [
    {
     "ename": "KeyError",
     "evalue": "\"Variable or KPI '0 * u_0' not in the solution\"",
     "output_type": "error",
     "traceback": [
      "\u001b[1;31m---------------------------------------------------------------------------\u001b[0m",
      "\u001b[1;31mKeyError\u001b[0m                                  Traceback (most recent call last)",
      "\u001b[1;32mc:\\Users\\m_gor\\Desktop\\OptimizationDemos\\CP\\GraphColoring.ipynb Cell 11\u001b[0m in \u001b[0;36m1\n\u001b[1;32m----> <a href='vscode-notebook-cell:/c%3A/Users/m_gor/Desktop/OptimizationDemos/CP/GraphColoring.ipynb#X33sZmlsZQ%3D%3D?line=0'>1</a>\u001b[0m msol\u001b[39m.\u001b[39;49mget_value(a[\u001b[39m'\u001b[39;49m\u001b[39mexpressions\u001b[39;49m\u001b[39m'\u001b[39;49m]\u001b[39m.\u001b[39;49miloc[\u001b[39m0\u001b[39;49m])\n",
      "File \u001b[1;32mc:\\Users\\m_gor\\Python310\\lib\\site-packages\\docplex\\cp\\solution.py:1873\u001b[0m, in \u001b[0;36mCpoSolveResult.get_value\u001b[1;34m(self, name)\u001b[0m\n\u001b[0;32m   1860\u001b[0m \u001b[39mdef\u001b[39;00m \u001b[39mget_value\u001b[39m(\u001b[39mself\u001b[39m, name):\n\u001b[0;32m   1861\u001b[0m     \u001b[39m\"\"\" Gets the value of a variable.\u001b[39;00m\n\u001b[0;32m   1862\u001b[0m \n\u001b[0;32m   1863\u001b[0m \u001b[39m    For IntVar, value is an integer.\u001b[39;00m\n\u001b[1;32m   (...)\u001b[0m\n\u001b[0;32m   1871\u001b[0m \u001b[39m        Variable value, None if variable is not found.\u001b[39;00m\n\u001b[0;32m   1872\u001b[0m \u001b[39m    \"\"\"\u001b[39;00m\n\u001b[1;32m-> 1873\u001b[0m     \u001b[39mreturn\u001b[39;00m \u001b[39mNone\u001b[39;00m \u001b[39mif\u001b[39;00m \u001b[39mself\u001b[39m\u001b[39m.\u001b[39msolution \u001b[39mis\u001b[39;00m \u001b[39mNone\u001b[39;00m \u001b[39melse\u001b[39;00m \u001b[39mself\u001b[39;49m\u001b[39m.\u001b[39;49msolution\u001b[39m.\u001b[39;49mget_value(name)\n",
      "File \u001b[1;32mc:\\Users\\m_gor\\Python310\\lib\\site-packages\\docplex\\cp\\solution.py:949\u001b[0m, in \u001b[0;36mCpoModelSolution.get_value\u001b[1;34m(self, expr)\u001b[0m\n\u001b[0;32m    947\u001b[0m val \u001b[39m=\u001b[39m \u001b[39mself\u001b[39m\u001b[39m.\u001b[39mkpi_values\u001b[39m.\u001b[39mget(expr)\n\u001b[0;32m    948\u001b[0m \u001b[39mif\u001b[39;00m val \u001b[39mis\u001b[39;00m \u001b[39mNone\u001b[39;00m:\n\u001b[1;32m--> 949\u001b[0m     \u001b[39mraise\u001b[39;00m \u001b[39mKeyError\u001b[39;00m(\u001b[39m\"\u001b[39m\u001b[39mVariable or KPI \u001b[39m\u001b[39m'\u001b[39m\u001b[39m{}\u001b[39;00m\u001b[39m'\u001b[39m\u001b[39m not in the solution\u001b[39m\u001b[39m\"\u001b[39m\u001b[39m.\u001b[39mformat(expr))\n\u001b[0;32m    950\u001b[0m \u001b[39mreturn\u001b[39;00m val\n",
      "\u001b[1;31mKeyError\u001b[0m: \"Variable or KPI '0 * u_0' not in the solution\""
     ]
    }
   ],
   "source": [
    "\n",
    "msol.get_value(a['expressions'].iloc[0])"
   ]
  },
  {
   "cell_type": "code",
   "execution_count": 130,
   "metadata": {},
   "outputs": [
    {
     "name": "stdout",
     "output_type": "stream",
     "text": [
      "times(\n",
      " | 0\n",
      " | u_0)"
     ]
    }
   ],
   "source": [
    "a['expressions'].iloc[0].pretty_print()"
   ]
  },
  {
   "cell_type": "code",
   "execution_count": 129,
   "metadata": {},
   "outputs": [
    {
     "name": "stdout",
     "output_type": "stream",
     "text": [
      "sum(\n",
      " | [\n",
      " |  | times(\n",
      " |  |  | 0\n",
      " |  |  | u_0)\n",
      " |  | times(\n",
      " |  |  | 1\n",
      " |  |  | u_1)\n",
      " |  | times(\n",
      " |  |  | 2\n",
      " |  |  | u_2)\n",
      " |  | times(\n",
      " |  |  | 3\n",
      " |  |  | u_3)\n",
      " |  | times(\n",
      " |  |  | 4\n",
      " |  |  | u_4)])"
     ]
    }
   ],
   "source": [
    "ColorCosts"
   ]
  },
  {
   "cell_type": "code",
   "execution_count": null,
   "metadata": {},
   "outputs": [],
   "source": []
  }
 ],
 "metadata": {
  "kernelspec": {
   "display_name": "Python 3",
   "language": "python",
   "name": "python3"
  },
  "language_info": {
   "codemirror_mode": {
    "name": "ipython",
    "version": 3
   },
   "file_extension": ".py",
   "mimetype": "text/x-python",
   "name": "python",
   "nbconvert_exporter": "python",
   "pygments_lexer": "ipython3",
   "version": "3.10.8"
  },
  "orig_nbformat": 4
 },
 "nbformat": 4,
 "nbformat_minor": 2
}

{
 "cells": [
  {
   "attachments": {},
   "cell_type": "markdown",
   "metadata": {},
   "source": [
    "Below is a simple example of a job shop problem, in which each task is labeled by a pair of numbers (m, p) where m is the number of the machine the task must be processed on and p is the processing time of the task — the amount of time it requires. (The numbering of jobs and machines starts at 0.)\n",
    "\n",
    "job 0 = [(0, 3), (1, 2), (2, 2)]\n",
    "\n",
    "job 1 = [(0, 2), (2, 1), (1, 4)]\n",
    "\n",
    "job 2 = [(1, 4), (2, 3)]\n",
    "\n",
    "In the example, job 0 has three tasks. The first, (0, 3), must be processed on machine 0 in 3 units of time. The second, (1, 2), must be processed on machine 1 in 2 units of time, and so on. Altogether, there are eight tasks.\n",
    "\n",
    "\n",
    "https://developers.google.com/optimization/scheduling/job_shop"
   ]
  },
  {
   "cell_type": "code",
   "execution_count": 1,
   "metadata": {},
   "outputs": [],
   "source": [
    "import pandas as pd\n",
    "import numpy as np\n",
    "from docplex.cp.model import  CpoModel\n",
    "\n",
    "pd.set_option('display.max_rows', None)\n",
    "pd.set_option('display.max_columns', None)\n",
    "pd.set_option('display.max_colwidth', None)"
   ]
  },
  {
   "cell_type": "code",
   "execution_count": 2,
   "metadata": {},
   "outputs": [],
   "source": [
    "def interval_var_series(df, mdl,**kargs):\n",
    "    return pd.Series(mdl.interval_var_list(len(df), **kargs), index = df.index)"
   ]
  },
  {
   "cell_type": "code",
   "execution_count": 22,
   "metadata": {},
   "outputs": [],
   "source": [
    "mdl = CpoModel(name=\"JobScheduling\")"
   ]
  },
  {
   "cell_type": "code",
   "execution_count": 23,
   "metadata": {},
   "outputs": [
    {
     "data": {
      "text/html": [
       "<div>\n",
       "<style scoped>\n",
       "    .dataframe tbody tr th:only-of-type {\n",
       "        vertical-align: middle;\n",
       "    }\n",
       "\n",
       "    .dataframe tbody tr th {\n",
       "        vertical-align: top;\n",
       "    }\n",
       "\n",
       "    .dataframe thead th {\n",
       "        text-align: right;\n",
       "    }\n",
       "</style>\n",
       "<table border=\"1\" class=\"dataframe\">\n",
       "  <thead>\n",
       "    <tr style=\"text-align: right;\">\n",
       "      <th></th>\n",
       "      <th>job</th>\n",
       "      <th>order</th>\n",
       "      <th>machine</th>\n",
       "      <th>time</th>\n",
       "    </tr>\n",
       "  </thead>\n",
       "  <tbody>\n",
       "    <tr>\n",
       "      <th>0</th>\n",
       "      <td>0</td>\n",
       "      <td>0</td>\n",
       "      <td>0</td>\n",
       "      <td>3</td>\n",
       "    </tr>\n",
       "    <tr>\n",
       "      <th>1</th>\n",
       "      <td>0</td>\n",
       "      <td>1</td>\n",
       "      <td>1</td>\n",
       "      <td>2</td>\n",
       "    </tr>\n",
       "    <tr>\n",
       "      <th>2</th>\n",
       "      <td>0</td>\n",
       "      <td>2</td>\n",
       "      <td>2</td>\n",
       "      <td>2</td>\n",
       "    </tr>\n",
       "    <tr>\n",
       "      <th>3</th>\n",
       "      <td>1</td>\n",
       "      <td>0</td>\n",
       "      <td>0</td>\n",
       "      <td>2</td>\n",
       "    </tr>\n",
       "    <tr>\n",
       "      <th>4</th>\n",
       "      <td>1</td>\n",
       "      <td>1</td>\n",
       "      <td>2</td>\n",
       "      <td>1</td>\n",
       "    </tr>\n",
       "    <tr>\n",
       "      <th>5</th>\n",
       "      <td>1</td>\n",
       "      <td>2</td>\n",
       "      <td>1</td>\n",
       "      <td>4</td>\n",
       "    </tr>\n",
       "    <tr>\n",
       "      <th>6</th>\n",
       "      <td>2</td>\n",
       "      <td>0</td>\n",
       "      <td>1</td>\n",
       "      <td>4</td>\n",
       "    </tr>\n",
       "    <tr>\n",
       "      <th>7</th>\n",
       "      <td>2</td>\n",
       "      <td>1</td>\n",
       "      <td>2</td>\n",
       "      <td>3</td>\n",
       "    </tr>\n",
       "  </tbody>\n",
       "</table>\n",
       "</div>"
      ],
      "text/plain": [
       "   job  order  machine  time\n",
       "0    0      0        0     3\n",
       "1    0      1        1     2\n",
       "2    0      2        2     2\n",
       "3    1      0        0     2\n",
       "4    1      1        2     1\n",
       "5    1      2        1     4\n",
       "6    2      0        1     4\n",
       "7    2      1        2     3"
      ]
     },
     "execution_count": 23,
     "metadata": {},
     "output_type": "execute_result"
    }
   ],
   "source": [
    "job_0 = [(0, 3), (1, 2), (2, 2)]\n",
    "job_1 = [(0, 2), (2, 1), (1, 4)]\n",
    "job_2 = [(1, 4), (2, 3)]\n",
    "\n",
    "jobs_data = pd.DataFrame([])\n",
    "i=0\n",
    "for j in [job_0,  job_1,  job_2  ]: \n",
    "    u = pd.DataFrame(j, columns = ['machine','time'])\n",
    "    u['job'] = i\n",
    "    u['order'] = np.arange(0,len(u))\n",
    "    jobs_data = pd.concat([jobs_data,u], axis = 0)\n",
    "    i=i+1\n",
    "\n",
    "jobs_data = jobs_data[['job','order', 'machine', 'time']].reset_index(drop = True)\n",
    "jobs_data"
   ]
  },
  {
   "cell_type": "code",
   "execution_count": 24,
   "metadata": {},
   "outputs": [
    {
     "data": {
      "text/plain": [
       "21"
      ]
     },
     "execution_count": 24,
     "metadata": {},
     "output_type": "execute_result"
    }
   ],
   "source": [
    "horizon = jobs_data['time'].sum()\n",
    "horizon"
   ]
  },
  {
   "cell_type": "code",
   "execution_count": 25,
   "metadata": {},
   "outputs": [
    {
     "data": {
      "text/html": [
       "<div>\n",
       "<style scoped>\n",
       "    .dataframe tbody tr th:only-of-type {\n",
       "        vertical-align: middle;\n",
       "    }\n",
       "\n",
       "    .dataframe tbody tr th {\n",
       "        vertical-align: top;\n",
       "    }\n",
       "\n",
       "    .dataframe thead th {\n",
       "        text-align: right;\n",
       "    }\n",
       "</style>\n",
       "<table border=\"1\" class=\"dataframe\">\n",
       "  <thead>\n",
       "    <tr style=\"text-align: right;\">\n",
       "      <th></th>\n",
       "      <th>job</th>\n",
       "      <th>order</th>\n",
       "      <th>machine</th>\n",
       "      <th>time</th>\n",
       "      <th>DV</th>\n",
       "    </tr>\n",
       "  </thead>\n",
       "  <tbody>\n",
       "    <tr>\n",
       "      <th>0</th>\n",
       "      <td>0</td>\n",
       "      <td>0</td>\n",
       "      <td>0</td>\n",
       "      <td>3</td>\n",
       "      <td>intervalVar(size=3)</td>\n",
       "    </tr>\n",
       "    <tr>\n",
       "      <th>1</th>\n",
       "      <td>0</td>\n",
       "      <td>1</td>\n",
       "      <td>1</td>\n",
       "      <td>2</td>\n",
       "      <td>intervalVar(size=2)</td>\n",
       "    </tr>\n",
       "    <tr>\n",
       "      <th>2</th>\n",
       "      <td>0</td>\n",
       "      <td>2</td>\n",
       "      <td>2</td>\n",
       "      <td>2</td>\n",
       "      <td>intervalVar(size=2)</td>\n",
       "    </tr>\n",
       "    <tr>\n",
       "      <th>3</th>\n",
       "      <td>1</td>\n",
       "      <td>0</td>\n",
       "      <td>0</td>\n",
       "      <td>2</td>\n",
       "      <td>intervalVar(size=2)</td>\n",
       "    </tr>\n",
       "    <tr>\n",
       "      <th>4</th>\n",
       "      <td>1</td>\n",
       "      <td>1</td>\n",
       "      <td>2</td>\n",
       "      <td>1</td>\n",
       "      <td>intervalVar(size=1)</td>\n",
       "    </tr>\n",
       "    <tr>\n",
       "      <th>5</th>\n",
       "      <td>1</td>\n",
       "      <td>2</td>\n",
       "      <td>1</td>\n",
       "      <td>4</td>\n",
       "      <td>intervalVar(size=4)</td>\n",
       "    </tr>\n",
       "    <tr>\n",
       "      <th>6</th>\n",
       "      <td>2</td>\n",
       "      <td>0</td>\n",
       "      <td>1</td>\n",
       "      <td>4</td>\n",
       "      <td>intervalVar(size=4)</td>\n",
       "    </tr>\n",
       "    <tr>\n",
       "      <th>7</th>\n",
       "      <td>2</td>\n",
       "      <td>1</td>\n",
       "      <td>2</td>\n",
       "      <td>3</td>\n",
       "      <td>intervalVar(size=3)</td>\n",
       "    </tr>\n",
       "  </tbody>\n",
       "</table>\n",
       "</div>"
      ],
      "text/plain": [
       "   job  order  machine  time                   DV\n",
       "0    0      0        0     3  intervalVar(size=3)\n",
       "1    0      1        1     2  intervalVar(size=2)\n",
       "2    0      2        2     2  intervalVar(size=2)\n",
       "3    1      0        0     2  intervalVar(size=2)\n",
       "4    1      1        2     1  intervalVar(size=1)\n",
       "5    1      2        1     4  intervalVar(size=4)\n",
       "6    2      0        1     4  intervalVar(size=4)\n",
       "7    2      1        2     3  intervalVar(size=3)"
      ]
     },
     "execution_count": 25,
     "metadata": {},
     "output_type": "execute_result"
    }
   ],
   "source": [
    "DV=[]\n",
    "for row in jobs_data.itertuples():\n",
    "    #print(i)\n",
    "    dv = mdl.interval_var(size  =  row.time )# start = 0,end =horizon,  , name='assinged_%s_%s'%(row.job, row.machine)\n",
    "    DV.append(dv) \n",
    "jobs_data['DV'] = DV\n",
    "jobs_data"
   ]
  },
  {
   "attachments": {},
   "cell_type": "markdown",
   "metadata": {},
   "source": [
    "mdl.add( mdl.end_before_start(DV[0], DV[1]) )\n",
    "mdl.add( mdl.end_before_start(DV[0], DV[2]) )\n",
    "mdl.add( mdl.end_before_start(DV[1], DV[2]) )\n",
    "\n",
    "\n",
    "print(\"\\nSolving model....\")\n",
    "msol = mdl.solve(TimeLimit=10)\n",
    "print(\"done\")"
   ]
  },
  {
   "cell_type": "code",
   "execution_count": 26,
   "metadata": {},
   "outputs": [
    {
     "data": {
      "text/plain": [
       "<docplex.cp.expression.CpoIntervalVar at 0x297356a7b50>"
      ]
     },
     "execution_count": 26,
     "metadata": {},
     "output_type": "execute_result"
    }
   ],
   "source": [
    "dv"
   ]
  },
  {
   "cell_type": "code",
   "execution_count": 27,
   "metadata": {},
   "outputs": [
    {
     "name": "stdout",
     "output_type": "stream",
     "text": [
      "The task  intervalVar(size=3)    should be before    intervalVar(size=2)\n",
      "The task  intervalVar(size=3)    should be before    intervalVar(size=2)\n",
      "The task  intervalVar(size=2)    should be before    intervalVar(size=2)\n",
      "The task  intervalVar(size=2)    should be before    intervalVar(size=1)\n",
      "The task  intervalVar(size=2)    should be before    intervalVar(size=4)\n",
      "The task  intervalVar(size=1)    should be before    intervalVar(size=4)\n",
      "The task  intervalVar(size=4)    should be before    intervalVar(size=3)\n"
     ]
    }
   ],
   "source": [
    "all_jobs = jobs_data['job'].unique()\n",
    "all_machines = jobs_data['machine'].unique()\n",
    "\n",
    "\n",
    "def extract_precedence(m):\n",
    "    AllOrders = []\n",
    "    for i in m.keys():\n",
    "        for j in m.keys():\n",
    "            if m[i]<m[j]:\n",
    "                AllOrders.append([i,j])\n",
    "\n",
    "    return AllOrders\n",
    "\n",
    "\n",
    "for i in all_jobs:\n",
    "    u= jobs_data[jobs_data['job']==i]\n",
    "    m = dict(zip(u.index, u.order.values))\n",
    "    precedence_list = extract_precedence(m)\n",
    "\n",
    "    for j in precedence_list:\n",
    "        print(\"The task \", jobs_data.loc[j[0]]['DV'] , '   should be before   ', jobs_data.loc[j[1]]['DV'])\n",
    "\n",
    "        mdl.add( mdl.end_before_start(jobs_data.loc[j[0]]['DV'], jobs_data.loc[j[1]]['DV']) )\n",
    "\n"
   ]
  },
  {
   "cell_type": "code",
   "execution_count": 28,
   "metadata": {},
   "outputs": [
    {
     "name": "stdout",
     "output_type": "stream",
     "text": [
      "\n",
      "Solving model....\n",
      " ! --------------------------------------------------- CP Optimizer 22.1.1.0 --\n",
      " ! Satisfiability problem - 8 variables, 7 constraints\n",
      " ! TimeLimit            = 10\n",
      " ! Initial process time : 0.01s (0.01s extraction + 0.00s propagation)\n",
      " !  . Log search space  : 24.0 (before), 24.0 (after)\n",
      " !  . Memory usage      : 302.5 kB (before), 302.5 kB (after)\n",
      " ! Using parallel search with 8 workers.\n",
      " ! ----------------------------------------------------------------------------\n",
      " !               Branches  Non-fixed    W       Branch decision\n",
      " *                      6  0.01s        1            -\n",
      " ! ----------------------------------------------------------------------------\n",
      " ! Search completed, 1 solution found.\n",
      " ! ----------------------------------------------------------------------------\n",
      " ! Number of branches     : 36\n",
      " ! Number of fails        : 0\n",
      " ! Total memory usage     : 2.5 MB (2.5 MB CP Optimizer + 0.0 MB Concert)\n",
      " ! Time spent in solve    : 0.02s (0.01s engine + 0.01s extraction)\n",
      " ! Search speed (br. / s) : 3600.0\n",
      " ! ----------------------------------------------------------------------------\n",
      "done\n"
     ]
    }
   ],
   "source": [
    "print(\"\\nSolving model....\")\n",
    "msol = mdl.solve(TimeLimit=10)\n",
    "print(\"done\")"
   ]
  },
  {
   "cell_type": "code",
   "execution_count": 29,
   "metadata": {},
   "outputs": [],
   "source": [
    "var_sol = msol.get_var_solution(DV[2])\n"
   ]
  },
  {
   "cell_type": "code",
   "execution_count": 81,
   "metadata": {},
   "outputs": [
    {
     "data": {
      "text/plain": [
       "<docplex.cp.expression.CpoIntervalVar at 0x1c8ae9271b0>"
      ]
     },
     "execution_count": 81,
     "metadata": {},
     "output_type": "execute_result"
    }
   ],
   "source": [
    "DV[1]"
   ]
  },
  {
   "cell_type": "code",
   "execution_count": null,
   "metadata": {},
   "outputs": [],
   "source": []
  }
 ],
 "metadata": {
  "kernelspec": {
   "display_name": "Python 3",
   "language": "python",
   "name": "python3"
  },
  "language_info": {
   "codemirror_mode": {
    "name": "ipython",
    "version": 3
   },
   "file_extension": ".py",
   "mimetype": "text/x-python",
   "name": "python",
   "nbconvert_exporter": "python",
   "pygments_lexer": "ipython3",
   "version": "3.10.8"
  },
  "orig_nbformat": 4
 },
 "nbformat": 4,
 "nbformat_minor": 2
}

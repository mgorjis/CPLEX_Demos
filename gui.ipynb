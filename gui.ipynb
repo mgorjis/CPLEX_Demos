{
    "cells": [
        {
            "metadata": {},
            "cell_type": "code",
            "source": "# @hidden_cell\n# The project token is an authorization token that is used to access project resources like data sources, connections, and used by platform APIs.\nfrom project_lib import Project\nproject = Project(project_id='6f91d264-1f29-448b-8ec0-8cfd311c6b2e', project_access_token='p-eec41199e802eed8e53cc775fbecb41c76a7ae67')\npc = project.project_context\n",
            "execution_count": null,
            "outputs": []
        },
        {
            "metadata": {},
            "cell_type": "code",
            "source": "!pip install decision_optimization_client --upgrade",
            "execution_count": 8,
            "outputs": [
                {
                    "output_type": "stream",
                    "text": "Requirement already satisfied: decision_optimization_client in /opt/conda/envs/Python-3.8-main/lib/python3.8/site-packages (1.0.0)\nRequirement already satisfied: six in /opt/conda/envs/Python-3.8-main/lib/python3.8/site-packages (from decision_optimization_client) (1.15.0)\nRequirement already satisfied: requests in /opt/conda/envs/Python-3.8-main/lib/python3.8/site-packages (from decision_optimization_client) (2.25.1)\nRequirement already satisfied: urllib3<1.27,>=1.21.1 in /opt/conda/envs/Python-3.8-main/lib/python3.8/site-packages (from requests->decision_optimization_client) (1.26.6)\nRequirement already satisfied: certifi>=2017.4.17 in /opt/conda/envs/Python-3.8-main/lib/python3.8/site-packages (from requests->decision_optimization_client) (2021.10.8)\nRequirement already satisfied: chardet<5,>=3.0.2 in /opt/conda/envs/Python-3.8-main/lib/python3.8/site-packages (from requests->decision_optimization_client) (3.0.4)\nRequirement already satisfied: idna<3,>=2.5 in /opt/conda/envs/Python-3.8-main/lib/python3.8/site-packages (from requests->decision_optimization_client) (2.8)\n",
                    "name": "stdout"
                }
            ]
        },
        {
            "metadata": {},
            "cell_type": "code",
            "source": "",
            "execution_count": null,
            "outputs": []
        },
        {
            "metadata": {},
            "cell_type": "code",
            "source": "#To use the client in Cloud Pak For Data:\n#from decision_optimization_client import Client\n#client = Client()\n\n#To use the client in Cloud Pak For Data as a Service:\n\nfrom decision_optimization_client import Client, Experiment\n\n\nclient = Client(project_id='6f91d264-1f29-448b-8ec0-8cfd311c6b2e',\n                authorization='p-eec41199e802eed8e53cc775fbecb41c76a7ae67')\n",
            "execution_count": 30,
            "outputs": []
        },
        {
            "metadata": {},
            "cell_type": "code",
            "source": "# get list of available experiments\ncontainers = client.get_experiments()",
            "execution_count": 18,
            "outputs": []
        },
        {
            "metadata": {},
            "cell_type": "code",
            "source": "#Returns the decision Experiment metadata.\n\nmodel_builder =client.get_experiment (name= \"DO_Experiment_1\")\nprint ( model_builder)\n\nprint(type(model_builder))",
            "execution_count": 51,
            "outputs": [
                {
                    "output_type": "stream",
                    "text": "{\n   \"name\": \"DO_Experiment_1\",\n   \"description\": \"\"\n}\n<class 'decision_optimization_client.experiment.Experiment'>\n",
                    "name": "stdout"
                }
            ]
        },
        {
            "metadata": {},
            "cell_type": "code",
            "source": "scenario = model_builder.create_scenario(name = \"new\")",
            "execution_count": 52,
            "outputs": []
        },
        {
            "metadata": {},
            "cell_type": "code",
            "source": "",
            "execution_count": 47,
            "outputs": []
        },
        {
            "metadata": {},
            "cell_type": "code",
            "source": "",
            "execution_count": null,
            "outputs": []
        }
    ],
    "metadata": {
        "kernelspec": {
            "name": "python3",
            "display_name": "Python 3.8",
            "language": "python"
        },
        "language_info": {
            "name": "python",
            "version": "3.8.12",
            "mimetype": "text/x-python",
            "codemirror_mode": {
                "name": "ipython",
                "version": 3
            },
            "pygments_lexer": "ipython3",
            "nbconvert_exporter": "python",
            "file_extension": ".py"
        }
    },
    "nbformat": 4,
    "nbformat_minor": 1
}
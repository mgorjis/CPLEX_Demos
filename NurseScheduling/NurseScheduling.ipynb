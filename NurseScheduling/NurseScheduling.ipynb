{
    "cells": [
        {
            "cell_type": "code",
            "execution_count": 24,
            "metadata": {},
            "outputs": [],
            "source": "# The code was removed by Watson Studio for sharing."
        },
        {
            "cell_type": "markdown",
            "metadata": {},
            "source": "a hospital supervisor needs to create a schedule for four nurses over a three-day period, subject to the following conditions:\n\nEach day is divided into three 8-hour shifts.\n\nEvery day, each shift is assigned to a single nurse, and no nurse works more than one shift.\n\nEach nurse is assigned to at least two shifts during the three-day period."
        },
        {
            "cell_type": "code",
            "execution_count": 2,
            "metadata": {},
            "outputs": [
                {
                    "name": "stdout",
                    "output_type": "stream",
                    "text": "Collecting dse_do_utils\n  Downloading dse_do_utils-0.5.4.4-py3-none-any.whl (83 kB)\n\u001b[K     |\u2588\u2588\u2588\u2588\u2588\u2588\u2588\u2588\u2588\u2588\u2588\u2588\u2588\u2588\u2588\u2588\u2588\u2588\u2588\u2588\u2588\u2588\u2588\u2588\u2588\u2588\u2588\u2588\u2588\u2588\u2588\u2588| 83 kB 4.3 MB/s  eta 0:00:01\n\u001b[?25hInstalling collected packages: dse-do-utils\nSuccessfully installed dse-do-utils-0.5.4.4\n"
                }
            ],
            "source": "!pip install dse_do_utils"
        },
        {
            "cell_type": "code",
            "execution_count": 3,
            "metadata": {},
            "outputs": [
                {
                    "data": {
                        "text/plain": "'2.22.213'"
                    },
                    "execution_count": 3,
                    "metadata": {},
                    "output_type": "execute_result"
                }
            ],
            "source": "from dse_do_utils import ScenarioManager\nfrom docplex.mp.model import Model\nimport pandas as pd\npd.set_option('display.max_colwidth', None)\npd.set_option('display.max_rows', None)\n\nfrom docplex import __version__\n__version__"
        },
        {
            "cell_type": "code",
            "execution_count": 4,
            "metadata": {},
            "outputs": [],
            "source": "def continuous_var_series(df, mdl,**kargs):\n    return pd.Series(mdl.continuous_var_list(df.index, **kargs), index = df.index)\ndef binary_var_series(df, mdl,**kargs):\n    return pd.Series(mdl.binary_var_list(df.index, **kargs), index = df.index)\ndef integer_var_series(df, mdl,**kargs):\n    '''Create a Series of integer dvar for each row in the DF. Most effective method. Best practice.\n    Result can be assigned to a column of the df.\n    Usage:\n        df['xDVar'] = mdl.integer_var_series(df, name = 'xDVar')\n    Args:\n        mdl: CPLEX Model\n        df: DataFrame\n        **kargs: arguments passed to mdl.integer_var_list method. E.g. 'name'\n        \n    :returns: pandas.Series with integer dvars, index matches index of df\n    '''\n    #We are re-using the index from the DF index:\n    return pd.Series(mdl.integer_var_list(df.index, **kargs), index = df.index)\n\n\nclass CplexSum():\n    \"\"\"Function class that adds a series of dvars into a cplex sum expression.\n    To be used as a custom aggregation in a groupby.\n    Usage:\n        df2 = df1.groupby(['a']).agg({'xDVar':CplexSum(engine.mdl)}).rename(columns={'xDVar':'expr'})\n\n    Sums the dvars in the 'xDVar' column into an expression\n    \"\"\"\n    def __init__(self, mdl):\n        self.mdl = mdl\n    def __call__(self, dvar_series):\n        return self.mdl.sum(dvar_series)\n    \n    \ndef extract_solution(df, extract_dvar_names=None, drop_column_names=None, drop:bool=True):\n    df = df.copy()\n    \"\"\"Generalized routine to extract a solution value. \n    Can remove the dvar column from the df to be able to have a clean df for export into scenario.\"\"\"\n    if extract_dvar_names is not None:\n        for xDVarName in extract_dvar_names:\n            if xDVarName in df.columns:\n                df[f'{xDVarName}_Solution'] = [dvar.solution_value for dvar in df[xDVarName]]\n                if drop:\n                    df = df.drop([xDVarName], axis = 1)\n    if drop and drop_column_names is not None:\n        for column in drop_column_names:\n            if column in df.columns:\n                df = df.drop([column], axis = 1)\n    return df    "
        },
        {
            "cell_type": "code",
            "execution_count": 5,
            "metadata": {},
            "outputs": [],
            "source": "MODEL_NAME = 'NurseScheduling'\nSCENARIO_NAME = 'Base_Scenario' \nmdl = Model(MODEL_NAME)"
        },
        {
            "cell_type": "code",
            "execution_count": 6,
            "metadata": {},
            "outputs": [],
            "source": "Number_Nurses = 4\nNumber_Days = 3\nNumber_Shifts = 3\n\nNurse = pd.DataFrame([])\nNurse[\"NurseID\"] = [\"Nurse\" +str(i) for i in range(1,Number_Nurses+1)]\n\nDays = pd.DataFrame([])\nDays[\"DayID\"] = [\"Day\" +str(i) for i in range(1,Number_Days+1)]\n\nShifts = pd.DataFrame([])\nShifts[\"ShiftsID\"] = [\"Shifts\" +str(i) for i in range(1,Number_Shifts+1)]"
        },
        {
            "cell_type": "code",
            "execution_count": 7,
            "metadata": {},
            "outputs": [
                {
                    "data": {
                        "text/html": "<div>\n<style scoped>\n    .dataframe tbody tr th:only-of-type {\n        vertical-align: middle;\n    }\n\n    .dataframe tbody tr th {\n        vertical-align: top;\n    }\n\n    .dataframe thead th {\n        text-align: right;\n    }\n</style>\n<table border=\"1\" class=\"dataframe\">\n  <thead>\n    <tr style=\"text-align: right;\">\n      <th></th>\n      <th>DayID</th>\n      <th>ShiftsID</th>\n      <th>NurseID</th>\n      <th>X_Assigned</th>\n    </tr>\n  </thead>\n  <tbody>\n    <tr>\n      <th>0</th>\n      <td>Day1</td>\n      <td>Shifts1</td>\n      <td>Nurse1</td>\n      <td>X_Assigned_Day1_Shifts1_Nurse1</td>\n    </tr>\n    <tr>\n      <th>1</th>\n      <td>Day1</td>\n      <td>Shifts1</td>\n      <td>Nurse2</td>\n      <td>X_Assigned_Day1_Shifts1_Nurse2</td>\n    </tr>\n    <tr>\n      <th>2</th>\n      <td>Day1</td>\n      <td>Shifts1</td>\n      <td>Nurse3</td>\n      <td>X_Assigned_Day1_Shifts1_Nurse3</td>\n    </tr>\n    <tr>\n      <th>3</th>\n      <td>Day1</td>\n      <td>Shifts1</td>\n      <td>Nurse4</td>\n      <td>X_Assigned_Day1_Shifts1_Nurse4</td>\n    </tr>\n    <tr>\n      <th>4</th>\n      <td>Day1</td>\n      <td>Shifts2</td>\n      <td>Nurse1</td>\n      <td>X_Assigned_Day1_Shifts2_Nurse1</td>\n    </tr>\n    <tr>\n      <th>5</th>\n      <td>Day1</td>\n      <td>Shifts2</td>\n      <td>Nurse2</td>\n      <td>X_Assigned_Day1_Shifts2_Nurse2</td>\n    </tr>\n    <tr>\n      <th>6</th>\n      <td>Day1</td>\n      <td>Shifts2</td>\n      <td>Nurse3</td>\n      <td>X_Assigned_Day1_Shifts2_Nurse3</td>\n    </tr>\n    <tr>\n      <th>7</th>\n      <td>Day1</td>\n      <td>Shifts2</td>\n      <td>Nurse4</td>\n      <td>X_Assigned_Day1_Shifts2_Nurse4</td>\n    </tr>\n    <tr>\n      <th>8</th>\n      <td>Day1</td>\n      <td>Shifts3</td>\n      <td>Nurse1</td>\n      <td>X_Assigned_Day1_Shifts3_Nurse1</td>\n    </tr>\n    <tr>\n      <th>9</th>\n      <td>Day1</td>\n      <td>Shifts3</td>\n      <td>Nurse2</td>\n      <td>X_Assigned_Day1_Shifts3_Nurse2</td>\n    </tr>\n    <tr>\n      <th>10</th>\n      <td>Day1</td>\n      <td>Shifts3</td>\n      <td>Nurse3</td>\n      <td>X_Assigned_Day1_Shifts3_Nurse3</td>\n    </tr>\n    <tr>\n      <th>11</th>\n      <td>Day1</td>\n      <td>Shifts3</td>\n      <td>Nurse4</td>\n      <td>X_Assigned_Day1_Shifts3_Nurse4</td>\n    </tr>\n    <tr>\n      <th>12</th>\n      <td>Day2</td>\n      <td>Shifts1</td>\n      <td>Nurse1</td>\n      <td>X_Assigned_Day2_Shifts1_Nurse1</td>\n    </tr>\n    <tr>\n      <th>13</th>\n      <td>Day2</td>\n      <td>Shifts1</td>\n      <td>Nurse2</td>\n      <td>X_Assigned_Day2_Shifts1_Nurse2</td>\n    </tr>\n    <tr>\n      <th>14</th>\n      <td>Day2</td>\n      <td>Shifts1</td>\n      <td>Nurse3</td>\n      <td>X_Assigned_Day2_Shifts1_Nurse3</td>\n    </tr>\n    <tr>\n      <th>15</th>\n      <td>Day2</td>\n      <td>Shifts1</td>\n      <td>Nurse4</td>\n      <td>X_Assigned_Day2_Shifts1_Nurse4</td>\n    </tr>\n    <tr>\n      <th>16</th>\n      <td>Day2</td>\n      <td>Shifts2</td>\n      <td>Nurse1</td>\n      <td>X_Assigned_Day2_Shifts2_Nurse1</td>\n    </tr>\n    <tr>\n      <th>17</th>\n      <td>Day2</td>\n      <td>Shifts2</td>\n      <td>Nurse2</td>\n      <td>X_Assigned_Day2_Shifts2_Nurse2</td>\n    </tr>\n    <tr>\n      <th>18</th>\n      <td>Day2</td>\n      <td>Shifts2</td>\n      <td>Nurse3</td>\n      <td>X_Assigned_Day2_Shifts2_Nurse3</td>\n    </tr>\n    <tr>\n      <th>19</th>\n      <td>Day2</td>\n      <td>Shifts2</td>\n      <td>Nurse4</td>\n      <td>X_Assigned_Day2_Shifts2_Nurse4</td>\n    </tr>\n    <tr>\n      <th>20</th>\n      <td>Day2</td>\n      <td>Shifts3</td>\n      <td>Nurse1</td>\n      <td>X_Assigned_Day2_Shifts3_Nurse1</td>\n    </tr>\n    <tr>\n      <th>21</th>\n      <td>Day2</td>\n      <td>Shifts3</td>\n      <td>Nurse2</td>\n      <td>X_Assigned_Day2_Shifts3_Nurse2</td>\n    </tr>\n    <tr>\n      <th>22</th>\n      <td>Day2</td>\n      <td>Shifts3</td>\n      <td>Nurse3</td>\n      <td>X_Assigned_Day2_Shifts3_Nurse3</td>\n    </tr>\n    <tr>\n      <th>23</th>\n      <td>Day2</td>\n      <td>Shifts3</td>\n      <td>Nurse4</td>\n      <td>X_Assigned_Day2_Shifts3_Nurse4</td>\n    </tr>\n    <tr>\n      <th>24</th>\n      <td>Day3</td>\n      <td>Shifts1</td>\n      <td>Nurse1</td>\n      <td>X_Assigned_Day3_Shifts1_Nurse1</td>\n    </tr>\n    <tr>\n      <th>25</th>\n      <td>Day3</td>\n      <td>Shifts1</td>\n      <td>Nurse2</td>\n      <td>X_Assigned_Day3_Shifts1_Nurse2</td>\n    </tr>\n    <tr>\n      <th>26</th>\n      <td>Day3</td>\n      <td>Shifts1</td>\n      <td>Nurse3</td>\n      <td>X_Assigned_Day3_Shifts1_Nurse3</td>\n    </tr>\n    <tr>\n      <th>27</th>\n      <td>Day3</td>\n      <td>Shifts1</td>\n      <td>Nurse4</td>\n      <td>X_Assigned_Day3_Shifts1_Nurse4</td>\n    </tr>\n    <tr>\n      <th>28</th>\n      <td>Day3</td>\n      <td>Shifts2</td>\n      <td>Nurse1</td>\n      <td>X_Assigned_Day3_Shifts2_Nurse1</td>\n    </tr>\n    <tr>\n      <th>29</th>\n      <td>Day3</td>\n      <td>Shifts2</td>\n      <td>Nurse2</td>\n      <td>X_Assigned_Day3_Shifts2_Nurse2</td>\n    </tr>\n    <tr>\n      <th>30</th>\n      <td>Day3</td>\n      <td>Shifts2</td>\n      <td>Nurse3</td>\n      <td>X_Assigned_Day3_Shifts2_Nurse3</td>\n    </tr>\n    <tr>\n      <th>31</th>\n      <td>Day3</td>\n      <td>Shifts2</td>\n      <td>Nurse4</td>\n      <td>X_Assigned_Day3_Shifts2_Nurse4</td>\n    </tr>\n    <tr>\n      <th>32</th>\n      <td>Day3</td>\n      <td>Shifts3</td>\n      <td>Nurse1</td>\n      <td>X_Assigned_Day3_Shifts3_Nurse1</td>\n    </tr>\n    <tr>\n      <th>33</th>\n      <td>Day3</td>\n      <td>Shifts3</td>\n      <td>Nurse2</td>\n      <td>X_Assigned_Day3_Shifts3_Nurse2</td>\n    </tr>\n    <tr>\n      <th>34</th>\n      <td>Day3</td>\n      <td>Shifts3</td>\n      <td>Nurse3</td>\n      <td>X_Assigned_Day3_Shifts3_Nurse3</td>\n    </tr>\n    <tr>\n      <th>35</th>\n      <td>Day3</td>\n      <td>Shifts3</td>\n      <td>Nurse4</td>\n      <td>X_Assigned_Day3_Shifts3_Nurse4</td>\n    </tr>\n  </tbody>\n</table>\n</div>",
                        "text/plain": "   DayID ShiftsID NurseID                      X_Assigned\n0   Day1  Shifts1  Nurse1  X_Assigned_Day1_Shifts1_Nurse1\n1   Day1  Shifts1  Nurse2  X_Assigned_Day1_Shifts1_Nurse2\n2   Day1  Shifts1  Nurse3  X_Assigned_Day1_Shifts1_Nurse3\n3   Day1  Shifts1  Nurse4  X_Assigned_Day1_Shifts1_Nurse4\n4   Day1  Shifts2  Nurse1  X_Assigned_Day1_Shifts2_Nurse1\n5   Day1  Shifts2  Nurse2  X_Assigned_Day1_Shifts2_Nurse2\n6   Day1  Shifts2  Nurse3  X_Assigned_Day1_Shifts2_Nurse3\n7   Day1  Shifts2  Nurse4  X_Assigned_Day1_Shifts2_Nurse4\n8   Day1  Shifts3  Nurse1  X_Assigned_Day1_Shifts3_Nurse1\n9   Day1  Shifts3  Nurse2  X_Assigned_Day1_Shifts3_Nurse2\n10  Day1  Shifts3  Nurse3  X_Assigned_Day1_Shifts3_Nurse3\n11  Day1  Shifts3  Nurse4  X_Assigned_Day1_Shifts3_Nurse4\n12  Day2  Shifts1  Nurse1  X_Assigned_Day2_Shifts1_Nurse1\n13  Day2  Shifts1  Nurse2  X_Assigned_Day2_Shifts1_Nurse2\n14  Day2  Shifts1  Nurse3  X_Assigned_Day2_Shifts1_Nurse3\n15  Day2  Shifts1  Nurse4  X_Assigned_Day2_Shifts1_Nurse4\n16  Day2  Shifts2  Nurse1  X_Assigned_Day2_Shifts2_Nurse1\n17  Day2  Shifts2  Nurse2  X_Assigned_Day2_Shifts2_Nurse2\n18  Day2  Shifts2  Nurse3  X_Assigned_Day2_Shifts2_Nurse3\n19  Day2  Shifts2  Nurse4  X_Assigned_Day2_Shifts2_Nurse4\n20  Day2  Shifts3  Nurse1  X_Assigned_Day2_Shifts3_Nurse1\n21  Day2  Shifts3  Nurse2  X_Assigned_Day2_Shifts3_Nurse2\n22  Day2  Shifts3  Nurse3  X_Assigned_Day2_Shifts3_Nurse3\n23  Day2  Shifts3  Nurse4  X_Assigned_Day2_Shifts3_Nurse4\n24  Day3  Shifts1  Nurse1  X_Assigned_Day3_Shifts1_Nurse1\n25  Day3  Shifts1  Nurse2  X_Assigned_Day3_Shifts1_Nurse2\n26  Day3  Shifts1  Nurse3  X_Assigned_Day3_Shifts1_Nurse3\n27  Day3  Shifts1  Nurse4  X_Assigned_Day3_Shifts1_Nurse4\n28  Day3  Shifts2  Nurse1  X_Assigned_Day3_Shifts2_Nurse1\n29  Day3  Shifts2  Nurse2  X_Assigned_Day3_Shifts2_Nurse2\n30  Day3  Shifts2  Nurse3  X_Assigned_Day3_Shifts2_Nurse3\n31  Day3  Shifts2  Nurse4  X_Assigned_Day3_Shifts2_Nurse4\n32  Day3  Shifts3  Nurse1  X_Assigned_Day3_Shifts3_Nurse1\n33  Day3  Shifts3  Nurse2  X_Assigned_Day3_Shifts3_Nurse2\n34  Day3  Shifts3  Nurse3  X_Assigned_Day3_Shifts3_Nurse3\n35  Day3  Shifts3  Nurse4  X_Assigned_Day3_Shifts3_Nurse4"
                    },
                    "execution_count": 7,
                    "metadata": {},
                    "output_type": "execute_result"
                }
            ],
            "source": "Nurse_Shift = pd.merge(Days,Shifts, how = \"cross\" ).merge(Nurse, how = \"cross\").set_index([\"DayID\",\"ShiftsID\",\"NurseID\"], verify_integrity = True)\n\nNurse_Shift[\"X_Assigned\"] = binary_var_series(Nurse_Shift, mdl, name = \"X_Assigned\" )\n\nNurse_Shift = Nurse_Shift.reset_index(drop = False)\nNurse_Shift"
        },
        {
            "cell_type": "markdown",
            "metadata": {},
            "source": "### each shift is assigned to a single nurse"
        },
        {
            "cell_type": "code",
            "execution_count": 8,
            "metadata": {},
            "outputs": [
                {
                    "data": {
                        "text/html": "<div>\n<style scoped>\n    .dataframe tbody tr th:only-of-type {\n        vertical-align: middle;\n    }\n\n    .dataframe tbody tr th {\n        vertical-align: top;\n    }\n\n    .dataframe thead th {\n        text-align: right;\n    }\n</style>\n<table border=\"1\" class=\"dataframe\">\n  <thead>\n    <tr style=\"text-align: right;\">\n      <th></th>\n      <th>DayID</th>\n      <th>ShiftsID</th>\n      <th>X_Assigned</th>\n    </tr>\n  </thead>\n  <tbody>\n    <tr>\n      <th>0</th>\n      <td>Day1</td>\n      <td>Shifts1</td>\n      <td>X_Assigned_Day1_Shifts1_Nurse1+X_Assigned_Day1_Shifts1_Nurse2+X_Assigned_Day1_Shifts1_Nurse3+X_Assigned_Day1_Shifts1_Nurse4</td>\n    </tr>\n    <tr>\n      <th>1</th>\n      <td>Day1</td>\n      <td>Shifts2</td>\n      <td>X_Assigned_Day1_Shifts2_Nurse1+X_Assigned_Day1_Shifts2_Nurse2+X_Assigned_Day1_Shifts2_Nurse3+X_Assigned_Day1_Shifts2_Nurse4</td>\n    </tr>\n    <tr>\n      <th>2</th>\n      <td>Day1</td>\n      <td>Shifts3</td>\n      <td>X_Assigned_Day1_Shifts3_Nurse1+X_Assigned_Day1_Shifts3_Nurse2+X_Assigned_Day1_Shifts3_Nurse3+X_Assigned_Day1_Shifts3_Nurse4</td>\n    </tr>\n    <tr>\n      <th>3</th>\n      <td>Day2</td>\n      <td>Shifts1</td>\n      <td>X_Assigned_Day2_Shifts1_Nurse1+X_Assigned_Day2_Shifts1_Nurse2+X_Assigned_Day2_Shifts1_Nurse3+X_Assigned_Day2_Shifts1_Nurse4</td>\n    </tr>\n    <tr>\n      <th>4</th>\n      <td>Day2</td>\n      <td>Shifts2</td>\n      <td>X_Assigned_Day2_Shifts2_Nurse1+X_Assigned_Day2_Shifts2_Nurse2+X_Assigned_Day2_Shifts2_Nurse3+X_Assigned_Day2_Shifts2_Nurse4</td>\n    </tr>\n    <tr>\n      <th>5</th>\n      <td>Day2</td>\n      <td>Shifts3</td>\n      <td>X_Assigned_Day2_Shifts3_Nurse1+X_Assigned_Day2_Shifts3_Nurse2+X_Assigned_Day2_Shifts3_Nurse3+X_Assigned_Day2_Shifts3_Nurse4</td>\n    </tr>\n    <tr>\n      <th>6</th>\n      <td>Day3</td>\n      <td>Shifts1</td>\n      <td>X_Assigned_Day3_Shifts1_Nurse1+X_Assigned_Day3_Shifts1_Nurse2+X_Assigned_Day3_Shifts1_Nurse3+X_Assigned_Day3_Shifts1_Nurse4</td>\n    </tr>\n    <tr>\n      <th>7</th>\n      <td>Day3</td>\n      <td>Shifts2</td>\n      <td>X_Assigned_Day3_Shifts2_Nurse1+X_Assigned_Day3_Shifts2_Nurse2+X_Assigned_Day3_Shifts2_Nurse3+X_Assigned_Day3_Shifts2_Nurse4</td>\n    </tr>\n    <tr>\n      <th>8</th>\n      <td>Day3</td>\n      <td>Shifts3</td>\n      <td>X_Assigned_Day3_Shifts3_Nurse1+X_Assigned_Day3_Shifts3_Nurse2+X_Assigned_Day3_Shifts3_Nurse3+X_Assigned_Day3_Shifts3_Nurse4</td>\n    </tr>\n  </tbody>\n</table>\n</div>",
                        "text/plain": "  DayID ShiftsID  \\\n0  Day1  Shifts1   \n1  Day1  Shifts2   \n2  Day1  Shifts3   \n3  Day2  Shifts1   \n4  Day2  Shifts2   \n5  Day2  Shifts3   \n6  Day3  Shifts1   \n7  Day3  Shifts2   \n8  Day3  Shifts3   \n\n                                                                                                                    X_Assigned  \n0  X_Assigned_Day1_Shifts1_Nurse1+X_Assigned_Day1_Shifts1_Nurse2+X_Assigned_Day1_Shifts1_Nurse3+X_Assigned_Day1_Shifts1_Nurse4  \n1  X_Assigned_Day1_Shifts2_Nurse1+X_Assigned_Day1_Shifts2_Nurse2+X_Assigned_Day1_Shifts2_Nurse3+X_Assigned_Day1_Shifts2_Nurse4  \n2  X_Assigned_Day1_Shifts3_Nurse1+X_Assigned_Day1_Shifts3_Nurse2+X_Assigned_Day1_Shifts3_Nurse3+X_Assigned_Day1_Shifts3_Nurse4  \n3  X_Assigned_Day2_Shifts1_Nurse1+X_Assigned_Day2_Shifts1_Nurse2+X_Assigned_Day2_Shifts1_Nurse3+X_Assigned_Day2_Shifts1_Nurse4  \n4  X_Assigned_Day2_Shifts2_Nurse1+X_Assigned_Day2_Shifts2_Nurse2+X_Assigned_Day2_Shifts2_Nurse3+X_Assigned_Day2_Shifts2_Nurse4  \n5  X_Assigned_Day2_Shifts3_Nurse1+X_Assigned_Day2_Shifts3_Nurse2+X_Assigned_Day2_Shifts3_Nurse3+X_Assigned_Day2_Shifts3_Nurse4  \n6  X_Assigned_Day3_Shifts1_Nurse1+X_Assigned_Day3_Shifts1_Nurse2+X_Assigned_Day3_Shifts1_Nurse3+X_Assigned_Day3_Shifts1_Nurse4  \n7  X_Assigned_Day3_Shifts2_Nurse1+X_Assigned_Day3_Shifts2_Nurse2+X_Assigned_Day3_Shifts2_Nurse3+X_Assigned_Day3_Shifts2_Nurse4  \n8  X_Assigned_Day3_Shifts3_Nurse1+X_Assigned_Day3_Shifts3_Nurse2+X_Assigned_Day3_Shifts3_Nurse3+X_Assigned_Day3_Shifts3_Nurse4  "
                    },
                    "execution_count": 8,
                    "metadata": {},
                    "output_type": "execute_result"
                }
            ],
            "source": "Nurse_each_shift = Nurse_Shift[[\"DayID\",\"ShiftsID\",\"X_Assigned\"]].groupby([\"DayID\",\"ShiftsID\"]).agg(CplexSum(mdl)).reset_index(drop= False)\n\nNurse_each_shift"
        },
        {
            "cell_type": "code",
            "execution_count": 9,
            "metadata": {},
            "outputs": [],
            "source": "for row in Nurse_each_shift.itertuples():\n    mdl.add_constraint(row.X_Assigned  == 1)"
        },
        {
            "cell_type": "markdown",
            "metadata": {},
            "source": "## Each nurse works at most one shift per day."
        },
        {
            "cell_type": "code",
            "execution_count": 11,
            "metadata": {},
            "outputs": [
                {
                    "data": {
                        "text/html": "<div>\n<style scoped>\n    .dataframe tbody tr th:only-of-type {\n        vertical-align: middle;\n    }\n\n    .dataframe tbody tr th {\n        vertical-align: top;\n    }\n\n    .dataframe thead th {\n        text-align: right;\n    }\n</style>\n<table border=\"1\" class=\"dataframe\">\n  <thead>\n    <tr style=\"text-align: right;\">\n      <th></th>\n      <th>NurseID</th>\n      <th>DayID</th>\n      <th>X_Assigned</th>\n    </tr>\n  </thead>\n  <tbody>\n    <tr>\n      <th>0</th>\n      <td>Nurse1</td>\n      <td>Day1</td>\n      <td>X_Assigned_Day1_Shifts1_Nurse1+X_Assigned_Day1_Shifts2_Nurse1+X_Assigned_Day1_Shifts3_Nurse1</td>\n    </tr>\n    <tr>\n      <th>1</th>\n      <td>Nurse1</td>\n      <td>Day2</td>\n      <td>X_Assigned_Day2_Shifts1_Nurse1+X_Assigned_Day2_Shifts2_Nurse1+X_Assigned_Day2_Shifts3_Nurse1</td>\n    </tr>\n    <tr>\n      <th>2</th>\n      <td>Nurse1</td>\n      <td>Day3</td>\n      <td>X_Assigned_Day3_Shifts1_Nurse1+X_Assigned_Day3_Shifts2_Nurse1+X_Assigned_Day3_Shifts3_Nurse1</td>\n    </tr>\n    <tr>\n      <th>3</th>\n      <td>Nurse2</td>\n      <td>Day1</td>\n      <td>X_Assigned_Day1_Shifts1_Nurse2+X_Assigned_Day1_Shifts2_Nurse2+X_Assigned_Day1_Shifts3_Nurse2</td>\n    </tr>\n    <tr>\n      <th>4</th>\n      <td>Nurse2</td>\n      <td>Day2</td>\n      <td>X_Assigned_Day2_Shifts1_Nurse2+X_Assigned_Day2_Shifts2_Nurse2+X_Assigned_Day2_Shifts3_Nurse2</td>\n    </tr>\n    <tr>\n      <th>5</th>\n      <td>Nurse2</td>\n      <td>Day3</td>\n      <td>X_Assigned_Day3_Shifts1_Nurse2+X_Assigned_Day3_Shifts2_Nurse2+X_Assigned_Day3_Shifts3_Nurse2</td>\n    </tr>\n    <tr>\n      <th>6</th>\n      <td>Nurse3</td>\n      <td>Day1</td>\n      <td>X_Assigned_Day1_Shifts1_Nurse3+X_Assigned_Day1_Shifts2_Nurse3+X_Assigned_Day1_Shifts3_Nurse3</td>\n    </tr>\n    <tr>\n      <th>7</th>\n      <td>Nurse3</td>\n      <td>Day2</td>\n      <td>X_Assigned_Day2_Shifts1_Nurse3+X_Assigned_Day2_Shifts2_Nurse3+X_Assigned_Day2_Shifts3_Nurse3</td>\n    </tr>\n    <tr>\n      <th>8</th>\n      <td>Nurse3</td>\n      <td>Day3</td>\n      <td>X_Assigned_Day3_Shifts1_Nurse3+X_Assigned_Day3_Shifts2_Nurse3+X_Assigned_Day3_Shifts3_Nurse3</td>\n    </tr>\n    <tr>\n      <th>9</th>\n      <td>Nurse4</td>\n      <td>Day1</td>\n      <td>X_Assigned_Day1_Shifts1_Nurse4+X_Assigned_Day1_Shifts2_Nurse4+X_Assigned_Day1_Shifts3_Nurse4</td>\n    </tr>\n    <tr>\n      <th>10</th>\n      <td>Nurse4</td>\n      <td>Day2</td>\n      <td>X_Assigned_Day2_Shifts1_Nurse4+X_Assigned_Day2_Shifts2_Nurse4+X_Assigned_Day2_Shifts3_Nurse4</td>\n    </tr>\n    <tr>\n      <th>11</th>\n      <td>Nurse4</td>\n      <td>Day3</td>\n      <td>X_Assigned_Day3_Shifts1_Nurse4+X_Assigned_Day3_Shifts2_Nurse4+X_Assigned_Day3_Shifts3_Nurse4</td>\n    </tr>\n  </tbody>\n</table>\n</div>",
                        "text/plain": "   NurseID DayID  \\\n0   Nurse1  Day1   \n1   Nurse1  Day2   \n2   Nurse1  Day3   \n3   Nurse2  Day1   \n4   Nurse2  Day2   \n5   Nurse2  Day3   \n6   Nurse3  Day1   \n7   Nurse3  Day2   \n8   Nurse3  Day3   \n9   Nurse4  Day1   \n10  Nurse4  Day2   \n11  Nurse4  Day3   \n\n                                                                                      X_Assigned  \n0   X_Assigned_Day1_Shifts1_Nurse1+X_Assigned_Day1_Shifts2_Nurse1+X_Assigned_Day1_Shifts3_Nurse1  \n1   X_Assigned_Day2_Shifts1_Nurse1+X_Assigned_Day2_Shifts2_Nurse1+X_Assigned_Day2_Shifts3_Nurse1  \n2   X_Assigned_Day3_Shifts1_Nurse1+X_Assigned_Day3_Shifts2_Nurse1+X_Assigned_Day3_Shifts3_Nurse1  \n3   X_Assigned_Day1_Shifts1_Nurse2+X_Assigned_Day1_Shifts2_Nurse2+X_Assigned_Day1_Shifts3_Nurse2  \n4   X_Assigned_Day2_Shifts1_Nurse2+X_Assigned_Day2_Shifts2_Nurse2+X_Assigned_Day2_Shifts3_Nurse2  \n5   X_Assigned_Day3_Shifts1_Nurse2+X_Assigned_Day3_Shifts2_Nurse2+X_Assigned_Day3_Shifts3_Nurse2  \n6   X_Assigned_Day1_Shifts1_Nurse3+X_Assigned_Day1_Shifts2_Nurse3+X_Assigned_Day1_Shifts3_Nurse3  \n7   X_Assigned_Day2_Shifts1_Nurse3+X_Assigned_Day2_Shifts2_Nurse3+X_Assigned_Day2_Shifts3_Nurse3  \n8   X_Assigned_Day3_Shifts1_Nurse3+X_Assigned_Day3_Shifts2_Nurse3+X_Assigned_Day3_Shifts3_Nurse3  \n9   X_Assigned_Day1_Shifts1_Nurse4+X_Assigned_Day1_Shifts2_Nurse4+X_Assigned_Day1_Shifts3_Nurse4  \n10  X_Assigned_Day2_Shifts1_Nurse4+X_Assigned_Day2_Shifts2_Nurse4+X_Assigned_Day2_Shifts3_Nurse4  \n11  X_Assigned_Day3_Shifts1_Nurse4+X_Assigned_Day3_Shifts2_Nurse4+X_Assigned_Day3_Shifts3_Nurse4  "
                    },
                    "execution_count": 11,
                    "metadata": {},
                    "output_type": "execute_result"
                }
            ],
            "source": "Nurse_each_day = Nurse_Shift[[\"NurseID\",\"DayID\",\"X_Assigned\"]].groupby([\"NurseID\",\"DayID\"]).agg(CplexSum(mdl)).reset_index(drop= False)\nNurse_each_day"
        },
        {
            "cell_type": "code",
            "execution_count": 12,
            "metadata": {},
            "outputs": [],
            "source": "for row in Nurse_each_day.itertuples():\n    mdl.add_constraint(row.X_Assigned  <= 1)"
        },
        {
            "cell_type": "markdown",
            "metadata": {},
            "source": "## Each nurse is assigned to at least two shifts during the three-day period."
        },
        {
            "cell_type": "code",
            "execution_count": 13,
            "metadata": {},
            "outputs": [
                {
                    "data": {
                        "text/html": "<div>\n<style scoped>\n    .dataframe tbody tr th:only-of-type {\n        vertical-align: middle;\n    }\n\n    .dataframe tbody tr th {\n        vertical-align: top;\n    }\n\n    .dataframe thead th {\n        text-align: right;\n    }\n</style>\n<table border=\"1\" class=\"dataframe\">\n  <thead>\n    <tr style=\"text-align: right;\">\n      <th></th>\n      <th>NurseID</th>\n      <th>X_Assigned</th>\n    </tr>\n  </thead>\n  <tbody>\n    <tr>\n      <th>0</th>\n      <td>Nurse1</td>\n      <td>X_Assigned_Day1_Shifts1_Nurse1+X_Assigned_Day1_Shifts2_Nurse1+X_Assigned_Day1_Shifts3_Nurse1+X_Assigned_Day2_Shifts1_Nurse1+X_Assigned_Day2_Shifts2_Nurse1+X_Assigned_Day2_Shifts3_Nurse1+X_Assigned_Day3_Shifts1_Nurse1+X_Assigned_Day3_Shifts2_Nurse1+X_Assigned_Day3_Shifts3_Nurse1</td>\n    </tr>\n    <tr>\n      <th>1</th>\n      <td>Nurse2</td>\n      <td>X_Assigned_Day1_Shifts1_Nurse2+X_Assigned_Day1_Shifts2_Nurse2+X_Assigned_Day1_Shifts3_Nurse2+X_Assigned_Day2_Shifts1_Nurse2+X_Assigned_Day2_Shifts2_Nurse2+X_Assigned_Day2_Shifts3_Nurse2+X_Assigned_Day3_Shifts1_Nurse2+X_Assigned_Day3_Shifts2_Nurse2+X_Assigned_Day3_Shifts3_Nurse2</td>\n    </tr>\n    <tr>\n      <th>2</th>\n      <td>Nurse3</td>\n      <td>X_Assigned_Day1_Shifts1_Nurse3+X_Assigned_Day1_Shifts2_Nurse3+X_Assigned_Day1_Shifts3_Nurse3+X_Assigned_Day2_Shifts1_Nurse3+X_Assigned_Day2_Shifts2_Nurse3+X_Assigned_Day2_Shifts3_Nurse3+X_Assigned_Day3_Shifts1_Nurse3+X_Assigned_Day3_Shifts2_Nurse3+X_Assigned_Day3_Shifts3_Nurse3</td>\n    </tr>\n    <tr>\n      <th>3</th>\n      <td>Nurse4</td>\n      <td>X_Assigned_Day1_Shifts1_Nurse4+X_Assigned_Day1_Shifts2_Nurse4+X_Assigned_Day1_Shifts3_Nurse4+X_Assigned_Day2_Shifts1_Nurse4+X_Assigned_Day2_Shifts2_Nurse4+X_Assigned_Day2_Shifts3_Nurse4+X_Assigned_Day3_Shifts1_Nurse4+X_Assigned_Day3_Shifts2_Nurse4+X_Assigned_Day3_Shifts3_Nurse4</td>\n    </tr>\n  </tbody>\n</table>\n</div>",
                        "text/plain": "  NurseID  \\\n0  Nurse1   \n1  Nurse2   \n2  Nurse3   \n3  Nurse4   \n\n                                                                                                                                                                                                                                                                               X_Assigned  \n0  X_Assigned_Day1_Shifts1_Nurse1+X_Assigned_Day1_Shifts2_Nurse1+X_Assigned_Day1_Shifts3_Nurse1+X_Assigned_Day2_Shifts1_Nurse1+X_Assigned_Day2_Shifts2_Nurse1+X_Assigned_Day2_Shifts3_Nurse1+X_Assigned_Day3_Shifts1_Nurse1+X_Assigned_Day3_Shifts2_Nurse1+X_Assigned_Day3_Shifts3_Nurse1  \n1  X_Assigned_Day1_Shifts1_Nurse2+X_Assigned_Day1_Shifts2_Nurse2+X_Assigned_Day1_Shifts3_Nurse2+X_Assigned_Day2_Shifts1_Nurse2+X_Assigned_Day2_Shifts2_Nurse2+X_Assigned_Day2_Shifts3_Nurse2+X_Assigned_Day3_Shifts1_Nurse2+X_Assigned_Day3_Shifts2_Nurse2+X_Assigned_Day3_Shifts3_Nurse2  \n2  X_Assigned_Day1_Shifts1_Nurse3+X_Assigned_Day1_Shifts2_Nurse3+X_Assigned_Day1_Shifts3_Nurse3+X_Assigned_Day2_Shifts1_Nurse3+X_Assigned_Day2_Shifts2_Nurse3+X_Assigned_Day2_Shifts3_Nurse3+X_Assigned_Day3_Shifts1_Nurse3+X_Assigned_Day3_Shifts2_Nurse3+X_Assigned_Day3_Shifts3_Nurse3  \n3  X_Assigned_Day1_Shifts1_Nurse4+X_Assigned_Day1_Shifts2_Nurse4+X_Assigned_Day1_Shifts3_Nurse4+X_Assigned_Day2_Shifts1_Nurse4+X_Assigned_Day2_Shifts2_Nurse4+X_Assigned_Day2_Shifts3_Nurse4+X_Assigned_Day3_Shifts1_Nurse4+X_Assigned_Day3_Shifts2_Nurse4+X_Assigned_Day3_Shifts3_Nurse4  "
                    },
                    "execution_count": 13,
                    "metadata": {},
                    "output_type": "execute_result"
                }
            ],
            "source": "Nurse_day = Nurse_Shift[[\"NurseID\",\"X_Assigned\"]].groupby([\"NurseID\"]).agg(CplexSum(mdl)).reset_index(drop= False)\nNurse_day"
        },
        {
            "cell_type": "code",
            "execution_count": 14,
            "metadata": {},
            "outputs": [],
            "source": "for row in Nurse_day.itertuples():\n    mdl.add_constraint(row.X_Assigned  >= 2)"
        },
        {
            "cell_type": "markdown",
            "metadata": {},
            "source": "# Solve"
        },
        {
            "cell_type": "code",
            "execution_count": 16,
            "metadata": {},
            "outputs": [
                {
                    "name": "stdout",
                    "output_type": "stream",
                    "text": "Model: NurseScheduling\n - number of variables: 36\n   - binary=36, integer=0, continuous=0\n - number of constraints: 25\n   - linear=25\n - parameters: defaults\n - objective: none\n - problem type is: MILP\n"
                }
            ],
            "source": "mdl.print_information()"
        },
        {
            "cell_type": "code",
            "execution_count": 17,
            "metadata": {},
            "outputs": [
                {
                    "name": "stdout",
                    "output_type": "stream",
                    "text": "* model NurseScheduling solved with objective = 0.000\n"
                }
            ],
            "source": "mdl.solve()\nmdl.report()"
        },
        {
            "cell_type": "markdown",
            "metadata": {},
            "source": "# Postprocessing"
        },
        {
            "cell_type": "code",
            "execution_count": 18,
            "metadata": {},
            "outputs": [
                {
                    "data": {
                        "text/html": "<div>\n<style scoped>\n    .dataframe tbody tr th:only-of-type {\n        vertical-align: middle;\n    }\n\n    .dataframe tbody tr th {\n        vertical-align: top;\n    }\n\n    .dataframe thead th {\n        text-align: right;\n    }\n</style>\n<table border=\"1\" class=\"dataframe\">\n  <thead>\n    <tr style=\"text-align: right;\">\n      <th></th>\n      <th>DayID</th>\n      <th>ShiftsID</th>\n      <th>NurseID</th>\n      <th>X_Assigned</th>\n      <th>X_Assigned_Solution</th>\n    </tr>\n  </thead>\n  <tbody>\n    <tr>\n      <th>0</th>\n      <td>Day1</td>\n      <td>Shifts1</td>\n      <td>Nurse1</td>\n      <td>X_Assigned_Day1_Shifts1_Nurse1</td>\n      <td>0.0</td>\n    </tr>\n    <tr>\n      <th>1</th>\n      <td>Day1</td>\n      <td>Shifts1</td>\n      <td>Nurse2</td>\n      <td>X_Assigned_Day1_Shifts1_Nurse2</td>\n      <td>0.0</td>\n    </tr>\n    <tr>\n      <th>2</th>\n      <td>Day1</td>\n      <td>Shifts1</td>\n      <td>Nurse3</td>\n      <td>X_Assigned_Day1_Shifts1_Nurse3</td>\n      <td>1.0</td>\n    </tr>\n    <tr>\n      <th>3</th>\n      <td>Day1</td>\n      <td>Shifts1</td>\n      <td>Nurse4</td>\n      <td>X_Assigned_Day1_Shifts1_Nurse4</td>\n      <td>0.0</td>\n    </tr>\n    <tr>\n      <th>4</th>\n      <td>Day1</td>\n      <td>Shifts2</td>\n      <td>Nurse1</td>\n      <td>X_Assigned_Day1_Shifts2_Nurse1</td>\n      <td>1.0</td>\n    </tr>\n  </tbody>\n</table>\n</div>",
                        "text/plain": "  DayID ShiftsID NurseID                      X_Assigned  X_Assigned_Solution\n0  Day1  Shifts1  Nurse1  X_Assigned_Day1_Shifts1_Nurse1                  0.0\n1  Day1  Shifts1  Nurse2  X_Assigned_Day1_Shifts1_Nurse2                  0.0\n2  Day1  Shifts1  Nurse3  X_Assigned_Day1_Shifts1_Nurse3                  1.0\n3  Day1  Shifts1  Nurse4  X_Assigned_Day1_Shifts1_Nurse4                  0.0\n4  Day1  Shifts2  Nurse1  X_Assigned_Day1_Shifts2_Nurse1                  1.0"
                    },
                    "execution_count": 18,
                    "metadata": {},
                    "output_type": "execute_result"
                }
            ],
            "source": "solution = extract_solution(Nurse_Shift, extract_dvar_names= ['X_Assigned'] ,drop=False)\nsolution.head()"
        },
        {
            "cell_type": "code",
            "execution_count": 19,
            "metadata": {},
            "outputs": [
                {
                    "data": {
                        "text/html": "<div>\n<style scoped>\n    .dataframe tbody tr th:only-of-type {\n        vertical-align: middle;\n    }\n\n    .dataframe tbody tr th {\n        vertical-align: top;\n    }\n\n    .dataframe thead th {\n        text-align: right;\n    }\n</style>\n<table border=\"1\" class=\"dataframe\">\n  <thead>\n    <tr style=\"text-align: right;\">\n      <th></th>\n      <th>DayID</th>\n      <th>ShiftsID</th>\n      <th>NurseID</th>\n      <th>X_Assigned</th>\n      <th>X_Assigned_Solution</th>\n    </tr>\n  </thead>\n  <tbody>\n    <tr>\n      <th>2</th>\n      <td>Day1</td>\n      <td>Shifts1</td>\n      <td>Nurse3</td>\n      <td>X_Assigned_Day1_Shifts1_Nurse3</td>\n      <td>1.0</td>\n    </tr>\n    <tr>\n      <th>4</th>\n      <td>Day1</td>\n      <td>Shifts2</td>\n      <td>Nurse1</td>\n      <td>X_Assigned_Day1_Shifts2_Nurse1</td>\n      <td>1.0</td>\n    </tr>\n    <tr>\n      <th>11</th>\n      <td>Day1</td>\n      <td>Shifts3</td>\n      <td>Nurse4</td>\n      <td>X_Assigned_Day1_Shifts3_Nurse4</td>\n      <td>1.0</td>\n    </tr>\n    <tr>\n      <th>14</th>\n      <td>Day2</td>\n      <td>Shifts1</td>\n      <td>Nurse3</td>\n      <td>X_Assigned_Day2_Shifts1_Nurse3</td>\n      <td>1.0</td>\n    </tr>\n    <tr>\n      <th>17</th>\n      <td>Day2</td>\n      <td>Shifts2</td>\n      <td>Nurse2</td>\n      <td>X_Assigned_Day2_Shifts2_Nurse2</td>\n      <td>1.0</td>\n    </tr>\n    <tr>\n      <th>20</th>\n      <td>Day2</td>\n      <td>Shifts3</td>\n      <td>Nurse1</td>\n      <td>X_Assigned_Day2_Shifts3_Nurse1</td>\n      <td>1.0</td>\n    </tr>\n    <tr>\n      <th>25</th>\n      <td>Day3</td>\n      <td>Shifts1</td>\n      <td>Nurse2</td>\n      <td>X_Assigned_Day3_Shifts1_Nurse2</td>\n      <td>1.0</td>\n    </tr>\n    <tr>\n      <th>30</th>\n      <td>Day3</td>\n      <td>Shifts2</td>\n      <td>Nurse3</td>\n      <td>X_Assigned_Day3_Shifts2_Nurse3</td>\n      <td>1.0</td>\n    </tr>\n    <tr>\n      <th>35</th>\n      <td>Day3</td>\n      <td>Shifts3</td>\n      <td>Nurse4</td>\n      <td>X_Assigned_Day3_Shifts3_Nurse4</td>\n      <td>1.0</td>\n    </tr>\n  </tbody>\n</table>\n</div>",
                        "text/plain": "   DayID ShiftsID NurseID                      X_Assigned  X_Assigned_Solution\n2   Day1  Shifts1  Nurse3  X_Assigned_Day1_Shifts1_Nurse3                  1.0\n4   Day1  Shifts2  Nurse1  X_Assigned_Day1_Shifts2_Nurse1                  1.0\n11  Day1  Shifts3  Nurse4  X_Assigned_Day1_Shifts3_Nurse4                  1.0\n14  Day2  Shifts1  Nurse3  X_Assigned_Day2_Shifts1_Nurse3                  1.0\n17  Day2  Shifts2  Nurse2  X_Assigned_Day2_Shifts2_Nurse2                  1.0\n20  Day2  Shifts3  Nurse1  X_Assigned_Day2_Shifts3_Nurse1                  1.0\n25  Day3  Shifts1  Nurse2  X_Assigned_Day3_Shifts1_Nurse2                  1.0\n30  Day3  Shifts2  Nurse3  X_Assigned_Day3_Shifts2_Nurse3                  1.0\n35  Day3  Shifts3  Nurse4  X_Assigned_Day3_Shifts3_Nurse4                  1.0"
                    },
                    "execution_count": 19,
                    "metadata": {},
                    "output_type": "execute_result"
                }
            ],
            "source": "solution = solution[solution[\"X_Assigned_Solution\"]>0.1]\nsolution"
        },
        {
            "cell_type": "code",
            "execution_count": 22,
            "metadata": {},
            "outputs": [
                {
                    "data": {
                        "text/html": "<div>\n<style scoped>\n    .dataframe tbody tr th:only-of-type {\n        vertical-align: middle;\n    }\n\n    .dataframe tbody tr th {\n        vertical-align: top;\n    }\n\n    .dataframe thead th {\n        text-align: right;\n    }\n</style>\n<table border=\"1\" class=\"dataframe\">\n  <thead>\n    <tr style=\"text-align: right;\">\n      <th>ShiftsID</th>\n      <th>Shifts1</th>\n      <th>Shifts2</th>\n      <th>Shifts3</th>\n    </tr>\n    <tr>\n      <th>DayID</th>\n      <th></th>\n      <th></th>\n      <th></th>\n    </tr>\n  </thead>\n  <tbody>\n    <tr>\n      <th>Day1</th>\n      <td>Nurse3</td>\n      <td>Nurse1</td>\n      <td>Nurse4</td>\n    </tr>\n    <tr>\n      <th>Day2</th>\n      <td>Nurse3</td>\n      <td>Nurse2</td>\n      <td>Nurse1</td>\n    </tr>\n    <tr>\n      <th>Day3</th>\n      <td>Nurse2</td>\n      <td>Nurse3</td>\n      <td>Nurse4</td>\n    </tr>\n  </tbody>\n</table>\n</div>",
                        "text/plain": "ShiftsID Shifts1 Shifts2 Shifts3\nDayID                           \nDay1      Nurse3  Nurse1  Nurse4\nDay2      Nurse3  Nurse2  Nurse1\nDay3      Nurse2  Nurse3  Nurse4"
                    },
                    "execution_count": 22,
                    "metadata": {},
                    "output_type": "execute_result"
                }
            ],
            "source": "Schedule = solution.pivot(index = \"DayID\", columns = \"ShiftsID\", values = \"NurseID\")\nSchedule"
        },
        {
            "cell_type": "markdown",
            "metadata": {},
            "source": "# Save into scenario manager"
        },
        {
            "cell_type": "code",
            "execution_count": 25,
            "metadata": {},
            "outputs": [],
            "source": "sm = ScenarioManager(model_name=MODEL_NAME, scenario_name=SCENARIO_NAME, project =project )\n\n\nInputTables={}\n\nInputTables['Nurse']=Nurse\nInputTables['Days']=Days\nInputTables['Shifts']=Shifts\n\nsm.inputs=InputTables\n\n\n\nOutputTables={}\nOutputTables['Schedule']=Schedule\n\nsm.outputs=OutputTables\n\nsm.write_data_into_scenario_s(model_name=MODEL_NAME, scenario_name=SCENARIO_NAME, inputs=InputTables, outputs=OutputTables)\n"
        }
    ],
    "metadata": {
        "interpreter": {
            "hash": "fabd3858ac0dfe34c7f51cfba2184e3fe909a3bb3f004f23d94d0c9ec7a69945"
        },
        "kernelspec": {
            "display_name": "Python 3.9",
            "language": "python",
            "name": "python3"
        },
        "language_info": {
            "codemirror_mode": {
                "name": "ipython",
                "version": 3
            },
            "file_extension": ".py",
            "mimetype": "text/x-python",
            "name": "python",
            "nbconvert_exporter": "python",
            "pygments_lexer": "ipython3",
            "version": "3.9.7"
        }
    },
    "nbformat": 4,
    "nbformat_minor": 2
}
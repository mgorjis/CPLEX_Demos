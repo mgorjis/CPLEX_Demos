{
    "cells": [
        {
            "cell_type": "code",
            "execution_count": 54,
            "metadata": {},
            "outputs": [],
            "source": "# The code was removed by Watson Studio for sharing."
        },
        {
            "cell_type": "markdown",
            "metadata": {},
            "source": "Company X has two plants, Plant1 and Plant2, which can produce Product1 and Product2\n\nThe cost of producing Product1 in Plant1 and Plant2 are 2 and 3 dollars, respectively\n\nThe cost of producing Product2 in Plant1 and Plant2 are 4 and 5 dollars, respectively\n\nThere are two customers, Customer1 and Customer2\n\nCustomer1 needs 200 of Product1 and 300 of Product2\n\nCustomer2 needs 500 of Product1 and 400 of Product2\n\nCost of transportation of Product1 from Plant1 to Customer1 and Customer2 is 0.2 and 0.3 dollars.\n\nCost of transportation of Product2 from Plant2 to Customer1 and Customer2 is 0.5 and 0.4 dollars.\n\nWhat is the best production and transportation plan that minimizes the costs?"
        },
        {
            "cell_type": "code",
            "execution_count": 2,
            "metadata": {},
            "outputs": [
                {
                    "name": "stdout",
                    "output_type": "stream",
                    "text": "Collecting dse_do_utils\n  Downloading dse_do_utils-0.5.4.4-py3-none-any.whl (83 kB)\n\u001b[K     |\u2588\u2588\u2588\u2588\u2588\u2588\u2588\u2588\u2588\u2588\u2588\u2588\u2588\u2588\u2588\u2588\u2588\u2588\u2588\u2588\u2588\u2588\u2588\u2588\u2588\u2588\u2588\u2588\u2588\u2588\u2588\u2588| 83 kB 2.4 MB/s  eta 0:00:01\n\u001b[?25hInstalling collected packages: dse-do-utils\nSuccessfully installed dse-do-utils-0.5.4.4\n"
                }
            ],
            "source": "!pip install dse_do_utils"
        },
        {
            "cell_type": "code",
            "execution_count": 3,
            "metadata": {},
            "outputs": [
                {
                    "data": {
                        "text/plain": "'2.22.213'"
                    },
                    "execution_count": 3,
                    "metadata": {},
                    "output_type": "execute_result"
                }
            ],
            "source": "from dse_do_utils import DataManager, OptimizationEngine,ScenarioManager\nfrom docplex.mp.model import Model\nimport pandas as pd\npd.set_option('display.max_colwidth', None)\npd.set_option('display.max_rows', None)\n\nfrom docplex import __version__\n__version__"
        },
        {
            "cell_type": "code",
            "execution_count": 4,
            "metadata": {},
            "outputs": [],
            "source": "class CplexSum():\n    \"\"\"Function class that adds a series of dvars into a cplex sum expression.\n    To be used as a custom aggregation in a groupby.\n    Usage:\n        df2 = df1.groupby(['a']).agg({'xDVar':CplexSum(engine.mdl)}).rename(columns={'xDVar':'expr'})\n\n    Sums the dvars in the 'xDVar' column into an expression\n    \"\"\"\n    def __init__(self, mdl):\n        self.mdl = mdl\n    def __call__(self, dvar_series):\n        return self.mdl.sum(dvar_series)\n\n\ndef extract_solution(df, extract_dvar_names=None, drop_column_names=None, drop:bool=True):\n    df = df.copy()\n    \"\"\"Generalized routine to extract a solution value. \n    Can remove the dvar column from the df to be able to have a clean df for export into scenario.\"\"\"\n    if extract_dvar_names is not None:\n        for xDVarName in extract_dvar_names:\n            if xDVarName in df.columns:\n                df[f'{xDVarName}_Solution'] = [dvar.solution_value for dvar in df[xDVarName]]\n                if drop:\n                    df = df.drop([xDVarName], axis = 1)\n    if drop and drop_column_names is not None:\n        for column in drop_column_names:\n            if column in df.columns:\n                df = df.drop([column], axis = 1)\n    return df  \n"
        },
        {
            "cell_type": "markdown",
            "metadata": {},
            "source": "Define Data Models"
        },
        {
            "cell_type": "code",
            "execution_count": 17,
            "metadata": {},
            "outputs": [],
            "source": "Plants = pd.DataFrame([\"Plant1\",\"Plant2\"], columns = [\"PlantName\"])\n\nCustomers = pd.DataFrame([\"Customer1\",\"Customer2\"], columns = [\"CustomerName\"])\n\nProducts = pd.DataFrame([\"Product1\",\"Product2\"], columns = [\"ProductName\"])\n\nProductionCosts = pd.DataFrame([[\"Plant1\",\"Product1\",2],\n                                [\"Plant2\",\"Product1\",3],\n                                [\"Plant1\",\"Product2\",4],\n                                [\"Plant2\",\"Product2\",5]], columns = [\"PlantName\",\"ProductName\",\"ProductionCost\"]) \n\n\nDemand = pd.DataFrame([[\"Customer1\",\"Product1\",200],\n                       [\"Customer1\",\"Product2\",300],\n                       [\"Customer2\",\"Product1\",500],\n                       [\"Customer2\",\"Product2\",400]], columns = [\"CustomerName\",\"ProductName\",\"Demand\"])\n\nTransportationCosts = pd.DataFrame([[\"Plant1\",\"Customer1\",\"Product1\",0.2],\n                                    [\"Plant1\",\"Customer1\",\"Product2\",0.5],\n                                    [\"Plant1\",\"Customer2\",\"Product1\",0.3],\n                                    [\"Plant1\",\"Customer2\",\"Product2\",0.4],\n                                    [\"Plant2\",\"Customer1\",\"Product1\",0.25],\n                                    [\"Plant2\",\"Customer1\",\"Product2\",0.2],\n                                    [\"Plant2\",\"Customer2\",\"Product1\",0.35],\n                                    [\"Plant2\",\"Customer2\",\"Product2\",0.3]], columns = [\"PlantName\",\"CustomerName\",\"ProductName\",\"TransportationCost\"]) \n\nProductionCapacity = pd.DataFrame([[\"Plant1\",\"Product1\",500],\n                                   [\"Plant2\",\"Product1\",400],\n                                   [\"Plant1\",\"Product2\",300],\n                                   [\"Plant2\",\"Product2\",600]], columns = [\"PlantName\",\"ProductName\",\"Capacity\"]) "
        },
        {
            "cell_type": "markdown",
            "metadata": {},
            "source": "## Specify the primary key, convert primary key column to index"
        },
        {
            "cell_type": "code",
            "execution_count": 18,
            "metadata": {},
            "outputs": [],
            "source": "Plants = Plants.set_index([\"PlantName\"], verify_integrity=True)\n\nCustomers = Customers.set_index([\"CustomerName\"], verify_integrity=True)\n\nProducts = Products.set_index([\"ProductName\"], verify_integrity=True)\n\nProductionCosts= ProductionCosts.set_index([\"PlantName\",\"ProductName\"], verify_integrity=True)\n\nDemand= Demand.set_index([\"CustomerName\",\"ProductName\"], verify_integrity=True)\n\nTransportationCosts= TransportationCosts.set_index([\"PlantName\",\"CustomerName\",\"ProductName\"], verify_integrity=True)\n\nProductionCapacity= ProductionCapacity.set_index([\"PlantName\",\"ProductName\"], verify_integrity=True)"
        },
        {
            "cell_type": "markdown",
            "metadata": {},
            "source": "## Save the data into scenario manager"
        },
        {
            "cell_type": "code",
            "execution_count": 24,
            "metadata": {},
            "outputs": [],
            "source": "MODEL_NAME = 'SupplyChain'\nSCENARIO_NAME = 'Base_Scenario' \nmdl = Model(MODEL_NAME)"
        },
        {
            "cell_type": "code",
            "execution_count": 25,
            "metadata": {},
            "outputs": [],
            "source": ""
        },
        {
            "cell_type": "code",
            "execution_count": 26,
            "metadata": {},
            "outputs": [
                {
                    "data": {
                        "text/html": "<div>\n<style scoped>\n    .dataframe tbody tr th:only-of-type {\n        vertical-align: middle;\n    }\n\n    .dataframe tbody tr th {\n        vertical-align: top;\n    }\n\n    .dataframe thead th {\n        text-align: right;\n    }\n</style>\n<table border=\"1\" class=\"dataframe\">\n  <thead>\n    <tr style=\"text-align: right;\">\n      <th></th>\n    </tr>\n    <tr>\n      <th>PlantName</th>\n    </tr>\n  </thead>\n  <tbody>\n    <tr>\n      <th>Plant1</th>\n    </tr>\n    <tr>\n      <th>Plant2</th>\n    </tr>\n  </tbody>\n</table>\n</div>",
                        "text/plain": "Empty DataFrame\nColumns: []\nIndex: [Plant1, Plant2]"
                    },
                    "metadata": {},
                    "output_type": "display_data"
                },
                {
                    "data": {
                        "text/html": "<div>\n<style scoped>\n    .dataframe tbody tr th:only-of-type {\n        vertical-align: middle;\n    }\n\n    .dataframe tbody tr th {\n        vertical-align: top;\n    }\n\n    .dataframe thead th {\n        text-align: right;\n    }\n</style>\n<table border=\"1\" class=\"dataframe\">\n  <thead>\n    <tr style=\"text-align: right;\">\n      <th></th>\n    </tr>\n    <tr>\n      <th>CustomerName</th>\n    </tr>\n  </thead>\n  <tbody>\n    <tr>\n      <th>Customer1</th>\n    </tr>\n    <tr>\n      <th>Customer2</th>\n    </tr>\n  </tbody>\n</table>\n</div>",
                        "text/plain": "Empty DataFrame\nColumns: []\nIndex: [Customer1, Customer2]"
                    },
                    "metadata": {},
                    "output_type": "display_data"
                },
                {
                    "data": {
                        "text/html": "<div>\n<style scoped>\n    .dataframe tbody tr th:only-of-type {\n        vertical-align: middle;\n    }\n\n    .dataframe tbody tr th {\n        vertical-align: top;\n    }\n\n    .dataframe thead th {\n        text-align: right;\n    }\n</style>\n<table border=\"1\" class=\"dataframe\">\n  <thead>\n    <tr style=\"text-align: right;\">\n      <th></th>\n    </tr>\n    <tr>\n      <th>ProductName</th>\n    </tr>\n  </thead>\n  <tbody>\n    <tr>\n      <th>Product1</th>\n    </tr>\n    <tr>\n      <th>Product2</th>\n    </tr>\n  </tbody>\n</table>\n</div>",
                        "text/plain": "Empty DataFrame\nColumns: []\nIndex: [Product1, Product2]"
                    },
                    "metadata": {},
                    "output_type": "display_data"
                },
                {
                    "data": {
                        "text/html": "<div>\n<style scoped>\n    .dataframe tbody tr th:only-of-type {\n        vertical-align: middle;\n    }\n\n    .dataframe tbody tr th {\n        vertical-align: top;\n    }\n\n    .dataframe thead th {\n        text-align: right;\n    }\n</style>\n<table border=\"1\" class=\"dataframe\">\n  <thead>\n    <tr style=\"text-align: right;\">\n      <th></th>\n      <th></th>\n      <th>ProductionCost</th>\n    </tr>\n    <tr>\n      <th>PlantName</th>\n      <th>ProductName</th>\n      <th></th>\n    </tr>\n  </thead>\n  <tbody>\n    <tr>\n      <th>Plant1</th>\n      <th>Product1</th>\n      <td>2</td>\n    </tr>\n    <tr>\n      <th>Plant2</th>\n      <th>Product1</th>\n      <td>3</td>\n    </tr>\n    <tr>\n      <th>Plant1</th>\n      <th>Product2</th>\n      <td>4</td>\n    </tr>\n    <tr>\n      <th>Plant2</th>\n      <th>Product2</th>\n      <td>5</td>\n    </tr>\n  </tbody>\n</table>\n</div>",
                        "text/plain": "                       ProductionCost\nPlantName ProductName                \nPlant1    Product1                  2\nPlant2    Product1                  3\nPlant1    Product2                  4\nPlant2    Product2                  5"
                    },
                    "metadata": {},
                    "output_type": "display_data"
                },
                {
                    "data": {
                        "text/html": "<div>\n<style scoped>\n    .dataframe tbody tr th:only-of-type {\n        vertical-align: middle;\n    }\n\n    .dataframe tbody tr th {\n        vertical-align: top;\n    }\n\n    .dataframe thead th {\n        text-align: right;\n    }\n</style>\n<table border=\"1\" class=\"dataframe\">\n  <thead>\n    <tr style=\"text-align: right;\">\n      <th></th>\n      <th></th>\n      <th>Demand</th>\n    </tr>\n    <tr>\n      <th>CustomerName</th>\n      <th>ProductName</th>\n      <th></th>\n    </tr>\n  </thead>\n  <tbody>\n    <tr>\n      <th rowspan=\"2\" valign=\"top\">Customer1</th>\n      <th>Product1</th>\n      <td>200</td>\n    </tr>\n    <tr>\n      <th>Product2</th>\n      <td>300</td>\n    </tr>\n    <tr>\n      <th rowspan=\"2\" valign=\"top\">Customer2</th>\n      <th>Product1</th>\n      <td>500</td>\n    </tr>\n    <tr>\n      <th>Product2</th>\n      <td>400</td>\n    </tr>\n  </tbody>\n</table>\n</div>",
                        "text/plain": "                          Demand\nCustomerName ProductName        \nCustomer1    Product1        200\n             Product2        300\nCustomer2    Product1        500\n             Product2        400"
                    },
                    "metadata": {},
                    "output_type": "display_data"
                },
                {
                    "data": {
                        "text/html": "<div>\n<style scoped>\n    .dataframe tbody tr th:only-of-type {\n        vertical-align: middle;\n    }\n\n    .dataframe tbody tr th {\n        vertical-align: top;\n    }\n\n    .dataframe thead th {\n        text-align: right;\n    }\n</style>\n<table border=\"1\" class=\"dataframe\">\n  <thead>\n    <tr style=\"text-align: right;\">\n      <th></th>\n      <th></th>\n      <th></th>\n      <th>TransportationCost</th>\n    </tr>\n    <tr>\n      <th>PlantName</th>\n      <th>CustomerName</th>\n      <th>ProductName</th>\n      <th></th>\n    </tr>\n  </thead>\n  <tbody>\n    <tr>\n      <th rowspan=\"4\" valign=\"top\">Plant1</th>\n      <th rowspan=\"2\" valign=\"top\">Customer1</th>\n      <th>Product1</th>\n      <td>0.20</td>\n    </tr>\n    <tr>\n      <th>Product2</th>\n      <td>0.50</td>\n    </tr>\n    <tr>\n      <th rowspan=\"2\" valign=\"top\">Customer2</th>\n      <th>Product1</th>\n      <td>0.30</td>\n    </tr>\n    <tr>\n      <th>Product2</th>\n      <td>0.40</td>\n    </tr>\n    <tr>\n      <th rowspan=\"4\" valign=\"top\">Plant2</th>\n      <th rowspan=\"2\" valign=\"top\">Customer1</th>\n      <th>Product1</th>\n      <td>0.25</td>\n    </tr>\n    <tr>\n      <th>Product2</th>\n      <td>0.20</td>\n    </tr>\n    <tr>\n      <th rowspan=\"2\" valign=\"top\">Customer2</th>\n      <th>Product1</th>\n      <td>0.35</td>\n    </tr>\n    <tr>\n      <th>Product2</th>\n      <td>0.30</td>\n    </tr>\n  </tbody>\n</table>\n</div>",
                        "text/plain": "                                    TransportationCost\nPlantName CustomerName ProductName                    \nPlant1    Customer1    Product1                   0.20\n                       Product2                   0.50\n          Customer2    Product1                   0.30\n                       Product2                   0.40\nPlant2    Customer1    Product1                   0.25\n                       Product2                   0.20\n          Customer2    Product1                   0.35\n                       Product2                   0.30"
                    },
                    "metadata": {},
                    "output_type": "display_data"
                },
                {
                    "data": {
                        "text/html": "<div>\n<style scoped>\n    .dataframe tbody tr th:only-of-type {\n        vertical-align: middle;\n    }\n\n    .dataframe tbody tr th {\n        vertical-align: top;\n    }\n\n    .dataframe thead th {\n        text-align: right;\n    }\n</style>\n<table border=\"1\" class=\"dataframe\">\n  <thead>\n    <tr style=\"text-align: right;\">\n      <th></th>\n      <th></th>\n      <th>Capacity</th>\n    </tr>\n    <tr>\n      <th>PlantName</th>\n      <th>ProductName</th>\n      <th></th>\n    </tr>\n  </thead>\n  <tbody>\n    <tr>\n      <th>Plant1</th>\n      <th>Product1</th>\n      <td>500</td>\n    </tr>\n    <tr>\n      <th>Plant2</th>\n      <th>Product1</th>\n      <td>400</td>\n    </tr>\n    <tr>\n      <th>Plant1</th>\n      <th>Product2</th>\n      <td>300</td>\n    </tr>\n    <tr>\n      <th>Plant2</th>\n      <th>Product2</th>\n      <td>600</td>\n    </tr>\n  </tbody>\n</table>\n</div>",
                        "text/plain": "                       Capacity\nPlantName ProductName          \nPlant1    Product1          500\nPlant2    Product1          400\nPlant1    Product2          300\nPlant2    Product2          600"
                    },
                    "metadata": {},
                    "output_type": "display_data"
                }
            ],
            "source": "for i in InputTables.values():\n    display(i)"
        },
        {
            "cell_type": "markdown",
            "metadata": {},
            "source": "## Define Decision Variables"
        },
        {
            "cell_type": "markdown",
            "metadata": {},
            "source": "What are the production amount of Product1 and Product2 in either Plant1 or Plant2\n\nHow much of Product1 or Product2 should be sent from Plant1 and Plant2 to Customer1 and Customer2 "
        },
        {
            "cell_type": "code",
            "execution_count": 27,
            "metadata": {},
            "outputs": [],
            "source": "def continuous_var_series(df, mdl,**kargs):\n    return pd.Series(mdl.continuous_var_list(df.index, **kargs), index = df.index)"
        },
        {
            "cell_type": "code",
            "execution_count": 28,
            "metadata": {},
            "outputs": [
                {
                    "data": {
                        "text/html": "<div>\n<style scoped>\n    .dataframe tbody tr th:only-of-type {\n        vertical-align: middle;\n    }\n\n    .dataframe tbody tr th {\n        vertical-align: top;\n    }\n\n    .dataframe thead th {\n        text-align: right;\n    }\n</style>\n<table border=\"1\" class=\"dataframe\">\n  <thead>\n    <tr style=\"text-align: right;\">\n      <th></th>\n      <th></th>\n      <th>X_production</th>\n    </tr>\n    <tr>\n      <th>ProductName</th>\n      <th>PlantName</th>\n      <th></th>\n    </tr>\n  </thead>\n  <tbody>\n    <tr>\n      <th rowspan=\"2\" valign=\"top\">Product1</th>\n      <th>Plant1</th>\n      <td>X_production_Product1_Plant1</td>\n    </tr>\n    <tr>\n      <th>Plant2</th>\n      <td>X_production_Product1_Plant2</td>\n    </tr>\n    <tr>\n      <th rowspan=\"2\" valign=\"top\">Product2</th>\n      <th>Plant1</th>\n      <td>X_production_Product2_Plant1</td>\n    </tr>\n    <tr>\n      <th>Plant2</th>\n      <td>X_production_Product2_Plant2</td>\n    </tr>\n  </tbody>\n</table>\n</div>",
                        "text/plain": "                                       X_production\nProductName PlantName                              \nProduct1    Plant1     X_production_Product1_Plant1\n            Plant2     X_production_Product1_Plant2\nProduct2    Plant1     X_production_Product2_Plant1\n            Plant2     X_production_Product2_Plant2"
                    },
                    "execution_count": 28,
                    "metadata": {},
                    "output_type": "execute_result"
                }
            ],
            "source": "ProductionPlan = pd.merge(Products.reset_index(drop=False),Plants.reset_index(drop=False),how=\"cross\").set_index([\"ProductName\",\"PlantName\"])\nProductionPlan[\"X_production\"]= continuous_var_series(ProductionPlan, mdl, name=\"X_production\", lb = 0)\nProductionPlan"
        },
        {
            "cell_type": "code",
            "execution_count": 29,
            "metadata": {},
            "outputs": [
                {
                    "data": {
                        "text/html": "<div>\n<style scoped>\n    .dataframe tbody tr th:only-of-type {\n        vertical-align: middle;\n    }\n\n    .dataframe tbody tr th {\n        vertical-align: top;\n    }\n\n    .dataframe thead th {\n        text-align: right;\n    }\n</style>\n<table border=\"1\" class=\"dataframe\">\n  <thead>\n    <tr style=\"text-align: right;\">\n      <th></th>\n      <th></th>\n      <th></th>\n      <th>X_transportation</th>\n    </tr>\n    <tr>\n      <th>ProductName</th>\n      <th>PlantName</th>\n      <th>CustomerName</th>\n      <th></th>\n    </tr>\n  </thead>\n  <tbody>\n    <tr>\n      <th rowspan=\"4\" valign=\"top\">Product1</th>\n      <th rowspan=\"2\" valign=\"top\">Plant1</th>\n      <th>Customer1</th>\n      <td>X_transportation_Product1_Plant1_Customer1</td>\n    </tr>\n    <tr>\n      <th>Customer2</th>\n      <td>X_transportation_Product1_Plant1_Customer2</td>\n    </tr>\n    <tr>\n      <th rowspan=\"2\" valign=\"top\">Plant2</th>\n      <th>Customer1</th>\n      <td>X_transportation_Product1_Plant2_Customer1</td>\n    </tr>\n    <tr>\n      <th>Customer2</th>\n      <td>X_transportation_Product1_Plant2_Customer2</td>\n    </tr>\n    <tr>\n      <th rowspan=\"4\" valign=\"top\">Product2</th>\n      <th rowspan=\"2\" valign=\"top\">Plant1</th>\n      <th>Customer1</th>\n      <td>X_transportation_Product2_Plant1_Customer1</td>\n    </tr>\n    <tr>\n      <th>Customer2</th>\n      <td>X_transportation_Product2_Plant1_Customer2</td>\n    </tr>\n    <tr>\n      <th rowspan=\"2\" valign=\"top\">Plant2</th>\n      <th>Customer1</th>\n      <td>X_transportation_Product2_Plant2_Customer1</td>\n    </tr>\n    <tr>\n      <th>Customer2</th>\n      <td>X_transportation_Product2_Plant2_Customer2</td>\n    </tr>\n  </tbody>\n</table>\n</div>",
                        "text/plain": "                                                              X_transportation\nProductName PlantName CustomerName                                            \nProduct1    Plant1    Customer1     X_transportation_Product1_Plant1_Customer1\n                      Customer2     X_transportation_Product1_Plant1_Customer2\n            Plant2    Customer1     X_transportation_Product1_Plant2_Customer1\n                      Customer2     X_transportation_Product1_Plant2_Customer2\nProduct2    Plant1    Customer1     X_transportation_Product2_Plant1_Customer1\n                      Customer2     X_transportation_Product2_Plant1_Customer2\n            Plant2    Customer1     X_transportation_Product2_Plant2_Customer1\n                      Customer2     X_transportation_Product2_Plant2_Customer2"
                    },
                    "execution_count": 29,
                    "metadata": {},
                    "output_type": "execute_result"
                }
            ],
            "source": "TransportationPlan = pd.merge(Products.reset_index(drop=False),Plants.reset_index(drop=False),how=\"cross\").merge(Customers.reset_index(drop=False),how=\"cross\").set_index([\"ProductName\",\"PlantName\",\"CustomerName\"])\nTransportationPlan[\"X_transportation\"]= continuous_var_series(TransportationPlan, mdl, name=\"X_transportation\", lb = 0)\nTransportationPlan"
        },
        {
            "cell_type": "markdown",
            "metadata": {},
            "source": "## Define Constraints"
        },
        {
            "cell_type": "markdown",
            "metadata": {},
            "source": "### We can't generate more than the plant capacity"
        },
        {
            "cell_type": "code",
            "execution_count": 30,
            "metadata": {},
            "outputs": [
                {
                    "data": {
                        "text/html": "<div>\n<style scoped>\n    .dataframe tbody tr th:only-of-type {\n        vertical-align: middle;\n    }\n\n    .dataframe tbody tr th {\n        vertical-align: top;\n    }\n\n    .dataframe thead th {\n        text-align: right;\n    }\n</style>\n<table border=\"1\" class=\"dataframe\">\n  <thead>\n    <tr style=\"text-align: right;\">\n      <th></th>\n      <th>ProductName</th>\n      <th>PlantName</th>\n      <th>X_production</th>\n      <th>Capacity</th>\n    </tr>\n  </thead>\n  <tbody>\n    <tr>\n      <th>0</th>\n      <td>Product1</td>\n      <td>Plant1</td>\n      <td>X_production_Product1_Plant1</td>\n      <td>500</td>\n    </tr>\n    <tr>\n      <th>1</th>\n      <td>Product1</td>\n      <td>Plant2</td>\n      <td>X_production_Product1_Plant2</td>\n      <td>400</td>\n    </tr>\n    <tr>\n      <th>2</th>\n      <td>Product2</td>\n      <td>Plant1</td>\n      <td>X_production_Product2_Plant1</td>\n      <td>300</td>\n    </tr>\n    <tr>\n      <th>3</th>\n      <td>Product2</td>\n      <td>Plant2</td>\n      <td>X_production_Product2_Plant2</td>\n      <td>600</td>\n    </tr>\n  </tbody>\n</table>\n</div>",
                        "text/plain": "  ProductName PlantName                  X_production  Capacity\n0    Product1    Plant1  X_production_Product1_Plant1       500\n1    Product1    Plant2  X_production_Product1_Plant2       400\n2    Product2    Plant1  X_production_Product2_Plant1       300\n3    Product2    Plant2  X_production_Product2_Plant2       600"
                    },
                    "execution_count": 30,
                    "metadata": {},
                    "output_type": "execute_result"
                }
            ],
            "source": "Plant_Product_Capacity = pd.merge(ProductionPlan.reset_index(drop=False), ProductionCapacity, on = [\"ProductName\",\"PlantName\"])\nPlant_Product_Capacity"
        },
        {
            "cell_type": "code",
            "execution_count": 31,
            "metadata": {},
            "outputs": [],
            "source": "for row in Plant_Product_Capacity.itertuples():\n    mdl.add_constraint(row.X_production <= row.Capacity)"
        },
        {
            "cell_type": "code",
            "execution_count": 32,
            "metadata": {},
            "outputs": [
                {
                    "data": {
                        "text/plain": "docplex.mp.LinearConstraint[](X_production_Product2_Plant2,LE,600)"
                    },
                    "execution_count": 32,
                    "metadata": {},
                    "output_type": "execute_result"
                }
            ],
            "source": "mdl.get_constraint_by_index(3)"
        },
        {
            "cell_type": "markdown",
            "metadata": {},
            "source": "###  We must deliver at least the value of demand"
        },
        {
            "cell_type": "code",
            "execution_count": 33,
            "metadata": {},
            "outputs": [],
            "source": "Delivery = TransportationPlan.reset_index(drop = False)\nDelivery = Delivery[[\"ProductName\",\"CustomerName\",\"X_transportation\"]].groupby([\"ProductName\",\"CustomerName\"]).agg(CplexSum(mdl)).reset_index(drop = False).rename(columns = {\"X_transportation\":\"Total_Delivered\"})   "
        },
        {
            "cell_type": "code",
            "execution_count": 34,
            "metadata": {},
            "outputs": [
                {
                    "data": {
                        "text/html": "<div>\n<style scoped>\n    .dataframe tbody tr th:only-of-type {\n        vertical-align: middle;\n    }\n\n    .dataframe tbody tr th {\n        vertical-align: top;\n    }\n\n    .dataframe thead th {\n        text-align: right;\n    }\n</style>\n<table border=\"1\" class=\"dataframe\">\n  <thead>\n    <tr style=\"text-align: right;\">\n      <th></th>\n      <th>ProductName</th>\n      <th>CustomerName</th>\n      <th>Total_Delivered</th>\n      <th>Demand</th>\n    </tr>\n  </thead>\n  <tbody>\n    <tr>\n      <th>0</th>\n      <td>Product1</td>\n      <td>Customer1</td>\n      <td>X_transportation_Product1_Plant1_Customer1+X_transportation_Product1_Plant2_Customer1</td>\n      <td>200</td>\n    </tr>\n    <tr>\n      <th>1</th>\n      <td>Product1</td>\n      <td>Customer2</td>\n      <td>X_transportation_Product1_Plant1_Customer2+X_transportation_Product1_Plant2_Customer2</td>\n      <td>500</td>\n    </tr>\n    <tr>\n      <th>2</th>\n      <td>Product2</td>\n      <td>Customer1</td>\n      <td>X_transportation_Product2_Plant1_Customer1+X_transportation_Product2_Plant2_Customer1</td>\n      <td>300</td>\n    </tr>\n    <tr>\n      <th>3</th>\n      <td>Product2</td>\n      <td>Customer2</td>\n      <td>X_transportation_Product2_Plant1_Customer2+X_transportation_Product2_Plant2_Customer2</td>\n      <td>400</td>\n    </tr>\n  </tbody>\n</table>\n</div>",
                        "text/plain": "  ProductName CustomerName  \\\n0    Product1    Customer1   \n1    Product1    Customer2   \n2    Product2    Customer1   \n3    Product2    Customer2   \n\n                                                                         Total_Delivered  \\\n0  X_transportation_Product1_Plant1_Customer1+X_transportation_Product1_Plant2_Customer1   \n1  X_transportation_Product1_Plant1_Customer2+X_transportation_Product1_Plant2_Customer2   \n2  X_transportation_Product2_Plant1_Customer1+X_transportation_Product2_Plant2_Customer1   \n3  X_transportation_Product2_Plant1_Customer2+X_transportation_Product2_Plant2_Customer2   \n\n   Demand  \n0     200  \n1     500  \n2     300  \n3     400  "
                    },
                    "execution_count": 34,
                    "metadata": {},
                    "output_type": "execute_result"
                }
            ],
            "source": "Delivery = pd.merge(Delivery, Demand.reset_index(drop = False), on = [\"ProductName\",\"CustomerName\"] )\nDelivery"
        },
        {
            "cell_type": "code",
            "execution_count": 35,
            "metadata": {},
            "outputs": [],
            "source": "for row in Delivery.itertuples():\n    mdl.add_constraint(row.Total_Delivered >= row.Demand)"
        },
        {
            "cell_type": "markdown",
            "metadata": {},
            "source": "### We cannot ship more than what we produced in a plant"
        },
        {
            "cell_type": "code",
            "execution_count": 36,
            "metadata": {},
            "outputs": [
                {
                    "data": {
                        "text/html": "<div>\n<style scoped>\n    .dataframe tbody tr th:only-of-type {\n        vertical-align: middle;\n    }\n\n    .dataframe tbody tr th {\n        vertical-align: top;\n    }\n\n    .dataframe thead th {\n        text-align: right;\n    }\n</style>\n<table border=\"1\" class=\"dataframe\">\n  <thead>\n    <tr style=\"text-align: right;\">\n      <th></th>\n      <th>ProductName</th>\n      <th>PlantName</th>\n      <th>Total_Shipped</th>\n    </tr>\n  </thead>\n  <tbody>\n    <tr>\n      <th>0</th>\n      <td>Product1</td>\n      <td>Plant1</td>\n      <td>X_transportation_Product1_Plant1_Customer1+X_transportation_Product1_Plant1_Customer2</td>\n    </tr>\n    <tr>\n      <th>1</th>\n      <td>Product1</td>\n      <td>Plant2</td>\n      <td>X_transportation_Product1_Plant2_Customer1+X_transportation_Product1_Plant2_Customer2</td>\n    </tr>\n    <tr>\n      <th>2</th>\n      <td>Product2</td>\n      <td>Plant1</td>\n      <td>X_transportation_Product2_Plant1_Customer1+X_transportation_Product2_Plant1_Customer2</td>\n    </tr>\n    <tr>\n      <th>3</th>\n      <td>Product2</td>\n      <td>Plant2</td>\n      <td>X_transportation_Product2_Plant2_Customer1+X_transportation_Product2_Plant2_Customer2</td>\n    </tr>\n  </tbody>\n</table>\n</div>",
                        "text/plain": "  ProductName PlantName  \\\n0    Product1    Plant1   \n1    Product1    Plant2   \n2    Product2    Plant1   \n3    Product2    Plant2   \n\n                                                                           Total_Shipped  \n0  X_transportation_Product1_Plant1_Customer1+X_transportation_Product1_Plant1_Customer2  \n1  X_transportation_Product1_Plant2_Customer1+X_transportation_Product1_Plant2_Customer2  \n2  X_transportation_Product2_Plant1_Customer1+X_transportation_Product2_Plant1_Customer2  \n3  X_transportation_Product2_Plant2_Customer1+X_transportation_Product2_Plant2_Customer2  "
                    },
                    "execution_count": 36,
                    "metadata": {},
                    "output_type": "execute_result"
                }
            ],
            "source": "Shipment = TransportationPlan.reset_index(drop = False)\nShipment = Shipment[[\"ProductName\",\"PlantName\",\"X_transportation\"]].groupby([\"ProductName\",\"PlantName\"]).agg(CplexSum(mdl)).reset_index(drop = False).rename(columns = {\"X_transportation\":\"Total_Shipped\"})\nShipment"
        },
        {
            "cell_type": "code",
            "execution_count": 37,
            "metadata": {},
            "outputs": [
                {
                    "data": {
                        "text/html": "<div>\n<style scoped>\n    .dataframe tbody tr th:only-of-type {\n        vertical-align: middle;\n    }\n\n    .dataframe tbody tr th {\n        vertical-align: top;\n    }\n\n    .dataframe thead th {\n        text-align: right;\n    }\n</style>\n<table border=\"1\" class=\"dataframe\">\n  <thead>\n    <tr style=\"text-align: right;\">\n      <th></th>\n      <th>ProductName</th>\n      <th>PlantName</th>\n      <th>X_production</th>\n      <th>Total_Shipped</th>\n    </tr>\n  </thead>\n  <tbody>\n    <tr>\n      <th>0</th>\n      <td>Product1</td>\n      <td>Plant1</td>\n      <td>X_production_Product1_Plant1</td>\n      <td>X_transportation_Product1_Plant1_Customer1+X_transportation_Product1_Plant1_Customer2</td>\n    </tr>\n    <tr>\n      <th>1</th>\n      <td>Product1</td>\n      <td>Plant2</td>\n      <td>X_production_Product1_Plant2</td>\n      <td>X_transportation_Product1_Plant2_Customer1+X_transportation_Product1_Plant2_Customer2</td>\n    </tr>\n    <tr>\n      <th>2</th>\n      <td>Product2</td>\n      <td>Plant1</td>\n      <td>X_production_Product2_Plant1</td>\n      <td>X_transportation_Product2_Plant1_Customer1+X_transportation_Product2_Plant1_Customer2</td>\n    </tr>\n    <tr>\n      <th>3</th>\n      <td>Product2</td>\n      <td>Plant2</td>\n      <td>X_production_Product2_Plant2</td>\n      <td>X_transportation_Product2_Plant2_Customer1+X_transportation_Product2_Plant2_Customer2</td>\n    </tr>\n  </tbody>\n</table>\n</div>",
                        "text/plain": "  ProductName PlantName                  X_production  \\\n0    Product1    Plant1  X_production_Product1_Plant1   \n1    Product1    Plant2  X_production_Product1_Plant2   \n2    Product2    Plant1  X_production_Product2_Plant1   \n3    Product2    Plant2  X_production_Product2_Plant2   \n\n                                                                           Total_Shipped  \n0  X_transportation_Product1_Plant1_Customer1+X_transportation_Product1_Plant1_Customer2  \n1  X_transportation_Product1_Plant2_Customer1+X_transportation_Product1_Plant2_Customer2  \n2  X_transportation_Product2_Plant1_Customer1+X_transportation_Product2_Plant1_Customer2  \n3  X_transportation_Product2_Plant2_Customer1+X_transportation_Product2_Plant2_Customer2  "
                    },
                    "execution_count": 37,
                    "metadata": {},
                    "output_type": "execute_result"
                }
            ],
            "source": "Plant_Shipment = pd.merge(ProductionPlan.reset_index(drop= False), Shipment, on =[ \"ProductName\",\"PlantName\"])\nPlant_Shipment"
        },
        {
            "cell_type": "code",
            "execution_count": 38,
            "metadata": {},
            "outputs": [],
            "source": "for row in Plant_Shipment.itertuples():\n    mdl.add_constraint(row.Total_Shipped <= row.X_production)"
        },
        {
            "cell_type": "markdown",
            "metadata": {},
            "source": "# KPIs and Objective Function"
        },
        {
            "cell_type": "markdown",
            "metadata": {},
            "source": "## Production Cost"
        },
        {
            "cell_type": "code",
            "execution_count": 39,
            "metadata": {},
            "outputs": [
                {
                    "data": {
                        "text/html": "<div>\n<style scoped>\n    .dataframe tbody tr th:only-of-type {\n        vertical-align: middle;\n    }\n\n    .dataframe tbody tr th {\n        vertical-align: top;\n    }\n\n    .dataframe thead th {\n        text-align: right;\n    }\n</style>\n<table border=\"1\" class=\"dataframe\">\n  <thead>\n    <tr style=\"text-align: right;\">\n      <th></th>\n      <th>ProductName</th>\n      <th>PlantName</th>\n      <th>X_production</th>\n      <th>ProductionCost</th>\n    </tr>\n  </thead>\n  <tbody>\n    <tr>\n      <th>0</th>\n      <td>Product1</td>\n      <td>Plant1</td>\n      <td>X_production_Product1_Plant1</td>\n      <td>2</td>\n    </tr>\n    <tr>\n      <th>1</th>\n      <td>Product1</td>\n      <td>Plant2</td>\n      <td>X_production_Product1_Plant2</td>\n      <td>3</td>\n    </tr>\n    <tr>\n      <th>2</th>\n      <td>Product2</td>\n      <td>Plant1</td>\n      <td>X_production_Product2_Plant1</td>\n      <td>4</td>\n    </tr>\n    <tr>\n      <th>3</th>\n      <td>Product2</td>\n      <td>Plant2</td>\n      <td>X_production_Product2_Plant2</td>\n      <td>5</td>\n    </tr>\n  </tbody>\n</table>\n</div>",
                        "text/plain": "  ProductName PlantName                  X_production  ProductionCost\n0    Product1    Plant1  X_production_Product1_Plant1               2\n1    Product1    Plant2  X_production_Product1_Plant2               3\n2    Product2    Plant1  X_production_Product2_Plant1               4\n3    Product2    Plant2  X_production_Product2_Plant2               5"
                    },
                    "metadata": {},
                    "output_type": "display_data"
                },
                {
                    "data": {
                        "text/plain": "DecisionKPI(name=Total_Production_Costs,expr=2X_production_Product1_Plant1+3X_production_Product1_Plant2+4X_p..)"
                    },
                    "execution_count": 39,
                    "metadata": {},
                    "output_type": "execute_result"
                }
            ],
            "source": "TotalProductionCosts = pd.merge(ProductionPlan.reset_index(drop = False), ProductionCosts.reset_index(drop = False), on = [\"ProductName\",\"PlantName\"])\ndisplay(TotalProductionCosts)\n\nTotal_Production_Costs = mdl.sum(TotalProductionCosts.ProductionCost * TotalProductionCosts.X_production)\nmdl.add_kpi(Total_Production_Costs   , \"Total_Production_Costs\")"
        },
        {
            "cell_type": "code",
            "execution_count": 40,
            "metadata": {},
            "outputs": [
                {
                    "data": {
                        "text/html": "<div>\n<style scoped>\n    .dataframe tbody tr th:only-of-type {\n        vertical-align: middle;\n    }\n\n    .dataframe tbody tr th {\n        vertical-align: top;\n    }\n\n    .dataframe thead th {\n        text-align: right;\n    }\n</style>\n<table border=\"1\" class=\"dataframe\">\n  <thead>\n    <tr style=\"text-align: right;\">\n      <th></th>\n      <th>ProductName</th>\n      <th>PlantName</th>\n      <th>CustomerName</th>\n      <th>X_transportation</th>\n      <th>TransportationCost</th>\n    </tr>\n  </thead>\n  <tbody>\n    <tr>\n      <th>0</th>\n      <td>Product1</td>\n      <td>Plant1</td>\n      <td>Customer1</td>\n      <td>X_transportation_Product1_Plant1_Customer1</td>\n      <td>0.20</td>\n    </tr>\n    <tr>\n      <th>1</th>\n      <td>Product1</td>\n      <td>Plant1</td>\n      <td>Customer2</td>\n      <td>X_transportation_Product1_Plant1_Customer2</td>\n      <td>0.30</td>\n    </tr>\n    <tr>\n      <th>2</th>\n      <td>Product1</td>\n      <td>Plant2</td>\n      <td>Customer1</td>\n      <td>X_transportation_Product1_Plant2_Customer1</td>\n      <td>0.25</td>\n    </tr>\n    <tr>\n      <th>3</th>\n      <td>Product1</td>\n      <td>Plant2</td>\n      <td>Customer2</td>\n      <td>X_transportation_Product1_Plant2_Customer2</td>\n      <td>0.35</td>\n    </tr>\n    <tr>\n      <th>4</th>\n      <td>Product2</td>\n      <td>Plant1</td>\n      <td>Customer1</td>\n      <td>X_transportation_Product2_Plant1_Customer1</td>\n      <td>0.50</td>\n    </tr>\n    <tr>\n      <th>5</th>\n      <td>Product2</td>\n      <td>Plant1</td>\n      <td>Customer2</td>\n      <td>X_transportation_Product2_Plant1_Customer2</td>\n      <td>0.40</td>\n    </tr>\n    <tr>\n      <th>6</th>\n      <td>Product2</td>\n      <td>Plant2</td>\n      <td>Customer1</td>\n      <td>X_transportation_Product2_Plant2_Customer1</td>\n      <td>0.20</td>\n    </tr>\n    <tr>\n      <th>7</th>\n      <td>Product2</td>\n      <td>Plant2</td>\n      <td>Customer2</td>\n      <td>X_transportation_Product2_Plant2_Customer2</td>\n      <td>0.30</td>\n    </tr>\n  </tbody>\n</table>\n</div>",
                        "text/plain": "  ProductName PlantName CustomerName  \\\n0    Product1    Plant1    Customer1   \n1    Product1    Plant1    Customer2   \n2    Product1    Plant2    Customer1   \n3    Product1    Plant2    Customer2   \n4    Product2    Plant1    Customer1   \n5    Product2    Plant1    Customer2   \n6    Product2    Plant2    Customer1   \n7    Product2    Plant2    Customer2   \n\n                             X_transportation  TransportationCost  \n0  X_transportation_Product1_Plant1_Customer1                0.20  \n1  X_transportation_Product1_Plant1_Customer2                0.30  \n2  X_transportation_Product1_Plant2_Customer1                0.25  \n3  X_transportation_Product1_Plant2_Customer2                0.35  \n4  X_transportation_Product2_Plant1_Customer1                0.50  \n5  X_transportation_Product2_Plant1_Customer2                0.40  \n6  X_transportation_Product2_Plant2_Customer1                0.20  \n7  X_transportation_Product2_Plant2_Customer2                0.30  "
                    },
                    "metadata": {},
                    "output_type": "display_data"
                },
                {
                    "data": {
                        "text/plain": "DecisionKPI(name=Total_Transportation_Costs,expr=0.200X_transportation_Product1_Plant1_Customer1+0.300X_transport..)"
                    },
                    "execution_count": 40,
                    "metadata": {},
                    "output_type": "execute_result"
                }
            ],
            "source": "TotalTransportationCosts = pd.merge(TransportationPlan.reset_index(drop = False), TransportationCosts.reset_index(drop = False), on = [\"ProductName\",\"CustomerName\",\"PlantName\"])\ndisplay(TotalTransportationCosts)\n\nTotal_Transportation_Costs = mdl.sum(TotalTransportationCosts.TransportationCost * TotalTransportationCosts.X_transportation)\nmdl.add_kpi(Total_Transportation_Costs   , \"Total_Transportation_Costs\")"
        },
        {
            "cell_type": "code",
            "execution_count": 41,
            "metadata": {},
            "outputs": [
                {
                    "data": {
                        "text/plain": "DecisionKPI(name=Total_Costs,expr=2X_production_Product1_Plant1+3X_production_Product1_Plant2+4X_p..)"
                    },
                    "execution_count": 41,
                    "metadata": {},
                    "output_type": "execute_result"
                }
            ],
            "source": "Total_Costs = Total_Transportation_Costs + Total_Production_Costs\nmdl.add_kpi(Total_Costs   , \"Total_Costs\")"
        },
        {
            "cell_type": "code",
            "execution_count": 42,
            "metadata": {},
            "outputs": [
                {
                    "name": "stdout",
                    "output_type": "stream",
                    "text": "Model: SupplyChain\n - number of variables: 12\n   - binary=0, integer=0, continuous=12\n - number of constraints: 12\n   - linear=12\n - parameters: defaults\n - objective: none\n - problem type is: LP\n"
                }
            ],
            "source": "mdl.print_information()"
        },
        {
            "cell_type": "markdown",
            "metadata": {},
            "source": "# Solve"
        },
        {
            "cell_type": "code",
            "execution_count": 43,
            "metadata": {},
            "outputs": [
                {
                    "data": {
                        "text/plain": "docplex.mp.solution.SolveSolution(obj=5210,values={X_production_Product1.."
                    },
                    "execution_count": 43,
                    "metadata": {},
                    "output_type": "execute_result"
                }
            ],
            "source": "mdl.minimize(Total_Costs)\nmdl.solve()"
        },
        {
            "cell_type": "code",
            "execution_count": 44,
            "metadata": {},
            "outputs": [
                {
                    "name": "stdout",
                    "output_type": "stream",
                    "text": "* model SupplyChain solved with objective = 5210.000\n*  KPI: Total_Production_Costs     = 4800.000\n*  KPI: Total_Transportation_Costs = 410.000\n*  KPI: Total_Costs                = 5210.000\n"
                }
            ],
            "source": "mdl.report()"
        },
        {
            "cell_type": "markdown",
            "metadata": {},
            "source": "# Postprocessing"
        },
        {
            "cell_type": "code",
            "execution_count": 50,
            "metadata": {},
            "outputs": [
                {
                    "data": {
                        "text/html": "<div>\n<style scoped>\n    .dataframe tbody tr th:only-of-type {\n        vertical-align: middle;\n    }\n\n    .dataframe tbody tr th {\n        vertical-align: top;\n    }\n\n    .dataframe thead th {\n        text-align: right;\n    }\n</style>\n<table border=\"1\" class=\"dataframe\">\n  <thead>\n    <tr style=\"text-align: right;\">\n      <th></th>\n      <th>ProductName</th>\n      <th>PlantName</th>\n      <th>X_production</th>\n      <th>Capacity</th>\n      <th>X_production_Solution</th>\n    </tr>\n  </thead>\n  <tbody>\n    <tr>\n      <th>0</th>\n      <td>Product1</td>\n      <td>Plant1</td>\n      <td>X_production_Product1_Plant1</td>\n      <td>500</td>\n      <td>500.0</td>\n    </tr>\n    <tr>\n      <th>1</th>\n      <td>Product1</td>\n      <td>Plant2</td>\n      <td>X_production_Product1_Plant2</td>\n      <td>400</td>\n      <td>200.0</td>\n    </tr>\n    <tr>\n      <th>2</th>\n      <td>Product2</td>\n      <td>Plant1</td>\n      <td>X_production_Product2_Plant1</td>\n      <td>300</td>\n      <td>300.0</td>\n    </tr>\n    <tr>\n      <th>3</th>\n      <td>Product2</td>\n      <td>Plant2</td>\n      <td>X_production_Product2_Plant2</td>\n      <td>600</td>\n      <td>400.0</td>\n    </tr>\n  </tbody>\n</table>\n</div>",
                        "text/plain": "  ProductName PlantName                  X_production  Capacity  \\\n0    Product1    Plant1  X_production_Product1_Plant1       500   \n1    Product1    Plant2  X_production_Product1_Plant2       400   \n2    Product2    Plant1  X_production_Product2_Plant1       300   \n3    Product2    Plant2  X_production_Product2_Plant2       600   \n\n   X_production_Solution  \n0                  500.0  \n1                  200.0  \n2                  300.0  \n3                  400.0  "
                    },
                    "execution_count": 50,
                    "metadata": {},
                    "output_type": "execute_result"
                }
            ],
            "source": "ProductionPlan = extract_solution(Plant_Product_Capacity, extract_dvar_names= ['X_production'] ,drop=False)\nProductionPlan"
        },
        {
            "cell_type": "code",
            "execution_count": 49,
            "metadata": {},
            "outputs": [
                {
                    "data": {
                        "text/html": "<div>\n<style scoped>\n    .dataframe tbody tr th:only-of-type {\n        vertical-align: middle;\n    }\n\n    .dataframe tbody tr th {\n        vertical-align: top;\n    }\n\n    .dataframe thead th {\n        text-align: right;\n    }\n</style>\n<table border=\"1\" class=\"dataframe\">\n  <thead>\n    <tr style=\"text-align: right;\">\n      <th></th>\n      <th></th>\n      <th></th>\n      <th>X_transportation</th>\n      <th>X_transportation_Solution</th>\n    </tr>\n    <tr>\n      <th>ProductName</th>\n      <th>PlantName</th>\n      <th>CustomerName</th>\n      <th></th>\n      <th></th>\n    </tr>\n  </thead>\n  <tbody>\n    <tr>\n      <th rowspan=\"4\" valign=\"top\">Product1</th>\n      <th rowspan=\"2\" valign=\"top\">Plant1</th>\n      <th>Customer1</th>\n      <td>X_transportation_Product1_Plant1_Customer1</td>\n      <td>0.0</td>\n    </tr>\n    <tr>\n      <th>Customer2</th>\n      <td>X_transportation_Product1_Plant1_Customer2</td>\n      <td>500.0</td>\n    </tr>\n    <tr>\n      <th rowspan=\"2\" valign=\"top\">Plant2</th>\n      <th>Customer1</th>\n      <td>X_transportation_Product1_Plant2_Customer1</td>\n      <td>200.0</td>\n    </tr>\n    <tr>\n      <th>Customer2</th>\n      <td>X_transportation_Product1_Plant2_Customer2</td>\n      <td>0.0</td>\n    </tr>\n    <tr>\n      <th rowspan=\"4\" valign=\"top\">Product2</th>\n      <th rowspan=\"2\" valign=\"top\">Plant1</th>\n      <th>Customer1</th>\n      <td>X_transportation_Product2_Plant1_Customer1</td>\n      <td>0.0</td>\n    </tr>\n    <tr>\n      <th>Customer2</th>\n      <td>X_transportation_Product2_Plant1_Customer2</td>\n      <td>300.0</td>\n    </tr>\n    <tr>\n      <th rowspan=\"2\" valign=\"top\">Plant2</th>\n      <th>Customer1</th>\n      <td>X_transportation_Product2_Plant2_Customer1</td>\n      <td>300.0</td>\n    </tr>\n    <tr>\n      <th>Customer2</th>\n      <td>X_transportation_Product2_Plant2_Customer2</td>\n      <td>100.0</td>\n    </tr>\n  </tbody>\n</table>\n</div>",
                        "text/plain": "                                                              X_transportation  \\\nProductName PlantName CustomerName                                               \nProduct1    Plant1    Customer1     X_transportation_Product1_Plant1_Customer1   \n                      Customer2     X_transportation_Product1_Plant1_Customer2   \n            Plant2    Customer1     X_transportation_Product1_Plant2_Customer1   \n                      Customer2     X_transportation_Product1_Plant2_Customer2   \nProduct2    Plant1    Customer1     X_transportation_Product2_Plant1_Customer1   \n                      Customer2     X_transportation_Product2_Plant1_Customer2   \n            Plant2    Customer1     X_transportation_Product2_Plant2_Customer1   \n                      Customer2     X_transportation_Product2_Plant2_Customer2   \n\n                                    X_transportation_Solution  \nProductName PlantName CustomerName                             \nProduct1    Plant1    Customer1                           0.0  \n                      Customer2                         500.0  \n            Plant2    Customer1                         200.0  \n                      Customer2                           0.0  \nProduct2    Plant1    Customer1                           0.0  \n                      Customer2                         300.0  \n            Plant2    Customer1                         300.0  \n                      Customer2                         100.0  "
                    },
                    "execution_count": 49,
                    "metadata": {},
                    "output_type": "execute_result"
                }
            ],
            "source": "TransportationPlan = extract_solution(TransportationPlan, extract_dvar_names= ['X_transportation'] ,drop=False)\nTransportationPlan"
        },
        {
            "cell_type": "code",
            "execution_count": 45,
            "metadata": {},
            "outputs": [
                {
                    "data": {
                        "text/html": "<div>\n<style scoped>\n    .dataframe tbody tr th:only-of-type {\n        vertical-align: middle;\n    }\n\n    .dataframe tbody tr th {\n        vertical-align: top;\n    }\n\n    .dataframe thead th {\n        text-align: right;\n    }\n</style>\n<table border=\"1\" class=\"dataframe\">\n  <thead>\n    <tr style=\"text-align: right;\">\n      <th></th>\n      <th>ProductName</th>\n      <th>CustomerName</th>\n      <th>Total_Delivered</th>\n      <th>Demand</th>\n      <th>Total_Delivered_Solution</th>\n    </tr>\n  </thead>\n  <tbody>\n    <tr>\n      <th>0</th>\n      <td>Product1</td>\n      <td>Customer1</td>\n      <td>X_transportation_Product1_Plant1_Customer1+X_transportation_Product1_Plant2_Customer1</td>\n      <td>200</td>\n      <td>200.0</td>\n    </tr>\n    <tr>\n      <th>1</th>\n      <td>Product1</td>\n      <td>Customer2</td>\n      <td>X_transportation_Product1_Plant1_Customer2+X_transportation_Product1_Plant2_Customer2</td>\n      <td>500</td>\n      <td>500.0</td>\n    </tr>\n    <tr>\n      <th>2</th>\n      <td>Product2</td>\n      <td>Customer1</td>\n      <td>X_transportation_Product2_Plant1_Customer1+X_transportation_Product2_Plant2_Customer1</td>\n      <td>300</td>\n      <td>300.0</td>\n    </tr>\n    <tr>\n      <th>3</th>\n      <td>Product2</td>\n      <td>Customer2</td>\n      <td>X_transportation_Product2_Plant1_Customer2+X_transportation_Product2_Plant2_Customer2</td>\n      <td>400</td>\n      <td>400.0</td>\n    </tr>\n  </tbody>\n</table>\n</div>",
                        "text/plain": "  ProductName CustomerName  \\\n0    Product1    Customer1   \n1    Product1    Customer2   \n2    Product2    Customer1   \n3    Product2    Customer2   \n\n                                                                         Total_Delivered  \\\n0  X_transportation_Product1_Plant1_Customer1+X_transportation_Product1_Plant2_Customer1   \n1  X_transportation_Product1_Plant1_Customer2+X_transportation_Product1_Plant2_Customer2   \n2  X_transportation_Product2_Plant1_Customer1+X_transportation_Product2_Plant2_Customer1   \n3  X_transportation_Product2_Plant1_Customer2+X_transportation_Product2_Plant2_Customer2   \n\n   Demand  Total_Delivered_Solution  \n0     200                     200.0  \n1     500                     500.0  \n2     300                     300.0  \n3     400                     400.0  "
                    },
                    "execution_count": 45,
                    "metadata": {},
                    "output_type": "execute_result"
                }
            ],
            "source": "Delivery = extract_solution(Delivery, extract_dvar_names= ['Total_Delivered'] ,drop=False)\n\nDelivery"
        },
        {
            "cell_type": "markdown",
            "metadata": {},
            "source": "## save the data into watson studio optimization GUI"
        },
        {
            "cell_type": "code",
            "execution_count": 56,
            "metadata": {},
            "outputs": [],
            "source": "InputTables={}\n\nInputTables['Plants']=Plants\nInputTables['Customers']=Customers\nInputTables['Products']=Products\nInputTables['ProductionCosts']=ProductionCosts\nInputTables['Demand']=Demand\nInputTables['TransportationCosts']=TransportationCosts\nInputTables['ProductionCapacity']=ProductionCapacity\n\nsm = ScenarioManager(model_name=MODEL_NAME, scenario_name=SCENARIO_NAME, project =project )\nsm.inputs=InputTables"
        },
        {
            "cell_type": "code",
            "execution_count": 57,
            "metadata": {},
            "outputs": [],
            "source": "OutputTables={}\nOutputTables['Delivery']=Delivery\nOutputTables['TransportationPlan']=TransportationPlan\nOutputTables['ProductionPlan']=ProductionPlan\nsm.outputs=OutputTables"
        },
        {
            "cell_type": "code",
            "execution_count": 58,
            "metadata": {},
            "outputs": [],
            "source": "sm.write_data_into_scenario_s(model_name=MODEL_NAME, scenario_name=SCENARIO_NAME, inputs=InputTables, outputs=OutputTables)"
        },
        {
            "cell_type": "code",
            "execution_count": null,
            "metadata": {},
            "outputs": [],
            "source": ""
        }
    ],
    "metadata": {
        "interpreter": {
            "hash": "fabd3858ac0dfe34c7f51cfba2184e3fe909a3bb3f004f23d94d0c9ec7a69945"
        },
        "kernelspec": {
            "display_name": "Python 3.9",
            "language": "python",
            "name": "python3"
        },
        "language_info": {
            "codemirror_mode": {
                "name": "ipython",
                "version": 3
            },
            "file_extension": ".py",
            "mimetype": "text/x-python",
            "name": "python",
            "nbconvert_exporter": "python",
            "pygments_lexer": "ipython3",
            "version": "3.9.7"
        }
    },
    "nbformat": 4,
    "nbformat_minor": 2
}
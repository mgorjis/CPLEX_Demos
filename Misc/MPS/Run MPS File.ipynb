{
 "cells": [
  {
   "attachments": {},
   "cell_type": "markdown",
   "metadata": {},
   "source": [
    "## Background Information:"
   ]
  },
  {
   "attachments": {},
   "cell_type": "markdown",
   "metadata": {},
   "source": [
    "To run this notebook you will need to export model as MPS file and run this notebook, no need to learn CPLEX.\n",
    "For this example view the sources below to understand where we obtained the model, how it works, and to verify the solution.\n",
    "        Source for the model: https://www.mathworks.com/help/optim/ug/mpsread.html#d126e136576\n",
    "        This is the solution: https://miplib.zib.de/instance_details_eil33-2.html"
   ]
  },
  {
   "cell_type": "code",
   "execution_count": 1,
   "metadata": {},
   "outputs": [],
   "source": [
    "import pandas as pd"
   ]
  },
  {
   "cell_type": "code",
   "execution_count": 2,
   "metadata": {
    "id": "37b9ebb479344bfa88f453e1ca4347a5",
    "tags": []
   },
   "outputs": [],
   "source": [
    "#from ibm_watson_studio_lib import access_project_or_space\n",
    "from docplex.mp.model_reader import ModelReader\n",
    "import pandas as pd\n",
    "from pprint import pprint \n",
    "import os"
   ]
  },
  {
   "cell_type": "markdown",
   "metadata": {
    "id": "80c13b0cb2a5487384dee38991e33d39"
   },
   "source": [
    "## Read the model in CPLEX and run"
   ]
  },
  {
   "cell_type": "code",
   "execution_count": 3,
   "metadata": {
    "id": "1f0199eeb25245e48423928beb8d030c",
    "tags": []
   },
   "outputs": [],
   "source": [
    "MPS_file_path = os.getcwd() + \"/inputs/eil33-2.mps\" \n",
    "\n",
    "mdl = ModelReader.read(MPS_file_path, ignore_names=False)"
   ]
  },
  {
   "cell_type": "code",
   "execution_count": 4,
   "metadata": {
    "id": "279fc099eb8743669ed05db94db1fcbc",
    "tags": []
   },
   "outputs": [
    {
     "name": "stdout",
     "output_type": "stream",
     "text": [
      "Model: eil33-2\n",
      " - number of variables: 4516\n",
      "   - binary=4516, integer=0, continuous=0\n",
      " - number of constraints: 32\n",
      "   - linear=32\n",
      " - parameters: defaults\n",
      " - objective: minimize\n",
      " - problem type is: MILP\n",
      "Model: eil33-2\n",
      " - number of variables: 4516\n",
      "   - binary=4516, integer=0, continuous=0\n",
      " - number of constraints: 32\n",
      "   - linear=32\n",
      " - parameters: defaults\n",
      " - objective: minimize\n",
      " - problem type is: MILP\n"
     ]
    }
   ],
   "source": [
    "mdl.print_information()"
   ]
  },
  {
   "cell_type": "markdown",
   "metadata": {},
   "source": [
    "# add parameters \n",
    "https://www.ibm.com/docs/en/icos/20.1.0?topic=cplex-list-parameters"
   ]
  },
  {
   "cell_type": "code",
   "execution_count": 5,
   "metadata": {},
   "outputs": [],
   "source": [
    "mdl.parameters.threads = 2\n",
    "mdl.parameters.mip.tolerances.mipgap = 0.001\n",
    "mdl.parameters.timelimit = 300\n",
    "mdl.parameters.mip.limits.cutpasses = 0"
   ]
  },
  {
   "cell_type": "code",
   "execution_count": 6,
   "metadata": {
    "id": "d66a3ef3f88048a684024e54aa618d4e",
    "tags": []
   },
   "outputs": [
    {
     "name": "stdout",
     "output_type": "stream",
     "text": [
      "Version identifier: 22.1.1.0 | 2022-11-27 | 9160aff4d\n",
      "Version identifier: 22.1.1.0 | 2022-11-27 | 9160aff4d\n"
     ]
    },
    {
     "name": "stdout",
     "output_type": "stream",
     "text": [
      "CPXPARAM_Read_DataCheck                          1\n",
      "CPXPARAM_Read_DataCheck                          1\n"
     ]
    },
    {
     "name": "stdout",
     "output_type": "stream",
     "text": [
      "CPXPARAM_Threads                                 2\n",
      "CPXPARAM_Threads                                 2\n"
     ]
    },
    {
     "name": "stdout",
     "output_type": "stream",
     "text": [
      "CPXPARAM_TimeLimit                               300\n",
      "CPXPARAM_TimeLimit                               300\n"
     ]
    },
    {
     "name": "stdout",
     "output_type": "stream",
     "text": [
      "CPXPARAM_MIP_Tolerances_MIPGap                   0.001\n",
      "CPXPARAM_MIP_Tolerances_MIPGap                   0.001\n"
     ]
    },
    {
     "name": "stdout",
     "output_type": "stream",
     "text": [
      "Found incumbent of value 5050.240144 after 0.02 sec. (0.34 ticks)\n",
      "Found incumbent of value 5050.240144 after 0.02 sec. (0.34 ticks)\n"
     ]
    },
    {
     "name": "stdout",
     "output_type": "stream",
     "text": [
      "Found incumbent of value 1261.504923 after 0.02 sec. (0.46 ticks)\n",
      "Found incumbent of value 1261.504923 after 0.02 sec. (0.46 ticks)\n"
     ]
    },
    {
     "name": "stdout",
     "output_type": "stream",
     "text": [
      "Tried aggregator 1 time.\n",
      "Tried aggregator 1 time.\n"
     ]
    },
    {
     "name": "stdout",
     "output_type": "stream",
     "text": [
      "Reduced MIP has 32 rows, 4516 columns, and 44243 nonzeros.\n",
      "Reduced MIP has 32 rows, 4516 columns, and 44243 nonzeros.\n"
     ]
    },
    {
     "name": "stdout",
     "output_type": "stream",
     "text": [
      "Reduced MIP has 4516 binaries, 0 generals, 0 SOSs, and 0 indicators.\n",
      "Reduced MIP has 4516 binaries, 0 generals, 0 SOSs, and 0 indicators.\n"
     ]
    },
    {
     "name": "stdout",
     "output_type": "stream",
     "text": [
      "Presolve time = 0.06 sec. (15.59 ticks)\n",
      "Presolve time = 0.06 sec. (15.59 ticks)\n"
     ]
    },
    {
     "name": "stdout",
     "output_type": "stream",
     "text": [
      "Tried aggregator 1 time.\n",
      "Tried aggregator 1 time.\n"
     ]
    },
    {
     "name": "stdout",
     "output_type": "stream",
     "text": [
      "Detecting symmetries...\n",
      "Detecting symmetries...\n"
     ]
    },
    {
     "name": "stdout",
     "output_type": "stream",
     "text": [
      "Reduced MIP has 32 rows, 4516 columns, and 44243 nonzeros.\n",
      "Reduced MIP has 32 rows, 4516 columns, and 44243 nonzeros.\n"
     ]
    },
    {
     "name": "stdout",
     "output_type": "stream",
     "text": [
      "Reduced MIP has 4516 binaries, 0 generals, 0 SOSs, and 0 indicators.\n",
      "Reduced MIP has 4516 binaries, 0 generals, 0 SOSs, and 0 indicators.\n"
     ]
    },
    {
     "name": "stdout",
     "output_type": "stream",
     "text": [
      "Presolve time = 0.05 sec. (17.66 ticks)\n",
      "Presolve time = 0.05 sec. (17.66 ticks)\n"
     ]
    },
    {
     "name": "stdout",
     "output_type": "stream",
     "text": [
      "Probing time = 0.01 sec. (9.34 ticks)\n",
      "Probing time = 0.01 sec. (9.34 ticks)\n"
     ]
    },
    {
     "name": "stdout",
     "output_type": "stream",
     "text": [
      "Clique table members: 45.\n",
      "Clique table members: 45.\n"
     ]
    },
    {
     "name": "stdout",
     "output_type": "stream",
     "text": [
      "MIP emphasis: balance optimality and feasibility.\n",
      "MIP emphasis: balance optimality and feasibility.\n"
     ]
    },
    {
     "name": "stdout",
     "output_type": "stream",
     "text": [
      "MIP search method: dynamic search.\n",
      "MIP search method: dynamic search.\n"
     ]
    },
    {
     "name": "stdout",
     "output_type": "stream",
     "text": [
      "Parallel mode: deterministic, using up to 2 threads.\n",
      "Parallel mode: deterministic, using up to 2 threads.\n"
     ]
    },
    {
     "name": "stdout",
     "output_type": "stream",
     "text": [
      "Root relaxation solution time = 0.03 sec. (14.41 ticks)\n",
      "Root relaxation solution time = 0.03 sec. (14.41 ticks)\n"
     ]
    },
    {
     "name": "stdout",
     "output_type": "stream",
     "text": [
      "\n",
      "        Nodes                                         Cuts/\n",
      "\n",
      "\n",
      "        Nodes                                         Cuts/\n"
     ]
    },
    {
     "name": "stdout",
     "output_type": "stream",
     "text": [
      "   Node  Left     Objective  IInf  Best Integer    Best Bound    ItCnt     Gap\n",
      "\n",
      "   Node  Left     Objective  IInf  Best Integer    Best Bound    ItCnt     Gap\n",
      "\n"
     ]
    },
    {
     "name": "stdout",
     "output_type": "stream",
     "text": [
      "*     0+    0                         1261.5049        0.0000           100.00%\n",
      "*     0+    0                         1261.5049        0.0000           100.00%\n"
     ]
    },
    {
     "name": "stdout",
     "output_type": "stream",
     "text": [
      "      0     0      811.2790    30     1261.5049      811.2790      164   35.69%\n",
      "      0     0      811.2790    30     1261.5049      811.2790      164   35.69%\n"
     ]
    },
    {
     "name": "stdout",
     "output_type": "stream",
     "text": [
      "*     0+    0                         1079.7141      811.2790            24.86%\n",
      "*     0+    0                         1079.7141      811.2790            24.86%\n"
     ]
    },
    {
     "name": "stdout",
     "output_type": "stream",
     "text": [
      "      0     0      818.4136    27     1079.7141       Cuts: 9      218   24.20%\n",
      "      0     0      818.4136    27     1079.7141       Cuts: 9      218   24.20%\n"
     ]
    },
    {
     "name": "stdout",
     "output_type": "stream",
     "text": [
      "      0     0      820.7497    38     1079.7141   Cliques: 13      260   23.98%\n",
      "      0     0      820.7497    38     1079.7141   Cliques: 13      260   23.98%\n"
     ]
    },
    {
     "name": "stdout",
     "output_type": "stream",
     "text": [
      "      0     0      822.5283    46     1079.7141      Cuts: 10      309   23.82%\n",
      "      0     0      822.5283    46     1079.7141      Cuts: 10      309   23.82%\n"
     ]
    },
    {
     "name": "stdout",
     "output_type": "stream",
     "text": [
      "      0     0      823.6730    51     1079.7141   Cliques: 16      374   23.71%\n",
      "      0     0      823.6730    51     1079.7141   Cliques: 16      374   23.71%\n"
     ]
    },
    {
     "name": "stdout",
     "output_type": "stream",
     "text": [
      "      0     0      823.7622    49     1079.7141       Cuts: 6      387   23.71%\n",
      "      0     0      823.7622    49     1079.7141       Cuts: 6      387   23.71%\n"
     ]
    },
    {
     "name": "stdout",
     "output_type": "stream",
     "text": [
      "*     0+    0                         1071.2364      823.7622            23.10%\n",
      "*     0+    0                         1071.2364      823.7622            23.10%\n"
     ]
    },
    {
     "name": "stdout",
     "output_type": "stream",
     "text": [
      "Detecting symmetries...\n",
      "Detecting symmetries...\n"
     ]
    },
    {
     "name": "stdout",
     "output_type": "stream",
     "text": [
      "      0     0      824.0895    52     1071.2364    Cliques: 7      421   23.07%\n",
      "      0     0      824.0895    52     1071.2364    Cliques: 7      421   23.07%\n"
     ]
    },
    {
     "name": "stdout",
     "output_type": "stream",
     "text": [
      "      0     0      824.4682    54     1071.2364       Cuts: 7      477   23.04%\n",
      "      0     0      824.4682    54     1071.2364       Cuts: 7      477   23.04%\n"
     ]
    },
    {
     "name": "stdout",
     "output_type": "stream",
     "text": [
      "      0     0      825.1036    50     1071.2364       Cuts: 4      518   22.98%\n",
      "      0     0      825.1036    50     1071.2364       Cuts: 4      518   22.98%\n"
     ]
    },
    {
     "name": "stdout",
     "output_type": "stream",
     "text": [
      "      0     0      825.3390    49     1071.2364    Cliques: 6      548   22.95%\n",
      "      0     0      825.3390    49     1071.2364    Cliques: 6      548   22.95%\n"
     ]
    },
    {
     "name": "stdout",
     "output_type": "stream",
     "text": [
      "*     0+    0                         1052.1651      825.3390            21.56%\n",
      "*     0+    0                         1052.1651      825.3390            21.56%\n"
     ]
    },
    {
     "name": "stdout",
     "output_type": "stream",
     "text": [
      "      0     0      825.6225    51     1052.1651   Cliques: 16      589   21.53%\n",
      "      0     0      825.6225    51     1052.1651   Cliques: 16      589   21.53%\n"
     ]
    },
    {
     "name": "stdout",
     "output_type": "stream",
     "text": [
      "      0     0      825.7807    57     1052.1651    Cliques: 8      632   21.52%\n",
      "      0     0      825.7807    57     1052.1651    Cliques: 8      632   21.52%\n"
     ]
    },
    {
     "name": "stdout",
     "output_type": "stream",
     "text": [
      "      0     0      825.8079    57     1052.1651    Cliques: 2      642   21.51%\n",
      "      0     0      825.8079    57     1052.1651    Cliques: 2      642   21.51%\n"
     ]
    },
    {
     "name": "stdout",
     "output_type": "stream",
     "text": [
      "      0     0      825.9354    54     1052.1651    Cliques: 2      669   21.50%\n",
      "      0     0      825.9354    54     1052.1651    Cliques: 2      669   21.50%\n"
     ]
    },
    {
     "name": "stdout",
     "output_type": "stream",
     "text": [
      "      0     0      826.0123    48     1052.1651    Cliques: 3      686   21.49%\n",
      "      0     0      826.0123    48     1052.1651    Cliques: 3      686   21.49%\n"
     ]
    },
    {
     "name": "stdout",
     "output_type": "stream",
     "text": [
      "*     0+    0                         1000.2406      826.0123            17.42%\n",
      "*     0+    0                         1000.2406      826.0123            17.42%\n"
     ]
    },
    {
     "name": "stdout",
     "output_type": "stream",
     "text": [
      "Detecting symmetries...\n",
      "Detecting symmetries...\n"
     ]
    },
    {
     "name": "stdout",
     "output_type": "stream",
     "text": [
      "      0     2      826.0123    48     1000.2406      826.0123      686   17.42%\n",
      "      0     2      826.0123    48     1000.2406      826.0123      686   17.42%\n"
     ]
    },
    {
     "name": "stdout",
     "output_type": "stream",
     "text": [
      "Elapsed time = 4.72 sec. (3483.16 ticks, tree = 0.02 MB, solutions = 5)\n",
      "Elapsed time = 4.72 sec. (3483.16 ticks, tree = 0.02 MB, solutions = 5)\n"
     ]
    },
    {
     "name": "stdout",
     "output_type": "stream",
     "text": [
      "    121    87      839.8147    47     1000.2406      826.4429     3184   17.38%\n",
      "    121    87      839.8147    47     1000.2406      826.4429     3184   17.38%\n"
     ]
    },
    {
     "name": "stdout",
     "output_type": "stream",
     "text": [
      "    183   128      847.6381    43     1000.2406      826.4429     4552   17.38%\n",
      "    183   128      847.6381    43     1000.2406      826.4429     4552   17.38%\n"
     ]
    },
    {
     "name": "stdout",
     "output_type": "stream",
     "text": [
      "    334   199      862.5263    38     1000.2406      826.4429     6319   17.38%\n",
      "    334   199      862.5263    38     1000.2406      826.4429     6319   17.38%\n"
     ]
    },
    {
     "name": "stdout",
     "output_type": "stream",
     "text": [
      "    496   302      931.7978    23     1000.2406      826.4429     8122   17.38%\n",
      "    496   302      931.7978    23     1000.2406      826.4429     8122   17.38%\n"
     ]
    },
    {
     "name": "stdout",
     "output_type": "stream",
     "text": [
      "    721   534      856.4389    30     1000.2406      826.4429    10788   17.38%\n",
      "    721   534      856.4389    30     1000.2406      826.4429    10788   17.38%\n"
     ]
    },
    {
     "name": "stdout",
     "output_type": "stream",
     "text": [
      "\n",
      "Performing restart 1\n",
      "\n",
      "\n",
      "Performing restart 1\n"
     ]
    },
    {
     "name": "stdout",
     "output_type": "stream",
     "text": [
      "\n",
      "\n",
      "\n"
     ]
    },
    {
     "name": "stdout",
     "output_type": "stream",
     "text": [
      "Repeating presolve.\n",
      "Repeating presolve.\n"
     ]
    },
    {
     "name": "stdout",
     "output_type": "stream",
     "text": [
      "Tried aggregator 1 time.\n",
      "Tried aggregator 1 time.\n"
     ]
    },
    {
     "name": "stdout",
     "output_type": "stream",
     "text": [
      "MIP Presolve eliminated 0 rows and 145 columns.\n",
      "MIP Presolve eliminated 0 rows and 145 columns.\n"
     ]
    },
    {
     "name": "stdout",
     "output_type": "stream",
     "text": [
      "Reduced MIP has 32 rows, 4371 columns, and 43064 nonzeros.\n",
      "Reduced MIP has 32 rows, 4371 columns, and 43064 nonzeros.\n"
     ]
    },
    {
     "name": "stdout",
     "output_type": "stream",
     "text": [
      "Reduced MIP has 4371 binaries, 0 generals, 0 SOSs, and 0 indicators.\n",
      "Reduced MIP has 4371 binaries, 0 generals, 0 SOSs, and 0 indicators.\n"
     ]
    },
    {
     "name": "stdout",
     "output_type": "stream",
     "text": [
      "Presolve time = 0.03 sec. (16.80 ticks)\n",
      "Presolve time = 0.03 sec. (16.80 ticks)\n"
     ]
    },
    {
     "name": "stdout",
     "output_type": "stream",
     "text": [
      "Tried aggregator 1 time.\n",
      "Tried aggregator 1 time.\n"
     ]
    },
    {
     "name": "stdout",
     "output_type": "stream",
     "text": [
      "MIP Presolve eliminated 0 rows and 540 columns.\n",
      "MIP Presolve eliminated 0 rows and 540 columns.\n"
     ]
    },
    {
     "name": "stdout",
     "output_type": "stream",
     "text": [
      "Reduced MIP has 32 rows, 3831 columns, and 37082 nonzeros.\n",
      "Reduced MIP has 32 rows, 3831 columns, and 37082 nonzeros.\n"
     ]
    },
    {
     "name": "stdout",
     "output_type": "stream",
     "text": [
      "Reduced MIP has 3831 binaries, 0 generals, 0 SOSs, and 0 indicators.\n",
      "Reduced MIP has 3831 binaries, 0 generals, 0 SOSs, and 0 indicators.\n"
     ]
    },
    {
     "name": "stdout",
     "output_type": "stream",
     "text": [
      "Presolve time = 0.05 sec. (14.64 ticks)\n",
      "Presolve time = 0.05 sec. (14.64 ticks)\n"
     ]
    },
    {
     "name": "stdout",
     "output_type": "stream",
     "text": [
      "Tried aggregator 1 time.\n",
      "Tried aggregator 1 time.\n"
     ]
    },
    {
     "name": "stdout",
     "output_type": "stream",
     "text": [
      "MIP Presolve eliminated 0 rows and 3 columns.\n",
      "MIP Presolve eliminated 0 rows and 3 columns.\n"
     ]
    },
    {
     "name": "stdout",
     "output_type": "stream",
     "text": [
      "Reduced MIP has 32 rows, 3828 columns, and 37049 nonzeros.\n",
      "Reduced MIP has 32 rows, 3828 columns, and 37049 nonzeros.\n"
     ]
    },
    {
     "name": "stdout",
     "output_type": "stream",
     "text": [
      "Reduced MIP has 3828 binaries, 0 generals, 0 SOSs, and 0 indicators.\n",
      "Reduced MIP has 3828 binaries, 0 generals, 0 SOSs, and 0 indicators.\n"
     ]
    },
    {
     "name": "stdout",
     "output_type": "stream",
     "text": [
      "Presolve time = 0.03 sec. (16.56 ticks)\n",
      "Presolve time = 0.03 sec. (16.56 ticks)\n"
     ]
    },
    {
     "name": "stdout",
     "output_type": "stream",
     "text": [
      "Represolve time = 2.03 sec. (879.52 ticks)\n",
      "Represolve time = 2.03 sec. (879.52 ticks)\n"
     ]
    },
    {
     "name": "stdout",
     "output_type": "stream",
     "text": [
      "    799     0      827.0004    64     1000.2406       Cuts: 5    12325   17.32%\n",
      "    799     0      827.0004    64     1000.2406       Cuts: 5    12325   17.32%\n"
     ]
    },
    {
     "name": "stdout",
     "output_type": "stream",
     "text": [
      "    799     0      827.8781    57     1000.2406       Cuts: 7    12373   17.23%\n",
      "    799     0      827.8781    57     1000.2406       Cuts: 7    12373   17.23%\n"
     ]
    },
    {
     "name": "stdout",
     "output_type": "stream",
     "text": [
      "    799     0      828.6475    67     1000.2406      Cuts: 22    12442   17.16%\n",
      "    799     0      828.6475    67     1000.2406      Cuts: 22    12442   17.16%\n"
     ]
    },
    {
     "name": "stdout",
     "output_type": "stream",
     "text": [
      "    799     0      852.7414    46     1000.2406       Cuts: 3    12622   14.75%\n",
      "    799     0      852.7414    46     1000.2406       Cuts: 3    12622   14.75%\n"
     ]
    },
    {
     "name": "stdout",
     "output_type": "stream",
     "text": [
      "    799     0      859.0001    49     1000.2406   Cliques: 23    12721   14.12%\n",
      "    799     0      859.0001    49     1000.2406   Cliques: 23    12721   14.12%\n"
     ]
    },
    {
     "name": "stdout",
     "output_type": "stream",
     "text": [
      "    799     0      861.0809    59     1000.2406   Cliques: 15    12785   13.91%\n",
      "    799     0      861.0809    59     1000.2406   Cliques: 15    12785   13.91%\n"
     ]
    },
    {
     "name": "stdout",
     "output_type": "stream",
     "text": [
      "*   799+    0                          993.6061      861.0809            13.34%\n",
      "*   799+    0                          993.6061      861.0809            13.34%\n"
     ]
    },
    {
     "name": "stdout",
     "output_type": "stream",
     "text": [
      "    799     0      862.9264    64      993.6061      Cuts: 18    12853   13.15%\n",
      "    799     0      862.9264    64      993.6061      Cuts: 18    12853   13.15%\n"
     ]
    },
    {
     "name": "stdout",
     "output_type": "stream",
     "text": [
      "    799     0      863.6491    67      993.6061   Cliques: 17    12908   13.08%\n",
      "    799     0      863.6491    67      993.6061   Cliques: 17    12908   13.08%\n"
     ]
    },
    {
     "name": "stdout",
     "output_type": "stream",
     "text": [
      "    799     0      864.6942    66      993.6061      Cuts: 15    12975   12.97%\n",
      "    799     0      864.6942    66      993.6061      Cuts: 15    12975   12.97%\n"
     ]
    },
    {
     "name": "stdout",
     "output_type": "stream",
     "text": [
      "    799     0      865.3836    68      993.6061    Cliques: 7    13033   12.90%\n",
      "    799     0      865.3836    68      993.6061    Cliques: 7    13033   12.90%\n"
     ]
    },
    {
     "name": "stdout",
     "output_type": "stream",
     "text": [
      "    799     0      865.8120    72      993.6061      Cuts: 15    13087   12.86%\n",
      "    799     0      865.8120    72      993.6061      Cuts: 15    13087   12.86%\n"
     ]
    },
    {
     "name": "stdout",
     "output_type": "stream",
     "text": [
      "    799     0      866.6235    68      993.6061       Cuts: 6    13149   12.78%\n",
      "    799     0      866.6235    68      993.6061       Cuts: 6    13149   12.78%\n"
     ]
    },
    {
     "name": "stdout",
     "output_type": "stream",
     "text": [
      "    799     0      867.1828    72      993.6061   Cliques: 15    13218   12.72%\n",
      "    799     0      867.1828    72      993.6061   Cliques: 15    13218   12.72%\n"
     ]
    },
    {
     "name": "stdout",
     "output_type": "stream",
     "text": [
      "*   799+    0                          989.3864      867.1828            12.35%\n",
      "*   799+    0                          989.3864      867.1828            12.35%\n"
     ]
    },
    {
     "name": "stdout",
     "output_type": "stream",
     "text": [
      "    799     0  -1.00000e+75     0      989.3864      867.1828    13218   12.35%\n",
      "    799     0  -1.00000e+75     0      989.3864      867.1828    13218   12.35%\n"
     ]
    },
    {
     "name": "stdout",
     "output_type": "stream",
     "text": [
      "    799     0      867.4058    75      989.3864    Cliques: 9    13250   12.33%\n",
      "    799     0      867.4058    75      989.3864    Cliques: 9    13250   12.33%\n"
     ]
    },
    {
     "name": "stdout",
     "output_type": "stream",
     "text": [
      "    799     0      867.6020    79      989.3864    Cliques: 6    13285   12.31%\n",
      "    799     0      867.6020    79      989.3864    Cliques: 6    13285   12.31%\n"
     ]
    },
    {
     "name": "stdout",
     "output_type": "stream",
     "text": [
      "    799     0      867.8869    74      989.3864       Cuts: 3    13333   12.28%\n",
      "    799     0      867.8869    74      989.3864       Cuts: 3    13333   12.28%\n"
     ]
    },
    {
     "name": "stdout",
     "output_type": "stream",
     "text": [
      "    799     0      868.0572    78      989.3864    Cliques: 7    13370   12.26%\n",
      "    799     0      868.0572    78      989.3864    Cliques: 7    13370   12.26%\n"
     ]
    },
    {
     "name": "stdout",
     "output_type": "stream",
     "text": [
      "    799     0      868.1694    79      989.3864    Cliques: 4    13414   12.25%\n",
      "    799     0      868.1694    79      989.3864    Cliques: 4    13414   12.25%\n"
     ]
    },
    {
     "name": "stdout",
     "output_type": "stream",
     "text": [
      "    799     0      868.4800    77      989.3864       Cuts: 5    13463   12.22%\n",
      "    799     0      868.4800    77      989.3864       Cuts: 5    13463   12.22%\n"
     ]
    },
    {
     "name": "stdout",
     "output_type": "stream",
     "text": [
      "    799     0      868.6389    81      989.3864    Cliques: 4    13495   12.20%\n",
      "    799     0      868.6389    81      989.3864    Cliques: 4    13495   12.20%\n"
     ]
    },
    {
     "name": "stdout",
     "output_type": "stream",
     "text": [
      "    799     0      868.7280    82      989.3864    Cliques: 5    13528   12.20%\n",
      "    799     0      868.7280    82      989.3864    Cliques: 5    13528   12.20%\n"
     ]
    },
    {
     "name": "stdout",
     "output_type": "stream",
     "text": [
      "*   799+    0                          988.1434      868.7280            12.08%\n",
      "*   799+    0                          988.1434      868.7280            12.08%\n"
     ]
    },
    {
     "name": "stdout",
     "output_type": "stream",
     "text": [
      "    799     0      868.8847    79      988.1434    Cliques: 2    13575   12.07%\n",
      "    799     0      868.8847    79      988.1434    Cliques: 2    13575   12.07%\n"
     ]
    },
    {
     "name": "stdout",
     "output_type": "stream",
     "text": [
      "    799     0      868.9489    80      988.1434    Cliques: 3    13600   12.06%\n",
      "    799     0      868.9489    80      988.1434    Cliques: 3    13600   12.06%\n"
     ]
    },
    {
     "name": "stdout",
     "output_type": "stream",
     "text": [
      "    799     0      869.0082    81      988.1434    Cliques: 2    13629   12.06%\n",
      "    799     0      869.0082    81      988.1434    Cliques: 2    13629   12.06%\n"
     ]
    },
    {
     "name": "stdout",
     "output_type": "stream",
     "text": [
      "    799     2      869.0082    81      988.1434      869.0082    13629   12.06%\n",
      "    799     2      869.0082    81      988.1434      869.0082    13629   12.06%\n"
     ]
    },
    {
     "name": "stdout",
     "output_type": "stream",
     "text": [
      "    808     4      869.5957    79      988.1434      869.5958    14204   12.00%\n",
      "    808     4      869.5957    79      988.1434      869.5958    14204   12.00%\n"
     ]
    },
    {
     "name": "stdout",
     "output_type": "stream",
     "text": [
      "    819     9      895.7198    26      988.1434      870.2426    14837   11.93%\n",
      "    819     9      895.7198    26      988.1434      870.2426    14837   11.93%\n"
     ]
    },
    {
     "name": "stdout",
     "output_type": "stream",
     "text": [
      "    885    41      870.7311    78      988.1434      870.2582    15596   11.93%\n",
      "    885    41      870.7311    78      988.1434      870.2582    15596   11.93%\n"
     ]
    },
    {
     "name": "stdout",
     "output_type": "stream",
     "text": [
      "   1106   196      877.4403    66      988.1434      870.3128    18698   11.92%\n",
      "   1106   196      877.4403    66      988.1434      870.3128    18698   11.92%\n"
     ]
    },
    {
     "name": "stdout",
     "output_type": "stream",
     "text": [
      "Elapsed time = 23.94 sec. (14562.00 ticks, tree = 0.41 MB, solutions = 8)\n",
      "Elapsed time = 23.94 sec. (14562.00 ticks, tree = 0.41 MB, solutions = 8)\n"
     ]
    },
    {
     "name": "stdout",
     "output_type": "stream",
     "text": [
      "   1432   528      909.5482    44      988.1434      870.3128    22657   11.92%\n",
      "   1432   528      909.5482    44      988.1434      870.3128    22657   11.92%\n"
     ]
    },
    {
     "name": "stdout",
     "output_type": "stream",
     "text": [
      "   1689   795      895.3030    51      988.1434      870.3128    25211   11.92%\n",
      "   1689   795      895.3030    51      988.1434      870.3128    25211   11.92%\n"
     ]
    },
    {
     "name": "stdout",
     "output_type": "stream",
     "text": [
      "   2170  1144      987.1475    16      988.1434      872.0548    32442   11.75%\n",
      "   2170  1144      987.1475    16      988.1434      872.0548    32442   11.75%\n"
     ]
    },
    {
     "name": "stdout",
     "output_type": "stream",
     "text": [
      "   2451  1216        cutoff            988.1434      875.8786    40347   11.36%\n",
      "   2451  1216        cutoff            988.1434      875.8786    40347   11.36%\n"
     ]
    },
    {
     "name": "stdout",
     "output_type": "stream",
     "text": [
      "*  2454  1207      integral     0      934.0079      875.8786    39917    6.22%\n",
      "*  2454  1207      integral     0      934.0079      875.8786    39917    6.22%\n"
     ]
    },
    {
     "name": "stdout",
     "output_type": "stream",
     "text": [
      "   2712   758        cutoff            934.0079      881.5724    49649    5.61%\n",
      "   2712   758        cutoff            934.0079      881.5724    49649    5.61%\n"
     ]
    },
    {
     "name": "stdout",
     "output_type": "stream",
     "text": [
      "   3067   669        cutoff            934.0079      889.8288    57559    4.73%\n",
      "   3067   669        cutoff            934.0079      889.8288    57559    4.73%\n"
     ]
    },
    {
     "name": "stdout",
     "output_type": "stream",
     "text": [
      "   3626   519        cutoff            934.0079      903.8194    64118    3.23%\n",
      "   3626   519        cutoff            934.0079      903.8194    64118    3.23%\n"
     ]
    },
    {
     "name": "stdout",
     "output_type": "stream",
     "text": [
      "\n",
      "\n",
      "\n"
     ]
    },
    {
     "name": "stdout",
     "output_type": "stream",
     "text": [
      "Clique cuts applied:  74\n",
      "Clique cuts applied:  74\n"
     ]
    },
    {
     "name": "stdout",
     "output_type": "stream",
     "text": [
      "Zero-half cuts applied:  8\n",
      "Zero-half cuts applied:  8\n"
     ]
    },
    {
     "name": "stdout",
     "output_type": "stream",
     "text": [
      "Lift and project cuts applied:  1\n",
      "Lift and project cuts applied:  1\n"
     ]
    },
    {
     "name": "stdout",
     "output_type": "stream",
     "text": [
      "\n",
      "Root node processing (before b&c):\n",
      "\n",
      "\n",
      "Root node processing (before b&c):\n"
     ]
    },
    {
     "name": "stdout",
     "output_type": "stream",
     "text": [
      "  Real time             =    4.72 sec. (3481.92 ticks)\n",
      "  Real time             =    4.72 sec. (3481.92 ticks)\n"
     ]
    },
    {
     "name": "stdout",
     "output_type": "stream",
     "text": [
      "Parallel b&c, 2 threads:\n",
      "Parallel b&c, 2 threads:\n"
     ]
    },
    {
     "name": "stdout",
     "output_type": "stream",
     "text": [
      "  Real time             =   29.94 sec. (18499.75 ticks)\n",
      "  Real time             =   29.94 sec. (18499.75 ticks)\n"
     ]
    },
    {
     "name": "stdout",
     "output_type": "stream",
     "text": [
      "  Sync time (average)   =    2.09 sec.\n",
      "  Sync time (average)   =    2.09 sec.\n"
     ]
    },
    {
     "name": "stdout",
     "output_type": "stream",
     "text": [
      "  Wait time (average)   =    0.02 sec.\n",
      "  Wait time (average)   =    0.02 sec.\n"
     ]
    },
    {
     "name": "stdout",
     "output_type": "stream",
     "text": [
      "                          ------------\n",
      "                          ------------\n"
     ]
    },
    {
     "name": "stdout",
     "output_type": "stream",
     "text": [
      "Total (root+branch&cut) =   34.66 sec. (21981.67 ticks)\n",
      "Total (root+branch&cut) =   34.66 sec. (21981.67 ticks)\n"
     ]
    },
    {
     "data": {
      "text/plain": [
       "docplex.mp.solution.SolveSolution(obj=934.008,values={x1662:1,x2299:1,x2.."
      ]
     },
     "execution_count": null,
     "metadata": {},
     "output_type": "execute_result"
    }
   ],
   "source": [
    "mdl.solve(log_output = True )"
   ]
  },
  {
   "cell_type": "code",
   "execution_count": 7,
   "metadata": {
    "id": "70a8b6ed-1d03-4f61-aa71-50e6befc2c02",
    "tags": []
   },
   "outputs": [],
   "source": [
    "os.makedirs(\"outputs\", exist_ok=True)"
   ]
  },
  {
   "cell_type": "code",
   "execution_count": 8,
   "metadata": {
    "id": "322fb76fc0814bee8a5e305c4858dd55",
    "tags": []
   },
   "outputs": [
    {
     "data": {
      "text/html": [
       "<div>\n",
       "<style scoped>\n",
       "    .dataframe tbody tr th:only-of-type {\n",
       "        vertical-align: middle;\n",
       "    }\n",
       "\n",
       "    .dataframe tbody tr th {\n",
       "        vertical-align: top;\n",
       "    }\n",
       "\n",
       "    .dataframe thead th {\n",
       "        text-align: right;\n",
       "    }\n",
       "</style>\n",
       "<table border=\"1\" class=\"dataframe\">\n",
       "  <thead>\n",
       "    <tr style=\"text-align: right;\">\n",
       "      <th></th>\n",
       "      <th>variable</th>\n",
       "      <th>solution</th>\n",
       "    </tr>\n",
       "  </thead>\n",
       "  <tbody>\n",
       "    <tr>\n",
       "      <th>0</th>\n",
       "      <td>x1662</td>\n",
       "      <td>1.0</td>\n",
       "    </tr>\n",
       "    <tr>\n",
       "      <th>1</th>\n",
       "      <td>x2299</td>\n",
       "      <td>1.0</td>\n",
       "    </tr>\n",
       "    <tr>\n",
       "      <th>2</th>\n",
       "      <td>x2590</td>\n",
       "      <td>1.0</td>\n",
       "    </tr>\n",
       "    <tr>\n",
       "      <th>3</th>\n",
       "      <td>x4020</td>\n",
       "      <td>1.0</td>\n",
       "    </tr>\n",
       "  </tbody>\n",
       "</table>\n",
       "</div>"
      ],
      "text/plain": [
       "  variable  solution\n",
       "0    x1662       1.0\n",
       "1    x2299       1.0\n",
       "2    x2590       1.0\n",
       "3    x4020       1.0"
      ]
     },
     "metadata": {},
     "output_type": "display_data"
    }
   ],
   "source": [
    "Solution = []\n",
    "for i in mdl.solution.iter_var_values():\n",
    "    Solution.append([i[0],i[1]])\n",
    "output = pd.DataFrame(Solution, columns = [\"variable\",\"solution\"])\n",
    "\n",
    "display(output)\n",
    "output.to_csv(\"outputs/solution.csv\")"
   ]
  },
  {
   "cell_type": "code",
   "execution_count": 9,
   "metadata": {
    "id": "28a27e6a-6554-424f-8257-52644093db60",
    "tags": []
   },
   "outputs": [
    {
     "data": {
      "text/plain": [
       "'outputs/model.lp'"
      ]
     },
     "execution_count": null,
     "metadata": {},
     "output_type": "execute_result"
    }
   ],
   "source": [
    "mdl.export_as_lp(\"outputs/model.lp\")"
   ]
  }
 ],
 "metadata": {
  "kernelspec": {
   "display_name": "Python 3 (ipykernel)",
   "language": "python",
   "name": "python3"
  },
  "language_info": {
   "codemirror_mode": {
    "name": "ipython",
    "version": 3
   },
   "file_extension": ".py",
   "mimetype": "text/x-python",
   "name": "python",
   "nbconvert_exporter": "python",
   "pygments_lexer": "ipython3",
   "version": "3.9.6"
  }
 },
 "nbformat": 4,
 "nbformat_minor": 4
}
